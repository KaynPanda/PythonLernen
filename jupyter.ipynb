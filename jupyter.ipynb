{
 "cells": [
  {
   "cell_type": "markdown",
   "id": "4cee0f64-ce97-497d-9f41-f721a927338e",
   "metadata": {},
   "source": [
    "## Jupyter Notebooks\n",
    "\n",
    "### Ein Abschnitt\n",
    "\n",
    "Dies ist eine Information\n"
   ]
  },
  {
   "cell_type": "code",
   "execution_count": 3,
   "id": "9ffa44b7-183a-4a45-b257-5e0a7f7a7940",
   "metadata": {},
   "outputs": [
    {
     "name": "stdout",
     "output_type": "stream",
     "text": [
      "10\n"
     ]
    }
   ],
   "source": [
    "x = 10\n",
    "y = 20\n",
    "print(x)"
   ]
  },
  {
   "cell_type": "markdown",
   "id": "4d84f149-4c72-4f24-b101-5d8b8965ac59",
   "metadata": {},
   "source": [
    "Dies ist wieder Text"
   ]
  },
  {
   "cell_type": "code",
   "execution_count": 6,
   "id": "9441afab-c625-4117-bc61-1a2f918f2ef5",
   "metadata": {},
   "outputs": [
    {
     "data": {
      "text/plain": [
       "30"
      ]
     },
     "execution_count": 6,
     "metadata": {},
     "output_type": "execute_result"
    }
   ],
   "source": [
    "x+y"
   ]
  },
  {
   "cell_type": "code",
   "execution_count": 8,
   "id": "dffb8f5a-6eac-4237-ac62-c96006a3245b",
   "metadata": {},
   "outputs": [
    {
     "name": "stdout",
     "output_type": "stream",
     "text": [
      "Writing input1.txt\n"
     ]
    }
   ],
   "source": [
    "%%writefile input1.txt\n",
    "Dies ist ein Text\n",
    "mit zwei Zeilen"
   ]
  },
  {
   "cell_type": "code",
   "execution_count": null,
   "id": "a8bf5ef6-6fa5-458f-8730-2939f70788fb",
   "metadata": {},
   "outputs": [],
   "source": []
  }
 ],
 "metadata": {
  "kernelspec": {
   "display_name": "Python 3 (ipykernel)",
   "language": "python",
   "name": "python3"
  },
  "language_info": {
   "codemirror_mode": {
    "name": "ipython",
    "version": 3
   },
   "file_extension": ".py",
   "mimetype": "text/x-python",
   "name": "python",
   "nbconvert_exporter": "python",
   "pygments_lexer": "ipython3",
   "version": "3.11.2"
  }
 },
 "nbformat": 4,
 "nbformat_minor": 5
}
