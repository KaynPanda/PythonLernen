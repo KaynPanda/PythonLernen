{
 "cells": [
  {
   "cell_type": "markdown",
   "id": "1e299a89-dc08-4868-b9be-22209fe0c2d1",
   "metadata": {},
   "source": [
    "### Klassen\n",
    "\n",
    "Wenn wir ein Rechteck modellieren wollen, können wir dafür eine Liste nehmen und festlegen: die erste Komponente ist die Höhe, die zweite ist die Breite. Wir können Funktionen schreiben, die z.B. Umfang oder Fläche des Rechtecks berechnen."
   ]
  },
  {
   "cell_type": "code",
   "execution_count": 24,
   "id": "318c87a1-23cf-4658-a538-e78b5c393cae",
   "metadata": {},
   "outputs": [
    {
     "name": "stdout",
     "output_type": "stream",
     "text": [
      "Umfang = 16\n",
      "Fläche = 15\n"
     ]
    }
   ],
   "source": [
    "def umfang(r):\n",
    "    hoehe, breite = r\n",
    "    return 2*hoehe + 2*breite\n",
    "\n",
    "def flaeche(r):\n",
    "    hoehe, breite = r\n",
    "    return hoehe*breite\n",
    "\n",
    "r = [3,5]  # ein Rechteck der Höhe 3 und Breite 6\n",
    "print(f'Umfang = {umfang(r)}')\n",
    "print(f'Fläche = {flaeche(r)}')\n",
    " "
   ]
  },
  {
   "cell_type": "markdown",
   "id": "6514522e-9796-46b1-8b6c-7b70d26e2d50",
   "metadata": {},
   "source": [
    "Wenn ein Objekt, das wir modellieren wollen, noch mehr Attribute hat, wäre es besser, wir könnten die einzelnen Attribute mit Namen benennen. Außerdem wollen wir alle Funktionen, die wir für dieses Objekt schreiben, an einem Platz zusammenfassen. Dafür eignen sich Klassen."
   ]
  },
  {
   "cell_type": "code",
   "execution_count": 25,
   "id": "2df0b5e8-65ab-4011-a5e2-377cce47d946",
   "metadata": {},
   "outputs": [
    {
     "name": "stdout",
     "output_type": "stream",
     "text": [
      "Umfang = 16\n",
      "Fläche = 15\n"
     ]
    }
   ],
   "source": [
    "class Rechteck:\n",
    "    def __init__(self, hoehe, breite):     # dunder-init ist der Konstruktor\n",
    "        self.hoehe = hoehe                 # Attribute\n",
    "        self.breite = breite\n",
    "\n",
    "    def umfang(self):                      # Methoden\n",
    "        return 2*self.hoehe + 2*self.breite\n",
    "\n",
    "    def flaeche(self):                     \n",
    "        return self.hoehe * self.breite\n",
    "\n",
    "\n",
    "r = Rechteck(3,5)\n",
    "print(f'Umfang = {r.umfang()}')\n",
    "print(f'Fläche = {r.flaeche()}')\n",
    "        "
   ]
  },
  {
   "cell_type": "markdown",
   "id": "06b5c163-6223-4103-9a5a-c257378df060",
   "metadata": {},
   "source": [
    "Mit der Klasse Punkt wollen wir einen zweidimensionalen Punkt modellieren"
   ]
  },
  {
   "cell_type": "code",
   "execution_count": 2,
   "id": "92cff9a3-a4d5-497c-af37-167e8e2c46a6",
   "metadata": {},
   "outputs": [
    {
     "name": "stdout",
     "output_type": "stream",
     "text": [
      "Der Abstand von (0/1) zu (1/0) beträgt 1.4142135623730951\n",
      "Der Abstand von (0/1) zum Nullpunkt beträgt 1.0\n"
     ]
    }
   ],
   "source": [
    "import math\n",
    "class Punkt:\n",
    "    def __init__(self,x,y):\n",
    "        self.x = x\n",
    "        self.y = y\n",
    "\n",
    "    def abstand(self, other):\n",
    "        return math.dist((self.x,self.y),(other.x,other.y))\n",
    "\n",
    "    def abstandNull(self):\n",
    "        return self.abstand(Punkt(0,0))\n",
    "\n",
    "    def coordinate(self):\n",
    "        return (self.x, self.y)\n",
    "\n",
    "    def __str__(self):                  # dunder-str wird durchlaufen, wenn das Objekt geprinted wird\n",
    "        return f'({self.x}/{self.y})'\n",
    "    \n",
    "\n",
    "p = Punkt(0,1)\n",
    "q = Punkt(1,0)\n",
    "print(f'Der Abstand von {p} zu {q} beträgt {p.abstand(q)}')\n",
    "print(f'Der Abstand von {p} zum Nullpunkt beträgt {p.abstandNull()}')\n"
   ]
  }
 ],
 "metadata": {
  "kernelspec": {
   "display_name": "Python 3 (ipykernel)",
   "language": "python",
   "name": "python3"
  },
  "language_info": {
   "codemirror_mode": {
    "name": "ipython",
    "version": 3
   },
   "file_extension": ".py",
   "mimetype": "text/x-python",
   "name": "python",
   "nbconvert_exporter": "python",
   "pygments_lexer": "ipython3",
   "version": "3.11.2"
  }
 },
 "nbformat": 4,
 "nbformat_minor": 5
}
