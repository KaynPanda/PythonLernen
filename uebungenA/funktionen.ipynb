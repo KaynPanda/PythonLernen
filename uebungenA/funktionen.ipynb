{
 "cells": [
  {
   "cell_type": "markdown",
   "id": "cea55736-9382-41d6-aa1b-6d1480ac04b6",
   "metadata": {},
   "source": [
    "### Funktionen\n",
    "\n",
    "Funktionen beginnen mit dem Schlüsselwort *def*. Beim Aufruf können wir der Funktion Werte mitgeben. Mit *return* können sie Werte zurückgeben. \n"
   ]
  },
  {
   "cell_type": "code",
   "execution_count": 3,
   "id": "e6f5ea6b-b122-4d82-870a-8095f6359ab8",
   "metadata": {},
   "outputs": [
    {
     "name": "stdout",
     "output_type": "stream",
     "text": [
      "29\n"
     ]
    }
   ],
   "source": [
    "def rechne(a, b):\n",
    "    return 2*a + 5*b\n",
    "\n",
    "print(rechne(2,5))"
   ]
  },
  {
   "cell_type": "code",
   "execution_count": 5,
   "id": "ec58bdc1-834c-4b04-bc72-6ea40e772ccf",
   "metadata": {},
   "outputs": [
    {
     "name": "stdout",
     "output_type": "stream",
     "text": [
      "HalloHallo\n"
     ]
    }
   ],
   "source": [
    "def verdopple(s):\n",
    "    return s+s\n",
    "\n",
    "print(verdopple('Hallo'))"
   ]
  },
  {
   "cell_type": "code",
   "execution_count": 16,
   "id": "fb2a9689-b554-4d88-88e1-27e93638fdf5",
   "metadata": {},
   "outputs": [
    {
     "name": "stdout",
     "output_type": "stream",
     "text": [
      "warm\n"
     ]
    }
   ],
   "source": [
    "def temperatur(k):\n",
    "    if k >= 30: return 'heiß'\n",
    "    if k >= 15: return 'warm'\n",
    "    return 'kalt'\n",
    "\n",
    "print(temperatur(20))"
   ]
  },
  {
   "cell_type": "markdown",
   "id": "74d00c3b-0725-4e26-a26d-04559d84ebd5",
   "metadata": {},
   "source": [
    "#### docstring"
   ]
  },
  {
   "cell_type": "markdown",
   "id": "f6830741-8977-4213-94b5-6dd81d7a2ec0",
   "metadata": {},
   "source": [
    "In einem docstring dokumentieren wir, welche Eingabe die Funktion erwartet und was sie zurückgibt"
   ]
  },
  {
   "cell_type": "code",
   "execution_count": 8,
   "id": "6ab6e655-b871-4c06-b324-c137653ad4b3",
   "metadata": {},
   "outputs": [
    {
     "name": "stdout",
     "output_type": "stream",
     "text": [
      "[4, 7, 10]\n"
     ]
    }
   ],
   "source": [
    "def erhoehe(a):\n",
    "    '''\n",
    "    a: eine Liste mit Zahlen\n",
    "    returns: Liste mit Zahlen aus a, um 1 erhöht.\n",
    "    '''\n",
    "    b = []\n",
    "    for i in range(len(a)):\n",
    "        x = a[i]+1\n",
    "        b.append(x)\n",
    "    return b\n",
    "\n",
    "print(erhoehe([3,6,9]))"
   ]
  },
  {
   "cell_type": "markdown",
   "id": "a245dda0-abdd-486a-a481-6b8db4ff6cf1",
   "metadata": {},
   "source": [
    "#### doctest\n",
    "\n",
    "Den docstring können wir zu einem doctest erweitern. Dann haben wir gleichzeitig eine Dokumentation und einen Test für unsere Funktion.\n",
    "Die doctest-Anweisung erzeugt nur dann einen Output, wenn die Funktion nicht die gewünschten Testergebnisse liefert."
   ]
  },
  {
   "cell_type": "code",
   "execution_count": 13,
   "id": "9addc942-1412-4e00-9c2c-ec0a6d1e271b",
   "metadata": {},
   "outputs": [],
   "source": [
    "def erhoehe(a):\n",
    "    '''\n",
    "    a: eine Liste mit Zahlen\n",
    "    returns: Liste mit Zahlen aus a, um 1 erhöht.\n",
    "\n",
    "    >>> erhoehe([3,6,9])\n",
    "    [4, 7, 10]\n",
    "    '''\n",
    "    b = []\n",
    "    for i in range(len(a)):\n",
    "        x = a[i]+1\n",
    "        b.append(x)\n",
    "    return b\n",
    "\n",
    "\n",
    "import doctest\n",
    "doctest.run_docstring_examples(erhoehe,globals(),optionflags=doctest.NORMALIZE_WHITESPACE)    # update function-name\n"
   ]
  },
  {
   "cell_type": "markdown",
   "id": "87bce0e8-0792-4929-8193-51af3a29992d",
   "metadata": {},
   "source": [
    "----\n",
    "#### Aufgabe 1"
   ]
  },
  {
   "cell_type": "code",
   "execution_count": 15,
   "id": "0535d4ed-9c53-437b-8b16-4a9831bb3c8c",
   "metadata": {},
   "outputs": [],
   "source": [
    "def gerade(k):\n",
    "    '''\n",
    "    k: ein int\n",
    "    returns: True, wenn k gerade, sonst False\n",
    "\n",
    "    >>> gerade(4)\n",
    "    True\n",
    "\n",
    "    >>> gerade(1)\n",
    "    False\n",
    "    '''\n",
    "    return k%2==0\n",
    "\n",
    "import doctest\n",
    "doctest.run_docstring_examples(gerade,globals(),optionflags=doctest.NORMALIZE_WHITESPACE)    # update function-name"
   ]
  },
  {
   "cell_type": "markdown",
   "id": "fd20a1e8-a6ac-4f85-82e1-ff62d17d71b0",
   "metadata": {},
   "source": [
    "----\n",
    "#### Aufgabe 2"
   ]
  },
  {
   "cell_type": "code",
   "execution_count": 20,
   "id": "648edf5d-f97a-47ac-b3f8-933c5e8d4919",
   "metadata": {},
   "outputs": [],
   "source": [
    "def luecke(s):\n",
    "    '''\n",
    "    s: nicht leerer String\n",
    "    returns: s aber mit einem Leerzeichen zwischen jedem Zeichen von s\n",
    "\n",
    "    >>> luecke('abc')\n",
    "    'a b c'\n",
    "\n",
    "    >>> luecke('a')\n",
    "    'a'\n",
    "    '''\n",
    "    t = s[0]\n",
    "    for i in range(1,len(s)):\n",
    "        t = t + ' ' + s[i]\n",
    "    return t\n",
    "        \n",
    "import doctest\n",
    "doctest.run_docstring_examples(luecke,globals(),optionflags=doctest.NORMALIZE_WHITESPACE)    # update function-name        "
   ]
  }
 ],
 "metadata": {
  "kernelspec": {
   "display_name": "Python 3 (ipykernel)",
   "language": "python",
   "name": "python3"
  },
  "language_info": {
   "codemirror_mode": {
    "name": "ipython",
    "version": 3
   },
   "file_extension": ".py",
   "mimetype": "text/x-python",
   "name": "python",
   "nbconvert_exporter": "python",
   "pygments_lexer": "ipython3",
   "version": "3.11.2"
  }
 },
 "nbformat": 4,
 "nbformat_minor": 5
}
