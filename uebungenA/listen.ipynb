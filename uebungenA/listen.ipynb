{
 "cells": [
  {
   "cell_type": "markdown",
   "id": "52737f35-9469-4b5d-9b57-cf6e7e0816e7",
   "metadata": {},
   "source": [
    "### Listen\n",
    "\n",
    "In Listen können wir mehrere Dinge speichern, wir greifen auf die Listenelemente mit einem Index zu."
   ]
  },
  {
   "cell_type": "code",
   "execution_count": 4,
   "id": "1eeab737-9a99-46a7-82de-681216af2ead",
   "metadata": {},
   "outputs": [
    {
     "name": "stdout",
     "output_type": "stream",
     "text": [
      "hallo\n"
     ]
    }
   ],
   "source": [
    "a = []                   # leere Liste\n",
    "a = [5,2,1]              # eine Liste mit 3 Zahlen\n",
    "a = ['hallo','aba']      # eine Liste mit 2 Strings\n",
    "print(a[0])              # lies: a an der Stelle 0 (= 1. Listenelement)"
   ]
  },
  {
   "cell_type": "markdown",
   "id": "846cd41c-d33c-4e14-a475-0314358fe101",
   "metadata": {},
   "source": [
    "Mit *append* können wir an eine Liste etwas anhängen. Die Funktion *len()* liefert die Länge der Liste."
   ]
  },
  {
   "cell_type": "code",
   "execution_count": 9,
   "id": "b906fe5a-01d0-4ccd-9cd8-e5364d9ce032",
   "metadata": {},
   "outputs": [
    {
     "name": "stdout",
     "output_type": "stream",
     "text": [
      "[4, 2, 10]\n",
      "3\n"
     ]
    }
   ],
   "source": [
    "a = [4,2]\n",
    "a.append(10)\n",
    "print(a)\n",
    "print(len(a))"
   ]
  },
  {
   "cell_type": "code",
   "execution_count": null,
   "id": "ce5ca563-ed76-4288-a9ba-82932bed711a",
   "metadata": {},
   "outputs": [],
   "source": []
  },
  {
   "cell_type": "markdown",
   "id": "c91958f4-709f-41e1-ae56-0d84a42bdacd",
   "metadata": {},
   "source": [
    "-----\n",
    "#### Beispiel\n"
   ]
  },
  {
   "cell_type": "code",
   "execution_count": 6,
   "id": "4a693329-5948-468f-8318-0a825b1a7a07",
   "metadata": {},
   "outputs": [
    {
     "name": "stdout",
     "output_type": "stream",
     "text": [
      "[0, 1, 2, 3, 4, 5, 6, 7, 8, 9]\n"
     ]
    }
   ],
   "source": [
    "a = []\n",
    "for i in range(10):\n",
    "    a.append(i)\n",
    "print(a)"
   ]
  },
  {
   "cell_type": "markdown",
   "id": "6cb39108-9a08-481c-8fb1-ad82b147cc05",
   "metadata": {},
   "source": [
    "-----\n",
    "#### Aufgabe 1"
   ]
  },
  {
   "cell_type": "code",
   "execution_count": 8,
   "id": "398a3ee3-8c14-4934-8a53-7cd76d054e77",
   "metadata": {},
   "outputs": [
    {
     "name": "stdin",
     "output_type": "stream",
     "text": [
      "Bitte ein Zeichen eingeben c\n",
      "Bitte eine Anzahl eingeben 10\n"
     ]
    },
    {
     "name": "stdout",
     "output_type": "stream",
     "text": [
      "['c', 'c', 'c', 'c', 'c', 'c', 'c', 'c', 'c', 'c']\n"
     ]
    }
   ],
   "source": [
    "c = input('Bitte ein Zeichen eingeben')\n",
    "anzahl = int(input('Bitte eine Anzahl eingeben'))\n",
    "a = []\n",
    "for i in range(anzahl):\n",
    "    a.append(c)\n",
    "print(a)"
   ]
  },
  {
   "cell_type": "markdown",
   "id": "6fe7cf4c-c31d-447d-9ff8-820b80530c46",
   "metadata": {},
   "source": [
    "----\n",
    "Die Listenelemente können wir mit einem Index durchlaufen"
   ]
  },
  {
   "cell_type": "code",
   "execution_count": 12,
   "id": "afbb7298-f0a5-4c62-a0f7-539dba26efa5",
   "metadata": {},
   "outputs": [
    {
     "name": "stdout",
     "output_type": "stream",
     "text": [
      "Liste an der Stelle 0 = 5\n",
      "Liste an der Stelle 1 = 2\n",
      "Liste an der Stelle 2 = 8\n",
      "Liste an der Stelle 3 = 1\n",
      "Liste an der Stelle 4 = 3\n"
     ]
    }
   ],
   "source": [
    "a = [5, 2, 8, 1, 3]\n",
    "for i in range(len(a)):\n",
    "    x = a[i]\n",
    "    print('Liste an der Stelle',i,'=',x)"
   ]
  },
  {
   "cell_type": "markdown",
   "id": "2b852861-43af-4859-8b1f-8e4c93300aa1",
   "metadata": {},
   "source": [
    "----\n",
    "#### Aufgabe 2"
   ]
  },
  {
   "cell_type": "code",
   "execution_count": 15,
   "id": "2f572cbc-ec9f-42d4-ad63-3ff1acfe3cf4",
   "metadata": {},
   "outputs": [
    {
     "name": "stdout",
     "output_type": "stream",
     "text": [
      "Summe aller durch 3 teilbaren Zahlen in der Liste: 27\n"
     ]
    }
   ],
   "source": [
    "a = [5, 2, 8, 1, 3, 15, 17, 9]\n",
    "summe = 0\n",
    "for i in range(len(a)):\n",
    "    if a[i]%3 == 0:\n",
    "        summe = summe + a[i]\n",
    "print('Summe aller durch 3 teilbaren Zahlen in der Liste:',summe)"
   ]
  },
  {
   "cell_type": "markdown",
   "id": "e853ac1c-eacc-4201-92a2-e968b9f94f64",
   "metadata": {},
   "source": [
    "-----\n",
    "#### Aufgabe 3\n"
   ]
  },
  {
   "cell_type": "code",
   "execution_count": 17,
   "id": "82390cb5-d4e1-4def-ac3a-198c1716ba69",
   "metadata": {},
   "outputs": [
    {
     "name": "stdout",
     "output_type": "stream",
     "text": [
      "Liste der Differenzen: [3, 3, 2, 3, 2, 4, 5]\n"
     ]
    }
   ],
   "source": [
    "a = [2, 5, 8, 10, 13, 15, 19, 24]\n",
    "b = []\n",
    "for i in range(len(a)-1):\n",
    "    b.append(a[i+1]-a[i])\n",
    "print('Liste der Differenzen:',b)"
   ]
  },
  {
   "cell_type": "code",
   "execution_count": null,
   "id": "b3f2c73a-8f9b-4621-a125-dba97257d998",
   "metadata": {},
   "outputs": [],
   "source": []
  }
 ],
 "metadata": {
  "kernelspec": {
   "display_name": "Python 3 (ipykernel)",
   "language": "python",
   "name": "python3"
  },
  "language_info": {
   "codemirror_mode": {
    "name": "ipython",
    "version": 3
   },
   "file_extension": ".py",
   "mimetype": "text/x-python",
   "name": "python",
   "nbconvert_exporter": "python",
   "pygments_lexer": "ipython3",
   "version": "3.11.2"
  }
 },
 "nbformat": 4,
 "nbformat_minor": 5
}
