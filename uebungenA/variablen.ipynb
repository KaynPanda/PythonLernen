{
 "cells": [
  {
   "cell_type": "markdown",
   "id": "d26671c4-b856-413d-b8ec-9ab3ad8974da",
   "metadata": {},
   "source": [
    "### Variablen, print und Rechenoperationen\n",
    "\n",
    "Wir können Variablen einen Wert zuweisen und wie beim Taschenrechner mit ```+,-,*,/``` Rechnungen durchführen. Mit *print* geben wir die Ergebnisse aus."
   ]
  },
  {
   "cell_type": "code",
   "execution_count": 3,
   "id": "1045a8ca-cfb8-4935-b417-35e0b61f4e78",
   "metadata": {},
   "outputs": [
    {
     "name": "stdout",
     "output_type": "stream",
     "text": [
      "29\n"
     ]
    }
   ],
   "source": [
    "a = 17\n",
    "b = 12\n",
    "print(a+b)"
   ]
  },
  {
   "cell_type": "markdown",
   "id": "b717a892-3fc8-43ad-862d-39f00197bc34",
   "metadata": {},
   "source": [
    "Wir können der print-Funktion mehrere Werte übergeben. Die werden dann mit einem Leerzeichen getrennt ausgegeben.\n",
    "\n"
   ]
  },
  {
   "cell_type": "code",
   "execution_count": 4,
   "id": "8c6a62bf-64fa-4eb8-b3f1-b569a1a4f5a7",
   "metadata": {},
   "outputs": [
    {
     "name": "stdout",
     "output_type": "stream",
     "text": [
      "29 5\n"
     ]
    }
   ],
   "source": [
    "print(a+b,a-b)"
   ]
  },
  {
   "cell_type": "markdown",
   "id": "848cbf19-6e5d-40ab-a654-414654247f2e",
   "metadata": {},
   "source": [
    "Wir können den Wert einer Variable im Laufe eines Programms verändern. Nach dem Zeichen ```#``` können wir in einer Programmzeile einen Kommentar einfügen. Jeder Leser eines Programms freut sich über Kommentare, denn die Kommentare helfen in der Regel zu verstehen, was das Programm macht."
   ]
  },
  {
   "cell_type": "code",
   "execution_count": 6,
   "id": "593828e1-8e89-4c2b-b996-9c87072fb5b6",
   "metadata": {},
   "outputs": [
    {
     "name": "stdout",
     "output_type": "stream",
     "text": [
      "19\n"
     ]
    }
   ],
   "source": [
    "a = 17\n",
    "a = a + 2        # der neue Wert von a (links) ist der alte Wert von a (rechts) plus 2\n",
    "print(a)"
   ]
  },
  {
   "cell_type": "markdown",
   "id": "de679672-25cb-4ffe-97d6-5f0c7b7aed46",
   "metadata": {},
   "source": [
    "#### Beispiel\n",
    "\n",
    "Wir beschreiben unser Programm mit Worten, die sich einfach in eine Programmiersprache übersetzen lassen. Wir nennen das *Pseudocode*."
   ]
  },
  {
   "cell_type": "raw",
   "id": "68d49dfb-300a-4aab-863f-ca44b7beffe9",
   "metadata": {},
   "source": [
    "Setze c auf 5\n",
    "Setze d auf 7\n",
    "Verdopple den Wert von c\n",
    "e = c minus d\n",
    "Gib das dreifache von e aus."
   ]
  },
  {
   "cell_type": "markdown",
   "id": "d1c06ebc-1335-4c7c-8638-4f9e2aa39ab2",
   "metadata": {},
   "source": [
    "Das dazugehörige Python-Programm sieht so aus:"
   ]
  },
  {
   "cell_type": "code",
   "execution_count": 19,
   "id": "311302cf-56b2-4c60-a045-29ae536824ba",
   "metadata": {},
   "outputs": [
    {
     "name": "stdout",
     "output_type": "stream",
     "text": [
      "9\n"
     ]
    }
   ],
   "source": [
    "c = 5       \n",
    "d = 7       \n",
    "c = 2*c      \n",
    "e = c-d      \n",
    "print(3*e)  "
   ]
  },
  {
   "cell_type": "markdown",
   "id": "f62a13b5-d9ca-4498-8e93-2cb364529cf4",
   "metadata": {},
   "source": [
    "----\n",
    "\n",
    "#### Aufgabe 1\n",
    "\n",
    "Schreibe für den folgenden Pseudocode ein Python-Programm. Zur Kontrolle ist die erwartete Ausgabe angegeben."
   ]
  },
  {
   "cell_type": "raw",
   "id": "be9f387f-adf7-4e46-a2ea-17d395fe7478",
   "metadata": {},
   "source": [
    "Setze x auf 4\n",
    "Setze y auf 7\n",
    "Erhöhe x um 1\n",
    "Erniedrige y um 2\n",
    "Gib die Summe und das Produkt von x und y aus.\n",
    "\n",
    "Erwartete Ausgabe:\n",
    "10 25"
   ]
  },
  {
   "cell_type": "code",
   "execution_count": 1,
   "id": "01ceeb17-e1a0-43a6-b6ef-b874167e0928",
   "metadata": {},
   "outputs": [],
   "source": [
    "# your code"
   ]
  },
  {
   "cell_type": "markdown",
   "id": "33190039-d26f-4f66-84d9-d0d0b660b9df",
   "metadata": {},
   "source": [
    "-------\n",
    "\n",
    "#### Aufgabe 2\n",
    "\n",
    "Manchmal fasst man im Pseudocode mehrere Dinge zusammen. "
   ]
  },
  {
   "cell_type": "raw",
   "id": "870cf7f1-ab8d-41f5-add2-1c66df318774",
   "metadata": {},
   "source": [
    "Setze a auf 10 und b auf 12.\n",
    "b = b plus das Doppelte von a.\n",
    "Erhöhe den Wert von a um 1 und gib dann die Summe von a und b aus.\n",
    "\n",
    "Erwartete Ausgabe:\n",
    "43"
   ]
  },
  {
   "cell_type": "code",
   "execution_count": 20,
   "id": "6ccb889e-7821-4925-8f82-20ade5741506",
   "metadata": {},
   "outputs": [],
   "source": [
    "# your code"
   ]
  },
  {
   "cell_type": "markdown",
   "id": "f793783e-f2e6-4b5b-bae9-7ef9df075c2a",
   "metadata": {},
   "source": [
    "----"
   ]
  },
  {
   "cell_type": "markdown",
   "id": "79c9bb0e-4fa6-4b2a-aeb1-0f957be66092",
   "metadata": {},
   "source": [
    "### Dezimalzahlen\n",
    "\n",
    "Dezimalzahlen werden in Python mit einem Dezimalpunkt geschrieben (kein Dezimalkomma). Durch die Art, wie Dezimalzahlen gespeichert werden, kann es zu kleinen Ungenauigkeiten kommen. Mit der Funktion *round* können wir Dezimalzahlen runden.\n"
   ]
  },
  {
   "cell_type": "code",
   "execution_count": 1,
   "id": "12512271-bb02-4792-a636-7a60b06d6575",
   "metadata": {},
   "outputs": [
    {
     "name": "stdout",
     "output_type": "stream",
     "text": [
      "6.300000000000001\n"
     ]
    }
   ],
   "source": [
    "a = 1.5\n",
    "b = 4.2\n",
    "c = a * b\n",
    "print(a*b)            # Ungenauigkeit"
   ]
  },
  {
   "cell_type": "code",
   "execution_count": 2,
   "id": "eba7fac8-1897-4517-af54-cf80c0b67acb",
   "metadata": {},
   "outputs": [
    {
     "name": "stdout",
     "output_type": "stream",
     "text": [
      "6.3\n"
     ]
    }
   ],
   "source": [
    "d = round(c,1)        # Runden auf 1 Stelle hinter dem Komma\n",
    "print(d)    "
   ]
  },
  {
   "cell_type": "markdown",
   "id": "92ca9a4f-1bdc-49b3-a10f-1baf16a77fac",
   "metadata": {},
   "source": [
    "Dezimalzahlen nennen wir *floats* (floating point numbers), ganze Zahlen nennen wir *ints* (integers). Wenn wir zwei ints dividieren, entsteht immer ein float, auch wenn die Division aufgeht."
   ]
  },
  {
   "cell_type": "code",
   "execution_count": 1,
   "id": "240dbc5c-c808-4e90-9f1a-325fe70d8c64",
   "metadata": {},
   "outputs": [
    {
     "name": "stdout",
     "output_type": "stream",
     "text": [
      "3.0\n"
     ]
    }
   ],
   "source": [
    "a = 6\n",
    "b = 2\n",
    "c = 6 / 2\n",
    "print(c)               # 3 ist ein int, 3.0 ist ein float."
   ]
  },
  {
   "cell_type": "markdown",
   "id": "518641f5-b375-4184-95eb-4f25b95ac55e",
   "metadata": {},
   "source": [
    "Manchmal interessiert uns nur der ganzzahlige Anteil der Division und die Zahlen nach dem Dezimalpunkt spielen keine Rolle. Dafür nutzen wir den Operator für die ganzzahlige Division ```//```"
   ]
  },
  {
   "cell_type": "code",
   "execution_count": 2,
   "id": "a1312bd0-d714-4f46-b552-97578f9d3f84",
   "metadata": {},
   "outputs": [
    {
     "name": "stdout",
     "output_type": "stream",
     "text": [
      "2.3333333333333335\n",
      "2\n"
     ]
    }
   ],
   "source": [
    "a = 7\n",
    "b = 3\n",
    "print(a / b)\n",
    "print(a // b)"
   ]
  },
  {
   "cell_type": "markdown",
   "id": "f7dc77d8-b38d-40fc-b22d-4f6e1291b3a6",
   "metadata": {},
   "source": [
    "Manchmal interessiert uns nur der Rest bei der Division. Dafür nutzen wir den Modulo-Operator ```%```"
   ]
  },
  {
   "cell_type": "code",
   "execution_count": 28,
   "id": "11686995-483e-4566-9499-3d5a422e4792",
   "metadata": {},
   "outputs": [
    {
     "name": "stdout",
     "output_type": "stream",
     "text": [
      "1\n"
     ]
    }
   ],
   "source": [
    "a = 7\n",
    "b = 3\n",
    "print(a % b)     # 7 Modulo 3 ist der Rest, der bleibt, wenn man 7 ganzzahlig durch 3 teilt."
   ]
  },
  {
   "cell_type": "markdown",
   "id": "43533c14-9a9b-4ae1-830e-6f87312f3041",
   "metadata": {},
   "source": [
    "#### Beispiel"
   ]
  },
  {
   "cell_type": "code",
   "execution_count": 22,
   "id": "76f8e845-9344-4180-974d-69c5f7e0b5e6",
   "metadata": {},
   "outputs": [
    {
     "name": "stdout",
     "output_type": "stream",
     "text": [
      "Das Ergebnis der Division von 17 durch 3 ist 5 Rest 2\n"
     ]
    }
   ],
   "source": [
    "x = 17\n",
    "y = 3\n",
    "print('Das Ergebnis der Division von',x,'durch',y,'ist',x//y,'Rest',x%y)  "
   ]
  },
  {
   "cell_type": "markdown",
   "id": "6a19dbbb-4c65-42fa-9613-9b9bb555653a",
   "metadata": {},
   "source": [
    "-------\n",
    "\n",
    "#### Aufgabe 3"
   ]
  },
  {
   "cell_type": "raw",
   "id": "f7887c88-a34b-49d2-9beb-1c1002496133",
   "metadata": {},
   "source": [
    "setze x auf 104, y auf 7\n",
    "gib das Ergebnis x durch y aus, gerundet auf 2 Stellen \n",
    "erniedrige x um 1\n",
    "gib das Ergebnis x durch y aus, gerundet auf 2 Stellen \n",
    "erniedrige x um 1\n",
    "gib das Ergebnis x durch y aus, gerundet auf 2 Stellen \n",
    "\n",
    "Erwartete Ausgabe:\n",
    "14.86\n",
    "14.71\n",
    "14.57\n"
   ]
  },
  {
   "cell_type": "code",
   "execution_count": 5,
   "id": "afb22e59-c611-40f2-97be-6274447077f2",
   "metadata": {},
   "outputs": [
    {
     "name": "stdout",
     "output_type": "stream",
     "text": [
      "14.86\n",
      "14.71\n",
      "14.57\n"
     ]
    }
   ],
   "source": [
    "x = 104  \n",
    "y = 7\n",
    "print(round(x/7,2))\n",
    "x = x-1\n",
    "print(round(x/7,2))\n",
    "x = x-1\n",
    "print(round(x/7,2))"
   ]
  },
  {
   "cell_type": "markdown",
   "id": "ca2291c0-c7f0-4a68-9430-8b32d25b1d48",
   "metadata": {},
   "source": [
    "---- \n",
    "\n",
    "### Strings\n",
    "\n",
    "Strings sind Zeichenketten. Sie werden in einfachen oder doppelten Hochkommata eingeschlossen. Mit dem Operator ```+``` können wir Strings aneinanderpappen. Die Funktion *len()* berechnet die Länge des Strings."
   ]
  },
  {
   "cell_type": "code",
   "execution_count": 22,
   "id": "c63f7ff5-ab58-44ad-9667-c8e542663f42",
   "metadata": {},
   "outputs": [
    {
     "name": "stdout",
     "output_type": "stream",
     "text": [
      "Habicht Uhu\n",
      "7 3\n"
     ]
    }
   ],
   "source": [
    "a = 'Habicht'                 # String mit einfachen Hochkommata\n",
    "b = \"Uhu\"                     # String mit doppelten Hochkommata\n",
    "print(a, b)\n",
    "print(len(a),len(b))"
   ]
  },
  {
   "cell_type": "code",
   "execution_count": 3,
   "id": "bb19da3d-2c4c-402e-ad4a-8814f7d1f63d",
   "metadata": {},
   "outputs": [
    {
     "name": "stdout",
     "output_type": "stream",
     "text": [
      "eins zwei\n"
     ]
    }
   ],
   "source": [
    "a = \"eins\"\n",
    "b = \"zwei\"\n",
    "c = a + \" \" + b               # wir pappen a und b zusammen, dazwischen ein Leerzeichen\n",
    "print(c)"
   ]
  },
  {
   "cell_type": "markdown",
   "id": "081111ea-ce18-49ed-a2e1-52de6e17f0f3",
   "metadata": {},
   "source": [
    "#### Beispiel\n"
   ]
  },
  {
   "cell_type": "raw",
   "id": "8f071f95-93b5-4696-abe5-008acddfbdee",
   "metadata": {},
   "source": [
    "Setze s1 auf 'Rom'\n",
    "Setze s2 auf 'Paris'\n",
    "Setze a auf das 5-mal hintereinandergepappte s1\n",
    "Setze b auf das 3-mal hintereinandergepappte s2\n",
    "Pappe a dann b dann a zusammen und weise das Ergebnis der Variablen c zu\n",
    "Gib c aus"
   ]
  },
  {
   "cell_type": "code",
   "execution_count": 4,
   "id": "667319fb-5d7f-4016-8019-6a69fbb3151c",
   "metadata": {},
   "outputs": [
    {
     "name": "stdout",
     "output_type": "stream",
     "text": [
      "RomRomRomRomRomParisParisParisRomRomRomRomRom\n"
     ]
    }
   ],
   "source": [
    "s1 = \"Rom\"\n",
    "s2 = \"Paris\"\n",
    "a = s1+s1+s1+s1+s1\n",
    "b = s2+s2+s2\n",
    "c = a+b+a\n",
    "print(c)"
   ]
  },
  {
   "cell_type": "markdown",
   "id": "a55ded68-19dd-4e28-802a-82664efa1b3d",
   "metadata": {},
   "source": [
    "-------\n",
    "\n",
    "#### Aufgabe 4"
   ]
  },
  {
   "cell_type": "raw",
   "id": "027d9940-629e-4a5c-8832-93bd9f5d0a9a",
   "metadata": {},
   "source": [
    "Setze s1 auf 'Hallo'\n",
    "Setze s2 auf 'Welt'\n",
    "Pappe s1 und ein Leerzeichen und s2 und ein Ausrufezeichen zusammen zur Variablen c\n",
    "Gib c aus\n",
    "\n",
    "Erwartete Ausgabe: \n",
    "Hallo Welt!"
   ]
  },
  {
   "cell_type": "code",
   "execution_count": 24,
   "id": "cf297b32-1c8d-45e0-98e2-e776da9a9a02",
   "metadata": {},
   "outputs": [],
   "source": [
    "# your code"
   ]
  },
  {
   "cell_type": "markdown",
   "id": "cbdc28d8-4ea1-41eb-a144-91525ecb53f0",
   "metadata": {},
   "source": [
    "----\n",
    "\n",
    "#### Aufgabe 4a"
   ]
  },
  {
   "cell_type": "raw",
   "id": "0c7c2a1c-afc3-4b9d-950e-1298aa097fe7",
   "metadata": {},
   "source": [
    "Setze x auf '.'\n",
    "Setze y auf '+'\n",
    "Setze a auf 2 Wiederholungen von x, dann y, dann wieder 2 Wiederholungen x \n",
    "Setze b auf 5 Wiederholungen a\n",
    "Gib b aus\n",
    "\n",
    "Erwartete Ausgabe:\n",
    "..+....+....+....+....+.."
   ]
  },
  {
   "cell_type": "code",
   "execution_count": 27,
   "id": "5109b660-0641-46f4-9f77-1585822ff65d",
   "metadata": {},
   "outputs": [],
   "source": [
    "# your code"
   ]
  },
  {
   "cell_type": "markdown",
   "id": "1bf997da-54dc-4b59-8402-babd9344e470",
   "metadata": {},
   "source": [
    "-----\n",
    "\n",
    "### Input\n",
    "\n",
    "Mit der Funktion *input()* können wir Eingaben des Benutzers lesen. *input()* liefert immer einen String zurück. Wenn wir mit der Eingabe als Zahl rechnen wollen, müssen wir sie in ein *int* oder *float* umwandeln. "
   ]
  },
  {
   "cell_type": "code",
   "execution_count": 39,
   "id": "65e59eb8-faad-4da1-ba73-0427ae99b60b",
   "metadata": {},
   "outputs": [
    {
     "name": "stdin",
     "output_type": "stream",
     "text": [
      "Bitte ein Wort eingeben: Hallo\n"
     ]
    },
    {
     "name": "stdout",
     "output_type": "stream",
     "text": [
      "Deine Eingabe war: Hallo\n"
     ]
    }
   ],
   "source": [
    "s = input('Bitte ein Wort eingeben:')\n",
    "print('Deine Eingabe war:',s)"
   ]
  },
  {
   "cell_type": "code",
   "execution_count": 43,
   "id": "eca730df-36ea-48ad-acc9-e00448069649",
   "metadata": {},
   "outputs": [
    {
     "name": "stdin",
     "output_type": "stream",
     "text": [
      "Bitte ein Zahl eingeben: 50\n"
     ]
    },
    {
     "name": "stdout",
     "output_type": "stream",
     "text": [
      "Das Doppelte deiner Zahl ist: 100\n"
     ]
    }
   ],
   "source": [
    "s = input('Bitte ein Zahl eingeben:')\n",
    "a = int(s)                                # Der String s wird in ein int umgewandelt\n",
    "print('Das Doppelte deiner Zahl ist:', 2*a)"
   ]
  },
  {
   "cell_type": "markdown",
   "id": "bdf8d321-144c-4ad9-bad3-afe4fe149e76",
   "metadata": {},
   "source": [
    "Das Einlesen und Umwandeln fasst man meist in einer Zeile zusammen:"
   ]
  },
  {
   "cell_type": "code",
   "execution_count": 1,
   "id": "f20ef193-6efb-42e0-a8c6-f93833cb564f",
   "metadata": {},
   "outputs": [
    {
     "name": "stdin",
     "output_type": "stream",
     "text": [
      "Bitte ein Zahl eingeben: 5\n"
     ]
    },
    {
     "name": "stdout",
     "output_type": "stream",
     "text": [
      "Das Doppelte deiner Zahl ist: 10\n"
     ]
    }
   ],
   "source": [
    "a = int(input('Bitte ein Zahl eingeben:'))                      \n",
    "print('Das Doppelte deiner Zahl ist:', 2*a)"
   ]
  },
  {
   "cell_type": "markdown",
   "id": "20c7b419-4cd5-4073-b211-4ffa94c2aa42",
   "metadata": {},
   "source": [
    "-----"
   ]
  },
  {
   "cell_type": "markdown",
   "id": "9c345c43-32bd-4054-8ac2-06072b9dcb28",
   "metadata": {},
   "source": [
    "#### Beispiel:\n",
    "\n",
    "Schreibe ein Programm, das drei Zahlen einliest und dann die Summe aller Zahlen ausgibt\n"
   ]
  },
  {
   "cell_type": "code",
   "execution_count": 46,
   "id": "0c388a20-4c21-4f51-82f9-f482359dfd2b",
   "metadata": {},
   "outputs": [
    {
     "name": "stdin",
     "output_type": "stream",
     "text": [
      "Bitte erste Zahl eingeben: 34\n",
      "Bitte zweite Zahl eingeben: 54\n",
      "Bitte dritte Zahl eingeben: 34\n"
     ]
    },
    {
     "name": "stdout",
     "output_type": "stream",
     "text": [
      "Die Summe der drei Zahlen ist 122\n"
     ]
    }
   ],
   "source": [
    "a1 = int(input('Bitte erste Zahl eingeben:'))\n",
    "a2 = int(input('Bitte zweite Zahl eingeben:'))\n",
    "a3 = int(input('Bitte dritte Zahl eingeben:'))\n",
    "b = a1 + a2 + a3\n",
    "print('Die Summe der drei Zahlen ist',b)"
   ]
  },
  {
   "cell_type": "markdown",
   "id": "ce15bd40-df36-4fb9-87fc-8cb4f69207da",
   "metadata": {},
   "source": [
    "----\n",
    "#### Aufgabe 5\n",
    "\n",
    "Schreibe ein Programm, das zwei Zahlen einliest und dann das Produkt der beiden Zahlen ausgibt."
   ]
  },
  {
   "cell_type": "code",
   "execution_count": 6,
   "id": "1e30b4e8-49a1-4029-88d8-1851c8ccd26e",
   "metadata": {},
   "outputs": [],
   "source": [
    "# your code"
   ]
  },
  {
   "cell_type": "markdown",
   "id": "a96d69ab-6090-4bc1-8420-b0e89ab99aef",
   "metadata": {},
   "source": [
    "----\n",
    "#### Mehrere Zahlen eingeben\n",
    "\n",
    "Wir wollen mehrere Zahlen durch ein Leerzeichen getrennt eingeben. Dazu nutzen wir die Methode *split()*"
   ]
  },
  {
   "cell_type": "code",
   "execution_count": 9,
   "id": "5546b434-1893-40c5-914c-7ae781f14e52",
   "metadata": {},
   "outputs": [
    {
     "name": "stdin",
     "output_type": "stream",
     "text": [
      "Bitte zwei Zahlen eingeben: 6 7\n"
     ]
    },
    {
     "name": "stdout",
     "output_type": "stream",
     "text": [
      "Die Summe ist 13\n"
     ]
    }
   ],
   "source": [
    "s = input('Bitte zwei Zahlen eingeben:')\n",
    "x, y = s.split()            # Der String s wird beim Leerzeichen aufgesplittet.\n",
    "x = int(x)                  \n",
    "y = int(y)\n",
    "print('Die Summe ist',x+y)"
   ]
  },
  {
   "cell_type": "markdown",
   "id": "ca4335a2-bdbb-45d9-8f65-8197251f5d13",
   "metadata": {},
   "source": [
    "-----\n",
    "#### Aufgabe 6\n",
    "Schreibe ein Programm, das in einer Eingabe drei Zahlen einliest und dann das Produkt ausgibt."
   ]
  },
  {
   "cell_type": "code",
   "execution_count": 11,
   "id": "6b2830a2-ff5d-4527-b7ed-f28d36f61fed",
   "metadata": {},
   "outputs": [],
   "source": [
    "# your code"
   ]
  }
 ],
 "metadata": {
  "kernelspec": {
   "display_name": "Python 3 (ipykernel)",
   "language": "python",
   "name": "python3"
  },
  "language_info": {
   "codemirror_mode": {
    "name": "ipython",
    "version": 3
   },
   "file_extension": ".py",
   "mimetype": "text/x-python",
   "name": "python",
   "nbconvert_exporter": "python",
   "pygments_lexer": "ipython3",
   "version": "3.11.2"
  }
 },
 "nbformat": 4,
 "nbformat_minor": 5
}
