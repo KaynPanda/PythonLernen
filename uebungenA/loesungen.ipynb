{
 "cells": [
  {
   "cell_type": "code",
   "execution_count": 1,
   "id": "c7bda8a4-49d5-42cc-bf46-c54654cd60fa",
   "metadata": {},
   "outputs": [
    {
     "name": "stdout",
     "output_type": "stream",
     "text": [
      "10 25\n"
     ]
    }
   ],
   "source": [
    "# Aufgabe 1\n",
    "x = 4       # Setze x auf 4\n",
    "y = 7       # Setze y auf 7\n",
    "x = x + 1   # Erhöhe x um 1\n",
    "y = y - 2   # Erniedrige y um 2\n",
    "print(x+y, x*y)   # Gib die Summe und das Produkt von x und y aus."
   ]
  },
  {
   "cell_type": "code",
   "execution_count": 2,
   "id": "30fb3663-90d4-461f-968c-743347055538",
   "metadata": {},
   "outputs": [
    {
     "name": "stdout",
     "output_type": "stream",
     "text": [
      "43\n"
     ]
    }
   ],
   "source": [
    "# Aufgabe 2\n",
    "a = 10      # Setze a auf den Wert 10\n",
    "b = 12      # Setze b auf den Wert 12\n",
    "b = b + 2*a # Addiere zu b das Doppelte von a und weise das Ergebnis wieder der Variablen b zu.\n",
    "a = a + 1   # Erhöhe den Wert von a um 1\n",
    "print(a+b)  # Gib die Summe von a und b aus "
   ]
  },
  {
   "cell_type": "code",
   "execution_count": null,
   "id": "be42312a-a420-49d3-a782-04a0689e6ff9",
   "metadata": {},
   "outputs": [],
   "source": [
    "# Aufgabe 3\n",
    "x = 104  \n",
    "y = 7\n",
    "print(round(x/7,2))\n",
    "x = x-1\n",
    "print(round(x/7,2))\n",
    "x = x-1\n",
    "print(round(x/7,2))"
   ]
  },
  {
   "cell_type": "code",
   "execution_count": null,
   "id": "e57b7b83-c79b-48a6-9f7b-556ed5db694d",
   "metadata": {},
   "outputs": [],
   "source": [
    "# Aufgabe 4\n",
    "s1 = \"Hallo\"\n",
    "s2 = \"Welt\"\n",
    "print(s1 + \" \" + s2 + \"!\")"
   ]
  },
  {
   "cell_type": "code",
   "execution_count": null,
   "id": "3131b939-449e-4f50-9e45-559f3377b989",
   "metadata": {},
   "outputs": [],
   "source": [
    "# Aufgabe 6\n",
    "s = input('Bitte drei Zahlen eingeben:')\n",
    "x, y, z = s.split()            # Der String s wird beim Leerzeichen aufgesplittet.\n",
    "x = int(x)                  \n",
    "y = int(y)\n",
    "z = int(z)\n",
    "print('Das Produkt ist',x*y*z)"
   ]
  },
  {
   "cell_type": "markdown",
   "id": "6cbfc1fd-74e7-4fd7-a691-410c7b10de44",
   "metadata": {},
   "source": [
    "### Bedingungen"
   ]
  },
  {
   "cell_type": "code",
   "execution_count": 1,
   "id": "71779624-dc48-498d-8c40-60ef57558843",
   "metadata": {},
   "outputs": [
    {
     "name": "stdin",
     "output_type": "stream",
     "text": [
      "Bitte eine Zahl eingeben: 4545\n"
     ]
    },
    {
     "name": "stdout",
     "output_type": "stream",
     "text": [
      "3 ist Teiler\n",
      "5 ist Teiler\n"
     ]
    }
   ],
   "source": [
    "# Aufgabe \n",
    "x = int(input('Bitte eine Zahl eingeben:'))\n",
    "if x % 2 == 0:\n",
    "    print('2 ist Teiler')\n",
    "if x % 3 == 0:\n",
    "    print('3 ist Teiler')\n",
    "if x % 5 == 0:\n",
    "    print('5 ist Teiler')\n",
    "if x % 7 == 0:\n",
    "    print('7 ist Teiler')\n",
    "if x % 11 == 0:\n",
    "    print('11 ist Teiler')"
   ]
  },
  {
   "cell_type": "markdown",
   "id": "743f8f73-a99d-4d6f-a9d4-486f3278ec54",
   "metadata": {},
   "source": [
    "#### Range"
   ]
  },
  {
   "cell_type": "code",
   "execution_count": 2,
   "id": "b827f5f3-e27d-4092-b5c3-693b48856d96",
   "metadata": {},
   "outputs": [
    {
     "name": "stdin",
     "output_type": "stream",
     "text": [
      "Bitte eine Zahl eingeben: 6\n"
     ]
    },
    {
     "name": "stdout",
     "output_type": "stream",
     "text": [
      "#####\n",
      "#   #\n",
      "#   #\n",
      "#   #\n",
      "#   #\n",
      "#   #\n",
      "#   #\n",
      "#####\n"
     ]
    }
   ],
   "source": [
    "# Aufgabe 1\n",
    "k = int(input('Bitte eine Zahl eingeben:'))\n",
    "print('#####')\n",
    "for i in range(k):\n",
    "    print('#   #')\n",
    "print('#####')"
   ]
  },
  {
   "cell_type": "code",
   "execution_count": 3,
   "id": "6692ba84-422a-4e3a-ad75-3ad78c2a2aca",
   "metadata": {},
   "outputs": [
    {
     "name": "stdin",
     "output_type": "stream",
     "text": [
      "Bitte zwei ganze Zahlen a, b eingeben mit a < b: 4 7\n"
     ]
    },
    {
     "name": "stdout",
     "output_type": "stream",
     "text": [
      "Die Summe aller ganzen Zahlen zwischen 4 und 7 ist 22\n"
     ]
    }
   ],
   "source": [
    "# Aufgabe 2\n",
    "s = input('Bitte zwei ganze Zahlen a, b eingeben mit a < b:')\n",
    "a, b = s.split()\n",
    "a = int(a)\n",
    "b = int(b)\n",
    "summe = 0\n",
    "for k in range(a,b+1):\n",
    "    summe = summe + k\n",
    "print('Die Summe aller ganzen Zahlen zwischen',a,'und',b,'ist',summe)"
   ]
  },
  {
   "cell_type": "code",
   "execution_count": null,
   "id": "0a04e06b-4ac7-4b1a-bd22-b71feb84d445",
   "metadata": {},
   "outputs": [],
   "source": [
    "# Aufgabe 2\n",
    "k = int(input('Bitte eine positive ganze Zahl a eingeben mit a < 100. '))\n",
    "for i in range(1,11):\n",
    "    print(i,'mal',k,'ist',k*i)"
   ]
  },
  {
   "cell_type": "markdown",
   "id": "e9f39928-6a98-43b8-9d16-59da632c7818",
   "metadata": {},
   "source": [
    "#### Stringloops"
   ]
  },
  {
   "cell_type": "code",
   "execution_count": null,
   "id": "07fac5d8-4582-46eb-9a15-0d4d3061e5ca",
   "metadata": {},
   "outputs": [],
   "source": [
    "# Aufgabe 1\n",
    "s = input('Bitte einen String eingeben: ')\n",
    "if s[0] == s[-1]:\n",
    "    print('Erstes und letztes Zeichen sind gleich.')\n",
    "print('Ende')"
   ]
  }
 ],
 "metadata": {
  "kernelspec": {
   "display_name": "Python 3 (ipykernel)",
   "language": "python",
   "name": "python3"
  },
  "language_info": {
   "codemirror_mode": {
    "name": "ipython",
    "version": 3
   },
   "file_extension": ".py",
   "mimetype": "text/x-python",
   "name": "python",
   "nbconvert_exporter": "python",
   "pygments_lexer": "ipython3",
   "version": "3.11.2"
  }
 },
 "nbformat": 4,
 "nbformat_minor": 5
}
