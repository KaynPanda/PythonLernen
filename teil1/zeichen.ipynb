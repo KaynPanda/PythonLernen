{
 "cells": [
  {
   "cell_type": "markdown",
   "id": "da3540aa-d9a0-48b6-bb2d-65546ce374bf",
   "metadata": {},
   "source": [
    "### Zeichen und Strings\n",
    "\n",
    "Zeichen sind die einzelnen Bestandteile von Strings. Zeichen haben eine Zahl zugeordnet. Mit dieser Zahl können wir Zeichen vergleichen. Für die üblichen Zeichen nennt man diese Zahl die *ASCII-Zahl* des Zeichens."
   ]
  },
  {
   "cell_type": "code",
   "execution_count": 1,
   "id": "35af20e9-b9ee-4d90-ae85-b3ba34a3c4f8",
   "metadata": {},
   "outputs": [
    {
     "name": "stdout",
     "output_type": "stream",
     "text": [
      "97\n"
     ]
    }
   ],
   "source": [
    "# Die Funktion ord() ordnet einem Zeichen eine Zahl zu\n",
    "c = 'a'\n",
    "print(ord(c))   # die zugeordnete Zahl"
   ]
  },
  {
   "cell_type": "code",
   "execution_count": 2,
   "id": "c829c717-8fe8-46be-9566-b18a2dee7027",
   "metadata": {},
   "outputs": [
    {
     "name": "stdout",
     "output_type": "stream",
     "text": [
      "a\n"
     ]
    }
   ],
   "source": [
    "# die Funktion chr() ordnet einer Zahl ein Zeichen zu.\n",
    "k = 97\n",
    "print(chr(k))"
   ]
  },
  {
   "cell_type": "code",
   "execution_count": 3,
   "id": "77c1ead9-f382-475a-ab40-45d98c158b7c",
   "metadata": {},
   "outputs": [
    {
     "name": "stdout",
     "output_type": "stream",
     "text": [
      "a 97\n",
      "b 98\n",
      "c 99\n",
      "x 120\n",
      "y 121\n",
      "z 122\n"
     ]
    }
   ],
   "source": [
    "for c in 'abcxyz':   # Die ASCII-Zahlen der kleinen Buchstaben gehen von 97-122\n",
    "    print(c,ord(c))"
   ]
  },
  {
   "cell_type": "code",
   "execution_count": 4,
   "id": "7e1f2067-676d-4c63-a98a-90623ec4dc6b",
   "metadata": {},
   "outputs": [
    {
     "name": "stdout",
     "output_type": "stream",
     "text": [
      "A 65\n",
      "B 66\n",
      "C 67\n",
      "X 88\n",
      "Y 89\n",
      "Z 90\n"
     ]
    }
   ],
   "source": [
    "for c in 'ABCXYZ':   # Die ASCII-Zahlen der großen Buchstaben gehen von 65-90\n",
    "    print(c,ord(c))"
   ]
  },
  {
   "cell_type": "code",
   "execution_count": 5,
   "id": "d55e4e80-805d-4fcc-b2f1-f9b697e5aef3",
   "metadata": {},
   "outputs": [
    {
     "name": "stdout",
     "output_type": "stream",
     "text": [
      "0 48\n",
      "1 49\n",
      "2 50\n",
      "7 55\n",
      "8 56\n",
      "9 57\n"
     ]
    }
   ],
   "source": [
    "for c in '012789':   # Die ASCII-Zahlen der Ziffern gehen von 48-57\n",
    "    print(c,ord(c))"
   ]
  },
  {
   "cell_type": "code",
   "execution_count": 6,
   "id": "1e7a0b55-1d62-4af8-ab56-d71ba983100c",
   "metadata": {},
   "outputs": [
    {
     "name": "stdout",
     "output_type": "stream",
     "text": [
      "ä 228\n",
      "ö 246\n",
      "ü 252\n",
      "Ä 196\n",
      "Ö 214\n",
      "Ü 220\n",
      "ß 223\n"
     ]
    }
   ],
   "source": [
    "for c in 'äöüÄÖÜß':\n",
    "     print(c,ord(c))       # spezielle Zeichen des deutschen Alphabeths"
   ]
  },
  {
   "cell_type": "markdown",
   "id": "5398d829-1b57-461f-9e81-a5157dc89883",
   "metadata": {},
   "source": [
    "Wenn wir Zeichen vergleichen werden die ord-Zahlen verglichen, wir müssen die Funktion aber nicht extra hinschreiben. Die ord-Zahlen der kleinen Buchstaben sind größer als die der großen Buchstaben."
   ]
  },
  {
   "cell_type": "code",
   "execution_count": 7,
   "id": "d359e18b-c4b8-48e0-91ed-fef4a9807ff6",
   "metadata": {},
   "outputs": [
    {
     "name": "stdout",
     "output_type": "stream",
     "text": [
      "False\n"
     ]
    }
   ],
   "source": [
    "print('a' < 'A')"
   ]
  },
  {
   "cell_type": "markdown",
   "id": "4e20da78-f03a-4884-a2cf-71e025280729",
   "metadata": {},
   "source": [
    "Mit einer Ungleichungskette können wir überprüfen, ob ein Zeichen in einem bestimmten Bereich liegt."
   ]
  },
  {
   "cell_type": "code",
   "execution_count": 8,
   "id": "b0efaadd-24dc-43bd-a352-69c013bc295a",
   "metadata": {},
   "outputs": [
    {
     "name": "stdin",
     "output_type": "stream",
     "text": [
      "Bitte ein Zeichen eingeben k\n"
     ]
    },
    {
     "name": "stdout",
     "output_type": "stream",
     "text": [
      "Das Zeichen ist ein kleiner Buchstaben a-z\n"
     ]
    }
   ],
   "source": [
    "c = input('Bitte ein Zeichen eingeben')\n",
    "if 'a' <= c <= 'z':                             # eine Ungleichungskette als Bedingung\n",
    "    print('Das Zeichen ist ein kleiner Buchstaben a-z')\n",
    "else:\n",
    "    print('Das Zeichen ist kein kleiner Buchstaben a-z')\n"
   ]
  },
  {
   "cell_type": "markdown",
   "id": "c6d62414-1864-4ceb-8cdc-ef1881a77318",
   "metadata": {},
   "source": [
    "Über die ASCII-Zahlen können wir den alphabetischen Nachfolger eines Zeichens bestimmen:"
   ]
  },
  {
   "cell_type": "code",
   "execution_count": 9,
   "id": "8f5c08df-cf57-48af-901a-041409a1b7a9",
   "metadata": {},
   "outputs": [
    {
     "name": "stdout",
     "output_type": "stream",
     "text": [
      "t\n"
     ]
    }
   ],
   "source": [
    "c = 's'\n",
    "c1 = chr(ord(c)+1)\n",
    "print(c1)"
   ]
  },
  {
   "cell_type": "markdown",
   "id": "f01457e3-ca29-470a-887f-b2a35a2cda9e",
   "metadata": {},
   "source": [
    "Mit dem Begriff *Zeichen des englischen Alphabets* meinen wir die Zeichen des Alphabets ohne Umlaute und ß.\n",
    "\n",
    "---\n",
    "#### Aufgaben"
   ]
  },
  {
   "cell_type": "code",
   "execution_count": null,
   "id": "8e95cc09-bf94-4cd1-9847-36fd336d8884",
   "metadata": {},
   "outputs": [],
   "source": [
    "def func1(s):\n",
    "    '''\n",
    "    Aufgabe 1:\n",
    "    s = String \n",
    "    returns: Liste mit den ASCII-Nummern der Zeichen von s\n",
    "\n",
    "    >>> func1('Hallo')\n",
    "    [72, 97, 108, 108, 111]\n",
    "\n",
    "    >>> func1('Habicht')\n",
    "    [72, 97, 98, 105, 99, 104, 116]\n",
    "    \n",
    "    '''\n",
    "    # your code\n",
    "\n",
    "import doctest\n",
    "doctest.run_docstring_examples(func1,globals(),optionflags=doctest.NORMALIZE_WHITESPACE)"
   ]
  },
  {
   "cell_type": "code",
   "execution_count": null,
   "id": "6e3c3e6a-5768-4a80-aad7-ba5fc63d7bbe",
   "metadata": {},
   "outputs": [],
   "source": [
    "def func2(s, c1, c2):\n",
    "    '''\n",
    "    Aufgabe 2:\n",
    "    s = String, c1, c2: Zeichen\n",
    "    returns: Liste mit den Zeichen von s zwischen c1 und c2 (einschließlich)\n",
    "\n",
    "    >>> func2('ababcdecef','b','d')\n",
    "    ['b', 'b', 'c', 'd', 'c']\n",
    "    \n",
    "    >>> func2('abbbbc','b','b')\n",
    "    ['b', 'b', 'b', 'b']\n",
    "    \n",
    "    '''\n",
    "    # your code\n",
    "\n",
    "import doctest\n",
    "doctest.run_docstring_examples(func2,globals(),optionflags=doctest.NORMALIZE_WHITESPACE)"
   ]
  },
  {
   "cell_type": "code",
   "execution_count": null,
   "id": "9d0434f7-141d-41b5-a961-c2c3e44eca4e",
   "metadata": {},
   "outputs": [],
   "source": [
    "def func3(a):\n",
    "    '''\n",
    "    Aufgabe 3:\n",
    "    a = Liste mit ASCII-Zeichen\n",
    "    returns: String mit den dazugehörigen Zeichen\n",
    "\n",
    "    >>> func3([77, 111, 122, 97, 114, 116])\n",
    "    'Mozart'\n",
    "    \n",
    "    >>> func3([65, 98, 98, 97])\n",
    "    'Abba'\n",
    "    \n",
    "    '''\n",
    "    # your code\n",
    "\n",
    "import doctest\n",
    "doctest.run_docstring_examples(func3,globals(),optionflags=doctest.NORMALIZE_WHITESPACE)"
   ]
  },
  {
   "cell_type": "code",
   "execution_count": null,
   "id": "be3a3465-08ef-44bf-a945-b944f132e3fa",
   "metadata": {},
   "outputs": [],
   "source": [
    "def func4(s, c):\n",
    "    '''\n",
    "    Aufgabe 4:\n",
    "    s: String mit kleinen Buchstaben des englischen Alphabets\n",
    "    returns: Anzahl Zeichen in s, die alphabetisch vor c kommen.\n",
    "    \n",
    "    >>> func4('hallo','l')\n",
    "    2\n",
    "    \n",
    "    >>> func4('habicht','i')\n",
    "    5\n",
    "\n",
    "    >>> func4('habicht','a')\n",
    "    0\n",
    "    \n",
    "    '''\n",
    "    # your code\n",
    "\n",
    "import doctest\n",
    "doctest.run_docstring_examples(func4,globals(),optionflags=doctest.NORMALIZE_WHITESPACE)"
   ]
  },
  {
   "cell_type": "code",
   "execution_count": null,
   "id": "bb9f48da-46a1-4df7-999c-e0b80fd54dd1",
   "metadata": {},
   "outputs": [],
   "source": [
    "def func5(s):\n",
    "    '''\n",
    "    Aufgabe 5:\n",
    "    s: String \n",
    "    returns: 'YES', falls ein großer Buchstabe A-Z in s vorkommt, sonst 'NO'\n",
    "    \n",
    "    >>> func5('Hallo')\n",
    "    'YES'\n",
    "    \n",
    "    >>> func5('hallo')\n",
    "    'NO'\n",
    "\n",
    "    >>> func5('ooHaa')\n",
    "    'YES'\n",
    "    '''\n",
    "    # your code\n",
    "\n",
    "import doctest\n",
    "doctest.run_docstring_examples(func5,globals(),optionflags=doctest.NORMALIZE_WHITESPACE)"
   ]
  },
  {
   "cell_type": "code",
   "execution_count": null,
   "id": "90731fc9-3a09-4bbd-981b-6d2346802f44",
   "metadata": {},
   "outputs": [],
   "source": [
    "def func6(c):\n",
    "    '''\n",
    "    Aufgabe 6:\n",
    "    c: kleiner Buchstabe des englischen Alphabets\n",
    "    returns: das alphabetisch nächste Zeichen, 'a', falls c ein 'z'.\n",
    "    \n",
    "    >>> func6('a')\n",
    "    'b'\n",
    "    \n",
    "    >>> func6('s')\n",
    "    't'\n",
    "\n",
    "    >>> func6('z')\n",
    "    'a'\n",
    "    '''\n",
    "     \n",
    "    # your code\n",
    "\n",
    "import doctest\n",
    "doctest.run_docstring_examples(func6,globals(),optionflags=doctest.NORMALIZE_WHITESPACE)"
   ]
  },
  {
   "cell_type": "code",
   "execution_count": null,
   "id": "746b1b99-97a8-4e63-85ce-46ceffefc35a",
   "metadata": {},
   "outputs": [],
   "source": [
    "def func7(s):\n",
    "    '''\n",
    "    Aufgabe 7:\n",
    "    s: String mit Buchstaben des englischen Alphabets\n",
    "    returns: String der aus s entsteht, wenn man alle Großbuchstaben weglässt.\n",
    "    \n",
    "    >>> func7('HalHo')\n",
    "    'alo'\n",
    "    \n",
    "    >>> func7('aBCdeFGhiJk')\n",
    "    'adehik'\n",
    "\n",
    "    >>> func7('BC')\n",
    "    ''\n",
    "    \n",
    "    '''\n",
    "    # your code\n",
    "\n",
    "import doctest\n",
    "doctest.run_docstring_examples(func7,globals(),optionflags=doctest.NORMALIZE_WHITESPACE)"
   ]
  }
 ],
 "metadata": {
  "kernelspec": {
   "display_name": "Python 3 (ipykernel)",
   "language": "python",
   "name": "python3"
  },
  "language_info": {
   "codemirror_mode": {
    "name": "ipython",
    "version": 3
   },
   "file_extension": ".py",
   "mimetype": "text/x-python",
   "name": "python",
   "nbconvert_exporter": "python",
   "pygments_lexer": "ipython3",
   "version": "3.11.2"
  }
 },
 "nbformat": 4,
 "nbformat_minor": 5
}
