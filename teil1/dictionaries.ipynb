{
 "cells": [
  {
   "cell_type": "markdown",
   "id": "ec1eb809-4d4b-4747-8474-a0d0ffef53cd",
   "metadata": {},
   "source": [
    "### Dictionaries\n",
    "\n",
    "In einem dictionary können wir uns zu einem Schlüssel (key) einen Wert (value) merken."
   ]
  },
  {
   "cell_type": "code",
   "execution_count": 1,
   "id": "6920c4cd-d8de-4f76-be03-47e5d03251ba",
   "metadata": {},
   "outputs": [
    {
     "name": "stdout",
     "output_type": "stream",
     "text": [
      "12\n"
     ]
    }
   ],
   "source": [
    "m = dict()                    # oder  m = {}        leeres dict   \n",
    "m = {'a':12, 'b': 5, 'c': 7}  # dem key 'a' ist der Wert 12 zugeordnet\n",
    "print(m['a'])                 # lies: m an der Stelle 'a'"
   ]
  },
  {
   "cell_type": "code",
   "execution_count": 2,
   "id": "9b1e830b-94bf-40a7-a6df-5294c152d117",
   "metadata": {},
   "outputs": [
    {
     "name": "stdout",
     "output_type": "stream",
     "text": [
      "{'a': 13, 'b': 5, 'c': 7}\n"
     ]
    }
   ],
   "source": [
    "m['a'] = 13                   # dem key 'a' wird ein neuer Wert zugeordnet\n",
    "print(m)"
   ]
  },
  {
   "cell_type": "code",
   "execution_count": 3,
   "id": "a63128d3-8813-44df-88b8-d3fcc8343c0e",
   "metadata": {},
   "outputs": [
    {
     "name": "stdout",
     "output_type": "stream",
     "text": [
      "{'a': 13, 'b': 5, 'c': 7, 'd': 20}\n"
     ]
    }
   ],
   "source": [
    "m['d'] = 20                  # ein neues key-value Paar wird hinzugefügt\n",
    "print(m)"
   ]
  },
  {
   "cell_type": "code",
   "execution_count": 4,
   "id": "3fd509c7-1257-4762-ba96-cdd97701e1e4",
   "metadata": {},
   "outputs": [
    {
     "name": "stdout",
     "output_type": "stream",
     "text": [
      "4\n"
     ]
    }
   ],
   "source": [
    "print(len(m))                # len zeigt die Anzahl der gespeicherten key-value Paare"
   ]
  },
  {
   "cell_type": "code",
   "execution_count": 5,
   "id": "fe04902b-3cd6-468d-aa1b-085b978cf544",
   "metadata": {},
   "outputs": [
    {
     "name": "stdout",
     "output_type": "stream",
     "text": [
      "{'a': 13, 'b': 5, 'd': 20}\n"
     ]
    }
   ],
   "source": [
    "del(m['c'])                   # einen Eintrag (=key-value Paar) löschen\n",
    "print(m)"
   ]
  },
  {
   "cell_type": "markdown",
   "id": "90166aa6-9a46-4001-95d7-060eb46c13d8",
   "metadata": {},
   "source": [
    "Wenn auf den value eines keys zugreifen wollen, der nicht im dictionary ist, bekommen wir einen Fehler:"
   ]
  },
  {
   "cell_type": "code",
   "execution_count": 6,
   "id": "90d93e21-35c5-4eee-b94d-9873601af915",
   "metadata": {},
   "outputs": [
    {
     "ename": "KeyError",
     "evalue": "'e'",
     "output_type": "error",
     "traceback": [
      "\u001b[1;31m---------------------------------------------------------------------------\u001b[0m",
      "\u001b[1;31mKeyError\u001b[0m                                  Traceback (most recent call last)",
      "Cell \u001b[1;32mIn[6], line 1\u001b[0m\n\u001b[1;32m----> 1\u001b[0m \u001b[38;5;28mprint\u001b[39m(\u001b[43mm\u001b[49m\u001b[43m[\u001b[49m\u001b[38;5;124;43m'\u001b[39;49m\u001b[38;5;124;43me\u001b[39;49m\u001b[38;5;124;43m'\u001b[39;49m\u001b[43m]\u001b[49m)\n",
      "\u001b[1;31mKeyError\u001b[0m: 'e'"
     ]
    }
   ],
   "source": [
    "print(m['e'])"
   ]
  },
  {
   "cell_type": "markdown",
   "id": "71283fa1-6b17-4dcb-9d99-b9d4927c78bc",
   "metadata": {},
   "source": [
    "Wenn wir unsicher sind, ob der key im dictionary ist, können wir das vorher testen:\n"
   ]
  },
  {
   "cell_type": "code",
   "execution_count": 7,
   "id": "9a7ee38a-3ac6-419f-b7f6-8e842076d754",
   "metadata": {},
   "outputs": [
    {
     "name": "stdout",
     "output_type": "stream",
     "text": [
      "e ist kein key des dictionaries\n"
     ]
    }
   ],
   "source": [
    "k = 'e'\n",
    "if k in m:                 # ist k key im dict m ?\n",
    "    print(m[k])\n",
    "else:\n",
    "    print(k,'ist kein key des dictionaries')"
   ]
  },
  {
   "cell_type": "markdown",
   "id": "bfa1d5c9-68a3-4470-96d8-3136369c4dae",
   "metadata": {},
   "source": [
    "Mit einer for-Schleife können wir die keys des dictionaries durchlaufen. Die Reihenfolge beim Durchlauf ist die Einfügereihenfolge."
   ]
  },
  {
   "cell_type": "code",
   "execution_count": 8,
   "id": "7c05bd52-c75b-45c1-b652-6627537549e7",
   "metadata": {},
   "outputs": [
    {
     "name": "stdout",
     "output_type": "stream",
     "text": [
      "c\n",
      "b\n",
      "a\n"
     ]
    }
   ],
   "source": [
    "m = {'c':12, 'b': 5, 'a': 7} \n",
    "for k in m:       \n",
    "    print(k)"
   ]
  },
  {
   "cell_type": "code",
   "execution_count": 9,
   "id": "f9abf0d6-d3d8-4131-b17e-d05eddbaf461",
   "metadata": {},
   "outputs": [
    {
     "name": "stdout",
     "output_type": "stream",
     "text": [
      "['c', 'b', 'a']\n",
      "[12, 5, 7]\n"
     ]
    }
   ],
   "source": [
    "a = list(m.keys())          # alle keys als Liste\n",
    "b = list(m.values())        # alle values als Liste\n",
    "print(a)\n",
    "print(b)"
   ]
  },
  {
   "cell_type": "markdown",
   "id": "64f50528-117d-44f2-939d-67c1b97cc72d",
   "metadata": {},
   "source": [
    "Falls die keys oder values nur aus Zahlen bestehen, können wir die Funktionen max, min, sum anwenden."
   ]
  },
  {
   "cell_type": "code",
   "execution_count": 10,
   "id": "7330c0d3-be6c-4aac-a82c-a9f41c718c47",
   "metadata": {},
   "outputs": [
    {
     "name": "stdout",
     "output_type": "stream",
     "text": [
      "12\n",
      "5\n",
      "24\n"
     ]
    }
   ],
   "source": [
    "print(max(m.values()))\n",
    "print(min(m.values()))\n",
    "print(sum(m.values()))"
   ]
  },
  {
   "cell_type": "markdown",
   "id": "f5e0800f-f504-44cb-81e4-e024dcde34f4",
   "metadata": {},
   "source": [
    "Mit dict-Comprehensions können wir dictionaries aus Listen, ranges oder Strings erstellen, indem wir die for-Schleife in die geschweiften Klammern schreiben."
   ]
  },
  {
   "cell_type": "code",
   "execution_count": 11,
   "id": "21155b6b-554a-4bdc-8fc8-79715277771c",
   "metadata": {},
   "outputs": [
    {
     "name": "stdout",
     "output_type": "stream",
     "text": [
      "{0: 100, 1: 101, 2: 102, 3: 103, 4: 104}\n"
     ]
    }
   ],
   "source": [
    "# ohne Comprehension\n",
    "m = dict()\n",
    "for x in range(5):\n",
    "    m[x] = x + 100\n",
    "print(m)"
   ]
  },
  {
   "cell_type": "code",
   "execution_count": 12,
   "id": "dcb8b6f2-456f-43cc-aace-67648317d275",
   "metadata": {},
   "outputs": [
    {
     "name": "stdout",
     "output_type": "stream",
     "text": [
      "{0: 100, 1: 101, 2: 102, 3: 103, 4: 104}\n"
     ]
    }
   ],
   "source": [
    "# mit Comprehension\n",
    "m = {x : x + 100 for x in range(5)}    \n",
    "print(m)"
   ]
  },
  {
   "cell_type": "code",
   "execution_count": 13,
   "id": "4196ed23-7aaa-40ad-8be6-5af1bcc9081d",
   "metadata": {},
   "outputs": [
    {
     "name": "stdout",
     "output_type": "stream",
     "text": [
      "{4: 8, 6: 12, 10: 20, 14: 28}\n"
     ]
    }
   ],
   "source": [
    "a = [4,6,10,14]\n",
    "m = {x : 2 * x for x in a}           \n",
    "print(m)"
   ]
  },
  {
   "cell_type": "code",
   "execution_count": 14,
   "id": "722c8f18-78d2-4671-8201-59cec4842b7c",
   "metadata": {},
   "outputs": [
    {
     "name": "stdout",
     "output_type": "stream",
     "text": [
      "{'H': 72, 'a': 97, 'b': 98, 'i': 105, 'c': 99, 'h': 104, 't': 116}\n"
     ]
    }
   ],
   "source": [
    "s = 'Habicht'\n",
    "m = {c : ord(c) for c in s}\n",
    "print(m)"
   ]
  },
  {
   "cell_type": "markdown",
   "id": "74f8dc55-4d46-4009-91c6-8d46abd74d1d",
   "metadata": {},
   "source": [
    "-----\n",
    "#### Aufgaben"
   ]
  },
  {
   "cell_type": "code",
   "execution_count": null,
   "id": "35801563-da83-4bef-80ea-b99b360e0ceb",
   "metadata": {},
   "outputs": [],
   "source": [
    "def func1():\n",
    "    '''\n",
    "    Aufgabe 1:\n",
    "    returns: ein dict, dass den Ländern England, Frankreich und Italien ihre Hauptstädte zuordnet\n",
    "\n",
    "    >>> m = func1()\n",
    "    >>> m['England']\n",
    "    'London'\n",
    "\n",
    "    >>> m['Frankreich']\n",
    "    'Paris'\n",
    "\n",
    "    >>> m['Italien']\n",
    "    'Rom'\n",
    "    '''\n",
    "    # your code\n",
    "    \n",
    "    \n",
    "import doctest\n",
    "doctest.run_docstring_examples(func1,globals(),optionflags=doctest.NORMALIZE_WHITESPACE)"
   ]
  },
  {
   "cell_type": "code",
   "execution_count": null,
   "id": "4e824c52-16b2-4250-a0da-01a04b52d0ad",
   "metadata": {},
   "outputs": [],
   "source": [
    "def func2():\n",
    "    '''\n",
    "    Aufgabe 2:\n",
    "    returns: ein dict, dass den Städten London, Paris und Rom ihre Länder zuordnet\n",
    "\n",
    "    >>> m = func2()\n",
    "    >>> m['London']\n",
    "    'England'\n",
    "\n",
    "    >>> m['Paris']\n",
    "    'Frankreich'\n",
    "\n",
    "    >>> m['Rom']\n",
    "    'Italien'\n",
    "    '''\n",
    "\n",
    "    # your code\n",
    "    \n",
    "import doctest\n",
    "doctest.run_docstring_examples(func2,globals(),optionflags=doctest.NORMALIZE_WHITESPACE)"
   ]
  },
  {
   "cell_type": "code",
   "execution_count": null,
   "id": "161e49a4-579a-4b08-b799-419e581d4da7",
   "metadata": {},
   "outputs": [],
   "source": [
    "def func3(m, k):\n",
    "    '''\n",
    "    Aufgabe 3:\n",
    "    m: dictionary, k: Zahl oder String\n",
    "    returns: 'YES', wenn k key in m ist, sonst 'NO'\n",
    "\n",
    "    >>> func3({'a':0, 'b':1},'c')\n",
    "    'NO'\n",
    "\n",
    "    >>> func3({},'a')\n",
    "    'NO'\n",
    "\n",
    "    >>> func3({'a':0, 'b':1},'b')\n",
    "    'YES'\n",
    "    '''\n",
    "\n",
    "    # your code\n",
    " \n",
    "    \n",
    "import doctest\n",
    "doctest.run_docstring_examples(func3,globals(),optionflags=doctest.NORMALIZE_WHITESPACE)"
   ]
  },
  {
   "cell_type": "code",
   "execution_count": null,
   "id": "37c9a9c0-8317-4f5e-ad11-cb59ee3158aa",
   "metadata": {},
   "outputs": [],
   "source": [
    "def func4(k):\n",
    "    '''\n",
    "    Aufgabe 4:\n",
    "    k: positive ganze Zahl\n",
    "    returns: dict, dass jeder geraden Zahl von 1...k 'YES' zuordnet, falls die Zahl gerade, sonst 'NO'\n",
    "\n",
    "    >>> func4(5)\n",
    "    {1: 'NO', 2: 'YES', 3: 'NO', 4: 'YES', 5: 'NO'}\n",
    "\n",
    "    >>> func4(1)\n",
    "    {1: 'NO'}\n",
    "\n",
    "    >>> func4(0)\n",
    "    {}\n",
    "    '''\n",
    "    # your code\n",
    " \n",
    "    \n",
    "import doctest\n",
    "doctest.run_docstring_examples(func4,globals(),optionflags=doctest.NORMALIZE_WHITESPACE)"
   ]
  },
  {
   "cell_type": "code",
   "execution_count": null,
   "id": "2e63edda-1e86-4fb4-9568-8f5b06a1826a",
   "metadata": {},
   "outputs": [],
   "source": [
    "def func5(k):\n",
    "    '''\n",
    "    Aufgabe 5:\n",
    "    k: nicht negative ganze Zahl < 100\n",
    "    returns: dict, dass jeder geraden Zahl von 0...k ihren Abstand zur 100 zuordnet\n",
    "\n",
    "    >>> func5(2)\n",
    "    {0: 100, 1: 99, 2: 98}\n",
    "\n",
    "    >>> func5(0)\n",
    "    {0: 100}\n",
    "\n",
    "    >>> func5(10)\n",
    "    {0: 100, 1: 99, 2: 98, 3: 97, 4: 96, 5: 95, 6: 94, 7: 93, 8: 92, 9: 91, 10: 90}\n",
    "    '''\n",
    "\n",
    "    return {x:100-x for x in range(k+1)}\n",
    "\n",
    " \n",
    "    \n",
    "import doctest\n",
    "doctest.run_docstring_examples(func5,globals(),optionflags=doctest.NORMALIZE_WHITESPACE)"
   ]
  },
  {
   "cell_type": "code",
   "execution_count": null,
   "id": "eef07ee0-80c9-4d78-8132-21ab4810dafc",
   "metadata": {},
   "outputs": [],
   "source": [
    "def func6(m):\n",
    "    '''\n",
    "    Aufgabe 6:\n",
    "    m: dict mit Zahlen als values\n",
    "    returns: Liste mit den keys, deren values größer als 10 sind.\n",
    "\n",
    "    >>> func6({'a':12, 'b':5, 'c': 17})\n",
    "    ['a', 'c']\n",
    "\n",
    "    >>> func6({3:5, 8:15, 10:11})\n",
    "    [8, 10]\n",
    "\n",
    "    >>> func6({3:5, 8:5, 10:1})\n",
    "    []\n",
    "    '''\n",
    "\n",
    "    # your code\n",
    "    \n",
    "import doctest\n",
    "doctest.run_docstring_examples(func6,globals(),optionflags=doctest.NORMALIZE_WHITESPACE)"
   ]
  },
  {
   "cell_type": "code",
   "execution_count": null,
   "id": "dd2048cb-40dc-4058-8f53-0a96313238db",
   "metadata": {},
   "outputs": [],
   "source": [
    "def func7(m, a):\n",
    "    '''\n",
    "    Aufgabe 7:\n",
    "    m: dict mit Zahlen als keys und values\n",
    "    a: Liste mit Zahlen\n",
    "    returns: Summe der values von den Zahlen in a, die in m als key vorkommen.\n",
    "\n",
    "    >>> func7({1:10, 2:20, 3:30}, [1,3])\n",
    "    40    \n",
    "\n",
    "    >>> func7({1:10, 2:20, 3:30}, [7])\n",
    "    0    \n",
    "\n",
    "    >>> func7({3:5, 8:15, 10:11}, [10,3])\n",
    "    16\n",
    "    '''\n",
    "\n",
    "    # your code\n",
    "    \n",
    "import doctest\n",
    "doctest.run_docstring_examples(func7,globals(),optionflags=doctest.NORMALIZE_WHITESPACE)"
   ]
  },
  {
   "cell_type": "code",
   "execution_count": null,
   "id": "6d07241d-cdb2-4628-acdc-24b9f27a8c7e",
   "metadata": {},
   "outputs": [],
   "source": [
    "def func8(m):\n",
    "    '''\n",
    "    Aufgabe 8:\n",
    "    m: dict mit Zahlen als keys und values\n",
    "    returns: Summe aller values minus Summe aller keys\n",
    "\n",
    "    >>> func8({1:10, 2:20, 3:30})\n",
    "    54    \n",
    "\n",
    "    >>> func8({2:10, 10:3})\n",
    "    1  \n",
    "\n",
    "    >>> func8({10:3})\n",
    "    -7\n",
    "    '''\n",
    "\n",
    "    # your code\n",
    "\n",
    "\n",
    "import doctest\n",
    "doctest.run_docstring_examples(func8,globals(),optionflags=doctest.NORMALIZE_WHITESPACE)"
   ]
  },
  {
   "cell_type": "code",
   "execution_count": null,
   "id": "258c81d3-f0c4-4d8f-b553-feb90f689091",
   "metadata": {},
   "outputs": [],
   "source": [
    "def func9(a):\n",
    "    '''\n",
    "    Aufgabe 9:\n",
    "    a: Liste mit Strings\n",
    "    returns: dict, das jedem String s aus a seine Länge zuordnet\n",
    "\n",
    "    >>> func9(['Hallo', 'Habicht'])\n",
    "    {'Hallo': 5, 'Habicht': 7}   \n",
    "\n",
    "    >>> func9(['a', '', 'aaa', 'aaaaaa'])\n",
    "    {'a': 1, '': 0, 'aaa': 3, 'aaaaaa': 6}\n",
    "\n",
    "    '''\n",
    "\n",
    "    # your code}\n",
    "\n",
    "\n",
    "import doctest\n",
    "doctest.run_docstring_examples(func9,globals(),optionflags=doctest.NORMALIZE_WHITESPACE)"
   ]
  },
  {
   "cell_type": "code",
   "execution_count": null,
   "id": "09f2f60e-5202-4fa7-8ea3-c133d04fa258",
   "metadata": {},
   "outputs": [],
   "source": [
    "def func10(s):\n",
    "    '''\n",
    "    Aufgabe 10:\n",
    "    s: String\n",
    "    returns: dict, das jedem Zeichen in s die Häufigkeit seines Vorkommens in s zuordnet\n",
    "\n",
    "    Hinweis: dieser Test funktioniert nur, wenn die Zeichen in der Reihenfolge ihres Auftretens in das dict aufgenommen wurden.\n",
    "    \n",
    "    >>> func10('Tralala')\n",
    "    {'T': 1, 'r': 1, 'a': 3, 'l': 2}\n",
    "\n",
    "    >>> func10('abbcccdddd')\n",
    "    {'a': 1, 'b': 2, 'c': 3, 'd': 4}\n",
    "    '''\n",
    "\n",
    "    # your code\n",
    "\n",
    "\n",
    "import doctest\n",
    "doctest.run_docstring_examples(func10,globals(),optionflags=doctest.NORMALIZE_WHITESPACE)"
   ]
  }
 ],
 "metadata": {
  "kernelspec": {
   "display_name": "Python 3 (ipykernel)",
   "language": "python",
   "name": "python3"
  },
  "language_info": {
   "codemirror_mode": {
    "name": "ipython",
    "version": 3
   },
   "file_extension": ".py",
   "mimetype": "text/x-python",
   "name": "python",
   "nbconvert_exporter": "python",
   "pygments_lexer": "ipython3",
   "version": "3.11.2"
  }
 },
 "nbformat": 4,
 "nbformat_minor": 5
}
