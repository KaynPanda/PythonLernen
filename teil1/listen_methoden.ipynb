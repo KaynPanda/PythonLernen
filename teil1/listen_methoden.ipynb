{
 "cells": [
  {
   "cell_type": "markdown",
   "id": "5681eec4-ad73-4863-af15-fb7fd4907a93",
   "metadata": {},
   "source": [
    "### Funktionen und Methoden bei Listen\n",
    "\n",
    "siehe auch: https://www.w3schools.com/python/python_lists_methods.asp"
   ]
  },
  {
   "cell_type": "code",
   "execution_count": 1,
   "id": "e8a49e22-5135-403f-8d9e-20425041b69e",
   "metadata": {},
   "outputs": [],
   "source": [
    "a = [1,2,3,1,1,2]\n",
    "min(a)      # Minimum in a\n",
    "max(a)      # Maximumm in a\n",
    "sum(a)      # Summe der Elemente in a\n",
    "\n",
    "a.count(1)  # Anzahl von 1en in a\n",
    "x = a.index(3)  # liefert den Index, an dem die 3 in der Liste vorkommt. Fehler, wenn 3 nicht in Liste.\n",
    "4 in a      # True, wenn 4 in Liste a\n",
    "4 not in a  # True, wenn 4 nicht in Liste a \n",
    "x = a.pop()  # entfernt das letzte Element der Liste und weist es x zu.\n",
    "a.reverse()  # In a wird die Reihenfolge der Elemente umgedreht\n",
    "b = sorted(a)                  # b enthält die Elemente von a aufsteigend sortiert\n",
    "b = sorted(a,reverse = True)   # b enthält die Elemente von a absteigend sortiert\n",
    "\n",
    "b = [3,4,5]\n",
    "a = a + b   # a wird um Liste b erweitert"
   ]
  },
  {
   "cell_type": "markdown",
   "id": "4dbaea88-9145-4fb1-81c6-f61f410fb365",
   "metadata": {},
   "source": [
    "#### Beispiele"
   ]
  },
  {
   "cell_type": "code",
   "execution_count": 2,
   "id": "05d315be-f318-4355-9e03-ee30eddb9e2c",
   "metadata": {},
   "outputs": [
    {
     "name": "stdout",
     "output_type": "stream",
     "text": [
      "9\n"
     ]
    }
   ],
   "source": [
    "a = [14,9,20]\n",
    "print(min(a))     # Minimum in a"
   ]
  },
  {
   "cell_type": "code",
   "execution_count": 3,
   "id": "d217b2a3-51ff-40e0-853b-4dd92d70a67e",
   "metadata": {},
   "outputs": [
    {
     "name": "stdout",
     "output_type": "stream",
     "text": [
      "20\n"
     ]
    }
   ],
   "source": [
    "a = [14,9,20]\n",
    "print(max(a))     # Minimum in a"
   ]
  },
  {
   "cell_type": "code",
   "execution_count": 4,
   "id": "929a68a5-b44d-4e4e-991c-0c987619108e",
   "metadata": {},
   "outputs": [
    {
     "name": "stdout",
     "output_type": "stream",
     "text": [
      "6\n"
     ]
    }
   ],
   "source": [
    "a = [1,2,3]\n",
    "print(sum(a))     # Die Summe aller Elemente in a"
   ]
  },
  {
   "cell_type": "code",
   "execution_count": 5,
   "id": "840da386-6c1b-48a0-a412-38d3f2c2a2c0",
   "metadata": {},
   "outputs": [
    {
     "name": "stdout",
     "output_type": "stream",
     "text": [
      "3\n"
     ]
    }
   ],
   "source": [
    "a = [1,2,3,1,1,2]\n",
    "print(a.count(1))   # Anzahl der Vorkommen"
   ]
  },
  {
   "cell_type": "code",
   "execution_count": 6,
   "id": "778620ad-40f2-441d-8a3c-14c2a072f430",
   "metadata": {},
   "outputs": [
    {
     "name": "stdout",
     "output_type": "stream",
     "text": [
      "2\n"
     ]
    }
   ],
   "source": [
    "a = [1,2,3,1,1,3,2]\n",
    "k = a.index(3)     # Der erste Index, an dem die Liste eine 3 enthält\n",
    "print(k)"
   ]
  },
  {
   "cell_type": "markdown",
   "id": "b08548f1-2b55-4765-b48b-676089fe372a",
   "metadata": {},
   "source": [
    "Die Methode *index* erzeugt einen Fehler, wenn das Element nicht in der Liste vorkommt. Deswegen sollte man vorher immer sicherstellen, dass das Element vorhanden ist:"
   ]
  },
  {
   "cell_type": "code",
   "execution_count": 7,
   "id": "31ef7bdb-4cc2-4dc1-8ecb-975f8020be42",
   "metadata": {},
   "outputs": [
    {
     "name": "stdout",
     "output_type": "stream",
     "text": [
      "4 nicht in Liste\n"
     ]
    }
   ],
   "source": [
    "a = [1,2,3,1,1,3,2]\n",
    "x = 4\n",
    "if x in a:             # ist Element in Liste vorhanden ?\n",
    "    k = a.index(x)\n",
    "    print(k)\n",
    "else:\n",
    "    print(x, 'nicht in Liste')"
   ]
  },
  {
   "cell_type": "code",
   "execution_count": 8,
   "id": "caa3b205-ebb6-4cf8-91c2-d813e482eeb9",
   "metadata": {},
   "outputs": [
    {
     "name": "stdout",
     "output_type": "stream",
     "text": [
      "8 [1, 3]\n"
     ]
    }
   ],
   "source": [
    "a = [1,3,8]\n",
    "x = a.pop()        # das letzte Element in a wird entfernt und dem x zugewiesen\n",
    "print(x, a)\n"
   ]
  },
  {
   "cell_type": "code",
   "execution_count": 9,
   "id": "e530c61d-8021-4f89-ab2b-c2dc0440e788",
   "metadata": {},
   "outputs": [
    {
     "name": "stdout",
     "output_type": "stream",
     "text": [
      "[2, 8, 3, 1]\n"
     ]
    }
   ],
   "source": [
    "a = [1,3,8,2]   \n",
    "a.reverse()       # Reihenfolge umdrehen   \n",
    "print(a)\n"
   ]
  },
  {
   "cell_type": "code",
   "execution_count": 10,
   "id": "c98b7bf8-ae8b-4bb7-b241-d9eb978e383f",
   "metadata": {},
   "outputs": [
    {
     "name": "stdout",
     "output_type": "stream",
     "text": [
      "[1, 2, 3, 8]\n"
     ]
    }
   ],
   "source": [
    "a = [1,3,8,2]     \n",
    "b = sorted(a)     # b enthält die Elemente von a aufsteigend sortiert\n",
    "print(b)"
   ]
  },
  {
   "cell_type": "code",
   "execution_count": 11,
   "id": "670554b8-86b5-4e25-b05c-411055b6e33c",
   "metadata": {},
   "outputs": [
    {
     "name": "stdout",
     "output_type": "stream",
     "text": [
      "[8, 3, 2, 1]\n"
     ]
    }
   ],
   "source": [
    "a = [1,3,8,2]     \n",
    "a.sort(reverse=True)    # b enthält die Elemente von a absteigend sortiert\n",
    "print(a)"
   ]
  },
  {
   "cell_type": "code",
   "execution_count": 12,
   "id": "e7cb199c-32c4-43b1-9d7e-9268fea22837",
   "metadata": {},
   "outputs": [
    {
     "name": "stdout",
     "output_type": "stream",
     "text": [
      "[1, 3, 8, 2, 4, 5]\n"
     ]
    }
   ],
   "source": [
    "a = [1,3,8,2]     \n",
    "b = [4,5]\n",
    "c = a + b         # die beiden Listen werden aneinandergepappt\n",
    "print(c)       "
   ]
  },
  {
   "cell_type": "markdown",
   "id": "931bd69d-65af-454b-a4a8-62ea44c75d8f",
   "metadata": {},
   "source": [
    "------\n",
    "#### Aufgaben"
   ]
  },
  {
   "cell_type": "code",
   "execution_count": null,
   "id": "88c1a519-dd47-4964-8bf3-ebcccc55bad2",
   "metadata": {},
   "outputs": [],
   "source": [
    "def func1(a):\n",
    "    '''\n",
    "    Aufgabe 1:\n",
    "    a: Liste mit Zahlen\n",
    "    returns: die Differenz zwischen dem größten und kleinsten Element\n",
    "    \n",
    "    >>> func1([3,7,9])\n",
    "    6\n",
    "\n",
    "    >>> func1([-10,7,4,17])\n",
    "    27\n",
    "\n",
    "    '''\n",
    "    # your code\n",
    "\n",
    "import doctest\n",
    "doctest.run_docstring_examples(func1,globals(),optionflags=doctest.NORMALIZE_WHITESPACE)"
   ]
  },
  {
   "cell_type": "code",
   "execution_count": null,
   "id": "9012561f-774e-403f-ad5f-0bdf00a43733",
   "metadata": {},
   "outputs": [],
   "source": [
    "def func2(a, x):\n",
    "    '''\n",
    "    Aufgabe 2:\n",
    "    a: Liste mit Zahlen, x: Zahl\n",
    "    returns: 'YES', wenn x größer als alle Zahlen in a ist, sonst 'NO'\n",
    "    \n",
    "    >>> func2([3,4,5],5)\n",
    "    'NO'\n",
    "\n",
    "    >>> func2([3,4,5],6)\n",
    "    'YES'\n",
    "    '''\n",
    "    # your code\n",
    "\n",
    "import doctest\n",
    "doctest.run_docstring_examples(func2,globals(),optionflags=doctest.NORMALIZE_WHITESPACE)"
   ]
  },
  {
   "cell_type": "code",
   "execution_count": null,
   "id": "3de6695a-f971-4bb7-bf7a-7f09ee25d6b8",
   "metadata": {},
   "outputs": [],
   "source": [
    "def func3(a):\n",
    "    '''\n",
    "    Aufgabe 3:\n",
    "    a: Liste mit Zahlen \n",
    "    returns: 'YES', wenn die Summe aller Elemente von a größer ist als das\n",
    "              Doppelte der größten Zahl in a, sonst 'NO'.\n",
    "    \n",
    "    >>> func3([1,1,1,5,2])\n",
    "    'NO'\n",
    "\n",
    "    >>> func3([2,1,1,5,2])\n",
    "    'YES'\n",
    "    '''\n",
    "    # your code\n",
    "\n",
    "import doctest\n",
    "doctest.run_docstring_examples(func3,globals(),optionflags=doctest.NORMALIZE_WHITESPACE)"
   ]
  },
  {
   "cell_type": "code",
   "execution_count": null,
   "id": "650e0223-7752-4e57-84cb-c146a6c77c23",
   "metadata": {},
   "outputs": [],
   "source": [
    "def func4(a):\n",
    "    '''\n",
    "    Aufgabe 4:\n",
    "    a: Liste mit Zahlen \n",
    "    returns: gib den Durchschnittswert der Zahlen in a zurück\n",
    "    (Durchschnitt = Summe der Zahlen / Anzahl der Zahlen)\n",
    "\n",
    "    >>> func4([1,2,3])\n",
    "    2.0\n",
    "    \n",
    "    >>> func4([3,4,7,8,9])\n",
    "    6.2\n",
    "    '''\n",
    "    # your code\n",
    "\n",
    "import doctest\n",
    "doctest.run_docstring_examples(func4,globals(),optionflags=doctest.NORMALIZE_WHITESPACE)"
   ]
  },
  {
   "cell_type": "code",
   "execution_count": null,
   "id": "9163c1c8-cdc9-458d-8a85-af2f0abd470e",
   "metadata": {},
   "outputs": [],
   "source": [
    "def func5(a, x, k):\n",
    "    '''\n",
    "    Aufgabe 5:\n",
    "    a: Liste mit Zahlen , x, k: Zahlen\n",
    "    returns: 'YES' wenn die Zahl x höchstens k-mal in a vorkommt, sonst 'NO'\n",
    "\n",
    "    >>> func5([1,1,1,4,4],1,2)\n",
    "    'NO'\n",
    "    \n",
    "    >>> func5([1,1,1,4,4,4],4,3)\n",
    "    'YES'\n",
    "    '''\n",
    "    # your code\n",
    "\n",
    "import doctest\n",
    "doctest.run_docstring_examples(func5,globals(),optionflags=doctest.NORMALIZE_WHITESPACE)"
   ]
  },
  {
   "cell_type": "code",
   "execution_count": null,
   "id": "30aa7aec-98e9-4abd-8e73-d411a3c9e70b",
   "metadata": {},
   "outputs": [],
   "source": [
    "def func6(a, x, y):\n",
    "    '''\n",
    "    Aufgabe 6:\n",
    "    a: Liste mit Zahlen , x, y: Zahlen\n",
    "    returns: 'YES' wenn die Zahl x in a vor der Zahl y vorkommt, sonst 'NO'\n",
    "\n",
    "    >>> func6([1,2,3,4],0,3)\n",
    "    'NO'\n",
    "    \n",
    "    >>> func6([1,2,3,4],1,3)\n",
    "    'YES'\n",
    "\n",
    "    >>> func6([1,2,3,4],4,3)\n",
    "    'NO'\n",
    "    '''\n",
    "    # your code\n",
    "\n",
    "\n",
    "import doctest\n",
    "doctest.run_docstring_examples(func6,globals(),optionflags=doctest.NORMALIZE_WHITESPACE)"
   ]
  },
  {
   "cell_type": "code",
   "execution_count": null,
   "id": "9da7cc24-d8a4-4ffc-bd6c-4ae8c807c83b",
   "metadata": {},
   "outputs": [],
   "source": [
    "def func7(a):\n",
    "    '''\n",
    "    Aufgabe 7:\n",
    "    a: Liste mit Zahlen  \n",
    "    returns: a, entfernt von hinten alle Elemente von a, bis eine 0 kommt. Die 0 wird nicht mehr entfernt.\n",
    "    Nutze hier die Methode pop() mit einer while-Schleife.\n",
    "\n",
    "    >>> func7([3,2,5,0,3,4])\n",
    "    [3, 2, 5, 0]\n",
    "\n",
    "    >>> func7([1,2,0,1,2,0,1,2])\n",
    "    [1, 2, 0, 1, 2, 0]\n",
    "    \n",
    "    >>> func7([3,2,5,3,4])\n",
    "    []\n",
    "\n",
    "    >>> func7([1,2,0])\n",
    "    [1, 2, 0]\n",
    "    '''\n",
    "    # your code\n",
    "\n",
    "\n",
    "import doctest\n",
    "doctest.run_docstring_examples(func7,globals(),optionflags=doctest.NORMALIZE_WHITESPACE)"
   ]
  },
  {
   "cell_type": "code",
   "execution_count": null,
   "id": "c5ce3f62-4d40-4000-9bf5-005340a23553",
   "metadata": {},
   "outputs": [],
   "source": [
    "def func8(a):\n",
    "    '''\n",
    "    Aufgabe 8:\n",
    "    a: Liste mit Zahlen  \n",
    "    returns: Liste b mit allen geraden Zahlen von a in umgedrehter Reihenfolge\n",
    "     \n",
    "\n",
    "    >>> func8([1,2,3,4,5,6])\n",
    "    [6, 4, 2]\n",
    "\n",
    "    >>> func8([3,3,4,1,2,7,8])\n",
    "    [8, 2, 4]\n",
    "    \n",
    "    >>> func8([1,3,9])\n",
    "    []\n",
    "\n",
    "    '''\n",
    "    # your code\n",
    "\n",
    "import doctest\n",
    "doctest.run_docstring_examples(func8,globals(),optionflags=doctest.NORMALIZE_WHITESPACE)"
   ]
  },
  {
   "cell_type": "code",
   "execution_count": null,
   "id": "0fb85e20-56d3-42d4-bf15-44bbffed5eb1",
   "metadata": {},
   "outputs": [],
   "source": [
    "def func9(a):\n",
    "    '''\n",
    "    Aufgabe 9:\n",
    "    a: Liste mit Zahlen  \n",
    "    returns: Liste b mit allen Zahlen von a aufwärts, dann abwärts sortiert\n",
    "     \n",
    "\n",
    "    >>> func9([4,2,9])\n",
    "    [2, 4, 9, 9, 4, 2]\n",
    "\n",
    "    >>> func9([9,1,5,0])\n",
    "    [0, 1, 5, 9, 9, 5, 1, 0]\n",
    "    \n",
    "    >>> func9([1,1])\n",
    "    [1, 1, 1, 1]\n",
    "\n",
    "    '''\n",
    "    # your code\n",
    "\n",
    "import doctest\n",
    "doctest.run_docstring_examples(func9,globals(),optionflags=doctest.NORMALIZE_WHITESPACE)"
   ]
  }
 ],
 "metadata": {
  "kernelspec": {
   "display_name": "Python 3 (ipykernel)",
   "language": "python",
   "name": "python3"
  },
  "language_info": {
   "codemirror_mode": {
    "name": "ipython",
    "version": 3
   },
   "file_extension": ".py",
   "mimetype": "text/x-python",
   "name": "python",
   "nbconvert_exporter": "python",
   "pygments_lexer": "ipython3",
   "version": "3.11.2"
  }
 },
 "nbformat": 4,
 "nbformat_minor": 5
}
