{
 "cells": [
  {
   "cell_type": "markdown",
   "id": "b740b3c4-95bb-4e7f-a940-74763a8f6edc",
   "metadata": {},
   "source": [
    "### Listen\n",
    "Listen sind angeordnete Folgen von Elementen auf die wir durch einen Index zugreifen können. Wir können sie mit\n",
    "den eckigen Klammern erzeugen.\n",
    " "
   ]
  },
  {
   "cell_type": "code",
   "execution_count": 1,
   "id": "f9d3fd63-9ef1-4aea-9288-67935648ca2f",
   "metadata": {},
   "outputs": [
    {
     "name": "stdout",
     "output_type": "stream",
     "text": [
      "[]\n"
     ]
    }
   ],
   "source": [
    "a = []    # eine leere Liste\n",
    "print(a)"
   ]
  },
  {
   "cell_type": "markdown",
   "id": "3e69c053-048f-419f-b0e4-7bd6c8aef99e",
   "metadata": {},
   "source": [
    "Die einzelnen Listenelemente werden innerhalb der eckigen Klammern mit Komma getrennt. Die Funktion *len()* gibt uns die Länge der Liste aus, d.h. die Anzahl der Listenelemente."
   ]
  },
  {
   "cell_type": "code",
   "execution_count": 2,
   "id": "934d829e-5719-4278-a9df-4d19da5a24ce",
   "metadata": {},
   "outputs": [
    {
     "name": "stdout",
     "output_type": "stream",
     "text": [
      "[1, 2, 3]\n",
      "3\n"
     ]
    }
   ],
   "source": [
    "a = [1,2,3]   # eine Liste mit 3 Elementen\n",
    "print(a)\n",
    "print(len(a))\n"
   ]
  },
  {
   "cell_type": "markdown",
   "id": "83b76a1d-3dd8-47f7-98f9-64a5ae387251",
   "metadata": {},
   "source": [
    "Wir können auf die Listenelemente mit einem Index zugreifen. Das erste Element hat den Index 0. ```a[1]``` (a an der Stelle 1) ist das zweite Element der Liste."
   ]
  },
  {
   "cell_type": "code",
   "execution_count": 3,
   "id": "eae6cd2c-4f32-46ce-a941-c902c1c17646",
   "metadata": {},
   "outputs": [
    {
     "name": "stdout",
     "output_type": "stream",
     "text": [
      "2\n"
     ]
    }
   ],
   "source": [
    "a = [1,2,3]   # eine Liste mit 3 Elementen\n",
    "print(a[1])   # a an der Stelle 1 ist das zweite Element der Liste "
   ]
  },
  {
   "cell_type": "markdown",
   "id": "3f39b8a4-5e40-49b1-8c4a-3ff1d8ddc4fb",
   "metadata": {},
   "source": [
    "Wir können die Listenelemente verändern, in dem wir der Liste an einer Stelle einen neuen Wert zuweisen."
   ]
  },
  {
   "cell_type": "code",
   "execution_count": 4,
   "id": "a3f7a05e-dd53-4ffe-8f2a-31ef28ac4a5a",
   "metadata": {},
   "outputs": [
    {
     "name": "stdout",
     "output_type": "stream",
     "text": [
      "[1, 4, 3]\n"
     ]
    }
   ],
   "source": [
    "a = [1,2,3]   \n",
    "a[1] = 4\n",
    "print(a)"
   ]
  },
  {
   "cell_type": "markdown",
   "id": "6faee03a-0c2f-4d97-a9d0-4ed7470e76fd",
   "metadata": {},
   "source": [
    "Mit append können wir am Ende der Liste einen neuen Wert einfügen.\n"
   ]
  },
  {
   "cell_type": "code",
   "execution_count": 5,
   "id": "27d75d1c-040e-46aa-af27-719a0c84122e",
   "metadata": {},
   "outputs": [
    {
     "name": "stdout",
     "output_type": "stream",
     "text": [
      "[1, 2, 3, 4]\n"
     ]
    }
   ],
   "source": [
    "a = [1,2,3] \n",
    "a.append(4)\n",
    "print(a)"
   ]
  },
  {
   "cell_type": "code",
   "execution_count": null,
   "id": "601bf1aa-304e-4052-b6ba-d43245c631b1",
   "metadata": {},
   "outputs": [],
   "source": [
    "'''\n",
    "Aufgabe 1:\n",
    "Erstelle die Liste a\n",
    "\n",
    "Die zwei Zeilen unten bedeuten: \n",
    "Wenn wir print(a) ausführen, soll [1,-1,0] ausgegeben werden\n",
    "\n",
    "\n",
    ">>> print(a)\n",
    "[1,-1,0]  \n",
    "'''\n",
    "# your code        \n",
    "print(a)"
   ]
  },
  {
   "cell_type": "code",
   "execution_count": null,
   "id": "2171ba53-c9b9-438a-8741-2094a2899d02",
   "metadata": {},
   "outputs": [],
   "source": [
    "'''\n",
    "Aufgabe 2:\n",
    "Erstelle eine Liste a mit Länge 4\n",
    "\n",
    ">>> print(len(a))\n",
    "4\n",
    "'''\n",
    "# your code        \n",
    "print(len(a))"
   ]
  },
  {
   "cell_type": "code",
   "execution_count": null,
   "id": "92bb8afe-e23b-4b66-9ae4-ba15c1e4adbb",
   "metadata": {},
   "outputs": [],
   "source": [
    "'''\n",
    "Aufgabe 3:\n",
    "Verändere die Liste a durch Zuweisung neuer Werte so, dass die gewünschte Ausgabe erscheint.\n",
    "\n",
    ">>> print(a)\n",
    "[1, -1, 3, 4, 7, 6]\n",
    "'''\n",
    "# your code   \n",
    "print(a)\n",
    " "
   ]
  },
  {
   "cell_type": "code",
   "execution_count": null,
   "id": "8653cb52-0411-452b-a4a7-5c2ede140b71",
   "metadata": {},
   "outputs": [],
   "source": [
    "'''\n",
    "Aufgabe 4:\n",
    "Lies eine positive Zahl k ein und erstelle eine Liste mit Werten von 1 bis k und gib sie aus\n",
    "Nutze dazu eine for-Schleife und append.\n",
    "\n",
    "Beispieldialoge:\n",
    "\n",
    "Bitte eine Zahl eingeben: 7\n",
    "[1, 2, 3, 4, 5, 6, 7]\n",
    "\n",
    "Bitte eine Zahl eingeben: 1\n",
    "[1]\n",
    "'''\n",
    "# your code   "
   ]
  },
  {
   "cell_type": "code",
   "execution_count": null,
   "id": "945b405d-236f-4c8c-b771-1d9257d332e6",
   "metadata": {},
   "outputs": [],
   "source": [
    "'''\n",
    "Aufgabe 5:\n",
    "Lies in einer Zeile zwei Zahlen x und k ein. Erzeuge eine Liste in der\n",
    "x k-mal vorkommt.\n",
    "\n",
    "Beispieldialoge:\n",
    "\n",
    "Bitte zwei Zahlen eingeben: 3 7\n",
    "[3, 3, 3, 3, 3, 3, 3]\n",
    "\n",
    "Bitte zwei Zahlen eingeben: 7 3\n",
    "[7, 7, 7]\n",
    "'''\n",
    "# your code   "
   ]
  },
  {
   "cell_type": "code",
   "execution_count": null,
   "id": "d54f1d59-dd8b-412b-bc2e-b9bb3c7338bb",
   "metadata": {},
   "outputs": [],
   "source": [
    "'''\n",
    "Aufgabe 6:\n",
    "Lies zwei ganze Zahlen ein und gib eine Liste aus die mit der ersten Zahl beginnt und\n",
    "mit der zweiten Zahl endet.\n",
    "\n",
    "Beispieldialoge:\n",
    "\n",
    "Bitte zwei Zahlen eingeben: 4 8\n",
    "[4, 5, 6, 7, 8]\n",
    "\n",
    "Bitte zwei Zahlen eingeben: -4 9\n",
    "[-4, -3, -2, -1, 0, 1, 2, 3, 4, 5, 6, 7, 8, 9]\n",
    "\n",
    "Bitte zwei Zahlen eingeben: 9 4\n",
    "[9, 8, 7, 6, 5, 4]\n",
    "\n",
    "Bitte zwei Zahlen eingeben: 0 -5\n",
    "[0, -1, -2, -3, -4, -5]\n",
    "'''\n",
    "# your code"
   ]
  },
  {
   "cell_type": "markdown",
   "id": "432c5177-5c28-4162-a46b-00b78076dec1",
   "metadata": {},
   "source": [
    "#### Input mit vielen Zahlen\n",
    "Wenn uns eine input-Zeile mehrere Zahlen liefert, können wir eine Liste mit diesen Zahlen erstellen.\n"
   ]
  },
  {
   "cell_type": "code",
   "execution_count": 6,
   "id": "6bc52262-97e3-4ab1-994c-8b3cd24c31d8",
   "metadata": {},
   "outputs": [
    {
     "name": "stdin",
     "output_type": "stream",
     "text": [
      "Bitte eine Folge von Zahlen eingeben: 1 2 3 \n"
     ]
    },
    {
     "name": "stdout",
     "output_type": "stream",
     "text": [
      "[1, 2, 3]\n"
     ]
    }
   ],
   "source": [
    "s = input('Bitte eine Folge von Zahlen eingeben:')\n",
    "a = []\n",
    "for x in s.split():          # Diese Art der for-Schleife betrachten wir später genauer\n",
    "    a.append(int(x))\n",
    "print(a)"
   ]
  },
  {
   "cell_type": "code",
   "execution_count": null,
   "id": "b62fdb05-d9b5-4b28-a238-837dba155f9f",
   "metadata": {},
   "outputs": [],
   "source": [
    "'''\n",
    "Aufgabe 7:\n",
    "Lies eine Folge von Zahlen ein und erstelle daraus eine Liste a. Ersetze in a alle geraden Zahlen mit einer 1 und alle\n",
    "ungeraden Zahlen mit einer 0\n",
    "\n",
    "Beispieldialoge:\n",
    "\n",
    "Bitte eine Folge von Zahlen eingeben: 4 3 3 6 7\n",
    "[1, 0, 0, 1, 0]\n",
    "\n",
    "Bitte eine Folge von Zahlen eingeben: 1 2 3 2 0\n",
    "[0, 1, 0, 1, 1]\n",
    "\n",
    "Bitte eine Folge von Zahlen eingeben: 7\n",
    "[0]\n",
    "\n",
    "'''\n",
    "# your code\n",
    "    "
   ]
  },
  {
   "cell_type": "code",
   "execution_count": null,
   "id": "5b5158b5-a4d7-4888-9ac9-6ca91347a035",
   "metadata": {},
   "outputs": [],
   "source": [
    "'''\n",
    "Aufgabe 8:\n",
    "Lies eine Folge von Zahlen ein. Gib dann eine Liste aus mit jeweils \n",
    "dem doppelten der eingegeben Zahlen.\n",
    "\n",
    "\n",
    "Beispieldialoge:\n",
    "\n",
    "Bitte eine Folge von Zahlen eingeben: 1 2 3\n",
    "[2, 4, 6]\n",
    "\n",
    "Bitte eine Folge von Zahlen eingeben: 0 5 6 10\n",
    "[0, 10, 12, 20]\n",
    "\n",
    "'''\n",
    "# your code"
   ]
  },
  {
   "cell_type": "code",
   "execution_count": null,
   "id": "01013f5b-de8e-4aec-8dab-be39e46e3bf7",
   "metadata": {},
   "outputs": [],
   "source": [
    "'''\n",
    "Aufgabe 9:\n",
    "Lies eine Folge von Zahlen ein. Gib dann eine Liste aus mit abwechselnd\n",
    "dem doppelten und dem dreifachen der eingegeben Zahlen.\n",
    " \n",
    "\n",
    "Beispieldialoge:\n",
    "\n",
    "Bitte eine Folge von Zahlen eingeben: 1 1 1 1 1\n",
    "[2, 3, 2, 3, 2]\n",
    "\n",
    "Bitte eine Folge von Zahlen eingeben: 1 2 3 4\n",
    "[2, 6, 6, 12]\n",
    "\n",
    "'''\n",
    "# your code"
   ]
  },
  {
   "cell_type": "code",
   "execution_count": null,
   "id": "daef133c-4ebe-4270-b4df-0a9f45368f1b",
   "metadata": {},
   "outputs": [],
   "source": [
    "'''\n",
    "Aufgabe 10:\n",
    "Lies eine Folge von mindestend 2 Zahlen ein.\n",
    "Erzeuge dann eine Liste mit den Summen zweier aufeinanderfolgender Zahlen.\n",
    "Wenn die Liste weniger als 2 Elemente enthält, gib aus: 'zu kurz'\n",
    "\n",
    "Beispieldialoge:\n",
    "\n",
    "Bitte eine Folge von Zahlen eingeben: 1 2 3\n",
    "[3, 5]\n",
    "\n",
    "Bitte eine Folge von Zahlen eingeben: 3 3 3 4 4 4 \n",
    "[6, 6, 7, 8, 8]\n",
    "\n",
    "Bitte eine Folge von Zahlen eingeben: 7\n",
    "zu kurz\n",
    "\n",
    "'''\n",
    "# your code\n",
    "\n"
   ]
  },
  {
   "cell_type": "markdown",
   "id": "84212cf0-cab2-47f7-a2d9-d229b57ac947",
   "metadata": {},
   "source": [
    "### Slicing bei Listen\n",
    "\n",
    "Slicing bei Listen nennt man das Bilden von Teillisten aus einer Liste. Es funktioniert ähnlich wie bei Strings.\n",
    "Wie bei Strings kann man auch auf Listenelemente mit negativen Indizes zugreifen."
   ]
  },
  {
   "cell_type": "code",
   "execution_count": 7,
   "id": "c1745481-3c03-48f0-9bc6-90b43a785411",
   "metadata": {},
   "outputs": [
    {
     "name": "stdout",
     "output_type": "stream",
     "text": [
      "6\n",
      "5\n"
     ]
    }
   ],
   "source": [
    "a = [1, 2, 3, 4, 5, 6]\n",
    "print(a[-1])   # das letzte Element\n",
    "print(a[-2])   # das vorletzte Element"
   ]
  },
  {
   "cell_type": "code",
   "execution_count": 8,
   "id": "5225fa74-0e50-466d-b8dd-5d96aca5ac79",
   "metadata": {},
   "outputs": [
    {
     "name": "stdout",
     "output_type": "stream",
     "text": [
      "[1, 2]\n"
     ]
    }
   ],
   "source": [
    "a = [1, 2, 3, 4, 5, 6]\n",
    "b = a[:2]        # vom Anfang bis zur Stelle 2 (ausschließlich)\n",
    "print(b)"
   ]
  },
  {
   "cell_type": "code",
   "execution_count": 9,
   "id": "579b6b58-a111-4fb6-8ce3-4aefb5686a6c",
   "metadata": {},
   "outputs": [
    {
     "name": "stdout",
     "output_type": "stream",
     "text": [
      "[3, 4, 5, 6]\n"
     ]
    }
   ],
   "source": [
    "a = [1, 2, 3, 4, 5, 6]\n",
    "b = a[2:]        # vom der Stelle 2 bis zum Schluß\n",
    "print(b)"
   ]
  },
  {
   "cell_type": "code",
   "execution_count": 10,
   "id": "24d11470-ccf7-4d1c-b3b1-1fdc58ac583a",
   "metadata": {},
   "outputs": [
    {
     "name": "stdout",
     "output_type": "stream",
     "text": [
      "[3, 4, 5]\n"
     ]
    }
   ],
   "source": [
    "a = [1, 2, 3, 4, 5, 6]\n",
    "b = a[2:5]        # vom der Stelle 2 bis zur Stelle 5 (ausschließlich)\n",
    "print(b)"
   ]
  },
  {
   "cell_type": "code",
   "execution_count": 11,
   "id": "d377d7ec-140b-471f-a3a8-d066e9fcc483",
   "metadata": {},
   "outputs": [
    {
     "name": "stdout",
     "output_type": "stream",
     "text": [
      "[1, 3, 5, 7]\n"
     ]
    }
   ],
   "source": [
    "a = [1, 2, 3, 4, 5, 6, 7, 8]\n",
    "b = a[::2]        # von Anfang bis Ende, jede zweite Stelle \n",
    "print(b)"
   ]
  },
  {
   "cell_type": "code",
   "execution_count": 12,
   "id": "c6c1014e-f37c-47de-8559-e7aa73362135",
   "metadata": {},
   "outputs": [
    {
     "name": "stdout",
     "output_type": "stream",
     "text": [
      "[8, 7, 6, 5, 4, 3, 2, 1]\n"
     ]
    }
   ],
   "source": [
    "a = [1, 2, 3, 4, 5, 6, 7, 8]\n",
    "b = a[::-1]        # alles rückwärts\n",
    "print(b)"
   ]
  },
  {
   "cell_type": "code",
   "execution_count": 13,
   "id": "c6f0fa4c-94f6-4687-8f67-379b877a567a",
   "metadata": {},
   "outputs": [
    {
     "name": "stdout",
     "output_type": "stream",
     "text": [
      "[7, 6, 5, 4, 3, 2]\n"
     ]
    }
   ],
   "source": [
    "a = [1, 2, 3, 4, 5, 6, 7, 8]\n",
    "b = a[-2:0:-1]        # vom vorletzten Element bis zur Stelle 1, rückwärts\n",
    "print(b)"
   ]
  },
  {
   "cell_type": "code",
   "execution_count": null,
   "id": "f6fd48e4-ebfa-45d8-9524-c2500a9f995a",
   "metadata": {},
   "outputs": [],
   "source": [
    "'''\n",
    "Aufgabe 11:\n",
    "Lies eine Folge von Zahlen ein\n",
    "Gib alle Teillisten aus, die bis zum Ende gehen.\n",
    "\n",
    "Beispieldialoge:\n",
    "\n",
    "Bitte eine Folge von Zahlen eingeben: 3 4 5 2 8\n",
    "[3, 4, 5, 2, 8]\n",
    "[4, 5, 2, 8]\n",
    "[5, 2, 8]\n",
    "[2, 8]\n",
    "[8]\n",
    "\n",
    "'''\n",
    "# your code\n"
   ]
  },
  {
   "cell_type": "code",
   "execution_count": null,
   "id": "4e92e66f-01e4-4e83-bef7-d542a3a98437",
   "metadata": {},
   "outputs": [],
   "source": [
    "'''\n",
    "Aufgabe 12:\n",
    "Lies eine Folge von Zahlen ein\n",
    "Gib alle Teillisten aus, die mit 3 beginnen und bis zum Ende gehen.\n",
    "\n",
    "Beispieldialoge:\n",
    "\n",
    "Bitte eine Folge von Zahlen eingeben: 3 4 5 3 1 2 3 3 \n",
    "[3, 4, 5, 3, 1, 2, 3, 3]\n",
    "[3, 1, 2, 3, 3]\n",
    "[3, 3]\n",
    "[3]\n",
    "\n",
    "'''\n",
    "# your code\n",
    "        "
   ]
  },
  {
   "cell_type": "code",
   "execution_count": null,
   "id": "c10402b3-9e3d-45c4-a170-d33185bc41ec",
   "metadata": {},
   "outputs": [],
   "source": [
    "'''\n",
    "Aufgabe 13:\n",
    "Lies eine Folge von Zahlen ein\n",
    "Erstelle eine Liste in umgekehrter Reihenfolge, aber ohne erstes Element\n",
    "\n",
    "Beispieldialoge:\n",
    "\n",
    "Bitte eine Folge von Zahlen eingeben: 1 2 3 4\n",
    "[4, 3, 2]\n",
    "\n",
    "Bitte eine Folge von Zahlen eingeben: 9\n",
    "[]\n",
    "\n",
    "Bitte eine Folge von Zahlen eingeben: 10 6 3 8 2\n",
    "[2, 8, 3, 6]\n",
    "\n",
    "'''\n",
    "# your code"
   ]
  },
  {
   "cell_type": "code",
   "execution_count": null,
   "id": "53a30bf2-38f7-48a3-872f-a679f68da0a2",
   "metadata": {},
   "outputs": [],
   "source": [
    "'''\n",
    "Aufgabe 14:\n",
    "Lies eine Folge von Zahlen ein und eine Zahl k.\n",
    "Gib eine Liste aus, bei der von den Zahlen hinten und vorne genau k fehlen.\n",
    "\n",
    "Beispieldialoge:\n",
    "\n",
    "Bitte eine Folge von Zahlen eingeben: 1 2 3 4 5\n",
    "Bitte eine Zahl eingeben: 1\n",
    "[2, 3, 4]\n",
    "\n",
    "Bitte eine Folge von Zahlen eingeben: 1 2 3 4 5 6 7 8 9 10 11 12\n",
    "Bitte eine Zahl eingeben: 3\n",
    "[4, 5, 6, 7, 8, 9]\n",
    "\n",
    "Bitte eine Folge von Zahlen eingeben: 1 2\n",
    "Bitte eine Zahl eingeben: 4\n",
    "[]\n",
    "'''\n",
    "# your code\n"
   ]
  },
  {
   "cell_type": "code",
   "execution_count": null,
   "id": "a31e90fb-6ae5-449d-86da-039f5fb85737",
   "metadata": {},
   "outputs": [],
   "source": []
  }
 ],
 "metadata": {
  "kernelspec": {
   "display_name": "Python 3 (ipykernel)",
   "language": "python",
   "name": "python3"
  },
  "language_info": {
   "codemirror_mode": {
    "name": "ipython",
    "version": 3
   },
   "file_extension": ".py",
   "mimetype": "text/x-python",
   "name": "python",
   "nbconvert_exporter": "python",
   "pygments_lexer": "ipython3",
   "version": "3.11.2"
  }
 },
 "nbformat": 4,
 "nbformat_minor": 5
}
