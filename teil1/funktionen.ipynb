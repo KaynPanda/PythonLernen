{
 "cells": [
  {
   "cell_type": "markdown",
   "id": "aa219fff-4949-4d38-8d4d-6dff6dc98701",
   "metadata": {},
   "source": [
    "### Funktionen"
   ]
  },
  {
   "cell_type": "markdown",
   "id": "691c51c6-3a2e-453a-b77b-091ba0132f86",
   "metadata": {},
   "source": [
    "Funktionen beginnen mit dem Schlüsselwort *def*. <br>\n",
    "Sie haben einen Namen und man kann ihnen Werte mitgeben (0 oder mehr Parameter). <br>\n",
    "Mit return können Funktionen einen oder mehrere Werte zurückgeben. Fehlt return wird None zurückgegeben. <br>\n",
    "\n",
    "Beim Aufruf der Funktion werden die Parameter durch tatsächliche Werte ersetzt. Die zurückgegebenen Wert können wir beim\n",
    "Aufruf der Funktion in Variablen speichern. Gibt die Funktion mehrere Werte zurück, können wir beim Aufruf die Werte in mehreren Variablen speichern.<br> Docstrings werden in drei Hochkommata eingeschlossen.\n",
    "Darin beschreiben wir, welche Eingaben die Funktion erwartet und was sie zurückgibt."
   ]
  },
  {
   "cell_type": "code",
   "execution_count": 1,
   "id": "36abf0f0-0b04-400c-84ba-da5a495e5fbc",
   "metadata": {},
   "outputs": [],
   "source": [
    "def add(x, y):     # Die Funktion heißt add und hat zwei Parameter\n",
    "    ''' \n",
    "    x, y: Zahlen\n",
    "    Gibt die Summe von x und y zurück\n",
    "    '''\n",
    "    return x+y     # Die Funktion gibt einen Wert zurück."
   ]
  },
  {
   "cell_type": "code",
   "execution_count": 2,
   "id": "c9d57514-e050-4032-b626-c948ea438301",
   "metadata": {},
   "outputs": [
    {
     "name": "stdout",
     "output_type": "stream",
     "text": [
      "16\n"
     ]
    }
   ],
   "source": [
    "x = add(4,12)          # Aufruf der Funktion\n",
    "print(x)"
   ]
  },
  {
   "cell_type": "code",
   "execution_count": 3,
   "id": "1cf3a046-9793-4b40-a688-02e1da8685db",
   "metadata": {},
   "outputs": [],
   "source": [
    "def teile(x, y):           # Die Funktion heißt teile und hat zwei Parameter\n",
    "    '''\n",
    "    x, y: ints\n",
    "    returns: Ergebnis der ganzzahligen Division 'x durch y' und Rest.\n",
    "    '''\n",
    "    return x//y, x%y       # Die Funktion gibt zwei Wert zurück."
   ]
  },
  {
   "cell_type": "code",
   "execution_count": 4,
   "id": "40deeeae-a580-41e7-b2a3-7b3336316b1b",
   "metadata": {},
   "outputs": [
    {
     "name": "stdout",
     "output_type": "stream",
     "text": [
      "5 2\n"
     ]
    }
   ],
   "source": [
    "a, b = teile(17,3)         # Aufruf der Funktion - Rückgabe wird in zwei Variablen gespeichert\n",
    "print(a, b)\n"
   ]
  },
  {
   "cell_type": "code",
   "execution_count": 5,
   "id": "461f2194-835a-42b1-9e4b-6d5856334840",
   "metadata": {},
   "outputs": [],
   "source": [
    "def nummernliste(k):\n",
    "    '''\n",
    "    k: int\n",
    "    returns: Liste mit den Werten 1...k\n",
    "    '''\n",
    "    a = list(range(1,k+1))\n",
    "    return a               # Diese Funktion gibt eine Liste zurück"
   ]
  },
  {
   "cell_type": "code",
   "execution_count": 6,
   "id": "4a60cd8d-8e2d-4200-a4b9-6c1bd45b3855",
   "metadata": {},
   "outputs": [
    {
     "data": {
      "text/plain": [
       "[1, 2, 3, 4, 5]"
      ]
     },
     "execution_count": 6,
     "metadata": {},
     "output_type": "execute_result"
    }
   ],
   "source": [
    "nummernliste(5)            # Aufruf der Funktion"
   ]
  },
  {
   "cell_type": "code",
   "execution_count": 7,
   "id": "aac2cea4-3a5e-4d85-8820-07d962e7a56b",
   "metadata": {},
   "outputs": [],
   "source": [
    "def calc(a):               # Dieser Funktion wird beim Aufruf eine Liste übergeben\n",
    "    '''\n",
    "    a: Liste\n",
    "    returns: das letzte Element der Liste a\n",
    "    '''\n",
    "    return a[-1]\n",
    "    "
   ]
  },
  {
   "cell_type": "code",
   "execution_count": 8,
   "id": "e1ad82be-d1fe-47a9-93ba-8d1877efd64d",
   "metadata": {},
   "outputs": [
    {
     "data": {
      "text/plain": [
       "2"
      ]
     },
     "execution_count": 8,
     "metadata": {},
     "output_type": "execute_result"
    }
   ],
   "source": [
    "calc([4,7,2])"
   ]
  },
  {
   "cell_type": "markdown",
   "id": "ca0683c2-eb47-419b-9685-b9cf4e1f87a4",
   "metadata": {},
   "source": [
    "Manchmal gibt eine Funktion nichts zurück, sondern gibt nur was aus"
   ]
  },
  {
   "cell_type": "code",
   "execution_count": 9,
   "id": "fb3a6b0d-ed25-44c5-a3f7-c2b529277679",
   "metadata": {},
   "outputs": [
    {
     "name": "stdout",
     "output_type": "stream",
     "text": [
      "HalloHallo\n"
     ]
    }
   ],
   "source": [
    "def wiederhole(s):\n",
    "    '''\n",
    "    s: String\n",
    "    returns: None, gibt s zweimal hintereinander aus\n",
    "    '''\n",
    "    print(s+s)    \n",
    "\n",
    "wiederhole('Hallo')"
   ]
  },
  {
   "cell_type": "markdown",
   "id": "39d1b513-e924-4174-9c6d-ffdc8e8ff69d",
   "metadata": {},
   "source": [
    "----\n",
    "#### Aufgaben"
   ]
  },
  {
   "cell_type": "code",
   "execution_count": null,
   "id": "cec104e6-4287-43ba-a9d5-482ecc45e976",
   "metadata": {},
   "outputs": [],
   "source": [
    "def func1(k):\n",
    "    '''\n",
    "    k: zahl\n",
    "    returns: k mit sich selbst multipliziert\n",
    "\n",
    "    Teste die Funktion mit dem Aufruf von\n",
    "\n",
    "    Erwartete Ausgabe:\n",
    "    16\n",
    "    25\n",
    "    '''\n",
    "    # your code\n",
    "\n",
    "print(func1(4))\n",
    "print(func1(5))"
   ]
  },
  {
   "cell_type": "code",
   "execution_count": null,
   "id": "7585c4e5-6498-4d2f-8281-92e569799138",
   "metadata": {},
   "outputs": [],
   "source": [
    "def func2(a):\n",
    "    '''\n",
    "    a: Liste\n",
    "    returns: 'YES' wenn die Länge der Liste gerade, sonst 'NO'\n",
    "\n",
    "    Erwartete Ausgabe:\n",
    "    NO\n",
    "    YES\n",
    "    \n",
    "    '''\n",
    "    # your code\n",
    "\n",
    "print(func2([1,2,3]))\n",
    "print(func2(['a','b']))"
   ]
  },
  {
   "cell_type": "markdown",
   "id": "4c527d91-6743-48dc-9822-68e6cea9d078",
   "metadata": {},
   "source": [
    "----\n",
    "#### Doctest\n",
    "\n",
    "Statt mit eigenen Aufrufen können wir\n",
    "Funktionen auch mit docstrings testen.  Nach ```>>>``` schreiben wir\n",
    "den Aufruf und anschließend die erwartete Ausgabe hin. Wenn die Funktion nicht die erwartete Ausgabe liefert, erzeugt die \n",
    "doctest-Anweisung einen Fehler.\r\n",
    "Im folgenden Beispiel wird statt der Summe das Produkt zurückgegeben. Deshalb meldet die doctest-Anweisung einen Fehler. "
   ]
  },
  {
   "cell_type": "code",
   "execution_count": 13,
   "id": "fad82a0d-b113-47ba-8a6c-5e124cdba52b",
   "metadata": {},
   "outputs": [
    {
     "name": "stdout",
     "output_type": "stream",
     "text": [
      "**********************************************************************\n",
      "File \"__main__\", line 8, in NoName\n",
      "Failed example:\n",
      "    add(5,8)\n",
      "Expected:\n",
      "    13\n",
      "Got:\n",
      "    40\n"
     ]
    }
   ],
   "source": [
    "def add(x, y):     \n",
    "    '''\n",
    "    Gibt die Summe von x und y zurück\n",
    "\n",
    "    >>> add(2,2)\n",
    "    4\n",
    "    \n",
    "    >>> add(5,8)\n",
    "    13\n",
    "    '''\n",
    "    return x*y     \n",
    "\n",
    "import doctest\n",
    "doctest.run_docstring_examples(add,globals(),optionflags=doctest.NORMALIZE_WHITESPACE)  "
   ]
  },
  {
   "cell_type": "markdown",
   "id": "17c912f3-646b-4ebf-aab0-85b3c7117cb6",
   "metadata": {},
   "source": [
    "Wenn das Programm ohne Meldung durchläuft, hat das Programm alle Tests bestanden."
   ]
  },
  {
   "cell_type": "code",
   "execution_count": 14,
   "id": "1c39ec9d-e7eb-4142-b53d-493777907456",
   "metadata": {},
   "outputs": [],
   "source": [
    "def add(x, y):     \n",
    "    '''\n",
    "    Gibt die Summe von x und y zurück\n",
    "\n",
    "    >>> add(2,2)\n",
    "    4\n",
    "    \n",
    "    >>> add(5,8)\n",
    "    13\n",
    "    '''\n",
    "    return x+y     \n",
    "\n",
    "import doctest\n",
    "doctest.run_docstring_examples(add,globals(),optionflags=doctest.NORMALIZE_WHITESPACE) "
   ]
  },
  {
   "cell_type": "markdown",
   "id": "e605e241-aad9-4efe-993a-a97b66dce66c",
   "metadata": {},
   "source": [
    "----\n",
    "\n",
    "#### Aufgaben"
   ]
  },
  {
   "cell_type": "code",
   "execution_count": null,
   "id": "b5002ae6-f067-46f0-91a0-ed7b33d1f9a2",
   "metadata": {},
   "outputs": [],
   "source": [
    "def func3(x, y):\n",
    "    '''\n",
    "    Aufgabe 3:\n",
    "    Die Funktion gibt die kleinere der beiden Zahlen zurück\n",
    "\n",
    "    >>> func3(12, 18)\n",
    "    12\n",
    "\n",
    "    >>> func3(7, 21)\n",
    "    7\n",
    "    '''\n",
    "    # your code\n",
    "\n",
    "import doctest\n",
    "doctest.run_docstring_examples(func3,globals(),optionflags=doctest.NORMALIZE_WHITESPACE)"
   ]
  },
  {
   "cell_type": "code",
   "execution_count": null,
   "id": "6e69d7aa-41eb-4225-abba-7a6ffcf9c2bd",
   "metadata": {},
   "outputs": [],
   "source": [
    "def func4(x, y):\n",
    "    '''\n",
    "    Aufgabe 4:\n",
    "    Die Funktion gibt die kleinere der beiden Zahlen zurück\n",
    "\n",
    "    >>> func4(12, 18)\n",
    "    12\n",
    "\n",
    "    >>> func4(7, 21)\n",
    "    7\n",
    "    '''\n",
    "    # your code\n",
    "\n",
    "import doctest\n",
    "doctest.run_docstring_examples(func4,globals(),optionflags=doctest.NORMALIZE_WHITESPACE)"
   ]
  },
  {
   "cell_type": "code",
   "execution_count": null,
   "id": "3f7ffe21-a897-4f32-990c-e34e77e1b7c7",
   "metadata": {},
   "outputs": [],
   "source": [
    "def func5(a):\n",
    "    '''\n",
    "    Aufgabe 5:\n",
    "    a: Liste mit ints\n",
    "    returns die Summe der ersten und letzten Zahl von a\n",
    "\n",
    "    >>> func5([1, 2, 3, 4, 5])\n",
    "    6\n",
    "\n",
    "    >>> func5([-3, -2, -1, 0, 1, 2, 3, 4, 5, 6, 7, 8])\n",
    "    5\n",
    "    '''\n",
    "    # your code\n",
    " \n",
    "import doctest\n",
    "doctest.run_docstring_examples(func5,globals(),optionflags=doctest.NORMALIZE_WHITESPACE)"
   ]
  },
  {
   "cell_type": "code",
   "execution_count": null,
   "id": "e8ee2029-1b54-4008-80f6-fe57a221b69b",
   "metadata": {},
   "outputs": [],
   "source": [
    "def func6(s):\n",
    "    '''\n",
    "    s: String \n",
    "    Gibt die Liste der Zeichen in s zurück\n",
    "\n",
    "    >>> func6('Hallo')\n",
    "    ['H', 'a', 'l', 'l', 'o']\n",
    "\n",
    "    >>> func6('Habicht')\n",
    "    ['H', 'a', 'b', 'i', 'c', 'h', 't']\n",
    "    '''\n",
    "    # your code\n",
    " \n",
    "import doctest\n",
    "doctest.run_docstring_examples(func6,globals(),optionflags=doctest.NORMALIZE_WHITESPACE)"
   ]
  },
  {
   "cell_type": "code",
   "execution_count": null,
   "id": "c3f828a5-afbf-4c2f-8733-327513823e2b",
   "metadata": {},
   "outputs": [],
   "source": [
    "def func7(s, k):\n",
    "    '''\n",
    "    Aufgabe 7:\n",
    "    s: String, k: int\n",
    "    gibt eine Liste mit den beiden Teilstrings vor und nach der Stelle k zurück\n",
    "\n",
    "    >>> func7('Habicht', 3)\n",
    "    ['Hab', 'cht']\n",
    "\n",
    "    >>> func7('Hallo', 4)\n",
    "    ['Hall', '']\n",
    "    '''\n",
    "    # your code\n",
    "\n",
    "import doctest\n",
    "doctest.run_docstring_examples(func7,globals(),optionflags=doctest.NORMALIZE_WHITESPACE)"
   ]
  },
  {
   "cell_type": "code",
   "execution_count": null,
   "id": "50b3b8fe-dbda-4076-a75d-447b22e6bec2",
   "metadata": {},
   "outputs": [],
   "source": [
    "def func8(k, grenze):\n",
    "    '''\n",
    "    Aufgabe 8:\n",
    "    k, grenze: ints\n",
    "    Gibt 'YES' zurück, wenn k*k kleiner als grenze ist, sonst 'NO'\n",
    "    \n",
    "    >>> func8(4,10)\n",
    "    'NO'\n",
    "\n",
    "    >>> func8(3,10)\n",
    "    'YES'\n",
    "\n",
    "    >>> func8(3,9)\n",
    "    'NO'\n",
    "\n",
    "\n",
    "    '''\n",
    "    # your code\n",
    " \n",
    "\n",
    "import doctest\n",
    "doctest.run_docstring_examples(func8,globals(),optionflags=doctest.NORMALIZE_WHITESPACE)"
   ]
  },
  {
   "cell_type": "code",
   "execution_count": null,
   "id": "f7722ca5-9002-4fe3-9ae8-7c7bfa40a9c2",
   "metadata": {},
   "outputs": [],
   "source": [
    "def func9(a, k):\n",
    "    '''\n",
    "    Aufgabe 9:\n",
    "    a: Liste mit ints, k: int\n",
    "    Gibt 'YES' zurück, in a  mindestens k gerade Zahlen sind\n",
    "    \n",
    "    >>> func9([1,2,3,4],2)\n",
    "    'YES'\n",
    "\n",
    "    >>> func9([1,2,3,4,5,6],4)\n",
    "    'NO'\n",
    "\n",
    "\n",
    "    '''\n",
    "    # your code\n",
    "\n",
    "import doctest\n",
    "doctest.run_docstring_examples(func9,globals(),optionflags=doctest.NORMALIZE_WHITESPACE)"
   ]
  },
  {
   "cell_type": "code",
   "execution_count": null,
   "id": "f31ab654-39a8-4716-8647-6d43a16a5c72",
   "metadata": {},
   "outputs": [],
   "source": [
    "def func10(a):\n",
    "    '''\n",
    "    Aufgabe 10:\n",
    "    a: Liste mit Strings\n",
    "    Die Funktion gibt die Strings in umgekehrter Reihenfolge aus\n",
    "    \n",
    "    >>> func10(['ab','cd','efg'])\n",
    "    efg\n",
    "    cd\n",
    "    ab\n",
    "\n",
    "    '''\n",
    "    # your code\n",
    "\n",
    "\n",
    "import doctest\n",
    "doctest.run_docstring_examples(func10,globals(),optionflags=doctest.NORMALIZE_WHITESPACE)"
   ]
  }
 ],
 "metadata": {
  "kernelspec": {
   "display_name": "Python 3 (ipykernel)",
   "language": "python",
   "name": "python3"
  },
  "language_info": {
   "codemirror_mode": {
    "name": "ipython",
    "version": 3
   },
   "file_extension": ".py",
   "mimetype": "text/x-python",
   "name": "python",
   "nbconvert_exporter": "python",
   "pygments_lexer": "ipython3",
   "version": "3.11.2"
  }
 },
 "nbformat": 4,
 "nbformat_minor": 5
}
