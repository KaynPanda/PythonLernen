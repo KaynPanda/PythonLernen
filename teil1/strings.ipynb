{
 "cells": [
  {
   "cell_type": "markdown",
   "id": "4ad38369-4bb8-428f-8592-889b7731e3bd",
   "metadata": {},
   "source": [
    "### Indexing bei Strings\n",
    "\n",
    "Auf die einzelnen Zeichen eines Strings können wir mit einem Index zugreifen. Der Index beginnt bei 0.\n",
    "Die Funktion *len()* berechnet die Länge des Strings."
   ]
  },
  {
   "cell_type": "code",
   "execution_count": 1,
   "id": "1ee09e85-8382-4e2e-8656-5f69d54bc95c",
   "metadata": {},
   "outputs": [
    {
     "name": "stdout",
     "output_type": "stream",
     "text": [
      "H\n",
      "7\n"
     ]
    }
   ],
   "source": [
    "s = 'Habicht'\n",
    "c = s[0]                   # lies: s an der Stelle 0\n",
    "print(c)\n",
    "print(len(s))"
   ]
  },
  {
   "cell_type": "code",
   "execution_count": 2,
   "id": "ce2ad30f-ada4-459c-80b6-c786fb7f7d50",
   "metadata": {},
   "outputs": [
    {
     "name": "stdout",
     "output_type": "stream",
     "text": [
      "Index = 0  - Zeichen = H\n",
      "Index = 1  - Zeichen = a\n",
      "Index = 2  - Zeichen = b\n",
      "Index = 3  - Zeichen = i\n",
      "Index = 4  - Zeichen = c\n",
      "Index = 5  - Zeichen = h\n",
      "Index = 6  - Zeichen = t\n"
     ]
    }
   ],
   "source": [
    "for i in range(len(s)):   # Mit dieser Schleife laufen wir durch alle Zeichen des Strings\n",
    "    print('Index =',i,' - Zeichen =',s[i])"
   ]
  },
  {
   "cell_type": "markdown",
   "id": "2dde2ab2-1525-4690-b58e-dcf4e65345d0",
   "metadata": {},
   "source": [
    "Wir können auch mit einem negativen Index auf die Zeichen eines Strings zugreifen. Der Index beginnt hinten mit -1."
   ]
  },
  {
   "cell_type": "code",
   "execution_count": 3,
   "id": "1b18f807-aa6f-4c88-89a1-398688820ebf",
   "metadata": {},
   "outputs": [
    {
     "name": "stdout",
     "output_type": "stream",
     "text": [
      "t\n",
      "h\n"
     ]
    }
   ],
   "source": [
    "s = 'Habicht'\n",
    "c = s[-1]                   # das letzte Zeichen von s\n",
    "d = s[-2]                   # das vorletzte Zeichen von s\n",
    "print(c)\n",
    "print(d)"
   ]
  },
  {
   "cell_type": "code",
   "execution_count": null,
   "id": "d51370fe-228b-4a5d-bb74-a7d29619c6f7",
   "metadata": {},
   "outputs": [],
   "source": [
    "'''\n",
    "Aufgabe 1:\n",
    "Lies einen String ein und gib seine Länge aus.\n",
    "\n",
    "Beispieldialoge:\n",
    "\n",
    "Bitte einen String eingeben: Hallo\n",
    "5\n",
    "\n",
    "Bitte einen String eingeben: Habicht\n",
    "7\n",
    "\n",
    "'''\n",
    "# your code"
   ]
  },
  {
   "cell_type": "code",
   "execution_count": null,
   "id": "8b499bd5-64b0-4c71-a1a7-2f1b57128695",
   "metadata": {},
   "outputs": [],
   "source": [
    "'''\n",
    "Aufgabe 1a:\n",
    "Lies einen String s ein.\n",
    "Gib einen String aus der aus dem ersten und letzten Zeichen von s besteht.\n",
    "\n",
    "Beispieldialoge:\n",
    "\n",
    "Bitte einen String eingeben: Hallo\n",
    "Ho\n",
    "\n",
    "Bitte einen String eingeben: Habicht\n",
    "Ht\n",
    "'''\n",
    "# your code"
   ]
  },
  {
   "cell_type": "code",
   "execution_count": null,
   "id": "3a2d5ad5-c91e-43d9-b944-40e83bdbb968",
   "metadata": {},
   "outputs": [],
   "source": [
    "'''\n",
    "Aufgabe 1b:\n",
    "Wenn die Länge des Strings <= 2 ist, gib aus 'zu kurz'.\n",
    "Wenn die letzten beiden Zeichen des Strings gleich sind, gib 'YES' aus, sonst 'NO'.\n",
    "\n",
    "Beispieldialoge:\n",
    "\n",
    "Bitte einen String mit Mindestlänge 2 eingeben: H\n",
    "zu kurz\n",
    "\n",
    "Bitte einen String mit Mindestlänge 2 eingeben: Hallo\n",
    "NO\n",
    "\n",
    "Bitte einen String mit Mindestlänge 2 eingeben: Halloo\n",
    "YES\n",
    "'''\n",
    "# your code"
   ]
  },
  {
   "cell_type": "code",
   "execution_count": null,
   "id": "aefd2325-04a3-49ab-ad11-6160a35c332b",
   "metadata": {},
   "outputs": [],
   "source": [
    "''' \n",
    "Aufgabe 1c:\n",
    "Das Programm zählt die Anzahl der kleinen Buchstaben 'a' in einem String.\n",
    "\n",
    "Beispieldialoge:\n",
    "\n",
    "Bitte einen String eingeben:  Hallo\n",
    "Anzahl kleine a: 1\n",
    "\n",
    "Bitte einen String eingeben:  Tralala\n",
    "Anzahl kleine a: 3\n",
    "\n",
    "Bitte einen String eingeben:  HURRA\n",
    "Anzahl kleine a: 0\n",
    "\n",
    "'''\n",
    "# your code"
   ]
  },
  {
   "cell_type": "markdown",
   "id": "9b388155-851d-4015-8fc4-1cb5e889f7ef",
   "metadata": {},
   "source": [
    "----\n",
    "#### Logische Operatoren\n",
    "\n",
    "Ein boolescher Ausdruck wertet sich immer zu True oder False aus."
   ]
  },
  {
   "cell_type": "code",
   "execution_count": 4,
   "id": "0a4c4bc0-ccbd-4da1-a245-78c9841b48af",
   "metadata": {},
   "outputs": [
    {
     "name": "stdout",
     "output_type": "stream",
     "text": [
      "False\n",
      "True\n",
      "False True\n"
     ]
    }
   ],
   "source": [
    "a = True\n",
    "b = False\n",
    "print(a and b)      # True wenn beide True\n",
    "print(a or b)       # True wenn mindestens einer True\n",
    "print(not a, not b) # not macht aus True False und umgekehrt"
   ]
  },
  {
   "cell_type": "markdown",
   "id": "3a52aa9b-e408-4693-bd00-56e4dfa802ee",
   "metadata": {},
   "source": [
    "#### Beispiel"
   ]
  },
  {
   "cell_type": "code",
   "execution_count": null,
   "id": "bcacc854-1211-4e6d-a9f2-f062ecf44f53",
   "metadata": {},
   "outputs": [],
   "source": [
    "'''\n",
    "Lies eine String s ein. Wenn s länger als 10 Zeichen ist und mit dem Zeichen 'A' beginnt,\n",
    "gib 'YES' aus, sonst 'NO'.\n",
    "\n",
    "Beispieldialoge:\n",
    "\n",
    "Bitte einen String eingeben: Afdasfasfdsaf\n",
    "YES\n",
    "\n",
    "Bitte einen String eingeben: Adam\n",
    "NO\n",
    "\n",
    "Bitte einen String eingeben: dfdfdfdfdfdfdfdfdf\n",
    "NO\n",
    "'''\n",
    "\n",
    "# your code\n"
   ]
  },
  {
   "cell_type": "markdown",
   "id": "38734b15-57b5-4fe2-9638-ffc7bb0ac6d7",
   "metadata": {},
   "source": [
    "---"
   ]
  },
  {
   "cell_type": "code",
   "execution_count": null,
   "id": "f16d2610-70b9-495f-8a56-bcbaef54c947",
   "metadata": {},
   "outputs": [],
   "source": [
    "'''\n",
    "Aufgabe 2:\n",
    "Lies einen String s ein. Wenn s mit 'A' beginnt oder endet, gib 'YES' aus, sonst 'NO'.\n",
    "\n",
    "Beispieldialoge:\n",
    "\n",
    "Bitte einen String eingeben: Adam\n",
    "YES\n",
    "\n",
    "Bitte einen String eingeben: hollA\n",
    "YES\n",
    "\n",
    "Bitte einen String eingeben: Habicht\n",
    "NO\n",
    "'''\n",
    "# your code\n",
    "\n"
   ]
  },
  {
   "cell_type": "code",
   "execution_count": null,
   "id": "70a1dc47-114a-437e-a4dd-3720ab3ff739",
   "metadata": {},
   "outputs": [],
   "source": [
    "'''\n",
    "Aufgabe 2a:\n",
    "Lies einen String s ein. Wenn die Länge von s zwischen 5 und 10 (einschließlich) ist,\n",
    "gib 'YES' aus, sonst 'NO'\n",
    "\n",
    "Beispieldialoge:\n",
    "\n",
    "Bitte einen String eingeben: Habicht\n",
    "YES\n",
    "\n",
    "Bitte einen String eingeben: Hi\n",
    "NO\n",
    "'''\n",
    "# your code"
   ]
  },
  {
   "cell_type": "code",
   "execution_count": null,
   "id": "6e08f175-2309-4564-8fdd-e6e82c49d491",
   "metadata": {},
   "outputs": [],
   "source": [
    "'''\n",
    "Aufgabe 2b:\n",
    "Lies einen String s ein. Wenn die Länge von s größer als 2 ist und die letzten 3 Zeichen gleich sind,\n",
    "gib 'YES' aus, sonst 'NO'\n",
    "\n",
    "Beispieldialoge:\n",
    "\n",
    "Bitte einen String eingeben: Halloo\n",
    "NO\n",
    "\n",
    "Bitte einen String eingeben: Hallooo\n",
    "YES\n",
    "\n",
    "Bitte einen String eingeben: oo\n",
    "NO\n",
    "'''\n",
    "# your code"
   ]
  },
  {
   "cell_type": "code",
   "execution_count": null,
   "id": "3de4b5b8-7153-42e4-b72c-fece5843cd9c",
   "metadata": {},
   "outputs": [],
   "source": [
    "'''\n",
    "Aufgabe 3:\n",
    "Lies einen String s ein. Dann lies ein einzelnes Zeichen c ein. \n",
    "Gib aus, wieviel mal das Zeichen c im String s vorkommt.\n",
    " \n",
    "Beispieldialoge:\n",
    "\n",
    "Bitte einen String eingeben: Hallo\n",
    "Bitte ein Zeichen eingeben: a\n",
    "1\n",
    "\n",
    "Bitte einen String eingeben: Tralala\n",
    "Bitte ein Zeichen eingeben: a\n",
    "3\n",
    "'''\n",
    "# your code\n"
   ]
  },
  {
   "cell_type": "code",
   "execution_count": null,
   "id": "0a79ddce-23e9-4649-a508-8db2c62686c0",
   "metadata": {},
   "outputs": [],
   "source": [
    "'''\n",
    "Aufgabe 3a:\n",
    "Das Programm zählt die Anzahl kleiner 'a' oder 'd' in einem String.\n",
    " \n",
    "Beispieldialoge:\n",
    "\n",
    "Bitte einen String eingeben: adab\n",
    "3\n",
    "\n",
    "Bitte einen String eingeben: fgfgfgfg\n",
    "0\n",
    "\n",
    "Bitte einen String eingeben: abcdabcd\n",
    "4\n",
    "'''\n",
    "# your code"
   ]
  },
  {
   "cell_type": "code",
   "execution_count": null,
   "id": "bd36eab6-272f-4e09-8023-bca93998d7b0",
   "metadata": {},
   "outputs": [],
   "source": [
    "'''\n",
    "Aufgabe 3b:\n",
    "Das Programm zählt die Anzahl gleicher aufeinanderfolgender Zeichen\n",
    " \n",
    "Beispieldialoge:\n",
    "\n",
    "Bitte einen String eingeben: abcdefg\n",
    "0\n",
    "\n",
    "Bitte einen String eingeben: aaabb\n",
    "3\n",
    "\n",
    "Bitte einen String eingeben: abbadff\n",
    "2\n",
    "'''\n",
    "# your code"
   ]
  }
 ],
 "metadata": {
  "kernelspec": {
   "display_name": "Python 3 (ipykernel)",
   "language": "python",
   "name": "python3"
  },
  "language_info": {
   "codemirror_mode": {
    "name": "ipython",
    "version": 3
   },
   "file_extension": ".py",
   "mimetype": "text/x-python",
   "name": "python",
   "nbconvert_exporter": "python",
   "pygments_lexer": "ipython3",
   "version": "3.11.2"
  }
 },
 "nbformat": 4,
 "nbformat_minor": 5
}
