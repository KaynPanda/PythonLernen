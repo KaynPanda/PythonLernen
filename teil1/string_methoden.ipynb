{
 "cells": [
  {
   "cell_type": "markdown",
   "id": "126724d2-169d-4883-8c3f-1634527c502c",
   "metadata": {},
   "source": [
    "### String Methoden\n",
    "\n",
    "siehe auch: https://www.w3schools.com/python/python_ref_string.asp"
   ]
  },
  {
   "cell_type": "code",
   "execution_count": null,
   "id": "3a846651-c972-4986-aa53-68e7bc38d884",
   "metadata": {},
   "outputs": [],
   "source": [
    "s = 'abaaaabaaba'\n",
    "k = s.find('b')        # der Index des ersten 'b', -1 wenn nichts gefunden\n",
    "k = s.rfind('b')       # der Index des letzten 'b', -1 wenn nichts gefunden\n",
    "\n",
    "s = s.replace('ba','BBB')    # alle Vorkommen von 'ba' werden durch 'BBB' ersetzt\n",
    "\n",
    "s.startswith('aBB')    # True, wenn s mit 'aBB' beginnt\n",
    "s.endswith('ba')       # True, wenn s mit 'ba' endet\n",
    "\n",
    "s.count('BB')          # zählt die Vorkommen von 'BB' in s\n",
    "\n",
    "s = s.upper()          # die Zeichen in s in Großbuchstaben umwandeln\n",
    "s = s.lower()          # die Zeichen in s in Kleinbuchstaben umwandeln \n",
    "\n",
    "s = 'ab'*5             # 'ab' wird 5mal wiederholt\n",
    "\n",
    "'ab' in s              # True, wenn 'ab' in s vorkommt"
   ]
  },
  {
   "cell_type": "markdown",
   "id": "29d12f09-d410-4931-93d6-88d3e8a324a2",
   "metadata": {},
   "source": [
    "#### Beispiele"
   ]
  },
  {
   "cell_type": "code",
   "execution_count": 1,
   "id": "356c1b01-f23f-40f3-932b-21ae24c4ce87",
   "metadata": {},
   "outputs": [
    {
     "name": "stdout",
     "output_type": "stream",
     "text": [
      "1\n"
     ]
    }
   ],
   "source": [
    "s = 'abaaaabaaba'\n",
    "k = s.find('ba')       # der Index des ersten 'ba'\n",
    "print(k)"
   ]
  },
  {
   "cell_type": "code",
   "execution_count": 2,
   "id": "c258b709-7313-4bb3-8205-43d2fe5c62f8",
   "metadata": {},
   "outputs": [
    {
     "name": "stdout",
     "output_type": "stream",
     "text": [
      "9\n"
     ]
    }
   ],
   "source": [
    "s = 'abaaaabaaba'\n",
    "k = s.rfind('ba')      # der Index des letzten 'ba'\n",
    "print(k)"
   ]
  },
  {
   "cell_type": "code",
   "execution_count": 3,
   "id": "d879977b-771f-4474-8a92-a9216019aada",
   "metadata": {},
   "outputs": [
    {
     "name": "stdout",
     "output_type": "stream",
     "text": [
      "-1\n"
     ]
    }
   ],
   "source": [
    "s = 'abaaaabaaba'\n",
    "k = s.find('c')       # es wurde nichts gefunden\n",
    "print(k)"
   ]
  },
  {
   "cell_type": "code",
   "execution_count": 4,
   "id": "29322115-7cd8-4054-9d2e-578246f5fcd3",
   "metadata": {},
   "outputs": [
    {
     "name": "stdout",
     "output_type": "stream",
     "text": [
      "True\n"
     ]
    }
   ],
   "source": [
    "s = 'abaaaabaaba'\n",
    "b = s.startswith('aba')    # s beginnt mit 'aba'\n",
    "print(b)"
   ]
  },
  {
   "cell_type": "code",
   "execution_count": 5,
   "id": "3b408bcb-28ba-45f0-a461-9768a8292a6e",
   "metadata": {},
   "outputs": [
    {
     "name": "stdout",
     "output_type": "stream",
     "text": [
      "False\n"
     ]
    }
   ],
   "source": [
    "s = 'abaaaabaaba'\n",
    "b = s.endswith('bba')      # s endet nicht mit 'bba'\n",
    "print(b)"
   ]
  },
  {
   "cell_type": "code",
   "execution_count": 6,
   "id": "1db9b74c-b07d-4b16-b559-ed6b3d5a81a5",
   "metadata": {},
   "outputs": [
    {
     "name": "stdout",
     "output_type": "stream",
     "text": [
      "3\n"
     ]
    }
   ],
   "source": [
    "s = 'abaaaabaaba'\n",
    "b = s.count('ab')          # 'ab' kommt 3 mal in s vor\n",
    "print(b)"
   ]
  },
  {
   "cell_type": "code",
   "execution_count": 7,
   "id": "6e506523-6985-42e0-b36d-f5a1713c9be2",
   "metadata": {},
   "outputs": [
    {
     "name": "stdout",
     "output_type": "stream",
     "text": [
      "ABAAAA\n"
     ]
    }
   ],
   "source": [
    "s = 'abaaAA'\n",
    "s = s.upper()              # alles groß\n",
    "print(s)"
   ]
  },
  {
   "cell_type": "code",
   "execution_count": 8,
   "id": "f27f8320-5e92-4b9a-81fc-65b8d1aa2b29",
   "metadata": {},
   "outputs": [
    {
     "name": "stdout",
     "output_type": "stream",
     "text": [
      "abaaaa\n"
     ]
    }
   ],
   "source": [
    "s = 'abaaAA'\n",
    "s = s.lower()              # alles klein\n",
    "print(s)"
   ]
  },
  {
   "cell_type": "code",
   "execution_count": 9,
   "id": "d6b59abc-a9f8-421e-92a7-97c62507830c",
   "metadata": {},
   "outputs": [
    {
     "name": "stdout",
     "output_type": "stream",
     "text": [
      "abcabcabcabcabc\n"
     ]
    }
   ],
   "source": [
    "s = 'abc' * 5              # 'abc' wird 5 mal wiederholt\n",
    "print(s)              "
   ]
  },
  {
   "cell_type": "code",
   "execution_count": 10,
   "id": "a6dbd515-48c2-4056-a0c1-2da33b0e980a",
   "metadata": {},
   "outputs": [
    {
     "name": "stdout",
     "output_type": "stream",
     "text": [
      "YES\n"
     ]
    }
   ],
   "source": [
    "s = 'abaaaabaaba'\n",
    "if 'ab' in s:             # statt find, wenn man den Index nicht braucht      \n",
    "    print('YES')"
   ]
  },
  {
   "cell_type": "markdown",
   "id": "2dbc3680-15f1-4fcb-b9ad-402789d96330",
   "metadata": {},
   "source": [
    "----\n",
    "\n",
    "#### Aufgaben"
   ]
  },
  {
   "cell_type": "code",
   "execution_count": null,
   "id": "5cfc4ea5-f0aa-4389-9b56-c311674dd806",
   "metadata": {},
   "outputs": [],
   "source": [
    "def func1(s):\n",
    "    '''\n",
    "    Aufgabe 1:\n",
    "    s: String\n",
    "    returns: den längsten Teilstring von hinten, der kein '.' enthält.\n",
    "    \n",
    "    >>> func1('abc.de')\n",
    "    de\n",
    "\n",
    "    >>> func1('abc.de.com')\n",
    "    com\n",
    "\n",
    "    >>> func1('abc')\n",
    "    abc\n",
    "    '''\n",
    "    # your code\n",
    "\n",
    "import doctest\n",
    "doctest.run_docstring_examples(func1,globals(),optionflags=doctest.NORMALIZE_WHITESPACE)"
   ]
  },
  {
   "cell_type": "code",
   "execution_count": null,
   "id": "3711b1f5-13c7-4aa0-8e70-00e4c46791c5",
   "metadata": {},
   "outputs": [],
   "source": [
    "def func2(k):\n",
    "    '''\n",
    "    Aufgabe 2:\n",
    "    k: int\n",
    "    returns: das Wort mit Long, wobei der Buchstabe o k-mal wiederholt wird.\n",
    "    \n",
    "    >>> func2(4)\n",
    "    Loooong\n",
    "\n",
    "    >>> func2(0)\n",
    "    Lng\n",
    "\n",
    "    >> func2(1)\n",
    "    Long\n",
    "    '''\n",
    "    # your code\n",
    "  \n",
    "\n",
    "import doctest\n",
    "doctest.run_docstring_examples(func2,globals(),optionflags=doctest.NORMALIZE_WHITESPACE)"
   ]
  },
  {
   "cell_type": "code",
   "execution_count": null,
   "id": "72370219-642a-48bf-ac17-e3f8f2ca5288",
   "metadata": {},
   "outputs": [],
   "source": [
    "def func3(s, c1, c2):\n",
    "    '''\n",
    "    Aufgabe 2:\n",
    "    s: String der beide Zeichen c1 und c2 enthält\n",
    "    returns: das Zeichen, das zuerst kommt\n",
    "    \n",
    "    >>> func3('Hallo','a', 'o')\n",
    "    'a'\n",
    "\n",
    "    >>> func3('sssdbbbcooocdcd','c', 'd')\n",
    "    'd'\n",
    "    '''\n",
    "    # your code\n",
    "  \n",
    "\n",
    "import doctest\n",
    "doctest.run_docstring_examples(func3,globals(),optionflags=doctest.NORMALIZE_WHITESPACE)"
   ]
  },
  {
   "cell_type": "code",
   "execution_count": null,
   "id": "be6f6ddc-66f5-4339-9b2d-3ba4c354a878",
   "metadata": {},
   "outputs": [],
   "source": [
    "def func4(s):\n",
    "    '''\n",
    "    Aufgabe 4:\n",
    "    s ein String aus 0 und 1\n",
    "    returns: 'YES' wenn 1 häufiger in s vorkommt als 0, sonst 'NO'\n",
    "    \n",
    "    >>> func4('10011')\n",
    "    'YES'\n",
    "\n",
    "    >>> func4('01101010110000')\n",
    "    'NO'\n",
    "\n",
    "    >>> func4('0')\n",
    "    'NO'\n",
    "    '''\n",
    "    # your code\n",
    "\n",
    "import doctest\n",
    "doctest.run_docstring_examples(func4,globals(),optionflags=doctest.NORMALIZE_WHITESPACE)"
   ]
  },
  {
   "cell_type": "code",
   "execution_count": null,
   "id": "b88687f4-e107-41db-86be-e82e3d525223",
   "metadata": {},
   "outputs": [],
   "source": [
    "def func5(s):\n",
    "    '''\n",
    "    Aufgabe 4:\n",
    "    s ein String aus 0 und 1\n",
    "    returns: 'YES' wenn 1 häufiger in s vorkommt als 0, sonst 'NO'\n",
    "    \n",
    "    >>> func4('10011')\n",
    "    'YES'\n",
    "\n",
    "    >>> func4('01101010110000')\n",
    "    'NO'\n",
    "\n",
    "    >>> func4('0')\n",
    "    'NO'\n",
    "    '''\n",
    "    # your code\n",
    "\n",
    "import doctest\n",
    "doctest.run_docstring_examples(func4,globals(),optionflags=doctest.NORMALIZE_WHITESPACE)"
   ]
  },
  {
   "cell_type": "code",
   "execution_count": null,
   "id": "822e41ff-79b8-445d-817b-ed7bf9f35e29",
   "metadata": {},
   "outputs": [],
   "source": [
    "def func5(s, c):\n",
    "    '''\n",
    "    Aufgabe 5:\n",
    "    s ein String, c ein Buchstabe\n",
    "    returns: 'YES' c in s von vorne eher vorkommt als von hinten, 'DRAW' bei Gleichheit, sonst 'NO'\n",
    "    \n",
    "    >>> func5('abaaab','a')\n",
    "    'YES'\n",
    "\n",
    "    >>> func5('abaaab','b')\n",
    "    'NO'\n",
    "\n",
    "    >>> func5('abaaaba','b')\n",
    "    'DRAW'\n",
    "    '''\n",
    "    # your code\n",
    "\n",
    "import doctest\n",
    "doctest.run_docstring_examples(func5,globals(),optionflags=doctest.NORMALIZE_WHITESPACE)"
   ]
  },
  {
   "cell_type": "code",
   "execution_count": null,
   "id": "14f16997-cc3b-4292-b2ab-a2a67ea51bd5",
   "metadata": {},
   "outputs": [],
   "source": [
    "def func6(s):\n",
    "    '''\n",
    "    Aufgabe 6:\n",
    "    s ein String, c ein Buchstabe\n",
    "    returns: 'YES' c in s von vorne eher vorkommt als von hinten, 'DRAW' bei Gleichheit, sonst 'NO'\n",
    "    \n",
    "    >>> func6('Äbbü')\n",
    "    'AEbbue'\n",
    "\n",
    "    >>> func6('Ä.Ö.Ü.ää.öö.üü')\n",
    "    'AE.OE.UE.aeae.oeoe.ueue'\n",
    "\n",
    "    '''\n",
    "    # your code\n",
    "\n",
    "import doctest\n",
    "doctest.run_docstring_examples(func6,globals(),optionflags=doctest.NORMALIZE_WHITESPACE)"
   ]
  },
  {
   "cell_type": "code",
   "execution_count": null,
   "id": "19dc2c5c-4db9-4cf7-b5f5-bf675e4d05d4",
   "metadata": {},
   "outputs": [],
   "source": [
    "def func7(s, s1):\n",
    "    '''\n",
    "    Aufgabe 7:\n",
    "    s, s1 Strings\n",
    "    returns: 'YES' wenn s mit s1 beginnt oder endet, sonst 'NO'\n",
    "    \n",
    "    >>> func7('Hallo','ha')\n",
    "    'NO'\n",
    "\n",
    "    >>> func7('Hallo','Hal')\n",
    "    'YES'\n",
    "\n",
    "    >>> func7('Habicht','ich')\n",
    "    'NO'\n",
    "\n",
    "    >>> func7('Habicht','icht')\n",
    "    'YES'\n",
    "\n",
    "    '''\n",
    "    # your code\n",
    "\n",
    "import doctest\n",
    "doctest.run_docstring_examples(func7,globals(),optionflags=doctest.NORMALIZE_WHITESPACE)"
   ]
  },
  {
   "cell_type": "code",
   "execution_count": null,
   "id": "d1027763-9ebc-4f9f-aac0-207e62d496fb",
   "metadata": {},
   "outputs": [],
   "source": [
    "def func8(s, c, k):\n",
    "    '''\n",
    "    Aufgabe 8:\n",
    "    s String, c Buchstabe, k Zahl\n",
    "    returns: 'YES' wenn c in s mindestens k mal vorkommt, sonst 'NO'\n",
    "    \n",
    "    >>> func8('Tralala','a',3)\n",
    "    'YES'\n",
    "\n",
    "    >>> func8('abba','a',3)\n",
    "    'NO'\n",
    "\n",
    "    >>> func8('abba','a',2)\n",
    "    'YES'\n",
    "\n",
    "    >>> func8('abba','z',0)\n",
    "    'YES'\n",
    "    '''\n",
    "    # your code\n",
    "\n",
    "import doctest\n",
    "doctest.run_docstring_examples(func8,globals(),optionflags=doctest.NORMALIZE_WHITESPACE)"
   ]
  },
  {
   "cell_type": "code",
   "execution_count": null,
   "id": "48aad5d0-90b9-4b0f-8a5d-4e06c8af9594",
   "metadata": {},
   "outputs": [],
   "source": [
    "def func9(s1, s2):\n",
    "    '''\n",
    "    Aufgabe 9:\n",
    "    s1, s2: Strings\n",
    "    returns: 'YES' wenn s1 ohne Berücksichtung von Groß/Kleinschreibung gleich s2 ist, sonst 'NO'\n",
    "    \n",
    "    >>> func9('abba','AbbA')\n",
    "    'YES'\n",
    "\n",
    "    >>> func9('Hallo','hAllo')\n",
    "    'YES'\n",
    "\n",
    "    >>> func9('Hallo','HEllo')\n",
    "    'NO'\n",
    "\n",
    "    '''\n",
    "    # your code\n",
    "\n",
    "import doctest\n",
    "doctest.run_docstring_examples(func9,globals(),optionflags=doctest.NORMALIZE_WHITESPACE)"
   ]
  },
  {
   "cell_type": "code",
   "execution_count": null,
   "id": "66e23c6d-8615-4c40-84fa-3457c5444a0b",
   "metadata": {},
   "outputs": [],
   "source": [
    "def func10(s, k):\n",
    "    '''\n",
    "    Aufgabe 10:\n",
    "    s: String\n",
    "    returns: Liste, in der s 1..k mal wiederholt wird\n",
    "    \n",
    "    >>> func10('a',5)\n",
    "    ['a', 'aa', 'aaa', 'aaaa', 'aaaaa']\n",
    "\n",
    "    >>> func10('ja',4)\n",
    "    ['ja', 'jaja', 'jajaja', 'jajajaja']\n",
    "\n",
    "    '''\n",
    "    # your code\n",
    "\n",
    "import doctest\n",
    "doctest.run_docstring_examples(func10,globals(),optionflags=doctest.NORMALIZE_WHITESPACE)"
   ]
  },
  {
   "cell_type": "code",
   "execution_count": null,
   "id": "29973416-e6f7-4b88-a2d2-9b6a50f3d310",
   "metadata": {},
   "outputs": [],
   "source": [
    "def func11(a, s):\n",
    "    '''\n",
    "    Aufgabe 10:\n",
    "    a: Liste mit String, s: String\n",
    "    returns: 'YES', wenn s als Teilstring in einer der Strings in Liste a vorkommt, sonst 'NO'\n",
    "    \n",
    "    >>> func11(['abc', 'abd', 'abe'], 'bd')\n",
    "    'YES'\n",
    "\n",
    "    >>> func11(['abc', 'abd', 'abe'], 'bf')\n",
    "    'NO'\n",
    "\n",
    "    '''\n",
    "    # your code\n",
    "\n",
    "\n",
    "import doctest\n",
    "doctest.run_docstring_examples(func10,globals(),optionflags=doctest.NORMALIZE_WHITESPACE)"
   ]
  }
 ],
 "metadata": {
  "kernelspec": {
   "display_name": "Python 3 (ipykernel)",
   "language": "python",
   "name": "python3"
  },
  "language_info": {
   "codemirror_mode": {
    "name": "ipython",
    "version": 3
   },
   "file_extension": ".py",
   "mimetype": "text/x-python",
   "name": "python",
   "nbconvert_exporter": "python",
   "pygments_lexer": "ipython3",
   "version": "3.11.2"
  }
 },
 "nbformat": 4,
 "nbformat_minor": 5
}
