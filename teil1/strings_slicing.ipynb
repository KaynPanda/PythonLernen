{
 "cells": [
  {
   "cell_type": "markdown",
   "id": "c0438149-fe15-45de-9531-78708b79d8aa",
   "metadata": {},
   "source": [
    "### Slicing bei Strings\n",
    "\n",
    "Slicing nennt man das Bilden von Teilstrings aus einem String. <br>\n",
    "Vereinbarung: Wenn wir sagen *an der Stelle* meinen wir den Index. <br>\n",
    "Das erste Zeichen ist also das Zeichen an der Stelle 0."
   ]
  },
  {
   "cell_type": "code",
   "execution_count": 1,
   "id": "5c56c030-5064-4b45-bd57-fd61d4296797",
   "metadata": {},
   "outputs": [
    {
     "data": {
      "text/plain": [
       "'Hab'"
      ]
     },
     "execution_count": 1,
     "metadata": {},
     "output_type": "execute_result"
    }
   ],
   "source": [
    "s = 'Habicht'\n",
    "s[:3]             # Teilstring von Anfang der Länge 3 (= bis zum Zeichen an der Stelle 3 ausschließlich)"
   ]
  },
  {
   "cell_type": "code",
   "execution_count": 2,
   "id": "8d0b4879-54e7-4f05-9e69-6793efd3f7b6",
   "metadata": {},
   "outputs": [
    {
     "data": {
      "text/plain": [
       "'icht'"
      ]
     },
     "execution_count": 2,
     "metadata": {},
     "output_type": "execute_result"
    }
   ],
   "source": [
    "s = 'Habicht'\n",
    "s[3:]             # Teilstring ab Zeichen an der Stelle 3 bis zum Ende"
   ]
  },
  {
   "cell_type": "code",
   "execution_count": 3,
   "id": "c5eba4aa-93b9-49c0-8de7-84577f056a5d",
   "metadata": {},
   "outputs": [
    {
     "data": {
      "text/plain": [
       "'bic'"
      ]
     },
     "execution_count": 3,
     "metadata": {},
     "output_type": "execute_result"
    }
   ],
   "source": [
    "s = 'Habicht'\n",
    "s[2:5]            # Teilstring ab Stelle 2 bis Stelle 5 (ausschließlich)"
   ]
  },
  {
   "cell_type": "code",
   "execution_count": 4,
   "id": "dc295b31-06bf-470c-858c-57521d87af56",
   "metadata": {},
   "outputs": [
    {
     "data": {
      "text/plain": [
       "'thci'"
      ]
     },
     "execution_count": 4,
     "metadata": {},
     "output_type": "execute_result"
    }
   ],
   "source": [
    "s = 'Habicht'\n",
    "s[-1:2:-1]         # Teilstring ab der letzten Stelle bis Stelle 2 (ausschließlich), rückwärts"
   ]
  },
  {
   "cell_type": "code",
   "execution_count": 5,
   "id": "95e435b4-4755-4476-8f1b-2b6313ff71b4",
   "metadata": {},
   "outputs": [
    {
     "data": {
      "text/plain": [
       "'Hbct'"
      ]
     },
     "execution_count": 5,
     "metadata": {},
     "output_type": "execute_result"
    }
   ],
   "source": [
    "s = 'Habicht'\n",
    "s[::2]            # jedes zweite Zeichen"
   ]
  },
  {
   "cell_type": "code",
   "execution_count": 6,
   "id": "e51ffb0c-8cbe-4b92-8d6e-e0e94e4f0390",
   "metadata": {},
   "outputs": [
    {
     "data": {
      "text/plain": [
       "'thcibaH'"
      ]
     },
     "execution_count": 6,
     "metadata": {},
     "output_type": "execute_result"
    }
   ],
   "source": [
    "s = 'Habicht'\n",
    "s[::-1]            # den gesamten String rückwärts"
   ]
  },
  {
   "cell_type": "code",
   "execution_count": null,
   "id": "71f72eb1-3e12-43f7-9a5b-132c961a428a",
   "metadata": {},
   "outputs": [],
   "source": [
    "'''\n",
    "Aufgabe 1:\n",
    "Gib die ersten 3 Zeichen eines Strings aus.\n",
    "\n",
    "Beispieldialoge:\n",
    "\n",
    "Bitte einen String eingeben: Hallo\n",
    "Hal\n",
    "\n",
    "Bitte einen String eingeben: Beethoven\n",
    "Bee\n",
    "\n",
    "Bitte einen String eingeben: Hi\n",
    "Hi\n",
    "'''\n",
    "# your code "
   ]
  },
  {
   "cell_type": "code",
   "execution_count": null,
   "id": "0c4fb021-b36e-47ec-9699-2b367e7183de",
   "metadata": {},
   "outputs": [],
   "source": [
    "'''\n",
    "Aufgabe 2:\n",
    "Lies eine String s ein, dann eine Zahl k.\n",
    "Gib die letzten k Zeichen von s aus.\n",
    "\n",
    "Beispieldialoge:\n",
    "\n",
    "Bitte einen String eingeben: Hallo\n",
    "Bitte eine Zahl eingeben: 2\n",
    "lo\n",
    "\n",
    "Bitte einen String eingeben: Habicht\n",
    "Bitte eine Zahl eingeben: 4\n",
    "icht\n",
    "\n",
    "'''\n",
    "# your code "
   ]
  },
  {
   "cell_type": "code",
   "execution_count": null,
   "id": "2475836b-e4ec-4266-8250-bbc42d1920e0",
   "metadata": {},
   "outputs": [],
   "source": [
    "'''\n",
    "Aufgabe 3:\n",
    "Lies eine String s ein \n",
    "Bilde einen neuen String s1 aus den ersten 3 und den letzten 3 Zeichen von s \n",
    "und gib s1 aus.\n",
    "\n",
    "Beispieldialoge:\n",
    "\n",
    "Bitte einen String eingeben: Hallo\n",
    "Halllo\n",
    "\n",
    "Bitte einen String eingeben: Habicht\n",
    "Habcht\n",
    "\n",
    "Bitte einen String eingeben: Informatik\n",
    "Inftik\n",
    "\n",
    "'''\n",
    "# your code "
   ]
  },
  {
   "cell_type": "code",
   "execution_count": null,
   "id": "54c8183a-8f86-4fa4-8441-cc06aa63862a",
   "metadata": {},
   "outputs": [],
   "source": [
    "'''\n",
    "Aufgabe 4:\n",
    "Lies eine String s ein. Gib die Zeichen des Strings in umgekehrter Reihenfolge aus.\n",
    "\n",
    "Beispieldialoge:\n",
    "\n",
    "Bitte einen String eingeben: Hallo\n",
    "ollaH\n",
    "\n",
    "Bitte einen String eingeben: Habicht\n",
    "thcibaH\n",
    "'''\n",
    "# your code \n"
   ]
  },
  {
   "cell_type": "code",
   "execution_count": null,
   "id": "910a5e54-9294-4cbc-9142-5be6f5a034c2",
   "metadata": {},
   "outputs": [],
   "source": [
    "'''\n",
    "Aufgabe 5:\n",
    "Lies eine String s ein. Wenn s ein Palindrom ist, d.h. von vorwärts und rückwärts gelesen gleich ist,\n",
    "gib 'YES' aus, sonst 'NO'.\n",
    "\n",
    "Beispieldialoge:\n",
    "\n",
    "Bitte einen String eingeben: otto\n",
    "YES\n",
    "\n",
    "Bitte einen String eingeben: regallager\n",
    "YES\n",
    "\n",
    "Bitte einen String eingeben: hanna\n",
    "NO\n",
    "\n",
    "'''\n",
    "# your code \n",
    " "
   ]
  },
  {
   "cell_type": "code",
   "execution_count": null,
   "id": "b52512f3-da55-4d30-921e-c10f88ed3e93",
   "metadata": {},
   "outputs": [],
   "source": [
    "'''\n",
    "Aufgabe 6:\n",
    "Lies eine String s ein. \n",
    "Gib nacheinander Zeichen mit ihren Nachfolgern aus (Teilstrings der Länge 2)\n",
    "\n",
    "Beispieldialoge:\n",
    "\n",
    "Bitte einen String eingeben: Habicht\n",
    "Ha ab bi ic ch ht \n",
    "\n",
    "Bitte einen String eingeben: Informatik\n",
    "In nf fo or rm ma at ti ik \n",
    "\n",
    "'''\n",
    "# your code "
   ]
  },
  {
   "cell_type": "code",
   "execution_count": null,
   "id": "4e7edc42-20de-4591-9306-db95a72cb9a2",
   "metadata": {},
   "outputs": [],
   "source": [
    "'''\n",
    "Aufgabe 7:\n",
    "Lies eine String s ein. \n",
    "Gib nacheinander die vorne beginnenden Teilstrings aus.\n",
    "\n",
    "Beispieldialoge:\n",
    "\n",
    "Bitte einen String eingeben: Habicht\n",
    "H\n",
    "Ha\n",
    "Hab\n",
    "Habi\n",
    "Habic\n",
    "Habich\n",
    "Habicht\n",
    "\n",
    "'''\n",
    "# your code "
   ]
  },
  {
   "cell_type": "code",
   "execution_count": null,
   "id": "f4deb72c-62cd-4486-8ef4-1e0c239b6e2d",
   "metadata": {},
   "outputs": [],
   "source": [
    "'''\n",
    "Aufgabe 8:\n",
    "Lies eine String s ein. \n",
    "Gib nacheinander die hinten endenden Teilstrings aus.\n",
    "\n",
    "Beispieldialoge:\n",
    "\n",
    "Bitte einen String eingeben: Habicht\n",
    "Habicht\n",
    "abicht\n",
    "bicht\n",
    "icht\n",
    "cht\n",
    "ht\n",
    "t\n",
    "\n",
    "'''\n",
    "# your code "
   ]
  },
  {
   "cell_type": "code",
   "execution_count": null,
   "id": "7ceb705d-3259-4a55-8c95-2e12aba0509d",
   "metadata": {},
   "outputs": [],
   "source": [
    "'''\n",
    "Aufgabe 9:\n",
    "Lies eine String s ein und einen weiteren String s0 ein. \n",
    "Wenn s0 in s vorkommt, gib 'YES' aus, ansonsten 'NO'.\n",
    "\n",
    "Nutze eine for-Schleife und slicing, keine eingebauten Funktionen.\n",
    "\n",
    "Beispieldialoge:\n",
    "\n",
    "Bitte einen String eingeben: Habicht\n",
    "Bitte einen weiteren String eingeben: ich\n",
    "YES\n",
    "\n",
    "Bitte einen String eingeben: Hallo\n",
    "Bitte einen weiteren String eingeben: lol\n",
    "NO\n",
    "\n",
    "Bitte einen String eingeben: Hallo\n",
    "Bitte einen weiteren String eingeben: llo\n",
    "YES\n",
    "\n",
    "'''\n",
    "# your code"
   ]
  }
 ],
 "metadata": {
  "kernelspec": {
   "display_name": "Python 3 (ipykernel)",
   "language": "python",
   "name": "python3"
  },
  "language_info": {
   "codemirror_mode": {
    "name": "ipython",
    "version": 3
   },
   "file_extension": ".py",
   "mimetype": "text/x-python",
   "name": "python",
   "nbconvert_exporter": "python",
   "pygments_lexer": "ipython3",
   "version": "3.11.2"
  }
 },
 "nbformat": 4,
 "nbformat_minor": 5
}
