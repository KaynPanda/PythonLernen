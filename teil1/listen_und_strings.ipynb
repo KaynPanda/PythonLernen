{
 "cells": [
  {
   "cell_type": "markdown",
   "id": "c7fd1383-853b-4771-9a3e-30de05120037",
   "metadata": {},
   "source": [
    "### Listen und Strings\n",
    "\n",
    "Wir wollen das Zusammenspiel zwischen Listen und Strings betrachten."
   ]
  },
  {
   "cell_type": "code",
   "execution_count": 2,
   "id": "0e40c348-5568-4296-b4e6-172cc0debe05",
   "metadata": {},
   "outputs": [
    {
     "name": "stdout",
     "output_type": "stream",
     "text": [
      "['H', 'a', 'l', 'l', 'o']\n"
     ]
    }
   ],
   "source": [
    "s = 'Hallo'    # Umwandeln eines Strings in eine Liste von Zeichen\n",
    "a = list(s)\n",
    "print(a)"
   ]
  },
  {
   "cell_type": "code",
   "execution_count": 3,
   "id": "9d2ef2f6-8543-4bbd-9076-7b68427a5fca",
   "metadata": {},
   "outputs": [
    {
     "name": "stdout",
     "output_type": "stream",
     "text": [
      "['Dies', 'ist', 'ein', 'Text']\n"
     ]
    }
   ],
   "source": [
    "# Die Bestandteile eines Textes in eine Liste umwandeln\n",
    "s = 'Dies ist ein Text'\n",
    "a = s.split()   # Das Leerzeichen dient als Trennzeichen\n",
    "print(a)"
   ]
  },
  {
   "cell_type": "code",
   "execution_count": 4,
   "id": "9a1a5ebe-14d2-4432-bb0f-9b1c88573fff",
   "metadata": {},
   "outputs": [
    {
     "name": "stdout",
     "output_type": "stream",
     "text": [
      "Dies ist ein weiterer Text\n"
     ]
    }
   ],
   "source": [
    "a = ['Dies', 'ist', 'ein', 'weiterer', 'Text']\n",
    "s = ' '.join(a)       # Die Elemente von a werden mit ' ' verbunden.\n",
    "print(s)"
   ]
  },
  {
   "cell_type": "code",
   "execution_count": 5,
   "id": "26b9a541-f1b8-40e7-b8e4-04ca485ea11a",
   "metadata": {},
   "outputs": [
    {
     "name": "stdout",
     "output_type": "stream",
     "text": [
      "Dies...ist...ein...weiterer...Text\n"
     ]
    }
   ],
   "source": [
    "a = ['Dies', 'ist', 'ein', 'weiterer', 'Text']\n",
    "s = '...'.join(a)     # Die Elemente von a werden mit '...' verbunden.\n",
    "print(s)"
   ]
  },
  {
   "cell_type": "code",
   "execution_count": null,
   "id": "d4ccb947-0b1b-49bb-867b-3dbedb404d81",
   "metadata": {},
   "outputs": [],
   "source": [
    "'''\n",
    "Aufgabe 1:\n",
    "Erstelle aus einem String eine Liste seiner Zeichen\n",
    "\n",
    "Beispieldialoge:\n",
    "\n",
    "Bitte einen String eingeben: Habicht\n",
    "['H', 'a', 'b', 'i', 'c', 'h', 't']\n",
    "'''\n",
    "#your code"
   ]
  },
  {
   "cell_type": "code",
   "execution_count": null,
   "id": "ba65c299-9d66-4a9d-910d-07c495f94ec2",
   "metadata": {},
   "outputs": [],
   "source": [
    "'''\n",
    "Aufgabe 2:\n",
    "Lies einen String s ein\n",
    "Lies ein Trennzeichen c ein.\n",
    "Gib die Liste a aus, die die Bestandteile von s enthält, wenn man c als Trennzeichen nutzt\n",
    "\n",
    "Beispieldialoge:\n",
    "\n",
    "Bitte einen String eingeben: Habicht\n",
    "Bitte ein Trennzeichen eingeben: c\n",
    "['Habi', 'ht']\n",
    "\n",
    "Bitte einen String eingeben: hola-hula-hup\n",
    "Bitte ein Trennzeichen eingeben: -\n",
    "['hola', 'hula', 'hup']\n",
    "\n",
    "'''\n",
    "#your code\n",
    " "
   ]
  },
  {
   "cell_type": "code",
   "execution_count": null,
   "id": "b4c36c7d-909b-410d-9e85-da173b7d9830",
   "metadata": {},
   "outputs": [],
   "source": [
    "'''\n",
    "Aufgabe 3:\n",
    "Lies einen String s ein\n",
    "Lies ein Trennzeichen c ein.\n",
    "Gib die Anzahl der Bestandteile aus, die man erhält, wenn man c als Trennzeichen nimmt.\n",
    "\n",
    "Beispieldialoge:\n",
    "\n",
    "Bitte einen String eingeben: Denkendorf\n",
    "Bitte ein Trennzeichen eingeben: n\n",
    "3\n",
    "\n",
    "Bitte einen String eingeben: hola-hula-hup\n",
    "Bitte ein Trennzeichen eingeben: -\n",
    "['hola', 'hula', 'hup']\n",
    "\n",
    "Bitte einen String eingeben: Herrenberg\n",
    "Bitte ein Trennzeichen eingeben: r\n",
    "4\n",
    "'''\n",
    "#your code"
   ]
  },
  {
   "cell_type": "code",
   "execution_count": null,
   "id": "017fd32e-c112-4d9a-bae0-456baeb0d1ca",
   "metadata": {},
   "outputs": [],
   "source": [
    "'''\n",
    "Aufgabe 4:\n",
    "Lies einen Satz mit mehreren Worten ein, die durch Leerzeichen getrennt sind\n",
    "Gib den Satz aus mit einem '+' zwischen den Worten.\n",
    "\n",
    "Beispieldialoge:\n",
    "\n",
    "Bitte einen Satz eingeben: Heute ist ein schöner Tag\n",
    "Heute+ist+ein+schöner+Tag\n",
    "\n",
    "Bitte einen Satz eingeben: Da ist nicht viel.\n",
    "Da+ist+nicht+viel.\n",
    "\n",
    "'''\n",
    "#your code"
   ]
  },
  {
   "cell_type": "code",
   "execution_count": null,
   "id": "d69fde49-88e1-4818-928d-d50fe64613bd",
   "metadata": {},
   "outputs": [],
   "source": [
    "'''\n",
    "Aufgabe 5:\n",
    "Lies einen Satz mit mehreren Worten ein, die durch Leerzeichen getrennt sind\n",
    "Gib den Satz ohne Leerzeichen aus. Nutze auch hier die Funktion join.\n",
    "\n",
    "Beispieldialoge:\n",
    "\n",
    "Bitte einen Satz eingeben: Heute ist ein schöner Tag\n",
    "HeuteisteinschönerTag\n",
    "\n",
    "Bitte einen Satz eingeben: Da ist nicht viel.\n",
    "Daistnichtviel.\n",
    "\n",
    "'''\n",
    "#your code"
   ]
  },
  {
   "cell_type": "code",
   "execution_count": null,
   "id": "927cecb4-0a7a-4b0e-85dd-81138b2d43b6",
   "metadata": {},
   "outputs": [],
   "source": [
    "'''\n",
    "Aufgabe 6:\n",
    "Gib in einer Zeile ein ganze Zahl ein.\n",
    "Gib die Liste mit den Ziffern aus.\n",
    "\n",
    "Beispieldialoge:\n",
    "\n",
    "Bitte eine Zahl eingeben: 123456789\n",
    "[1, 2, 3, 4, 5, 6, 7, 8, 9]\n",
    "\n",
    "Bitte eine Zahl eingeben: 2313450023\n",
    "[2, 3, 1, 3, 4, 5, 0, 0, 2, 3]\n",
    "\n",
    "'''\n",
    "#your code"
   ]
  },
  {
   "cell_type": "code",
   "execution_count": null,
   "id": "a7e60ea1-aab9-421b-8f47-ff0449652cc8",
   "metadata": {},
   "outputs": [],
   "source": [
    "'''\n",
    "Aufgabe 7:\n",
    "Gib in einer Zeile eine positive ganze Zahl ein.\n",
    "Gib die Quersumme der Zahl aus.\n",
    "\n",
    "Beispieldialoge:\n",
    "\n",
    "Bitte eine Zahl eingeben: 124\n",
    "7\n",
    "\n",
    "Bitte eine Zahl eingeben: 1234567\n",
    "28\n",
    "\n",
    "'''\n",
    "#your code"
   ]
  },
  {
   "cell_type": "markdown",
   "id": "cb0e6013-51d6-45b6-a1e1-3d14eda807b0",
   "metadata": {},
   "source": [
    "#### For-Schleife ohne Index\n",
    "\n",
    "Wir können mit einer for-Schleife, die den Index benutzt,  durch einen String oder eine Liste gehen. Wir können aber auch ohne Index durch die Elemente eines Strings oder einer Liste gehen."
   ]
  },
  {
   "cell_type": "code",
   "execution_count": 6,
   "id": "d1282a6b-18d9-487f-a2fc-45c2b575306d",
   "metadata": {},
   "outputs": [
    {
     "name": "stdout",
     "output_type": "stream",
     "text": [
      "H a l l o "
     ]
    }
   ],
   "source": [
    "s = 'Hallo'\n",
    "for i in range(len(s)):     # for Schleife mit Index\n",
    "    print(s[i], end=' ')  "
   ]
  },
  {
   "cell_type": "code",
   "execution_count": 7,
   "id": "7a3cbf67-62d4-4ca8-b8a1-81b6abbf20d8",
   "metadata": {},
   "outputs": [
    {
     "name": "stdout",
     "output_type": "stream",
     "text": [
      "H a l l o "
     ]
    }
   ],
   "source": [
    "s = 'Hallo'\n",
    "for c in s:                # c durchläuft die Zeichen in s\n",
    "    print(c,end = ' ')  "
   ]
  },
  {
   "cell_type": "code",
   "execution_count": 10,
   "id": "94142621-43ce-407c-a47b-e25b2774ddb2",
   "metadata": {},
   "outputs": [
    {
     "name": "stdout",
     "output_type": "stream",
     "text": [
      "1 2 3 4 5 "
     ]
    }
   ],
   "source": [
    "a = [1, 2, 3, 4, 5]\n",
    "for i in range(len(a)):   # for Schleife mit Index\n",
    "    print(a[i], end=' ')"
   ]
  },
  {
   "cell_type": "code",
   "execution_count": 11,
   "id": "6016d11e-1fcb-4ae0-a3e3-2ce485af04fc",
   "metadata": {},
   "outputs": [
    {
     "name": "stdout",
     "output_type": "stream",
     "text": [
      "1 2 3 4 5 "
     ]
    }
   ],
   "source": [
    "a = [1, 2, 3, 4, 5]\n",
    "for k in a:               # k durchläuft die Zahlen in a\n",
    "    print(k, end=' ')"
   ]
  },
  {
   "cell_type": "markdown",
   "id": "1f464d4b-1c2b-4a7c-b066-72f829e8574c",
   "metadata": {},
   "source": [
    "Wenn möglich nutzen wir for-Schleifen ohne Index."
   ]
  },
  {
   "cell_type": "code",
   "execution_count": null,
   "id": "f97b39bb-5794-4c1c-a70a-f44e6faac487",
   "metadata": {},
   "outputs": [],
   "source": [
    "'''\n",
    "Aufgabe 8:\n",
    "Lies einen String s ein.\n",
    "Lies ein Zeichen c ein.\n",
    "Gib aus, wie oft das Zeichen c in s vorkommt.\n",
    "Nutze nicht die Funktion count, sondern einen for-Schleife ohne Index\n",
    "\n",
    "Beispieldialoge:\n",
    "\n",
    "Bitte einen String eingeben: Tralala\n",
    "Bitte ein Zeichen eingeben: a\n",
    "3\n",
    "\n",
    "Bitte einen String eingeben: Tralala\n",
    "Bitte ein Zeichen eingeben: z\n",
    "0\n",
    "'''\n",
    "#your code\n",
    "    "
   ]
  },
  {
   "cell_type": "code",
   "execution_count": null,
   "id": "21b30e82-9681-46fe-aaef-386c88cdd4e0",
   "metadata": {},
   "outputs": [],
   "source": [
    "'''\n",
    "Aufgabe 8:\n",
    "Lies positive ganze Zahl n ein.\n",
    "Gib die Summe aller ihrer geraden Ziffern aus.\n",
    "Nutze eine for-Schleife ohne Index.\n",
    "\n",
    "Beispieldialoge:\n",
    "\n",
    "Bitte eine Zahl eingeben: 243\n",
    "6\n",
    "\n",
    "Bitte eine Zahl eingeben: 135775\n",
    "0\n",
    "\n",
    "Bitte eine Zahl eingeben: 12345678\n",
    "20\n",
    "'''\n",
    "#your code\n"
   ]
  }
 ],
 "metadata": {
  "kernelspec": {
   "display_name": "Python 3 (ipykernel)",
   "language": "python",
   "name": "python3"
  },
  "language_info": {
   "codemirror_mode": {
    "name": "ipython",
    "version": 3
   },
   "file_extension": ".py",
   "mimetype": "text/x-python",
   "name": "python",
   "nbconvert_exporter": "python",
   "pygments_lexer": "ipython3",
   "version": "3.11.2"
  }
 },
 "nbformat": 4,
 "nbformat_minor": 5
}
