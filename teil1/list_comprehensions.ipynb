{
 "cells": [
  {
   "cell_type": "markdown",
   "id": "4f9a395f-7fe0-48c1-bd57-c5590967e2c9",
   "metadata": {},
   "source": [
    "#### List Comprehensions\n",
    "\n",
    "Mit einer List-Comprehension erzeugen wir aus einer gegeben Liste (oder string/range/tuple) auf kompakte Art eine neue Liste.\n",
    "Statt for-Schleife mit append haben wir in der List-Comprehension die for-Schleife in der Liste und sparen uns das append."
   ]
  },
  {
   "cell_type": "code",
   "execution_count": 1,
   "id": "a7cf6df6-46bc-49be-8811-b4e6289ce1fb",
   "metadata": {},
   "outputs": [
    {
     "name": "stdout",
     "output_type": "stream",
     "text": [
      "[2, 4, 6]\n"
     ]
    }
   ],
   "source": [
    "# Ohne List-Comprehension\n",
    "a = [1,2,3]\n",
    "b = []\n",
    "for x in a:                # for-Schleife mit append\n",
    "    b.append(2*x)\n",
    "print(b)"
   ]
  },
  {
   "cell_type": "code",
   "execution_count": 2,
   "id": "70721359-176a-49ec-a8ec-df56c8ca3fae",
   "metadata": {},
   "outputs": [
    {
     "name": "stdout",
     "output_type": "stream",
     "text": [
      "[2, 4, 6]\n"
     ]
    }
   ],
   "source": [
    "# Mit List-Comprehension\n",
    "a = [1,2,3]\n",
    "b = [2*x for x in a]      # List-Comprehension\n",
    "print(b)"
   ]
  },
  {
   "cell_type": "markdown",
   "id": "5d17d523-852a-44a6-a957-deb903179268",
   "metadata": {},
   "source": [
    "Wir können auch Bedingungen stellen an die Elemente, die in die neue Liste aufgenommen werden sollen."
   ]
  },
  {
   "cell_type": "code",
   "execution_count": 3,
   "id": "0bd5d357-d5bd-4564-bfdd-cdb1121a067b",
   "metadata": {},
   "outputs": [
    {
     "name": "stdout",
     "output_type": "stream",
     "text": [
      "[4, 8]\n"
     ]
    }
   ],
   "source": [
    "# Ohne List-Comprehension\n",
    "a = [1,2,3,4,5]\n",
    "b = []\n",
    "for x in a:                # for-Schleife mit append\n",
    "    if x % 2 == 0:         # nur gerade Zahlen verarbeitet und in b übernommen\n",
    "        b.append(2*x)\n",
    "print(b)"
   ]
  },
  {
   "cell_type": "code",
   "execution_count": 4,
   "id": "282c7a26-36a7-4b55-83b7-c2915e3fb2ce",
   "metadata": {},
   "outputs": [
    {
     "name": "stdout",
     "output_type": "stream",
     "text": [
      "[4, 8]\n"
     ]
    }
   ],
   "source": [
    "# Mit List-Comprehension\n",
    "a = [1,2,3,4,5]\n",
    "b = [2*x for x in a if x % 2 == 0]\n",
    "print(b)"
   ]
  },
  {
   "cell_type": "markdown",
   "id": "55657ad4-53ab-4160-95d6-651a9e0c33a9",
   "metadata": {},
   "source": [
    "Wir können aus Ausgangspunkt für die Liste-Comprehension auch eine range oder einen String nutzen."
   ]
  },
  {
   "cell_type": "code",
   "execution_count": 5,
   "id": "a74eef1e-022f-47c9-bd2a-44b9dbae117a",
   "metadata": {},
   "outputs": [
    {
     "name": "stdout",
     "output_type": "stream",
     "text": [
      "[1, 4, 9, 16, 25, 36, 49, 64, 81, 100]\n"
     ]
    }
   ],
   "source": [
    "a = [k*k for k in range(1,11)]      # Liste mit Quadratzahlen\n",
    "print(a)"
   ]
  },
  {
   "cell_type": "code",
   "execution_count": 6,
   "id": "2da452ad-42a8-4bca-bfb0-7f20144683cf",
   "metadata": {},
   "outputs": [
    {
     "name": "stdout",
     "output_type": "stream",
     "text": [
      "['HH', 'aa', 'bb', 'ii', 'cc', 'hh', 'tt']\n"
     ]
    }
   ],
   "source": [
    "a = [c+c for c in 'Habicht']  \n",
    "print(a)"
   ]
  },
  {
   "cell_type": "markdown",
   "id": "0f4279c2-13e9-4a64-b73e-93e1a139ea5a",
   "metadata": {},
   "source": [
    "Wenn wir mehrere Zahlen in einlesen wollen, können wir eine List-Comprehension nutzen:"
   ]
  },
  {
   "cell_type": "code",
   "execution_count": 7,
   "id": "0bec6e2b-3716-4ed9-be67-416243126531",
   "metadata": {},
   "outputs": [
    {
     "name": "stdin",
     "output_type": "stream",
     "text": [
      "Bitte zwei Zahlen eingeben 5 6\n"
     ]
    },
    {
     "name": "stdout",
     "output_type": "stream",
     "text": [
      "Die Summe ist 11\n"
     ]
    }
   ],
   "source": [
    "x, y = [int(x) for x in input('Bitte zwei Zahlen eingeben').split()]\n",
    "print('Die Summe ist',x+y)"
   ]
  },
  {
   "cell_type": "markdown",
   "id": "41c5544a-127b-4e16-81a6-7aa4f5d80774",
   "metadata": {},
   "source": [
    "----\n",
    "\n",
    "#### Aufgaben\n",
    "\n",
    "Nutze für alle Aufgabe eine List-Comprehension"
   ]
  },
  {
   "cell_type": "code",
   "execution_count": null,
   "id": "7c399a5d-9378-4aa1-9a25-1d5889d0b084",
   "metadata": {},
   "outputs": [],
   "source": [
    "def func1(a):\n",
    "    '''\n",
    "    Aufgabe 1:\n",
    "    a: Liste mit Zahlen\n",
    "    returns: Liste mit den Zahlen aus a, jede um 10 erhöht.\n",
    "\n",
    "    >>> func1([1,2,3])\n",
    "    [11, 12, 13]\n",
    "\n",
    "    >>> func1([0])\n",
    "    [10]\n",
    "\n",
    "    >>> func1([])\n",
    "    []\n",
    "\n",
    "    '''\n",
    "    # your code\n",
    " \n",
    "import doctest\n",
    "doctest.run_docstring_examples(func1,globals(),optionflags=doctest.NORMALIZE_WHITESPACE)    "
   ]
  },
  {
   "cell_type": "code",
   "execution_count": null,
   "id": "0fdd506e-0a68-4cf8-aa7a-a93a08ac0840",
   "metadata": {},
   "outputs": [],
   "source": [
    "def func2(a):\n",
    "    '''\n",
    "    Aufgabe 2:\n",
    "    a: Liste mit Zahlen\n",
    "    returns: Liste mit den Zahlen aus a, jede ganzzahlig durch 2 dividiert\n",
    "\n",
    "    >>> func2([1,2,3])\n",
    "    [0, 1, 1]\n",
    "\n",
    "    >>> func2([10,11,12,13,14])\n",
    "    [5, 5, 6, 6, 7]\n",
    "\n",
    "    >>> func2([])\n",
    "    []\n",
    "\n",
    "    '''\n",
    "    # your code\n",
    " \n",
    "import doctest\n",
    "doctest.run_docstring_examples(func2,globals(),optionflags=doctest.NORMALIZE_WHITESPACE) "
   ]
  },
  {
   "cell_type": "code",
   "execution_count": null,
   "id": "30fd6860-b9b5-409a-a36e-2334229fc7d5",
   "metadata": {},
   "outputs": [],
   "source": [
    "def func3(a):\n",
    "    '''\n",
    "    Aufgabe 3:\n",
    "    a: Liste mit Zahlen\n",
    "    returns: Liste mit den Resten, wenn man die Zahlen aus a durch 3 dividiert\n",
    "\n",
    "    >>> func3([0,1,2,3,4,5,6,7,8,9])\n",
    "    [0, 1, 2, 0, 1, 2, 0, 1, 2, 0]\n",
    "\n",
    "    >>> func3([100,101,102])\n",
    "    [1, 2, 0]\n",
    "\n",
    "    >>> func3([])\n",
    "    []\n",
    "    '''\n",
    "    # your code\n",
    " \n",
    "import doctest\n",
    "doctest.run_docstring_examples(func3,globals(),optionflags=doctest.NORMALIZE_WHITESPACE) "
   ]
  },
  {
   "cell_type": "code",
   "execution_count": null,
   "id": "6db28844-5533-43af-8c90-667eca46f3fe",
   "metadata": {},
   "outputs": [],
   "source": [
    "def func4(k):\n",
    "    '''\n",
    "    Aufgabe 4:\n",
    "    k: positive ganze Zahl\n",
    "    returns: Liste aller Quadrate der Zahlen von 1 bis k.\n",
    "\n",
    "    >>> func4(2)\n",
    "    [1, 4]\n",
    "\n",
    "    >>> func4(7)\n",
    "    [1, 4, 9, 16, 25, 36, 49]\n",
    "\n",
    "    >>> func4(0)\n",
    "    []\n",
    "    '''\n",
    "    # your code\n",
    " \n",
    "import doctest\n",
    "doctest.run_docstring_examples(func4,globals(),optionflags=doctest.NORMALIZE_WHITESPACE) "
   ]
  },
  {
   "cell_type": "code",
   "execution_count": null,
   "id": "927bd63e-3f3b-423b-bc58-cc54abbba7c1",
   "metadata": {},
   "outputs": [],
   "source": [
    "def func5(k):\n",
    "    '''\n",
    "    Aufgabe 5:\n",
    "    k: positive ganze Zahl\n",
    "    returns: Liste aller durch 9 teilbaren Quadrate der Zahlen von 1 bis k.\n",
    "\n",
    "    >>> func5(2)\n",
    "    []\n",
    "\n",
    "    >>> func5(10)\n",
    "    [9, 36, 81]\n",
    "\n",
    "    >>> func5(20)\n",
    "    [9, 36, 81, 144, 225, 324]\n",
    "    '''\n",
    "    # your code\n",
    " \n",
    "import doctest\n",
    "doctest.run_docstring_examples(func5,globals(),optionflags=doctest.NORMALIZE_WHITESPACE) "
   ]
  },
  {
   "cell_type": "code",
   "execution_count": null,
   "id": "a3afd9b1-f803-4fb7-85cd-84062b26a2b1",
   "metadata": {},
   "outputs": [],
   "source": [
    "def func6(s):\n",
    "    '''\n",
    "    Aufgabe 6:\n",
    "    s: String mit durch Leerzeichen getrennten Worte\n",
    "    returns: Liste mit den Längen dieser Worte\n",
    "\n",
    "    >>> func6('Hallo Habicht')\n",
    "    [5, 7]\n",
    "\n",
    "    >>> func6('a ab abc abcd')\n",
    "    [1, 2, 3, 4]\n",
    "\n",
    "    >>> func6('')\n",
    "    []\n",
    "    '''\n",
    "    # your code\n",
    " \n",
    "import doctest\n",
    "doctest.run_docstring_examples(func6,globals(),optionflags=doctest.NORMALIZE_WHITESPACE) "
   ]
  },
  {
   "cell_type": "code",
   "execution_count": null,
   "id": "28ac188d-629b-4719-b18c-7f7e3d84c6f4",
   "metadata": {},
   "outputs": [],
   "source": [
    "def func7(s):\n",
    "    '''\n",
    "    Aufgabe 7:\n",
    "    s: String mit durch Leerzeichen getrennten ganzen Zahlen\n",
    "    returns: Liste mit den int-Werten dieser Zahlen\n",
    "\n",
    "    >>> func7('1 2 3')\n",
    "    [1, 2, 3]\n",
    "\n",
    "    >>> func7('0')\n",
    "    [0]\n",
    "\n",
    "    >>> func7('')\n",
    "    []\n",
    "    '''\n",
    "    # your code\n",
    " \n",
    "import doctest\n",
    "doctest.run_docstring_examples(func7,globals(),optionflags=doctest.NORMALIZE_WHITESPACE) "
   ]
  },
  {
   "cell_type": "code",
   "execution_count": null,
   "id": "a1bb71e3-649c-4f19-9218-3f8f44d7c852",
   "metadata": {},
   "outputs": [],
   "source": [
    "def func8(s, k):\n",
    "    '''\n",
    "    Aufgabe 8:\n",
    "    s: String mit durch Leerzeichen getrennten ganzen Zahlen\n",
    "    k: int\n",
    "    returns: Liste mit den int-Werten der Zahlen, die kleiner als k sind\n",
    "\n",
    "    >>> func8('1 2 3 4 5 6', 4)\n",
    "    [1, 2, 3]\n",
    "\n",
    "    >>> func8('10 4 20 15 18 3 9', 12)\n",
    "    [10, 4, 3, 9]\n",
    "\n",
    "    >>> func8('10 20 30', 10)\n",
    "    []\n",
    "    '''\n",
    "    # your code\n",
    " \n",
    "import doctest\n",
    "doctest.run_docstring_examples(func8,globals(),optionflags=doctest.NORMALIZE_WHITESPACE) "
   ]
  },
  {
   "cell_type": "code",
   "execution_count": null,
   "id": "f4518ff2-d69e-43ba-ba15-1e812b777d16",
   "metadata": {},
   "outputs": [],
   "source": [
    "def func9(a, n, m):\n",
    "    '''\n",
    "    Aufgabe 9:\n",
    "    a: Liste mit positiven ganzen Zahlen\n",
    "    n, m: positive ganze Zahlen\n",
    "    returns: Liste mit den Zahlen aus a, die durch n oder m teilbar sind.\n",
    "\n",
    "    >>> func9([1,2,3,4,5,6,7,8,9],2,3)\n",
    "    [2, 3, 4, 6, 8, 9]\n",
    "\n",
    "    >>> func9([10,11,12],3,4)\n",
    "    [12]\n",
    "\n",
    "    >>> func9([10,11,12],2,4)\n",
    "    [10, 12]\n",
    "    '''\n",
    "    # your code\n",
    " \n",
    "import doctest\n",
    "doctest.run_docstring_examples(func9,globals(),optionflags=doctest.NORMALIZE_WHITESPACE) "
   ]
  }
 ],
 "metadata": {
  "kernelspec": {
   "display_name": "Python 3 (ipykernel)",
   "language": "python",
   "name": "python3"
  },
  "language_info": {
   "codemirror_mode": {
    "name": "ipython",
    "version": 3
   },
   "file_extension": ".py",
   "mimetype": "text/x-python",
   "name": "python",
   "nbconvert_exporter": "python",
   "pygments_lexer": "ipython3",
   "version": "3.11.2"
  }
 },
 "nbformat": 4,
 "nbformat_minor": 5
}
