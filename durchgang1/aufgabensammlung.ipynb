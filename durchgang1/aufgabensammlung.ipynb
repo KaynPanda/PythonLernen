{
 "cells": [
  {
   "cell_type": "code",
   "execution_count": 1,
   "id": "fee0bf2e-14ad-4c08-857f-a10f8f93e622",
   "metadata": {},
   "outputs": [
    {
     "name": "stdin",
     "output_type": "stream",
     "text": [
      "Bitte zwei ganze Zahlen a, b eingeben mit a < b: 6 12\n"
     ]
    },
    {
     "name": "stdout",
     "output_type": "stream",
     "text": [
      "Die Summe aller ganzen Zahlen zwischen 6 und 12 ist 63\n"
     ]
    }
   ],
   "source": [
    "s = input('Bitte zwei ganze Zahlen a, b eingeben mit a < b:')\n",
    "a, b = s.split()\n",
    "a = int(a)\n",
    "b = int(b)\n",
    "summe = 0\n",
    "for k in range(a,b+1):\n",
    "    summe = summe + k\n",
    "print('Die Summe aller ganzen Zahlen zwischen',a,'und',b,'ist',summe)"
   ]
  },
  {
   "cell_type": "code",
   "execution_count": 2,
   "id": "0cf50e4a-8fb5-4e81-9392-e5df2caeaa5d",
   "metadata": {},
   "outputs": [
    {
     "name": "stdin",
     "output_type": "stream",
     "text": [
      "Bitte eine Zahl eingeben: 5\n"
     ]
    },
    {
     "name": "stdout",
     "output_type": "stream",
     "text": [
      "#####\n",
      "#   #\n",
      "#   #\n",
      "#   #\n",
      "#   #\n",
      "#   #\n",
      "#####\n"
     ]
    }
   ],
   "source": [
    "k = int(input('Bitte eine Zahl eingeben:'))\n",
    "print('#####')\n",
    "for i in range(k):\n",
    "    print('#   #')\n",
    "print('#####')"
   ]
  },
  {
   "cell_type": "code",
   "execution_count": 6,
   "id": "64dc232c-011b-4523-a29f-a3c07b89b84a",
   "metadata": {},
   "outputs": [
    {
     "name": "stdin",
     "output_type": "stream",
     "text": [
      "Bitte zwei ganze Zahlen a, b eingeben mit a < b: 5 22\n"
     ]
    },
    {
     "name": "stdout",
     "output_type": "stream",
     "text": [
      "Die Anzahl aller Vielfachen von 7 zwischen 5 und 22 ist 3\n"
     ]
    }
   ],
   "source": [
    "s = input('Bitte zwei ganze Zahlen a, b eingeben mit a < b:')\n",
    "a, b = s.split()\n",
    "a = int(a)\n",
    "b = int(b)\n",
    "anzahl= 0\n",
    "for k in range(a,b+1):\n",
    "    if k%7==0:\n",
    "        anzahl = anzahl + 1\n",
    "print('Die Anzahl aller Vielfachen von 7 zwischen',a,'und',b,'ist',anzahl)"
   ]
  },
  {
   "cell_type": "markdown",
   "id": "a431e486-2942-4aa8-bb5a-1c6742a1f0b0",
   "metadata": {},
   "source": []
  }
 ],
 "metadata": {
  "kernelspec": {
   "display_name": "Python 3 (ipykernel)",
   "language": "python",
   "name": "python3"
  },
  "language_info": {
   "codemirror_mode": {
    "name": "ipython",
    "version": 3
   },
   "file_extension": ".py",
   "mimetype": "text/x-python",
   "name": "python",
   "nbconvert_exporter": "python",
   "pygments_lexer": "ipython3",
   "version": "3.11.2"
  }
 },
 "nbformat": 4,
 "nbformat_minor": 5
}
