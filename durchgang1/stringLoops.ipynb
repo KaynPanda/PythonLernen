{
 "cells": [
  {
   "cell_type": "markdown",
   "id": "4ad38369-4bb8-428f-8592-889b7731e3bd",
   "metadata": {},
   "source": [
    "### Indexing bei Strings\n",
    "\n",
    "Auf die einzelnen Zeichen eines Strings können wir mit einem Index zugreifen. Der Index beginnt bei 0."
   ]
  },
  {
   "cell_type": "code",
   "execution_count": 11,
   "id": "1ee09e85-8382-4e2e-8656-5f69d54bc95c",
   "metadata": {},
   "outputs": [
    {
     "name": "stdout",
     "output_type": "stream",
     "text": [
      "H\n"
     ]
    }
   ],
   "source": [
    "s = 'Habicht'\n",
    "c = s[0]                   # lies: s an der Stelle 0\n",
    "print(c)"
   ]
  },
  {
   "cell_type": "markdown",
   "id": "9855d83f-261a-4634-80d0-e33748c4734d",
   "metadata": {},
   "source": []
  },
  {
   "cell_type": "code",
   "execution_count": 12,
   "id": "ce2ad30f-ada4-459c-80b6-c786fb7f7d50",
   "metadata": {},
   "outputs": [
    {
     "name": "stdout",
     "output_type": "stream",
     "text": [
      "Index = 0  - Zeichen = H\n",
      "Index = 1  - Zeichen = a\n",
      "Index = 2  - Zeichen = b\n",
      "Index = 3  - Zeichen = i\n",
      "Index = 4  - Zeichen = c\n",
      "Index = 5  - Zeichen = h\n",
      "Index = 6  - Zeichen = t\n"
     ]
    }
   ],
   "source": [
    "for i in range(len(s)):\n",
    "    print('Index =',i,' - Zeichen =',s[i])"
   ]
  },
  {
   "cell_type": "markdown",
   "id": "2dde2ab2-1525-4690-b58e-dcf4e65345d0",
   "metadata": {},
   "source": [
    "Wir können auch mit einem negativen Index auf die Zeichen eines Strings zugreifen. Der Index beginnt hinten mit -1."
   ]
  },
  {
   "cell_type": "code",
   "execution_count": 2,
   "id": "1b18f807-aa6f-4c88-89a1-398688820ebf",
   "metadata": {},
   "outputs": [
    {
     "name": "stdout",
     "output_type": "stream",
     "text": [
      "t\n",
      "h\n"
     ]
    }
   ],
   "source": [
    "s = 'Habicht'\n",
    "c = s[-1]                   # das letzte Zeichen von s\n",
    "d = s[-2]                   # das vorletzte Zeichen von s\n",
    "print(c)\n",
    "print(d)"
   ]
  },
  {
   "cell_type": "markdown",
   "id": "116ed3a4-63a1-4790-9059-455606abc57d",
   "metadata": {},
   "source": [
    "----\n",
    "#### Beispiel"
   ]
  },
  {
   "cell_type": "code",
   "execution_count": 4,
   "id": "e5dd03fd-db62-4e3a-9888-1867623380cb",
   "metadata": {
    "jp-MarkdownHeadingCollapsed": true
   },
   "outputs": [
    {
     "name": "stdin",
     "output_type": "stream",
     "text": [
      "Bitte einen String eingeben:  ajkdsdfa\n"
     ]
    },
    {
     "name": "stdout",
     "output_type": "stream",
     "text": [
      "Erstes und letztes Zeichen sind gleich.\n",
      "Ende\n"
     ]
    }
   ],
   "source": [
    "s = input('Bitte einen String eingeben: ')\n",
    "if s[0] == s[-1]:\n",
    "    print('Erstes und letztes Zeichen sind gleich.')\n",
    "print('Ende')"
   ]
  },
  {
   "cell_type": "markdown",
   "id": "733a1e78-0c59-4254-b2f0-70a147af536f",
   "metadata": {},
   "source": [
    "-----\n",
    "#### Aufgabe 1\n",
    "\n",
    "Das Programm zählt die Anzahl der kleinen Buchstaben 'a' in einem String."
   ]
  },
  {
   "cell_type": "raw",
   "id": "ea1c47c0-e6b7-4964-82c3-4c0e5b55cc91",
   "metadata": {},
   "source": [
    "Lies einen String s ein.\n",
    "Setze eine Variable zaehl auf 0.\n",
    "Für jeden Index i des Strings s tue:\n",
    "    "
   ]
  },
  {
   "cell_type": "code",
   "execution_count": 11,
   "id": "dde4be0f-19c9-4b9e-8ada-53bd22ba7bde",
   "metadata": {},
   "outputs": [
    {
     "name": "stdin",
     "output_type": "stream",
     "text": [
      "Bitte einen String eingeben:  asfasfdasfasd\n"
     ]
    },
    {
     "name": "stdout",
     "output_type": "stream",
     "text": [
      "Anzahl kleine a: 4\n"
     ]
    }
   ],
   "source": [
    "s = input('Bitte einen String eingeben: ')\n",
    "zaehl = 0\n",
    "for i in range(len(s)):\n",
    "    if s[i] == 'a':\n",
    "        zaehl = zaehl+1\n",
    "print('Anzahl kleine a:',zaehl)\n"
   ]
  },
  {
   "cell_type": "markdown",
   "id": "9b388155-851d-4015-8fc4-1cb5e889f7ef",
   "metadata": {},
   "source": [
    "----\n",
    "#### Logische Operatoren\n",
    "\n",
    "Ein boolescher Ausdruck wertet sich immer zu True oder False aus."
   ]
  },
  {
   "cell_type": "code",
   "execution_count": 6,
   "id": "0a4c4bc0-ccbd-4da1-a245-78c9841b48af",
   "metadata": {},
   "outputs": [
    {
     "name": "stdout",
     "output_type": "stream",
     "text": [
      "False\n",
      "True\n",
      "False True\n"
     ]
    }
   ],
   "source": [
    "a = True\n",
    "b = False\n",
    "print(a and b)      # True wenn beide True\n",
    "print(a or b)       # True wenn mindestens einer True\n",
    "print(not a, not b)"
   ]
  },
  {
   "cell_type": "markdown",
   "id": "3a52aa9b-e408-4693-bd00-56e4dfa802ee",
   "metadata": {},
   "source": [
    "----\n",
    "#### Beispiel"
   ]
  },
  {
   "cell_type": "code",
   "execution_count": 9,
   "id": "8012520c-a8b2-4dbd-8ec5-a9392c4f4e30",
   "metadata": {},
   "outputs": [
    {
     "name": "stdin",
     "output_type": "stream",
     "text": [
      "Bitte einen String eingeben:  asdfjkfljeklaskljaldf\n"
     ]
    },
    {
     "name": "stdout",
     "output_type": "stream",
     "text": [
      "Anzahl kleine a innerhalb der ersten 10 Zeichen: 1\n"
     ]
    }
   ],
   "source": [
    "s = input('Bitte einen String eingeben:')\n",
    "zaehl = 0\n",
    "for i in range(len(s)):\n",
    "    if s[i] == 'a' and i < 10:          # beide Bedingungen müssen wahr sein\n",
    "        zaehl = zaehl+1\n",
    "print('Anzahl kleine a innerhalb der ersten 10 Zeichen:',zaehl)"
   ]
  },
  {
   "cell_type": "markdown",
   "id": "24144a2e-02a1-4bfa-aae9-f505ebc71752",
   "metadata": {},
   "source": [
    "----\n",
    "#### Aufgabe 2\n"
   ]
  },
  {
   "cell_type": "code",
   "execution_count": 13,
   "id": "ff2f72f5-2e87-4c14-ae59-2c85a698df16",
   "metadata": {},
   "outputs": [
    {
     "name": "stdin",
     "output_type": "stream",
     "text": [
      "Bitte einen String eingeben:  asfafafdadsfasfdsaf\n"
     ]
    },
    {
     "name": "stdout",
     "output_type": "stream",
     "text": [
      "Anzahl kleine a oder d: 9\n"
     ]
    }
   ],
   "source": [
    "s = input('Bitte einen String eingeben:')\n",
    "zaehl = 0\n",
    "for i in range(len(s)):\n",
    "    if s[i] == 'a' or s[i] == 'd':          # beide Bedingungen müssen wahr sein\n",
    "        zaehl = zaehl+1\n",
    "print('Anzahl kleine a oder d:',zaehl)"
   ]
  },
  {
   "cell_type": "markdown",
   "id": "d1cd79a3-02a7-4f3c-9052-6bc00df0ab5b",
   "metadata": {},
   "source": [
    "-----\n",
    "#### Aufgabe 3"
   ]
  },
  {
   "cell_type": "code",
   "execution_count": 15,
   "id": "f110f80d-783e-40a1-a135-10aaa3faee86",
   "metadata": {},
   "outputs": [
    {
     "name": "stdin",
     "output_type": "stream",
     "text": [
      "Bitte einen String eingeben:  dfsaafesssfdf\n"
     ]
    },
    {
     "name": "stdout",
     "output_type": "stream",
     "text": [
      "Anzahl gleiche Buchstaben nacheinander: 3\n"
     ]
    }
   ],
   "source": [
    "s = input('Bitte einen String eingeben:')\n",
    "zaehl = 0\n",
    "for i in range(len(s)-1):\n",
    "    if s[i] == s[i+1]:          # beide Bedingungen müssen wahr sein\n",
    "        zaehl = zaehl+1\n",
    "print('Anzahl gleiche Buchstaben nacheinander:',zaehl)"
   ]
  },
  {
   "cell_type": "code",
   "execution_count": null,
   "id": "eead0f3a-29db-4011-83cf-70aecdff1319",
   "metadata": {},
   "outputs": [],
   "source": []
  }
 ],
 "metadata": {
  "kernelspec": {
   "display_name": "Python 3 (ipykernel)",
   "language": "python",
   "name": "python3"
  },
  "language_info": {
   "codemirror_mode": {
    "name": "ipython",
    "version": 3
   },
   "file_extension": ".py",
   "mimetype": "text/x-python",
   "name": "python",
   "nbconvert_exporter": "python",
   "pygments_lexer": "ipython3",
   "version": "3.11.2"
  }
 },
 "nbformat": 4,
 "nbformat_minor": 5
}
