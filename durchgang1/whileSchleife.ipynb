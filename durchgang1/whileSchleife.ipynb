{
 "cells": [
  {
   "cell_type": "markdown",
   "id": "e76ea34f-2289-4ddc-ae6a-b8b4b9b5103e",
   "metadata": {},
   "source": [
    "#### Die while-Schleife\n",
    "\n",
    "Der Rumpf der while-Schleife wird solange durchlaufen, bis die while-Bedingung sich zu False auswertet. "
   ]
  },
  {
   "cell_type": "code",
   "execution_count": 1,
   "id": "1457a520-f826-4a13-869d-33f29f84ea3d",
   "metadata": {},
   "outputs": [
    {
     "name": "stdout",
     "output_type": "stream",
     "text": [
      "10\n",
      "8\n",
      "6\n",
      "4\n",
      "End\n"
     ]
    }
   ],
   "source": [
    "x = 10\n",
    "while x >= 4:\n",
    "    print(x)\n",
    "    x -= 2\n",
    "print(\"End\")"
   ]
  },
  {
   "cell_type": "code",
   "execution_count": 3,
   "id": "595f3992-57d7-45d2-91ad-f8dd7d88ec05",
   "metadata": {},
   "outputs": [
    {
     "name": "stdout",
     "output_type": "stream",
     "text": [
      "5\n"
     ]
    }
   ],
   "source": [
    "s = '00000100'\n",
    "i = 0\n",
    "while i < len(s) and s[i] == '0':    # solange an der Stelle i eine '0'\n",
    "    i+=1                             # rücke vorwärts\n",
    "print(i)                             "
   ]
  },
  {
   "cell_type": "markdown",
   "id": "233dbd65-8779-4116-b13f-b5baabb8e207",
   "metadata": {},
   "source": [
    "#### Aufgabe 1"
   ]
  },
  {
   "cell_type": "raw",
   "id": "e6269b50-e70d-4d9c-9e17-b56add9f73ac",
   "metadata": {},
   "source": [
    "Finde in der Liste a das erste Element, das nicht zu einer aufsteigend sortierten Reihenfolge gehört.\n",
    "Setze Index i auf 0\n",
    "Gehe mit dem Index durch die Liste solange, bis ein Element kleiner als das vorherige ist."
   ]
  },
  {
   "cell_type": "code",
   "execution_count": 7,
   "id": "549e18ca-6f88-45d8-9d77-5eb37b1b6f12",
   "metadata": {},
   "outputs": [
    {
     "name": "stdout",
     "output_type": "stream",
     "text": [
      "8\n"
     ]
    }
   ],
   "source": [
    "a = [4, 10, 12, 8, 28, 30]\n",
    "i = 0\n",
    "while a[i]<a[i+1]:\n",
    "    i+=1\n",
    "print(a[i+1])\n"
   ]
  },
  {
   "cell_type": "code",
   "execution_count": null,
   "id": "00742589-6989-4e6c-8175-58db6facc579",
   "metadata": {},
   "outputs": [],
   "source": [
    "z = 100\n",
    "while z > 0:\n",
    "     \n",
    "\n"
   ]
  }
 ],
 "metadata": {
  "kernelspec": {
   "display_name": "Python 3 (ipykernel)",
   "language": "python",
   "name": "python3"
  },
  "language_info": {
   "codemirror_mode": {
    "name": "ipython",
    "version": 3
   },
   "file_extension": ".py",
   "mimetype": "text/x-python",
   "name": "python",
   "nbconvert_exporter": "python",
   "pygments_lexer": "ipython3",
   "version": "3.11.2"
  }
 },
 "nbformat": 4,
 "nbformat_minor": 5
}
