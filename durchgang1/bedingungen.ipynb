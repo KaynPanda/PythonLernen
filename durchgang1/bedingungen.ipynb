{
 "cells": [
  {
   "cell_type": "markdown",
   "id": "b8106e50-ba1a-4f60-8bf5-d0b06b05deb0",
   "metadata": {},
   "source": [
    "### Vergleiche, Bedingungen, Teilbarkeit"
   ]
  },
  {
   "cell_type": "markdown",
   "id": "6a6b7ba3-bc82-45cf-b7bd-3d21fc90e26c",
   "metadata": {},
   "source": [
    "#### Wahrheitswerte und Vergleich von Zahlen\n",
    "\n",
    "Es gibt in Python die beiden Wahrheitswerte *True* und *False*. Wir können einer Variable einen Wahrheitswert zuweisen.\n",
    "\n"
   ]
  },
  {
   "cell_type": "code",
   "execution_count": 20,
   "id": "8c815a10-a6c4-401c-929a-fe7a647aefe8",
   "metadata": {},
   "outputs": [
    {
     "name": "stdout",
     "output_type": "stream",
     "text": [
      "True False\n"
     ]
    }
   ],
   "source": [
    "a = True\n",
    "b = False\n",
    "print(a, b)"
   ]
  },
  {
   "cell_type": "markdown",
   "id": "ef5f5538-4641-4d2f-9915-751cd055a478",
   "metadata": {},
   "source": [
    "Wahrheitswerte entstehen z.B. dann, wenn wir Zahlen vergleichen."
   ]
  },
  {
   "cell_type": "code",
   "execution_count": 21,
   "id": "a8fc461a-ad1b-46a2-9853-240ed584d78a",
   "metadata": {},
   "outputs": [
    {
     "name": "stdout",
     "output_type": "stream",
     "text": [
      "True\n"
     ]
    }
   ],
   "source": [
    "a = 7 > 5\n",
    "print(a)"
   ]
  },
  {
   "cell_type": "markdown",
   "id": "e70484eb-6250-4268-8c19-58614b1cb4a5",
   "metadata": {},
   "source": [
    "Auf Gleichheit prüfen wir mit dem doppelten Gleichheitszeichen, auf Ungleichheit mit der Folge aus Ausrufezeichen und Gleichheitszeichen. "
   ]
  },
  {
   "cell_type": "code",
   "execution_count": 22,
   "id": "66b26977-11c0-4fec-a129-39d04ce4e6d7",
   "metadata": {},
   "outputs": [
    {
     "name": "stdout",
     "output_type": "stream",
     "text": [
      "False False True True False True\n"
     ]
    }
   ],
   "source": [
    "i = 4\n",
    "j = 9\n",
    "print(i > j, i >= j, i < j, i <= j, i == j, i != j)"
   ]
  },
  {
   "cell_type": "markdown",
   "id": "fe232518-b88a-494a-b067-d4b4f31f1a32",
   "metadata": {},
   "source": [
    "#### Bedingte Anweisungen\n",
    "\n",
    "Mit bedingten Anweisungen können wir Verzweigungen im Programmfluss erreichen. Die Einrückung bestimmt, welche Anweisungen in den Rumpf der if-Anweisung gehören.\n",
    "\n",
    "##### if"
   ]
  },
  {
   "cell_type": "code",
   "execution_count": 23,
   "id": "072fc834-90c8-4087-b0aa-269452572ee4",
   "metadata": {},
   "outputs": [
    {
     "name": "stdout",
     "output_type": "stream",
     "text": [
      "A\n",
      "B\n",
      "Ende\n"
     ]
    }
   ],
   "source": [
    "x = 2\n",
    "if x > 1:\n",
    "    print('A')\n",
    "    print('B')\n",
    "print('Ende')"
   ]
  },
  {
   "cell_type": "markdown",
   "id": "5e7108cb-5e19-46e1-b8eb-049d269f4a38",
   "metadata": {},
   "source": [
    "##### if - else"
   ]
  },
  {
   "cell_type": "code",
   "execution_count": 24,
   "id": "8c5aef1a-81a9-4455-9a0a-21e5f5f7c82d",
   "metadata": {},
   "outputs": [
    {
     "name": "stdout",
     "output_type": "stream",
     "text": [
      "B\n"
     ]
    }
   ],
   "source": [
    "x = 1\n",
    "if x > 1:\n",
    "    print('A')\n",
    "else:\n",
    "    print('B')"
   ]
  },
  {
   "cell_type": "markdown",
   "id": "396d016c-335f-4ba1-bba6-1bdefed2408c",
   "metadata": {},
   "source": [
    "##### if - elif - else\n",
    "Diese Konstruktion nutzen wir für eine Fallunterscheidung: Der erste zutreffende Fall wird durchlaufen. "
   ]
  },
  {
   "cell_type": "code",
   "execution_count": 25,
   "id": "b5d670db-4749-488f-8bf9-4466355822a9",
   "metadata": {},
   "outputs": [
    {
     "name": "stdout",
     "output_type": "stream",
     "text": [
      "B\n"
     ]
    }
   ],
   "source": [
    "x = 2.5\n",
    "if x > 3:\n",
    "    print('A')\n",
    "elif x > 2:\n",
    "    print('B')\n",
    "elif x > 1:\n",
    "    print('C')\n",
    "else:\n",
    "    print('D')"
   ]
  },
  {
   "cell_type": "markdown",
   "id": "24e3a794-0901-4660-9ad3-61cf27f2dc25",
   "metadata": {},
   "source": [
    "-----\n",
    "\n",
    "#### Beispiel"
   ]
  },
  {
   "cell_type": "code",
   "execution_count": 19,
   "id": "2245070d-6daf-43b7-8820-8212d0d6af8e",
   "metadata": {},
   "outputs": [
    {
     "name": "stdin",
     "output_type": "stream",
     "text": [
      "Bitte zwei Zahlen eingeben 34 88\n"
     ]
    },
    {
     "name": "stdout",
     "output_type": "stream",
     "text": [
      "Die zweite Zahl ist größer als die erste.\n",
      "Der Unterschied beträgt 54\n",
      "ENDE\n"
     ]
    }
   ],
   "source": [
    "s = input('Bitte zwei Zahlen eingeben')\n",
    "x, y = s.split()\n",
    "x = int(x)\n",
    "y = int(y)\n",
    "\n",
    "if x > y:\n",
    "    print('Die erste Zahl ist größer als die zweite.')\n",
    "    print('Der Unterschied beträgt',x-y)\n",
    "elif x == y:\n",
    "    print('Die beiden Zahlen sind gleich')\n",
    "\n",
    "else:\n",
    "    print('Die zweite Zahl ist größer als die erste.')\n",
    "    print('Der Unterschied beträgt',y-x)\n",
    "    \n",
    "print('ENDE')"
   ]
  },
  {
   "cell_type": "markdown",
   "id": "4639b932-1f49-42d6-9438-f2605a7e9b0c",
   "metadata": {},
   "source": [
    "-----\n",
    "\n",
    "#### Aufgabe 1\n",
    "\n",
    "Schreibe das Programm in Python."
   ]
  },
  {
   "cell_type": "raw",
   "id": "4d694fb3-59b7-447f-8d79-bbb358e16f6f",
   "metadata": {},
   "source": [
    "Lies die Zahl x ein\n",
    "Falls x > 100: Gib aus 'große Zahl'\n",
    "sonst: Gib aus 'kleine Zahl'\n"
   ]
  },
  {
   "cell_type": "code",
   "execution_count": 26,
   "id": "0ef78119-535b-4a74-8e0d-c32b303f7746",
   "metadata": {},
   "outputs": [],
   "source": [
    "# your code"
   ]
  },
  {
   "cell_type": "markdown",
   "id": "7b6518aa-aa20-48a6-881f-1c76135e66df",
   "metadata": {},
   "source": [
    "-----\n",
    "\n",
    "#### Aufgabe 2\n",
    "\n",
    "Schreibe das Programm in Python."
   ]
  },
  {
   "cell_type": "raw",
   "id": "9a37f676-e47f-4e1c-9ba4-d9411c977c7c",
   "metadata": {},
   "source": [
    "Lies die Zahl winkel ein\n",
    "Falls winkel < 90: Gib aus 'spitzer Winkel'\n",
    "Falls winkel = 90: Gib aus 'rechter Winkel'\n",
    "Falls winkel > 90: Gib aus 'stumpfer Winkel'"
   ]
  },
  {
   "cell_type": "code",
   "execution_count": null,
   "id": "755a7d7c-59fc-44fd-9bbb-a43be38da38e",
   "metadata": {},
   "outputs": [],
   "source": [
    "# your code"
   ]
  },
  {
   "cell_type": "markdown",
   "id": "f3429bfe-666a-4849-9f81-0205a2011b5f",
   "metadata": {},
   "source": [
    "#### Teilbarkeit von Zahlen\n",
    "\n",
    "Die Zahl 25 kann ohne Rest durch 5 geteilt werden. Wir sagen: 25 ist durch 5 teilbar oder auch: 5 ist Teiler von 25.\n",
    "Die Teilbarkeit prüfen wir mit dem Modulo-Operator. "
   ]
  },
  {
   "cell_type": "code",
   "execution_count": 37,
   "id": "635b06ac-3ac8-409b-aa83-941d5e2ba876",
   "metadata": {},
   "outputs": [
    {
     "name": "stdout",
     "output_type": "stream",
     "text": [
      "5 ist Teiler von 25\n"
     ]
    }
   ],
   "source": [
    "a = 25\n",
    "b = 5\n",
    "rest = a%b\n",
    "if rest == 0:\n",
    "    print(b,'ist Teiler von',a)"
   ]
  },
  {
   "cell_type": "markdown",
   "id": "0b84c3b8-6d3f-4cd3-9de4-0b9f6bbe505b",
   "metadata": {},
   "source": [
    "Eine Zahl ist genau dann gerade, wenn sie durch 2 teilbar ist"
   ]
  },
  {
   "cell_type": "code",
   "execution_count": 32,
   "id": "c333361b-5772-4615-bc17-3ddc8071bf37",
   "metadata": {},
   "outputs": [
    {
     "name": "stdout",
     "output_type": "stream",
     "text": [
      "16 ist gerade\n"
     ]
    }
   ],
   "source": [
    "a = 16\n",
    "if a%2 == 0:\n",
    "    print(a,'ist gerade')\n",
    "else:\n",
    "    print(a,'ist ungerade')"
   ]
  },
  {
   "cell_type": "markdown",
   "id": "7563c569-9fe1-4f33-b487-43f310d3d97a",
   "metadata": {},
   "source": [
    "-----\n",
    "\n",
    "#### Aufgabe 3\n",
    "\n",
    "Schreibe das Programm in Python."
   ]
  },
  {
   "cell_type": "raw",
   "id": "4fa88596-b00f-4b91-b5d3-88ac0cc66ff2",
   "metadata": {},
   "source": [
    "Lies eine Zahl x ein\n",
    "Falls x durch 2 teilbar: Gib aus '2 ist Teiler'\n",
    "Falls x durch 3 teilbar: Gib aus '3 ist Teiler'\n",
    "Falls x durch 5 teilbar: Gib aus '5 ist Teiler'\n",
    "Falls x durch 7 teilbar: Gib aus '7 ist Teiler'\n",
    "Falls x durch 11 teilbar: Gib aus '11 ist Teiler'\n",
    "\n",
    "Erwartete Ausgabe bei Eingabe 3432:\n",
    "2 ist Teiler\n",
    "3 ist Teiler\n",
    "11 ist Teiler"
   ]
  },
  {
   "cell_type": "code",
   "execution_count": 36,
   "id": "7b298118-1e24-4ee3-a6ac-824c4b3c7e19",
   "metadata": {},
   "outputs": [],
   "source": [
    "# your code"
   ]
  }
 ],
 "metadata": {
  "kernelspec": {
   "display_name": "Python 3 (ipykernel)",
   "language": "python",
   "name": "python3"
  },
  "language_info": {
   "codemirror_mode": {
    "name": "ipython",
    "version": 3
   },
   "file_extension": ".py",
   "mimetype": "text/x-python",
   "name": "python",
   "nbconvert_exporter": "python",
   "pygments_lexer": "ipython3",
   "version": "3.11.2"
  }
 },
 "nbformat": 4,
 "nbformat_minor": 5
}
