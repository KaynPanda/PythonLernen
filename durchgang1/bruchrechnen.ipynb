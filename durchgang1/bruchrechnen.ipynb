{
 "cells": [
  {
   "cell_type": "markdown",
   "id": "22cce1fc-5bef-46eb-8e4f-ddb3da3d4b1e",
   "metadata": {},
   "source": [
    "#### Bruchrechnen mit Python"
   ]
  },
  {
   "cell_type": "markdown",
   "id": "1bb60169-bd31-40ea-8dfa-5ebade33937d",
   "metadata": {},
   "source": [
    "Addition und Subtraktion von Brüchen"
   ]
  },
  {
   "cell_type": "code",
   "execution_count": 5,
   "id": "66b66016-efcd-47de-a4f2-d03c9e64aea5",
   "metadata": {},
   "outputs": [
    {
     "name": "stdin",
     "output_type": "stream",
     "text": [
      "Bitte Zähler und Nenner für zwei Brüche eingeben: 3 6 2 3\n"
     ]
    },
    {
     "name": "stdout",
     "output_type": "stream",
     "text": [
      "a = 1/2\n",
      "b = 2/3\n",
      "1/2 + 2/3 = 7/6\n",
      "1/2 - 2/3 = -1/6\n",
      "1/2 * 2/3 = 1/3\n",
      "1/2 / 2/3 = 3/4\n"
     ]
    }
   ],
   "source": [
    "from fractions import Fraction\n",
    "s = input('Bitte Zähler und Nenner für zwei Brüche eingeben:')\n",
    "z1,n1,z2,n2 = [int(x) for x in s.split()]\n",
    "\n",
    "a = Fraction(z1, n1)\n",
    "b = Fraction(z2, n2)\n",
    "print('a =',a)\n",
    "print('b =',b)\n",
    "print(a,'+',b,'=',a+b)\n",
    "print(a,'-',b,'=',a-b)\n",
    "print(a,'*',b,'=',a*b)\n",
    "print(a,'/',b,'=',a/b)\n",
    " "
   ]
  },
  {
   "cell_type": "code",
   "execution_count": 9,
   "id": "17b9c6e6-506c-4aac-9598-f1ff95c4a585",
   "metadata": {},
   "outputs": [
    {
     "name": "stdin",
     "output_type": "stream",
     "text": [
      "Bitte Zähler und Nenner für zwei Brüche eingeben: 3 8 2 12\n"
     ]
    },
    {
     "name": "stdout",
     "output_type": "stream",
     "text": [
      "a = 3/8\n",
      "b = 1/6\n",
      "Das kleinste gemeinsame Vielfache der beiden Nenner ist 24\n"
     ]
    }
   ],
   "source": [
    "from fractions import Fraction\n",
    "import math\n",
    "s = input('Bitte Zähler und Nenner für zwei Brüche eingeben:')\n",
    "z1,n1,z2,n2 = [int(x) for x in s.split()]\n",
    "\n",
    "a = Fraction(z1, n1)\n",
    "b = Fraction(z2, n2)\n",
    "print('a =',a)\n",
    "print('b =',b)\n",
    "print('Das kleinste gemeinsame Vielfache der beiden Nenner ist',math.lcm(n1,n2))\n",
    " \n",
    " "
   ]
  },
  {
   "cell_type": "code",
   "execution_count": 3,
   "id": "d918e963-80f7-4beb-ad97-2ae3d59239e7",
   "metadata": {},
   "outputs": [
    {
     "name": "stdout",
     "output_type": "stream",
     "text": [
      "5/12\n"
     ]
    }
   ],
   "source": [
    "a = Fraction(7, 6)\n",
    "b = Fraction(3, 4)\n",
    "print(a-b)"
   ]
  },
  {
   "cell_type": "markdown",
   "id": "7b0e8e49-fc81-4340-acaa-22243e15b01c",
   "metadata": {},
   "source": [
    "Größter gemeinsamer Teiler (ggT, gcd - greatest common divisor) und kleinstes gemeinsames Vielfaches (kgV, lcm - least common multiple)"
   ]
  },
  {
   "cell_type": "code",
   "execution_count": 5,
   "id": "e7a40909-aaaf-4c93-9de6-825d4fc15df2",
   "metadata": {},
   "outputs": [
    {
     "data": {
      "text/plain": [
       "24"
      ]
     },
     "execution_count": 5,
     "metadata": {},
     "output_type": "execute_result"
    }
   ],
   "source": [
    "import math\n",
    "math.lcm(6,8)"
   ]
  },
  {
   "cell_type": "code",
   "execution_count": 8,
   "id": "a26264f1-993a-411a-9de7-71c4b5c725ec",
   "metadata": {},
   "outputs": [
    {
     "name": "stdout",
     "output_type": "stream",
     "text": [
      "-5/24\n"
     ]
    }
   ],
   "source": [
    "a = Fraction(5, 8)\n",
    "b = Fraction(5, 6)\n",
    "print(a-b)"
   ]
  },
  {
   "cell_type": "code",
   "execution_count": null,
   "id": "fee3b9dc-189d-465a-980e-a6cc7bb0468f",
   "metadata": {},
   "outputs": [],
   "source": []
  }
 ],
 "metadata": {
  "kernelspec": {
   "display_name": "Python 3 (ipykernel)",
   "language": "python",
   "name": "python3"
  },
  "language_info": {
   "codemirror_mode": {
    "name": "ipython",
    "version": 3
   },
   "file_extension": ".py",
   "mimetype": "text/x-python",
   "name": "python",
   "nbconvert_exporter": "python",
   "pygments_lexer": "ipython3",
   "version": "3.11.2"
  }
 },
 "nbformat": 4,
 "nbformat_minor": 5
}
