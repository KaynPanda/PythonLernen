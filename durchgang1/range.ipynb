{
 "cells": [
  {
   "cell_type": "markdown",
   "id": "612576e4-3b49-4932-ac2a-338d96bd9a32",
   "metadata": {},
   "source": [
    " \n",
    "\n",
    "### Die for-Schleife mit range()\n",
    "\n",
    "Die Funktion range() liefert Aufzählungen von ganzen Zahlen und kann ein, zwei oder drei Parameter erhalten."
   ]
  },
  {
   "cell_type": "code",
   "execution_count": 1,
   "id": "04cebdd7-181e-4187-a1d9-e64aaf7cb2cc",
   "metadata": {},
   "outputs": [
    {
     "name": "stdout",
     "output_type": "stream",
     "text": [
      "0\n",
      "1\n",
      "2\n",
      "3\n",
      "4\n"
     ]
    }
   ],
   "source": [
    "# der Bereich beginnt bei 0, endet bei 5 (5 ist ausgeschlossen)\n",
    "for i in range(5):\n",
    "    print(i)"
   ]
  },
  {
   "cell_type": "code",
   "execution_count": 2,
   "id": "e0e7b2db-0b60-4976-b564-b232f6e3922a",
   "metadata": {},
   "outputs": [
    {
     "name": "stdout",
     "output_type": "stream",
     "text": [
      "2\n",
      "3\n",
      "4\n"
     ]
    }
   ],
   "source": [
    "# der Bereich beginnt bei 2, endet bei 5 (5 ist ausgeschlossen)\n",
    "for i in range(2, 5):\n",
    "    print(i)"
   ]
  },
  {
   "cell_type": "code",
   "execution_count": 3,
   "id": "0ee46ced-d244-4983-80e0-e40f18533977",
   "metadata": {},
   "outputs": [
    {
     "name": "stdout",
     "output_type": "stream",
     "text": [
      "3\n",
      "5\n",
      "7\n"
     ]
    }
   ],
   "source": [
    "# der Bereich beginnt bei 3, endet bei 9 (9 ist ausgeschlossen) mit Schrittweite 2\n",
    "for i in range(3, 9, 2):\n",
    "    print(i)"
   ]
  },
  {
   "cell_type": "code",
   "execution_count": 4,
   "id": "24552c32-743f-4ce9-adb2-218b16b89e00",
   "metadata": {},
   "outputs": [
    {
     "name": "stdout",
     "output_type": "stream",
     "text": [
      "5\n",
      "4\n",
      "3\n",
      "2\n",
      "1\n",
      "0\n"
     ]
    }
   ],
   "source": [
    "# der Bereich beginnt bei 5, endet bei -1 (-1 ist ausgeschlossen) mit Schrittweite -1\n",
    "for i in range(5, -1, -1):\n",
    "    print(i)"
   ]
  },
  {
   "cell_type": "markdown",
   "id": "9062f144-788b-4ef3-98fd-8978371c4521",
   "metadata": {},
   "source": [
    "---- \n",
    "\n",
    "In den Beispielen oben, nennen wir die Variable i *die Laufvariable der for-Schleife*. Manchmal nutzen wir die Laufvariable innerhalb der for-Schleife für unsere Berechnungen, manchmal auch nicht.\n",
    "\n",
    "#### Beispiele"
   ]
  },
  {
   "cell_type": "code",
   "execution_count": 23,
   "id": "00a56e4d-d14f-4232-88f7-1fd24a3f3d70",
   "metadata": {},
   "outputs": [
    {
     "name": "stdin",
     "output_type": "stream",
     "text": [
      "Bitte eine Zahl eingeben: 5\n"
     ]
    },
    {
     "name": "stdout",
     "output_type": "stream",
     "text": [
      "Ja\n",
      "Ja\n",
      "Ja\n",
      "Ja\n",
      "Ja\n"
     ]
    }
   ],
   "source": [
    "k = int(input('Bitte eine Zahl eingeben:'))\n",
    "for i in range(k):            # Die Schleife wird genau k mal durchlaufen     \n",
    "    print('Ja')               # Die Laufvariable i wird in der Schleife nicht benutzt.               "
   ]
  },
  {
   "cell_type": "code",
   "execution_count": 24,
   "id": "22a24777-6b8e-499f-8e0a-b51249a8a302",
   "metadata": {},
   "outputs": [
    {
     "name": "stdin",
     "output_type": "stream",
     "text": [
      "Bitte eine Zahl eingeben: 7\n"
     ]
    },
    {
     "name": "stdout",
     "output_type": "stream",
     "text": [
      "Die Summe der ganzen Zahlen von 1 bis 7 ist 28\n"
     ]
    }
   ],
   "source": [
    "x = int(input('Bitte eine Zahl eingeben:'))\n",
    "summe = 0\n",
    "for k in range(1,x+1):             # Die Laufvariable k durchläuft die Werte 1 bis x (einschließlich)\n",
    "    summe = summe + k              # In der Schleife nutzen wir k für unsere Rechnung\n",
    "print('Die Summe der ganzen Zahlen von 1 bis',x,'ist',summe)"
   ]
  },
  {
   "cell_type": "code",
   "execution_count": 27,
   "id": "d68ada3f-dc9e-49b7-a6fe-8b9c17dce15d",
   "metadata": {},
   "outputs": [
    {
     "name": "stdin",
     "output_type": "stream",
     "text": [
      "Bitte eine Zahl eingeben: 12\n"
     ]
    },
    {
     "name": "stdout",
     "output_type": "stream",
     "text": [
      "1 ist Teiler von 12\n",
      "2 ist Teiler von 12\n",
      "3 ist Teiler von 12\n",
      "4 ist Teiler von 12\n",
      "6 ist Teiler von 12\n",
      "12 ist Teiler von 12\n"
     ]
    }
   ],
   "source": [
    "x = int(input('Bitte eine Zahl eingeben:'))\n",
    "for k in range(1,x+1):\n",
    "   if x % k == 0:\n",
    "       print(k,'ist Teiler von',x)    "
   ]
  },
  {
   "cell_type": "markdown",
   "id": "0ac80191-1bd0-40de-b7cf-c5e6aedceff5",
   "metadata": {},
   "source": [
    "---- \n",
    "\n",
    "#### Aufgabe 1\n",
    "\n",
    "Schreibe ein Programm für den folgenden Dialog.\n",
    "Die eingegebene Zahl bezieht sich auf die Anzahl der Zeilen mit den Leerzeichen zwischen den #.\n",
    " "
   ]
  },
  {
   "cell_type": "raw",
   "id": "8915bc57-3e12-41cc-a693-e3ef64d8a67c",
   "metadata": {},
   "source": [
    "Bitte eine Zahl eingeben: 4\n",
    "#####\n",
    "#   #\n",
    "#   #\n",
    "#   #\n",
    "#   #\n",
    "#####"
   ]
  },
  {
   "cell_type": "code",
   "execution_count": 36,
   "id": "77d4f065-6f00-4858-be8c-442b4366e861",
   "metadata": {},
   "outputs": [],
   "source": [
    "# your code"
   ]
  },
  {
   "cell_type": "markdown",
   "id": "8344fda2-4c83-4770-ab8b-ce4ea680f7d2",
   "metadata": {},
   "source": [
    "---- \n",
    "\n",
    "#### Aufgabe 2\n",
    "\n",
    "Schreibe ein Programm für den folgenden Dialog. "
   ]
  },
  {
   "cell_type": "raw",
   "id": "4b20eb32-bf04-421d-9c78-4887ef168f4d",
   "metadata": {},
   "source": [
    "Bitte zwei ganze Zahlen a, b eingeben mit a < b: 4 22\n",
    "Die Summe aller ganzen Zahlen zwischen 4 und 22 ist 247"
   ]
  },
  {
   "cell_type": "code",
   "execution_count": 38,
   "id": "a6bc65e8-9039-4564-9e40-f64de23cd230",
   "metadata": {},
   "outputs": [],
   "source": [
    "# your code"
   ]
  },
  {
   "cell_type": "markdown",
   "id": "57a0a191-4819-4582-b269-a8f8861d9787",
   "metadata": {},
   "source": [
    "---- \n",
    "\n",
    "#### Aufgabe 3\n",
    "\n",
    "Schreibe ein Programm für den folgenden Dialog. "
   ]
  },
  {
   "cell_type": "raw",
   "id": "64ce27d8-b9a6-4ceb-be6e-af127809551c",
   "metadata": {},
   "source": [
    "Bitte eine positive ganze Zahl a eingeben mit a < 100: 17\n",
    "1 mal 17 ist 17\n",
    "2 mal 17 ist 34\n",
    "3 mal 17 ist 51\n",
    "4 mal 17 ist 68\n",
    "5 mal 17 ist 85\n",
    "6 mal 17 ist 102\n",
    "7 mal 17 ist 119\n",
    "8 mal 17 ist 136\n",
    "9 mal 17 ist 153\n",
    "10 mal 17 ist 170"
   ]
  },
  {
   "cell_type": "code",
   "execution_count": 41,
   "id": "04a85dfe-1931-4068-8d22-a98b3917a09c",
   "metadata": {},
   "outputs": [],
   "source": [
    "# your code"
   ]
  }
 ],
 "metadata": {
  "kernelspec": {
   "display_name": "Python 3 (ipykernel)",
   "language": "python",
   "name": "python3"
  },
  "language_info": {
   "codemirror_mode": {
    "name": "ipython",
    "version": 3
   },
   "file_extension": ".py",
   "mimetype": "text/x-python",
   "name": "python",
   "nbconvert_exporter": "python",
   "pygments_lexer": "ipython3",
   "version": "3.11.2"
  }
 },
 "nbformat": 4,
 "nbformat_minor": 5
}
