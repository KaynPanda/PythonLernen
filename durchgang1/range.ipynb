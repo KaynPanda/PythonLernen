{
 "cells": [
  {
   "cell_type": "markdown",
   "id": "612576e4-3b49-4932-ac2a-338d96bd9a32",
   "metadata": {},
   "source": [
    " \n",
    "\n",
    "### Die for-Schleife mit range()\n",
    "\n",
    "Die Funktion range() liefert Aufzählungen von ganzen Zahlen und kann ein, zwei oder drei Parameter erhalten."
   ]
  },
  {
   "cell_type": "code",
   "execution_count": 1,
   "id": "04cebdd7-181e-4187-a1d9-e64aaf7cb2cc",
   "metadata": {},
   "outputs": [
    {
     "name": "stdout",
     "output_type": "stream",
     "text": [
      "0\n",
      "1\n",
      "2\n",
      "3\n",
      "4\n"
     ]
    }
   ],
   "source": [
    "# der Bereich beginnt bei 0, endet bei 5 (5 ist ausgeschlossen)\n",
    "for i in range(5):\n",
    "    print(i)"
   ]
  },
  {
   "cell_type": "code",
   "execution_count": 2,
   "id": "e0e7b2db-0b60-4976-b564-b232f6e3922a",
   "metadata": {},
   "outputs": [
    {
     "name": "stdout",
     "output_type": "stream",
     "text": [
      "2\n",
      "3\n",
      "4\n"
     ]
    }
   ],
   "source": [
    "# der Bereich beginnt bei 2, endet bei 5 (5 ist ausgeschlossen)\n",
    "for i in range(2, 5):\n",
    "    print(i)"
   ]
  },
  {
   "cell_type": "code",
   "execution_count": 3,
   "id": "0ee46ced-d244-4983-80e0-e40f18533977",
   "metadata": {},
   "outputs": [
    {
     "name": "stdout",
     "output_type": "stream",
     "text": [
      "3\n",
      "5\n",
      "7\n"
     ]
    }
   ],
   "source": [
    "# der Bereich beginnt bei 3, endet bei 9 (9 ist ausgeschlossen) mit Schrittweite 2\n",
    "for i in range(3, 9, 2):\n",
    "    print(i)"
   ]
  },
  {
   "cell_type": "code",
   "execution_count": 4,
   "id": "24552c32-743f-4ce9-adb2-218b16b89e00",
   "metadata": {},
   "outputs": [
    {
     "name": "stdout",
     "output_type": "stream",
     "text": [
      "5\n",
      "4\n",
      "3\n",
      "2\n",
      "1\n",
      "0\n"
     ]
    }
   ],
   "source": [
    "# der Bereich beginnt bei 5, endet bei -1 (-1 ist ausgeschlossen) mit Schrittweite -1\n",
    "for i in range(5, -1, -1):\n",
    "    print(i)"
   ]
  },
  {
   "cell_type": "markdown",
   "id": "9062f144-788b-4ef3-98fd-8978371c4521",
   "metadata": {},
   "source": [
    "---- \n",
    "\n",
    "In den Beispielen oben, nennen wir die Variable i *die Laufvariable der for-Schleife*. Manchmal nutzen wir die Laufvariable innerhalb der for-Schleife für unsere Berechnungen, manchmal auch nicht.\n",
    "\n",
    "#### Beispiele"
   ]
  },
  {
   "cell_type": "code",
   "execution_count": 23,
   "id": "00a56e4d-d14f-4232-88f7-1fd24a3f3d70",
   "metadata": {},
   "outputs": [
    {
     "name": "stdin",
     "output_type": "stream",
     "text": [
      "Bitte eine Zahl eingeben: 5\n"
     ]
    },
    {
     "name": "stdout",
     "output_type": "stream",
     "text": [
      "Ja\n",
      "Ja\n",
      "Ja\n",
      "Ja\n",
      "Ja\n"
     ]
    }
   ],
   "source": [
    "k = int(input('Bitte eine Zahl eingeben:'))\n",
    "for i in range(k):            # Die Schleife wird genau k mal durchlaufen     \n",
    "    print('Ja')               # Die Laufvariable i wird in der Schleife nicht benutzt.               "
   ]
  },
  {
   "cell_type": "code",
   "execution_count": 24,
   "id": "22a24777-6b8e-499f-8e0a-b51249a8a302",
   "metadata": {},
   "outputs": [
    {
     "name": "stdin",
     "output_type": "stream",
     "text": [
      "Bitte eine Zahl eingeben: 7\n"
     ]
    },
    {
     "name": "stdout",
     "output_type": "stream",
     "text": [
      "Die Summe der ganzen Zahlen von 1 bis 7 ist 28\n"
     ]
    }
   ],
   "source": [
    "x = int(input('Bitte eine Zahl eingeben:'))\n",
    "summe = 0\n",
    "for k in range(1,x+1):             # Die Laufvariable k durchläuft die Werte 1 bis x (einschließlich)\n",
    "    summe = summe + k              # In der Schleife nutzen wir k für unsere Rechnung\n",
    "print('Die Summe der ganzen Zahlen von 1 bis',x,'ist',summe)"
   ]
  },
  {
   "cell_type": "markdown",
   "id": "cd41aaa1-5c85-46d0-a59a-01ea06dafb4f",
   "metadata": {},
   "source": [
    "#### Aufgabe 1"
   ]
  },
  {
   "cell_type": "code",
   "execution_count": 1,
   "id": "d68ada3f-dc9e-49b7-a6fe-8b9c17dce15d",
   "metadata": {},
   "outputs": [
    {
     "name": "stdin",
     "output_type": "stream",
     "text": [
      "Bitte eine Zahl eingeben: 23\n"
     ]
    },
    {
     "name": "stdout",
     "output_type": "stream",
     "text": [
      "1 ist Teiler von 23\n",
      "23 ist Teiler von 23\n"
     ]
    }
   ],
   "source": [
    "'''\n",
    "Das Programm liest eine Zahl ein und gibt \n",
    "dann die Teiler zurück. Beispieldialoge:\n",
    " \n",
    "Bitte eine Zahl eingeben: 12\n",
    "1 ist Teiler von 12\n",
    "2 ist Teiler von 12\n",
    "3 ist Teiler von 12\n",
    "4 ist Teiler von 12\n",
    "6 ist Teiler von 12\n",
    "12 ist Teiler von 12\n",
    "\n",
    "Bitte eine Zahl eingeben: 23\n",
    "1 ist Teiler von 23\n",
    "23 ist Teiler von 23\n",
    "'''\n",
    "\n",
    "x = int(input('Bitte eine Zahl eingeben:'))\n",
    "for k in range(1,x+1):\n",
    "   if x % k == 0:\n",
    "       print(k,'ist Teiler von',x)    "
   ]
  },
  {
   "cell_type": "markdown",
   "id": "209b1694-77a2-4e99-9132-814937a88910",
   "metadata": {},
   "source": [
    "#### Aufgabe 2"
   ]
  },
  {
   "cell_type": "code",
   "execution_count": 6,
   "id": "93a2caac-3f18-4a6f-a360-eed985a6a9fd",
   "metadata": {},
   "outputs": [
    {
     "name": "stdin",
     "output_type": "stream",
     "text": [
      "Bitte eine ganze Zahl größer als 2 eingeben: 6\n"
     ]
    },
    {
     "name": "stdout",
     "output_type": "stream",
     "text": [
      "######\n",
      "#    #\n",
      "#    #\n",
      "#    #\n",
      "#    #\n",
      "######\n"
     ]
    }
   ],
   "source": [
    "'''\n",
    "Lies eine ganze Zahl k > 2 ein.\n",
    "Gib ein k x k Quadrat mit Rändern aus '#' aus.\n",
    "\n",
    "Beispieldialoge:\n",
    "\n",
    "Bitte eine ganze Zahl größer als 2 eingeben: 3\n",
    "###\n",
    "# #\n",
    "###\n",
    "\n",
    "Bitte eine Zahl eingeben: 5\n",
    "#####\n",
    "#   #\n",
    "#   #\n",
    "#   #\n",
    "#####\n",
    "\n",
    "Bitte eine ganze Zahl größer als 2 eingeben: 6\n",
    "######\n",
    "#    #\n",
    "#    #\n",
    "#    #\n",
    "#    #\n",
    "######\n",
    "'''\n",
    "\n",
    "k = int(input('Bitte eine ganze Zahl größer als 2 eingeben:'))\n",
    "print('#'*k)\n",
    "for i in range(k-2):\n",
    "    print('#'+(' ')*(k-2)+'#')\n",
    "print('#'*k)"
   ]
  },
  {
   "cell_type": "markdown",
   "id": "8344fda2-4c83-4770-ab8b-ce4ea680f7d2",
   "metadata": {},
   "source": [
    "#### Aufgabe 2\n"
   ]
  },
  {
   "cell_type": "code",
   "execution_count": 11,
   "id": "4457aa9a-507d-42a5-858b-8dc6f0e00dd6",
   "metadata": {},
   "outputs": [
    {
     "name": "stdin",
     "output_type": "stream",
     "text": [
      "Bitte zwei ganze Zahlen a, b eingeben mit a <= b: -5 5\n"
     ]
    },
    {
     "name": "stdout",
     "output_type": "stream",
     "text": [
      "Die Summe aller ganzen Zahlen zwischen -5 und 5 ist 0\n"
     ]
    }
   ],
   "source": [
    "'''\n",
    "Lies in einer Zeile zwei ganze Zahlen a, b ein und ermittle die Summe aller\n",
    "Zahlen k zwischen a und b, also a <= k <= b. Beispieldialoge:\n",
    "\n",
    "Bitte zwei ganze Zahlen a, b eingeben mit a <= b: 0 3\n",
    "Die Summe aller ganzen Zahlen zwischen 0 und 3 ist 6\n",
    "\n",
    "Bitte zwei ganze Zahlen a, b eingeben mit a <= b: 1 100\n",
    "Die Summe aller ganzen Zahlen zwischen 1 und 100 ist 5050\n",
    "\n",
    "Bitte zwei ganze Zahlen a, b eingeben mit a <= b: -5 5\n",
    "Die Summe aller ganzen Zahlen zwischen -5 und 5 ist 0\n",
    "\n",
    "'''\n",
    "s = input('Bitte zwei ganze Zahlen a, b eingeben mit a <= b:')\n",
    "a, b = s.split()\n",
    "a = int(a)\n",
    "b = int(b)\n",
    "summe = 0\n",
    "for k in range(a,b+1):\n",
    "    summe = summe + k\n",
    "print('Die Summe aller ganzen Zahlen zwischen',a,'und',b,'ist',summe)"
   ]
  },
  {
   "cell_type": "markdown",
   "id": "57a0a191-4819-4582-b269-a8f8861d9787",
   "metadata": {},
   "source": [
    "#### Aufgabe 3"
   ]
  },
  {
   "cell_type": "code",
   "execution_count": 15,
   "id": "df521f38-07f8-441d-9c2b-76383f146322",
   "metadata": {},
   "outputs": [
    {
     "name": "stdin",
     "output_type": "stream",
     "text": [
      "Bitte eine positive ganze Zahl eingeben: 23\n"
     ]
    },
    {
     "name": "stdout",
     "output_type": "stream",
     "text": [
      "1 mal 23 ist 23\n",
      "2 mal 23 ist 46\n",
      "3 mal 23 ist 69\n",
      "4 mal 23 ist 92\n",
      "5 mal 23 ist 115\n",
      "6 mal 23 ist 138\n",
      "7 mal 23 ist 161\n",
      "8 mal 23 ist 184\n",
      "9 mal 23 ist 207\n",
      "10 mal 23 ist 230\n"
     ]
    }
   ],
   "source": [
    "''' \n",
    "Lies eine ganze Zahl k > 0 ein und gib die \n",
    "Multiplikationstabelle aus. Beispieldialoge:\n",
    "\n",
    "Bitte eine positive ganze Zahl eingeben: 17\n",
    "1 mal 17 ist 17\n",
    "2 mal 17 ist 34\n",
    "3 mal 17 ist 51\n",
    "4 mal 17 ist 68\n",
    "5 mal 17 ist 85\n",
    "6 mal 17 ist 102\n",
    "7 mal 17 ist 119\n",
    "8 mal 17 ist 136\n",
    "9 mal 17 ist 153\n",
    "10 mal 17 ist 170\n",
    "\n",
    "Bitte eine positive ganze Zahl eingeben: 23\n",
    "1 mal 23 ist 23\n",
    "2 mal 23 ist 46\n",
    "3 mal 23 ist 69\n",
    "4 mal 23 ist 92\n",
    "5 mal 23 ist 115\n",
    "6 mal 23 ist 138\n",
    "7 mal 23 ist 161\n",
    "8 mal 23 ist 184\n",
    "9 mal 23 ist 207\n",
    "10 mal 23 ist 230\n",
    "''' \n",
    "\n",
    "k = int(input('Bitte eine positive ganze Zahl eingeben:'))\n",
    "for i in range(1,11):\n",
    "    print(i,'mal',k,'ist',k*i)"
   ]
  }
 ],
 "metadata": {
  "kernelspec": {
   "display_name": "Python 3 (ipykernel)",
   "language": "python",
   "name": "python3"
  },
  "language_info": {
   "codemirror_mode": {
    "name": "ipython",
    "version": 3
   },
   "file_extension": ".py",
   "mimetype": "text/x-python",
   "name": "python",
   "nbconvert_exporter": "python",
   "pygments_lexer": "ipython3",
   "version": "3.11.2"
  }
 },
 "nbformat": 4,
 "nbformat_minor": 5
}
