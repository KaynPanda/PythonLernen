{
 "cells": [
  {
   "cell_type": "markdown",
   "id": "612576e4-3b49-4932-ac2a-338d96bd9a32",
   "metadata": {},
   "source": [
    " \n",
    "\n",
    "### Die for-Schleife mit range()\n",
    "\n",
    "Die Funktion range() liefert Aufzählungen von ganzen Zahlen und kann ein, zwei oder drei Parameter erhalten."
   ]
  },
  {
   "cell_type": "code",
   "execution_count": 1,
   "id": "04cebdd7-181e-4187-a1d9-e64aaf7cb2cc",
   "metadata": {},
   "outputs": [
    {
     "name": "stdout",
     "output_type": "stream",
     "text": [
      "0\n",
      "1\n",
      "2\n",
      "3\n",
      "4\n"
     ]
    }
   ],
   "source": [
    "# der Bereich beginnt bei 0, endet bei 5 (5 ist ausgeschlossen)\n",
    "for i in range(5):\n",
    "    print(i)"
   ]
  },
  {
   "cell_type": "markdown",
   "id": "3f813de4-630a-4bc0-a467-911784d040ee",
   "metadata": {},
   "source": [
    "Damit wir nicht so viel Platz für die Ausgabe verbrauchen, schreiben wir in der Ausgabe die Zahlen hintereinander. Dazu geben wir mit ```end=' '``` in der *print*-Anweisung an, dass wir nach dem *print* keinen Zeilenvorschub, sondern ein Leerzeichen ausgeben wollen."
   ]
  },
  {
   "cell_type": "code",
   "execution_count": 2,
   "id": "5daa1080-57c8-4ced-a5be-2588810b3d63",
   "metadata": {},
   "outputs": [
    {
     "name": "stdout",
     "output_type": "stream",
     "text": [
      "0 1 2 3 4 "
     ]
    }
   ],
   "source": [
    "# der Bereich beginnt bei 0, endet bei 5 (5 ist ausgeschlossen)\n",
    "for i in range(5):\n",
    "    print(i, end=' ')"
   ]
  },
  {
   "cell_type": "code",
   "execution_count": 3,
   "id": "e0e7b2db-0b60-4976-b564-b232f6e3922a",
   "metadata": {},
   "outputs": [
    {
     "name": "stdout",
     "output_type": "stream",
     "text": [
      "2 3 4 "
     ]
    }
   ],
   "source": [
    "# der Bereich beginnt bei 2, endet bei 5 (5 ist ausgeschlossen)\n",
    "for i in range(2, 5):\n",
    "    print(i, end=' ')"
   ]
  },
  {
   "cell_type": "code",
   "execution_count": 4,
   "id": "0ee46ced-d244-4983-80e0-e40f18533977",
   "metadata": {},
   "outputs": [
    {
     "name": "stdout",
     "output_type": "stream",
     "text": [
      "3 5 7 "
     ]
    }
   ],
   "source": [
    "# der Bereich beginnt bei 3, endet bei 9 (9 ist ausgeschlossen) mit Schrittweite 2\n",
    "for i in range(3, 9, 2):\n",
    "    print(i, end= ' ')"
   ]
  },
  {
   "cell_type": "code",
   "execution_count": 5,
   "id": "24552c32-743f-4ce9-adb2-218b16b89e00",
   "metadata": {},
   "outputs": [
    {
     "name": "stdout",
     "output_type": "stream",
     "text": [
      "5 4 3 2 1 0 "
     ]
    }
   ],
   "source": [
    "# der Bereich beginnt bei 5, endet bei -1 (-1 ist ausgeschlossen) mit Schrittweite -1\n",
    "for i in range(5, -1, -1):\n",
    "    print(i, end=' ')"
   ]
  },
  {
   "cell_type": "code",
   "execution_count": null,
   "id": "a7020063-a091-49e4-8199-ee2b5f15cbc9",
   "metadata": {},
   "outputs": [],
   "source": [
    "'''\n",
    "Aufgabe 1\n",
    "Erzeuge mit einer for-Schleife die folgende Ausgabe:\n",
    "1 2 3\n",
    "'''\n",
    "# your code"
   ]
  },
  {
   "cell_type": "code",
   "execution_count": null,
   "id": "2970bd13-7662-4861-8e1f-570210dc2c7e",
   "metadata": {},
   "outputs": [],
   "source": [
    "'''\n",
    "Aufgabe 2\n",
    "Erzeuge mit einer for-Schleife die folgende Ausgabe:\n",
    "0 1 2 3 4 5 6 7 8 9 10 \n",
    "'''\n",
    "# your code"
   ]
  },
  {
   "cell_type": "code",
   "execution_count": null,
   "id": "cc86c0ac-ab11-4088-8ad3-ef25bdefc615",
   "metadata": {},
   "outputs": [],
   "source": [
    "'''\n",
    "Aufgabe 3\n",
    "Erzeuge mit einer for-Schleife die folgende Ausgabe:\n",
    "6 8 10 12 14 16 18 20 \n",
    "'''\n",
    "# your code"
   ]
  },
  {
   "cell_type": "code",
   "execution_count": null,
   "id": "2abfcd4b-063f-49fc-b478-3ae757455eec",
   "metadata": {},
   "outputs": [],
   "source": [
    "'''\n",
    "Aufgabe 4\n",
    "Erzeuge mit einer for-Schleife die folgende Ausgabe:\n",
    "5 8 11 14 17 20 23 \n",
    "'''\n",
    "# your code"
   ]
  },
  {
   "cell_type": "code",
   "execution_count": null,
   "id": "1f189632-dd15-4cc8-9935-bbcb1182fd00",
   "metadata": {},
   "outputs": [],
   "source": [
    "'''\n",
    "Aufgabe 5\n",
    "Erzeuge mit einer for-Schleife die folgende Ausgabe:\n",
    "10 9 8 7 6 5 4 3 2 1\n",
    "'''\n",
    "# your code"
   ]
  },
  {
   "cell_type": "code",
   "execution_count": null,
   "id": "47e2c3ec-ad15-48c1-972b-048b53e968b8",
   "metadata": {},
   "outputs": [],
   "source": [
    "'''\n",
    "Aufgabe 6\n",
    "Erzeuge mit einer for-Schleife die folgende Ausgabe:\n",
    "12 10 8 6 4 2 0 \n",
    "'''\n",
    "# your code"
   ]
  },
  {
   "cell_type": "code",
   "execution_count": null,
   "id": "5457636e-b220-4afe-a555-42e5231255aa",
   "metadata": {},
   "outputs": [],
   "source": [
    "'''\n",
    "Aufgabe 7\n",
    "Erzeuge mit einer for-Schleife die folgende Ausgabe:\n",
    "-30 -25 -20 -15 -10 -5 0 5 10 15 20 25 30 \n",
    "'''\n",
    "# your code"
   ]
  },
  {
   "cell_type": "code",
   "execution_count": null,
   "id": "55e6243f-42ee-4191-ad1d-805ee6d8eb48",
   "metadata": {},
   "outputs": [],
   "source": [
    "'''\n",
    "Aufgabe 8\n",
    "Erzeuge mit einer for-Schleife die folgende Ausgabe:\n",
    "1000 500 0 -500 -1000\n",
    "'''\n",
    "# your code"
   ]
  },
  {
   "cell_type": "code",
   "execution_count": null,
   "id": "d9a184da-7f0f-421f-95d1-b12c975fc6c9",
   "metadata": {},
   "outputs": [],
   "source": [
    "'''\n",
    "Aufgabe 9\n",
    "Das Programm liest zwei ganze Zahlen a, b ein. Dann werden alle ganzen Zahlen zwischen \n",
    "a und b ausgegeben (einschließlich a, b).\n",
    "Wenn b kleiner als a ist, werden die Zahlen abwärts von a bis b ausgegeben. Beispieldialoge:\n",
    "\n",
    "Bitte zwei ganze Zahlen eingeben: 3 7\n",
    "3 4 5 6 7 \n",
    "\n",
    "Bitte zwei ganze Zahlen eingeben: 7 7\n",
    "7\n",
    "\n",
    "Bitte zwei ganze Zahlen eingeben: 10 4\n",
    "10 9 8 7 6 5 4 \n",
    "\n",
    "Teste alle drei Fälle \n",
    "'''\n",
    "# your code\n",
    " "
   ]
  },
  {
   "cell_type": "markdown",
   "id": "9062f144-788b-4ef3-98fd-8978371c4521",
   "metadata": {},
   "source": [
    "---- \n",
    "\n",
    "In den Beispielen oben, nennen wir die Variable i *die Laufvariable der for-Schleife*. Manchmal nutzen wir die Laufvariable innerhalb der for-Schleife für unsere Berechnungen, manchmal auch nicht.\n",
    "\n",
    "#### Beispiele"
   ]
  },
  {
   "cell_type": "code",
   "execution_count": 7,
   "id": "00a56e4d-d14f-4232-88f7-1fd24a3f3d70",
   "metadata": {},
   "outputs": [
    {
     "name": "stdin",
     "output_type": "stream",
     "text": [
      "Bitte eine Zahl eingeben: 5\n"
     ]
    },
    {
     "name": "stdout",
     "output_type": "stream",
     "text": [
      "Ja Ja Ja Ja Ja "
     ]
    }
   ],
   "source": [
    "k = int(input('Bitte eine Zahl eingeben:'))\n",
    "for i in range(k):            # Die Schleife wird genau k mal durchlaufen     \n",
    "    print('Ja', end=' ')      # Die Laufvariable i wird in der Schleife nicht benutzt.               "
   ]
  },
  {
   "cell_type": "code",
   "execution_count": 9,
   "id": "22a24777-6b8e-499f-8e0a-b51249a8a302",
   "metadata": {},
   "outputs": [
    {
     "name": "stdin",
     "output_type": "stream",
     "text": [
      "Bitte eine Zahl eingeben: 5\n"
     ]
    },
    {
     "name": "stdout",
     "output_type": "stream",
     "text": [
      "Die Summe der ganzen Zahlen von 1 bis 5 ist 15\n"
     ]
    }
   ],
   "source": [
    "x = int(input('Bitte eine Zahl eingeben:'))\n",
    "summe = 0\n",
    "for k in range(1,x+1):             # Die Laufvariable k durchläuft die Werte 1 bis x (einschließlich)\n",
    "    summe = summe + k              # In der Schleife nutzen wir k für unsere Rechnung\n",
    "print('Die Summe der ganzen Zahlen von 1 bis',x,'ist',summe)"
   ]
  },
  {
   "cell_type": "code",
   "execution_count": null,
   "id": "d68ada3f-dc9e-49b7-a6fe-8b9c17dce15d",
   "metadata": {},
   "outputs": [],
   "source": [
    "'''\n",
    "Aufgabe 10\n",
    "Das Programm liest eine Zahl ein und gibt \n",
    "dann die Teiler zurück. Beispieldialoge:\n",
    " \n",
    "Bitte eine Zahl eingeben: 12\n",
    "1 ist Teiler von 12\n",
    "2 ist Teiler von 12\n",
    "3 ist Teiler von 12\n",
    "4 ist Teiler von 12\n",
    "6 ist Teiler von 12\n",
    "12 ist Teiler von 12\n",
    "\n",
    "Bitte eine Zahl eingeben: 23\n",
    "1 ist Teiler von 23\n",
    "23 ist Teiler von 23\n",
    "'''\n",
    "# your code  "
   ]
  },
  {
   "cell_type": "code",
   "execution_count": null,
   "id": "93a2caac-3f18-4a6f-a360-eed985a6a9fd",
   "metadata": {},
   "outputs": [],
   "source": [
    "'''\n",
    "Aufgabe 11\n",
    "Lies eine ganze Zahl k > 2 ein.\n",
    "Gib ein k x k Quadrat mit '#'-Rändern aus.\n",
    "\n",
    "Beispieldialoge:\n",
    "\n",
    "Bitte eine ganze Zahl größer als 2 eingeben: 3\n",
    "###\n",
    "# #\n",
    "###\n",
    "\n",
    "Bitte eine Zahl eingeben: 5\n",
    "#####\n",
    "#   #\n",
    "#   #\n",
    "#   #\n",
    "#####\n",
    "\n",
    "Bitte eine ganze Zahl größer als 2 eingeben: 6\n",
    "######\n",
    "#    #\n",
    "#    #\n",
    "#    #\n",
    "#    #\n",
    "######\n",
    "'''\n",
    "# your code"
   ]
  },
  {
   "cell_type": "code",
   "execution_count": null,
   "id": "4457aa9a-507d-42a5-858b-8dc6f0e00dd6",
   "metadata": {},
   "outputs": [],
   "source": [
    "'''\n",
    "Aufgabe 12\n",
    "Lies in einer Zeile zwei ganze Zahlen a, b ein und ermittle die Summe aller\n",
    "Zahlen k zwischen a und b, also a <= k <= b. Beispieldialoge:\n",
    "\n",
    "Bitte zwei ganze Zahlen a, b eingeben mit a <= b: 0 3\n",
    "Die Summe aller ganzen Zahlen zwischen 0 und 3 ist 6\n",
    "\n",
    "Bitte zwei ganze Zahlen a, b eingeben mit a <= b: 1 100\n",
    "Die Summe aller ganzen Zahlen zwischen 1 und 100 ist 5050\n",
    "\n",
    "Bitte zwei ganze Zahlen a, b eingeben mit a <= b: -5 5\n",
    "Die Summe aller ganzen Zahlen zwischen -5 und 5 ist 0\n",
    "\n",
    "'''\n",
    "# your code"
   ]
  },
  {
   "cell_type": "code",
   "execution_count": null,
   "id": "df521f38-07f8-441d-9c2b-76383f146322",
   "metadata": {},
   "outputs": [],
   "source": [
    "''' \n",
    "Aufgabe 13\n",
    "Lies eine ganze Zahl k > 0 ein und gib die \n",
    "Multiplikationstabelle aus. Beispieldialoge:\n",
    "\n",
    "Bitte eine positive ganze Zahl eingeben: 17\n",
    "1 mal 17 ist 17\n",
    "2 mal 17 ist 34\n",
    "3 mal 17 ist 51\n",
    "4 mal 17 ist 68\n",
    "5 mal 17 ist 85\n",
    "6 mal 17 ist 102\n",
    "7 mal 17 ist 119\n",
    "8 mal 17 ist 136\n",
    "9 mal 17 ist 153\n",
    "10 mal 17 ist 170\n",
    "\n",
    "Bitte eine positive ganze Zahl eingeben: 23\n",
    "1 mal 23 ist 23\n",
    "2 mal 23 ist 46\n",
    "3 mal 23 ist 69\n",
    "4 mal 23 ist 92\n",
    "5 mal 23 ist 115\n",
    "6 mal 23 ist 138\n",
    "7 mal 23 ist 161\n",
    "8 mal 23 ist 184\n",
    "9 mal 23 ist 207\n",
    "10 mal 23 ist 230\n",
    "''' \n",
    "# your code"
   ]
  }
 ],
 "metadata": {
  "kernelspec": {
   "display_name": "Python 3 (ipykernel)",
   "language": "python",
   "name": "python3"
  },
  "language_info": {
   "codemirror_mode": {
    "name": "ipython",
    "version": 3
   },
   "file_extension": ".py",
   "mimetype": "text/x-python",
   "name": "python",
   "nbconvert_exporter": "python",
   "pygments_lexer": "ipython3",
   "version": "3.11.2"
  }
 },
 "nbformat": 4,
 "nbformat_minor": 5
}
