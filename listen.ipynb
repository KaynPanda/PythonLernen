{
 "cells": [
  {
   "cell_type": "markdown",
   "metadata": {},
   "source": [
    "# Listen\n",
    "* eine angeordnete Folge von Elementen, zugreifbar durch Index, unterschiedliche Datentypen sind möglich \n",
    "* mutable, d.h. Elemente können verändert werden. Dadurch können unerwünschte Seiteneffekte entstehen. \n",
    "* repräsentiert durch eckige Klammern [] "
   ]
  },
  {
   "cell_type": "code",
   "execution_count": null,
   "metadata": {},
   "outputs": [],
   "source": [
    "a = []                   # leere Liste\n",
    "a = [2,'hallo',5.1]      # verschiedene Typen sind möglich\n",
    "print(a[0], a[-1])       # Indexing wie bei Strings\n",
    "print(type(a))"
   ]
  },
  {
   "cell_type": "markdown",
   "metadata": {},
   "source": [
    "#### Slicing wie bei Strings"
   ]
  },
  {
   "cell_type": "code",
   "execution_count": null,
   "metadata": {},
   "outputs": [],
   "source": [
    "a = [0, 1, 2, 3, 4, 5, 6]\n",
    "print(a[1:3])\n",
    "print(a[2:])\n",
    "print(a[:-2])\n",
    "print(a[::-1])"
   ]
  },
  {
   "cell_type": "markdown",
   "metadata": {},
   "source": [
    "#### Hinzufügen und Löschen und Ändern von Elementen\n"
   ]
  },
  {
   "cell_type": "code",
   "execution_count": null,
   "metadata": {},
   "outputs": [],
   "source": [
    "a = [0, 1, 2, 3, 4, 5, 6]\n",
    "a.append(7)                      # hinzufügen\n",
    "print(a)\n",
    "x = a.pop()                      # das letzte Element herausnehmen\n",
    "print(x,a)\n",
    "x = a.pop(0)                     # Element mit Index 0 herausnehmen\n",
    "print(x,a)\n",
    "a.insert(0,9)                    # Element an Index 0 hinzufügen\n",
    "print(a)\n",
    "a[1] = 8                         # Update Index 1\n",
    "print(a)"
   ]
  },
  {
   "cell_type": "markdown",
   "metadata": {},
   "source": [
    "#### Suchen von Elementen \n",
    "\n",
    " "
   ]
  },
  {
   "cell_type": "code",
   "execution_count": null,
   "metadata": {},
   "outputs": [],
   "source": [
    "a = [3, 4, 7, 2, 8]\n",
    "print(4 in a)                         # ist Element in Liste?\n",
    "print(a.index(4))                     # Index des gesuchten Elements, Fehler falls nicht vorhanden"
   ]
  },
  {
   "cell_type": "markdown",
   "metadata": {},
   "source": [
    "#### Sortieren"
   ]
  },
  {
   "cell_type": "code",
   "execution_count": null,
   "metadata": {},
   "outputs": [],
   "source": [
    "a = [3, 4, 7, 2, 8]\n",
    "b1 = sorted(a)                        # eine neue sortierte Liste entsteht, a bleibt unverändert\n",
    "print(b1)\n",
    "b2 = sorted(a, reverse=True)          \n",
    "print(b2)\n",
    "print(f'Die Liste a ist unverändert: {a}')\n",
    "\n",
    "print()\n",
    "a.sort()                              # a wird sortiert\n",
    "print(f'Die Liste a ist verändert: {a}')\n",
    "a.sort(reverse=True)                  \n",
    "print(a)"
   ]
  },
  {
   "cell_type": "markdown",
   "metadata": {},
   "source": [
    "#### Unpacking\n",
    "\n",
    "Mit einer Liste könnnen wir mehrfache Zuweisungen durchführen (unpacking):"
   ]
  },
  {
   "cell_type": "code",
   "execution_count": null,
   "metadata": {},
   "outputs": [],
   "source": [
    "a = [1,2,3]\n",
    "x, y, z = a       # unpacking\n",
    "print(x)\n",
    "print(y)\n",
    "print(z)"
   ]
  },
  {
   "cell_type": "markdown",
   "metadata": {
    "tags": []
   },
   "source": [
    "#### Zwei Arten, eine Liste zu durchlaufen"
   ]
  },
  {
   "cell_type": "code",
   "execution_count": null,
   "metadata": {},
   "outputs": [],
   "source": [
    "a = [4,3,8,19,6]\n",
    "for i in range(len(a)):\n",
    "    print(a[i])"
   ]
  },
  {
   "cell_type": "code",
   "execution_count": null,
   "metadata": {},
   "outputs": [],
   "source": [
    "for x in a:\n",
    "    print(x)"
   ]
  },
  {
   "cell_type": "markdown",
   "metadata": {},
   "source": [
    "#### Methoden und Funktionen für Listen\n",
    "\n",
    "Ein Übersicht über die wichtigsten Methoden für Listen findet sich [hier](https://www.w3schools.com/python/python_lists_methods.asp)\n",
    "\n",
    " "
   ]
  },
  {
   "cell_type": "code",
   "execution_count": null,
   "metadata": {},
   "outputs": [],
   "source": [
    "a = [4, 7, -5, 9, 3]\n",
    "print(len(a))        # Länge\n",
    "print(max(a))        # Maximum\n",
    "print(min(a))        # Minimum \n",
    " "
   ]
  },
  {
   "cell_type": "code",
   "execution_count": null,
   "metadata": {},
   "outputs": [],
   "source": [
    "a = list(range(7))   # eine Liste aus range erzeugen\n",
    "print(a)\n",
    "a = list('Hallo')    # eine Liste aus einem String erzeugen\n",
    "print(a)"
   ]
  },
  {
   "cell_type": "code",
   "execution_count": null,
   "metadata": {},
   "outputs": [],
   "source": [
    "a1 = [1,2]\n",
    "a2 = [7, 8, 9]\n",
    "a3 = a1 + a2           # Liste aneinanderhängen\n",
    "a4 = a1 * 3            # Liste vervielfachen\n",
    "s = ''.join(['a','bb', 'ccc'])    # String-Liste in String umwandeln\n",
    "print(a3)\n",
    "print(a4)\n",
    "print(s)"
   ]
  },
  {
   "cell_type": "markdown",
   "metadata": {},
   "source": [
    "#### Liste mit *-Operator printen\n"
   ]
  },
  {
   "cell_type": "code",
   "execution_count": null,
   "metadata": {},
   "outputs": [],
   "source": [
    "a = [3,2,1]\n",
    "print(a)\n",
    "print(*a)                  # die Elemente werden mit Komma getrennt an die Funktion print übergeben.\n",
    "print(a[0],a[1],a[2])      # das macht das Gleiche"
   ]
  },
  {
   "cell_type": "code",
   "execution_count": null,
   "metadata": {},
   "outputs": [],
   "source": [
    "print(*a,sep='')           # der Separator ist der leere String"
   ]
  },
  {
   "cell_type": "markdown",
   "metadata": {},
   "source": [
    "### Seiteneffekte\n",
    "\n",
    "Strings sind immutable (unveränderbar), Listen sind mutable (veränderbar). Seiteneffekte können bei veränderbaren Datentypen auftreten."
   ]
  },
  {
   "cell_type": "code",
   "execution_count": 159,
   "metadata": {},
   "outputs": [
    {
     "name": "stdout",
     "output_type": "stream",
     "text": [
      "abc abcd\n"
     ]
    }
   ],
   "source": [
    "s = 'abc'\n",
    "s0 = s\n",
    "s = s + 'd'\n",
    "print(s0,s)"
   ]
  },
  {
   "cell_type": "code",
   "execution_count": 160,
   "metadata": {},
   "outputs": [
    {
     "name": "stdout",
     "output_type": "stream",
     "text": [
      "['a', 'b', 'c', 'd'] ['a', 'b', 'c', 'd']\n"
     ]
    }
   ],
   "source": [
    "a = ['a','b','c']\n",
    "a0 = a\n",
    "a.append('d')\n",
    "print(a0,a)"
   ]
  },
  {
   "cell_type": "markdown",
   "metadata": {},
   "source": [
    "Weiteres Beispiel für einen Seiteneffekt:"
   ]
  },
  {
   "cell_type": "code",
   "execution_count": 161,
   "metadata": {},
   "outputs": [
    {
     "name": "stdout",
     "output_type": "stream",
     "text": [
      "[0, 1, 4] [0, 1, 4]\n"
     ]
    }
   ],
   "source": [
    "a = [0,1,2]\n",
    "a0 = a\n",
    "a[2] = 4\n",
    "print(a0,a)"
   ]
  },
  {
   "cell_type": "markdown",
   "metadata": {},
   "source": [
    "Durch die Zuweisung `a0 = a` zeigt die Variable a0 auf dieselbe Liste, auf die auch a zeigt. Jede Änderung an der Liste a ändert also auch a0. Dies nennt man Seiteneffekt."
   ]
  },
  {
   "cell_type": "markdown",
   "metadata": {},
   "source": [
    "Wenn wir vor einer Änderung einer Liste eine alte Version dieser Liste behalten wollen, müssen wir uns eine Kopie der Liste erstellen. "
   ]
  },
  {
   "cell_type": "code",
   "execution_count": 162,
   "metadata": {},
   "outputs": [
    {
     "name": "stdout",
     "output_type": "stream",
     "text": [
      "[1, 2, 3] [1, 2, 3, 4]\n"
     ]
    }
   ],
   "source": [
    "a = [1,2,3]\n",
    "a0 = a[:]     # oder: a0 = a.copy()\n",
    "a.append(4)\n",
    "print(a0, a)"
   ]
  },
  {
   "cell_type": "markdown",
   "metadata": {},
   "source": [
    "#### Flache und tiefe Kopie\n",
    "\n",
    "Sind die Elemente einer Liste wieder Listen, dann muss auch von jedem Element der Liste eine Kopie erstellt werden, um Seiteneffekte zu vermeiden. \n",
    "\n",
    "Beispiel für einen Seiteneffekt bei flacher Kopie:"
   ]
  },
  {
   "cell_type": "code",
   "execution_count": 163,
   "metadata": {},
   "outputs": [
    {
     "name": "stdout",
     "output_type": "stream",
     "text": [
      "[[0, 2], [0, 2]] [[0, 2], [0, 2]]\n"
     ]
    }
   ],
   "source": [
    "b = [0,1]\n",
    "a = [b,b]            # eine Liste von Listen\n",
    "a0 = a.copy()        # eine flache Kopie\n",
    "b[1]=2\n",
    "print(a0,a)          "
   ]
  },
  {
   "cell_type": "markdown",
   "metadata": {},
   "source": [
    "Kein Seiteneffekt durch Verwendung der Funtion deepcopy:"
   ]
  },
  {
   "cell_type": "code",
   "execution_count": 164,
   "metadata": {},
   "outputs": [
    {
     "name": "stdout",
     "output_type": "stream",
     "text": [
      "[[0, 1], [0, 1]] [[0, 2], [0, 2]]\n"
     ]
    }
   ],
   "source": [
    "from copy import deepcopy\n",
    "b = [0,1]\n",
    "a = [b,b]            # eine Liste von Listen\n",
    "a0 = deepcopy(a)     # eine tiefe Kopie\n",
    "b[1]=2\n",
    "print(a0,a)   "
   ]
  },
  {
   "cell_type": "markdown",
   "metadata": {},
   "source": [
    "#### Beispiel für einen unerwünschten Seiteneffekt\n",
    "\n",
    "Wir wollen eine 5x5 Matrix erstellen mit lauter Nullen. Dann wollen wir die obere linke Zahl auf 1 setzen.\n"
   ]
  },
  {
   "cell_type": "code",
   "execution_count": 165,
   "metadata": {},
   "outputs": [
    {
     "data": {
      "text/plain": [
       "[[0, 0, 0, 0, 0],\n",
       " [0, 0, 0, 0, 0],\n",
       " [0, 0, 0, 0, 0],\n",
       " [0, 0, 0, 0, 0],\n",
       " [0, 0, 0, 0, 0]]"
      ]
     },
     "execution_count": 165,
     "metadata": {},
     "output_type": "execute_result"
    }
   ],
   "source": [
    "m1 = [[0]*5]*5                     # falsch         \n",
    "m1"
   ]
  },
  {
   "cell_type": "code",
   "execution_count": 168,
   "metadata": {},
   "outputs": [
    {
     "data": {
      "text/plain": [
       "[[1, 0, 0, 0, 0],\n",
       " [1, 0, 0, 0, 0],\n",
       " [1, 0, 0, 0, 0],\n",
       " [1, 0, 0, 0, 0],\n",
       " [1, 0, 0, 0, 0]]"
      ]
     },
     "execution_count": 168,
     "metadata": {},
     "output_type": "execute_result"
    }
   ],
   "source": [
    "m1[0][0] = 1\n",
    "m1"
   ]
  },
  {
   "cell_type": "code",
   "execution_count": 169,
   "metadata": {},
   "outputs": [
    {
     "data": {
      "text/plain": [
       "[[0, 0, 0, 0, 0],\n",
       " [0, 0, 0, 0, 0],\n",
       " [0, 0, 0, 0, 0],\n",
       " [0, 0, 0, 0, 0],\n",
       " [0, 0, 0, 0, 0]]"
      ]
     },
     "execution_count": 169,
     "metadata": {},
     "output_type": "execute_result"
    }
   ],
   "source": [
    "m2 = [[0]*5 for i in range(5)]     # richtig\n",
    "m2"
   ]
  },
  {
   "cell_type": "code",
   "execution_count": 170,
   "metadata": {},
   "outputs": [
    {
     "data": {
      "text/plain": [
       "[[1, 0, 0, 0, 0],\n",
       " [0, 0, 0, 0, 0],\n",
       " [0, 0, 0, 0, 0],\n",
       " [0, 0, 0, 0, 0],\n",
       " [0, 0, 0, 0, 0]]"
      ]
     },
     "execution_count": 170,
     "metadata": {},
     "output_type": "execute_result"
    }
   ],
   "source": [
    "m2[0][0] = 1\n",
    "m2"
   ]
  },
  {
   "cell_type": "markdown",
   "metadata": {},
   "source": [
    "#### Seiteneffekt bei Funktionen mit Listen als Parameter"
   ]
  },
  {
   "cell_type": "code",
   "execution_count": 174,
   "metadata": {},
   "outputs": [
    {
     "name": "stdout",
     "output_type": "stream",
     "text": [
      "[4, 5, 2, 1]\n",
      "[1, 5, 2, 4]\n"
     ]
    }
   ],
   "source": [
    "def vertausche(a):      # Seiteneffekt bei mutable Parameter\n",
    "    a = a.copy()\n",
    "    a[0],a[-1] = a[-1],a[0]\n",
    "    return a\n",
    "\n",
    "b = [1,5,2,4]\n",
    "b1 = vertausche(b)\n",
    "print(b1)\n",
    "print(b)"
   ]
  },
  {
   "cell_type": "markdown",
   "metadata": {},
   "source": [
    "#### Löschen von Listenelemente während eines Listendurchlaufs\n"
   ]
  },
  {
   "cell_type": "code",
   "execution_count": 175,
   "metadata": {},
   "outputs": [
    {
     "name": "stdout",
     "output_type": "stream",
     "text": [
      "[4, 7]\n"
     ]
    }
   ],
   "source": [
    "a = [2,4,7]                        \n",
    "for x in a:             # schlecht\n",
    "    if x % 2 == 0:\n",
    "        a.remove(x)\n",
    "print(a)"
   ]
  },
  {
   "cell_type": "code",
   "execution_count": 176,
   "metadata": {},
   "outputs": [
    {
     "name": "stdout",
     "output_type": "stream",
     "text": [
      "[7]\n"
     ]
    }
   ],
   "source": [
    "a = [2,4,7]                   \n",
    "for x in a[:]:          # gut\n",
    "    if x % 2 == 0:\n",
    "        a.remove(x)\n",
    "print(a)"
   ]
  },
  {
   "cell_type": "markdown",
   "metadata": {},
   "source": [
    "#### Listen als globale Parameter\n",
    "\n"
   ]
  },
  {
   "cell_type": "code",
   "execution_count": 177,
   "metadata": {},
   "outputs": [
    {
     "name": "stdout",
     "output_type": "stream",
     "text": [
      "[1, 2, 3]\n"
     ]
    }
   ],
   "source": [
    "a = [1,2,3]\n",
    "def doit():\n",
    "    a = [4,5,6]         # neue lokale Variable\n",
    "\n",
    "doit()\n",
    "print(a)"
   ]
  },
  {
   "cell_type": "code",
   "execution_count": 178,
   "metadata": {},
   "outputs": [
    {
     "name": "stdout",
     "output_type": "stream",
     "text": [
      "[4, 5, 6]\n"
     ]
    }
   ],
   "source": [
    "a = [1,2,3]\n",
    "def doit():\n",
    "    global a\n",
    "    a = [4,5,6]         # der globalen Variablen wird ein neuer Wert zugewiesen\n",
    "\n",
    "doit()\n",
    "print(a)"
   ]
  },
  {
   "cell_type": "code",
   "execution_count": 179,
   "metadata": {},
   "outputs": [
    {
     "name": "stdout",
     "output_type": "stream",
     "text": [
      "[4, 5, 6]\n"
     ]
    }
   ],
   "source": [
    "a = [1,2,3]\n",
    "def doit():\n",
    "    a[0] = 4             # der globalen Variablen a wird KEINE neue Liste zugewiesen\n",
    "    a[1] = 5             # es wird nur die bestehende Liste verändert     \n",
    "    a[2] = 6             \n",
    "\n",
    "doit()\n",
    "print(a)"
   ]
  },
  {
   "cell_type": "code",
   "execution_count": null,
   "metadata": {},
   "outputs": [],
   "source": []
  }
 ],
 "metadata": {
  "kernelspec": {
   "display_name": "Python 3 (ipykernel)",
   "language": "python",
   "name": "python3"
  },
  "language_info": {
   "codemirror_mode": {
    "name": "ipython",
    "version": 3
   },
   "file_extension": ".py",
   "mimetype": "text/x-python",
   "name": "python",
   "nbconvert_exporter": "python",
   "pygments_lexer": "ipython3",
   "version": "3.11.2"
  }
 },
 "nbformat": 4,
 "nbformat_minor": 4
}
