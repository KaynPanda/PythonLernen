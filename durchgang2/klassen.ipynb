{
 "cells": [
  {
   "cell_type": "markdown",
   "id": "1e299a89-dc08-4868-b9be-22209fe0c2d1",
   "metadata": {},
   "source": [
    "### Klassen\n",
    "\n",
    "Wenn wir ein Rechteck modellieren wollen, können wir dafür eine Liste nehmen und festlegen: die erste Komponente ist die Höhe, die zweite ist die Breite. Wir können Funktionen schreiben, die z.B. Umfang oder Fläche des Rechtecks berechnen."
   ]
  },
  {
   "cell_type": "code",
   "execution_count": 97,
   "id": "318c87a1-23cf-4658-a538-e78b5c393cae",
   "metadata": {},
   "outputs": [
    {
     "name": "stdout",
     "output_type": "stream",
     "text": [
      "20 21\n"
     ]
    }
   ],
   "source": [
    "def umfang(r):\n",
    "    ''' r: Liste  [hoehe, breite] '''\n",
    "    return 2*r[0] + 2*r[1]\n",
    "\n",
    "def flaeche(r):\n",
    "    ''' r: Liste [hoehe, breite] '''\n",
    "    return r[0]*r[1]\n",
    "\n",
    "r0 = [3,7]  # ein Rechteck der Höhe 3 und Breite 5\n",
    "print(umfang(r0), flaeche(r0))\n",
    "\n",
    " "
   ]
  },
  {
   "cell_type": "markdown",
   "id": "6514522e-9796-46b1-8b6c-7b70d26e2d50",
   "metadata": {},
   "source": [
    "Wenn ein Objekt, das wir modellieren wollen, noch mehr Attribute hat, wäre es besser, wir könnten die einzelnen Attribute mit Namen benennen. Außerdem wollen wir alle Funktionen, die wir für dieses Objekt schreiben, an einem Platz zusammenfassen. Dafür eignen sich Klassen."
   ]
  },
  {
   "cell_type": "code",
   "execution_count": null,
   "id": "95b85a37-0151-4585-9f2c-f55e0b84d5c6",
   "metadata": {},
   "outputs": [],
   "source": [
    "class Rechteck:\n",
    "    def __init__(self, hoehe, breite):     # dunder-init ist der Konstruktor\n",
    "        self.hoehe = hoehe                 # Attribute\n",
    "        self.breite = breite\n",
    "\n",
    "    def umfang(self):                      # Methoden\n",
    "        return 2*self.hoehe + 2*self.breite\n",
    "\n",
    "    def flaeche(self):                     \n",
    "        return self.hoehe * self.breite\n",
    "\n",
    "    def __str__(self):\n",
    "        return f'Rechteck mit Höhe={self.hoehe}, Breite={self.breite}'"
   ]
  },
  {
   "cell_type": "code",
   "execution_count": 98,
   "id": "3c4fb35a-ae2b-4088-bd02-23c529e54cf7",
   "metadata": {},
   "outputs": [
    {
     "name": "stdout",
     "output_type": "stream",
     "text": [
      "Typ: <class 'list'> <class '__main__.Rechteck'>\n"
     ]
    }
   ],
   "source": [
    "# Objekt erzeugen\n",
    "r0 = [3,5]\n",
    "r = Rechteck(3,5)\n",
    "print('Typ:',type(r0), type(r))"
   ]
  },
  {
   "cell_type": "code",
   "execution_count": 99,
   "id": "de319894-d9ef-4b48-a225-3b4cfd24d19f",
   "metadata": {},
   "outputs": [
    {
     "name": "stdout",
     "output_type": "stream",
     "text": [
      "3 3\n",
      "5 5\n"
     ]
    }
   ],
   "source": [
    "# Zugriff die Werte der Attribute durch Punktnotation\n",
    "print(r0[0],r.hoehe)\n",
    "print(r0[1],r.breite)"
   ]
  },
  {
   "cell_type": "code",
   "execution_count": 100,
   "id": "ca5ba40c-dfda-46f0-8c82-55703ba97b5c",
   "metadata": {},
   "outputs": [
    {
     "name": "stdout",
     "output_type": "stream",
     "text": [
      "4 4\n"
     ]
    }
   ],
   "source": [
    "# Ändern der Attributwerte mit Punktnotation\n",
    "r0[0] = 4\n",
    "r.hoehe = 4\n",
    "print(r0[0],r.hoehe)"
   ]
  },
  {
   "cell_type": "code",
   "execution_count": 102,
   "id": "b94c9d2d-1f5f-46e4-bd78-3b4a80a999b8",
   "metadata": {},
   "outputs": [
    {
     "name": "stdout",
     "output_type": "stream",
     "text": [
      "[4, 5]\n",
      "Rechteck mit Höhe=4, Breite=5\n"
     ]
    }
   ],
   "source": [
    "# Objekt ausdrucken mit dunder-str-Methode\n",
    "print(r0)\n",
    "print(r)"
   ]
  },
  {
   "cell_type": "code",
   "execution_count": 103,
   "id": "35807c97-1e04-485a-b200-3cb9ce3d77a7",
   "metadata": {},
   "outputs": [
    {
     "name": "stdout",
     "output_type": "stream",
     "text": [
      "18 18\n",
      "20 20\n"
     ]
    }
   ],
   "source": [
    "# Methoden aufrufen mit Punktnotation und Klammern\n",
    "print(umfang(r0), r.umfang())\n",
    "print(flaeche(r0), r.flaeche())"
   ]
  },
  {
   "cell_type": "code",
   "execution_count": null,
   "id": "22e04a5f-7d51-4cc1-8ba6-afc13f5cd814",
   "metadata": {},
   "outputs": [],
   "source": []
  }
 ],
 "metadata": {
  "kernelspec": {
   "display_name": "Python 3 (ipykernel)",
   "language": "python",
   "name": "python3"
  },
  "language_info": {
   "codemirror_mode": {
    "name": "ipython",
    "version": 3
   },
   "file_extension": ".py",
   "mimetype": "text/x-python",
   "name": "python",
   "nbconvert_exporter": "python",
   "pygments_lexer": "ipython3",
   "version": "3.11.2"
  }
 },
 "nbformat": 4,
 "nbformat_minor": 5
}
