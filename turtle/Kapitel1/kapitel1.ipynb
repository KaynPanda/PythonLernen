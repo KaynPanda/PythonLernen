{
 "cells": [
  {
   "cell_type": "markdown",
   "id": "881a2b0b-6fac-4ed6-b5d4-464d056ba86b",
   "metadata": {},
   "source": [
    "### Turtle 1"
   ]
  },
  {
   "cell_type": "code",
   "execution_count": null,
   "id": "b79f0662-1385-4175-8281-d7a4e9b56c5f",
   "metadata": {},
   "outputs": [],
   "source": [
    "from turtle import *            # immer die erste Zeile"
   ]
  },
  {
   "cell_type": "markdown",
   "id": "5dd3a871-2430-4bab-aeeb-77ab62e8e11e",
   "metadata": {},
   "source": [
    "Das Turtle-Fenster ist standardmäßig 700 x 650 Pixel groß. Die Koordinate (0,0) ist der Mittelpunkt des Fensters. Die Ausrichtung der Turtle ist zu Beginn nach rechts (Osten)."
   ]
  },
  {
   "cell_type": "code",
   "execution_count": null,
   "id": "902c113c-ec56-4edb-b6f0-e7d29a92a47d",
   "metadata": {},
   "outputs": [],
   "source": [
    "# Vorwärts und Rückwärts gehen, Drehen\n",
    "forward(100)   # um 100 Schritte nach vorwärts gehen\n",
    "back(100)      # rückwärts\n",
    "right(90)      # um 90 Grad nach rechts drehen\n",
    "left(90)       # nach links\n",
    "# oder die Kurzformen\n",
    "fd(100)\n",
    "bk(100)\n",
    "rt(90)\n",
    "lt(90)\n",
    "\n",
    "# oder mit negativen Werten:\n",
    "forward(-100)  # entspricht back(100)\n",
    "back(-100)     # entspricht forward(100)\n",
    "right(-90)      # entspricht left(90)\n",
    "left(-90)      # entspricht right(90)"
   ]
  },
  {
   "cell_type": "code",
   "execution_count": null,
   "id": "7b51ae0c-9259-428e-b7c0-0b81e5026f94",
   "metadata": {},
   "outputs": [],
   "source": [
    "# Turtle hoch und niedersetzen\n",
    "penup()\n",
    "pendown()\n",
    "# oder\n",
    "up()\n",
    "down()"
   ]
  },
  {
   "cell_type": "code",
   "execution_count": null,
   "id": "ffec2ce7-8e7b-4022-94b9-662b8dfd90cc",
   "metadata": {},
   "outputs": [],
   "source": [
    "# Turtle verstecken oder zeigen\n",
    "hideturtle()\n",
    "showturtle\n",
    "# oder die Kurzformen\n",
    "ht()\n",
    "st()"
   ]
  },
  {
   "cell_type": "markdown",
   "id": "0db3eb27-1362-4112-9316-057c9d096a6a",
   "metadata": {},
   "source": [
    "Wir können die Farbe und die Strichbreite der Turtle verändern. Eine Tabelle mit Farbnamen findet\n",
    "sich hier: https://trinket.io/docs/colors <br>"
   ]
  },
  {
   "cell_type": "code",
   "execution_count": null,
   "id": "947ab9b1-253a-44b1-9f67-f6fed9176154",
   "metadata": {},
   "outputs": [],
   "source": [
    "# Strichstärke und Strichfarbe\n",
    "pensize(80)           # Strichstärke\n",
    "pencolor('red')       # Strichfarbe"
   ]
  },
  {
   "cell_type": "code",
   "execution_count": 2,
   "id": "9960a0cf-739c-4402-ac2a-f4e284d75217",
   "metadata": {},
   "outputs": [],
   "source": [
    "''' \n",
    "Aufgabe 1:\n",
    "Zeichne ein Quadrat der Größe 150 x 150\n",
    "'''\n",
    "from turtle import *"
   ]
  },
  {
   "cell_type": "code",
   "execution_count": 3,
   "id": "e14327c0-cacb-4469-91ef-4b57aaef9514",
   "metadata": {},
   "outputs": [],
   "source": [
    "'''\n",
    "Aufgabe 2:\n",
    "Zeichne ein gleichseitiges Dreieck mit Seitenlänge 200\n",
    "'''\n",
    "from turtle import *"
   ]
  },
  {
   "cell_type": "code",
   "execution_count": 4,
   "id": "93d96b64-da80-45fa-84b4-acfbab90b460",
   "metadata": {},
   "outputs": [],
   "source": [
    "'''\n",
    "Aufgabe 3:\n",
    "Zeichne eine Raute mit den Winkeln 60 und 120 und der Seitenlänge 100 (Bild unten)\n",
    "'''\n",
    "from turtle import *"
   ]
  },
  {
   "cell_type": "markdown",
   "id": "ede1aa48-ae10-4958-ba41-b8ea3295a7e1",
   "metadata": {},
   "source": [
    "<img src='raute.png'>"
   ]
  },
  {
   "cell_type": "code",
   "execution_count": 5,
   "id": "2c28c83d-e414-430c-9fc3-40fec32abc29",
   "metadata": {},
   "outputs": [],
   "source": [
    "'''\n",
    "Aufgabe 4:\n",
    "Zeichne einen Blitz wie im Bild unten. Wähler selber die Länge der Linien und die Winkel.\n",
    "'''\n",
    "from turtle import *"
   ]
  },
  {
   "cell_type": "markdown",
   "id": "2fc31ba5-2c78-436e-8be9-2b8802f442e3",
   "metadata": {},
   "source": [
    "<img src='blitz.png' width='150'>"
   ]
  },
  {
   "cell_type": "code",
   "execution_count": null,
   "id": "d07db4af-bb25-4cce-a4cb-8c9eccd133e9",
   "metadata": {},
   "outputs": [],
   "source": [
    "'''\n",
    "Aufgabe 5:\n",
    "Zeichne ein regelmäßiges Sechseck mit Seitenlänge 100 (Bild unten). \n",
    "Hinweis: Der Abbiegewinkel der Turtle beträgt 360/6 = 60 Grad.\n",
    "'''\n",
    "from turtle import *"
   ]
  },
  {
   "cell_type": "markdown",
   "id": "d88addef-2090-4794-9e3c-cbdb509daff8",
   "metadata": {},
   "source": [
    "<img src='sechseck.png' width='250'>"
   ]
  },
  {
   "cell_type": "code",
   "execution_count": 3,
   "id": "097cf0ec-dc64-4bd4-a7e3-c843cdc6b029",
   "metadata": {},
   "outputs": [],
   "source": [
    "'''\n",
    "Aufgabe 6:\n",
    "Zeichne ein regelmäßiges rotes Fünfeck mit Seitenlange 200 und Strichstärke 6. \n",
    "'''\n",
    "from turtle import *\n"
   ]
  },
  {
   "cell_type": "code",
   "execution_count": 4,
   "id": "c438d209-156f-475f-adb6-434a7aeb718d",
   "metadata": {},
   "outputs": [],
   "source": [
    "'''\n",
    "Aufgabe 7:\n",
    "Zeichne ein regelmäßiges grünes Achteck mit Seitenlänge 100. Wähle selbst die Strichstärke.\n",
    "'''\n",
    "from turtle import *"
   ]
  },
  {
   "cell_type": "code",
   "execution_count": 5,
   "id": "9cfd17ea-7293-45c2-bddb-46fc643adf3c",
   "metadata": {},
   "outputs": [],
   "source": [
    "'''\n",
    "Aufgabe 8:\n",
    "Zeichne ein rechtwinkliges gleichschenkliges Dreieck. \n",
    "Die Länge der beiden kürzeren Seiten (Katheten) soll 100 sein.\n",
    "Die Länge des langen Seite (Hypothenuse) können wir mit dem Satz des Pythagoras berechnen. \n",
    "Falls du den noch nicht kennst, versuche die Länge durch ausprobieren zu bestimmen.\n",
    "'''\n",
    "from turtle import *"
   ]
  },
  {
   "cell_type": "code",
   "execution_count": 6,
   "id": "604b10bc-5769-4ee0-81b5-9002059302dd",
   "metadata": {},
   "outputs": [],
   "source": [
    "'''\n",
    "Aufgabe 9:\n",
    "Zeichne das Haus vom Nikolaus. Das Grundquadrat soll die Seitenlänge 100 haben.\n",
    "'''\n",
    "from turtle import *"
   ]
  },
  {
   "cell_type": "markdown",
   "id": "061aaaef-aebe-4dab-a7ea-160974815fcb",
   "metadata": {},
   "source": [
    "<img src='nikolaus.png' width='150'>"
   ]
  },
  {
   "cell_type": "code",
   "execution_count": 7,
   "id": "b42fffc4-812c-40da-9ce6-35fedd625c04",
   "metadata": {},
   "outputs": [],
   "source": [
    "'''\n",
    "Aufgabe 10:\n",
    "Zeichne ein gleichseitiges Dreieck mit der Seitenlänge 144. Zeichne in das Dreieck die Höhe ein.\n",
    "'''\n",
    "from turtle import *\n"
   ]
  },
  {
   "cell_type": "markdown",
   "id": "2399186b-fff3-4c74-b75f-4d8081e6ab7b",
   "metadata": {},
   "source": [
    "<img src='hoehe.png' width='250'>"
   ]
  },
  {
   "cell_type": "code",
   "execution_count": 8,
   "id": "206be844-b2e5-4523-9536-4aedd3ad5ba9",
   "metadata": {},
   "outputs": [],
   "source": [
    "'''\n",
    "Aufgabe 11:\n",
    "Zeichne ein Segelschiff, das so ähnlich wie in der Abbildung aussieht.\n",
    "Verstecke die Turtle mit ht()\n",
    "'''\n",
    "from turtle import *"
   ]
  },
  {
   "cell_type": "markdown",
   "id": "6861d279-bc26-40d8-b471-fae0e3d7797b",
   "metadata": {},
   "source": [
    "<img src='segelboot.png' width='250'>"
   ]
  }
 ],
 "metadata": {
  "kernelspec": {
   "display_name": "Python 3 (ipykernel)",
   "language": "python",
   "name": "python3"
  },
  "language_info": {
   "codemirror_mode": {
    "name": "ipython",
    "version": 3
   },
   "file_extension": ".py",
   "mimetype": "text/x-python",
   "name": "python",
   "nbconvert_exporter": "python",
   "pygments_lexer": "ipython3",
   "version": "3.11.2"
  }
 },
 "nbformat": 4,
 "nbformat_minor": 5
}
