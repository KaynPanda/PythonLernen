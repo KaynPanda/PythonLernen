{
 "cells": [
  {
   "cell_type": "markdown",
   "id": "bd35d3b9-69ce-4839-b9ae-35b084a02b6e",
   "metadata": {},
   "source": [
    "### Grundlegende Turtle Befehle"
   ]
  },
  {
   "cell_type": "code",
   "execution_count": null,
   "id": "95c2a3a7-77e6-4134-9d1b-c5f2c00402ae",
   "metadata": {},
   "outputs": [],
   "source": [
    "from turtle import *            # immer die erste Zeile"
   ]
  },
  {
   "cell_type": "code",
   "execution_count": null,
   "id": "d821558e-6912-4bb0-8958-ffe6e59b2dc8",
   "metadata": {},
   "outputs": [],
   "source": [
    "# Vorwärts und Rückwärts gehen, Drehen\n",
    "forward(100)   # um 100 Schritte nach vorwärts gehen\n",
    "back(100)      # rückwärts\n",
    "right(90)      # um 90 Grad nach rechts drehen\n",
    "left(90)       # nach links\n",
    "# oder die Kurzformen\n",
    "fd(100)\n",
    "bk(100)\n",
    "rt(90)\n",
    "lt(90)"
   ]
  },
  {
   "cell_type": "code",
   "execution_count": null,
   "id": "00ffa9c2-12fd-4a33-991b-6f3f77d46095",
   "metadata": {},
   "outputs": [],
   "source": [
    "# Turtle verstecken\n",
    "hideturtle()\n",
    "showturtle\n",
    "# oder die Kurzformen\n",
    "ht()\n",
    "st()"
   ]
  },
  {
   "cell_type": "code",
   "execution_count": null,
   "id": "250e006b-87cd-4fc7-aaa3-f465add27e5f",
   "metadata": {},
   "outputs": [],
   "source": [
    "# Geschwindigkeit der Turtle\n",
    "speed(0)      # keine Animation, die Turtle springt zum Zielpunkt\n",
    "speed(1...10) # langsam ... schnell\n",
    "speed()       # Zurücksetzen auf Standardgeschwindigkeit\n",
    " "
   ]
  },
  {
   "cell_type": "code",
   "execution_count": null,
   "id": "49d68052-c8a3-4cb4-9fbe-a6223b11e712",
   "metadata": {},
   "outputs": [],
   "source": [
    "# Position und Richtung der Turtle setzen\n",
    "goto(200,300)  # die Turtle geht zur Koordinate(200,300)\n",
    "setx(300)      # die x-Position der Turtle wird gesetzt\n",
    "sety(400)      # die y-Position der Turtle wird gesetzt\n",
    "setheading(90)   # die Richtung setzen. 0 = Ost, 90 = Nord, 180 = Wests, 270 = Süd"
   ]
  },
  {
   "cell_type": "code",
   "execution_count": null,
   "id": "8049fd46-cba4-4df3-8528-8822e9b1b4bd",
   "metadata": {},
   "outputs": [],
   "source": [
    "# Turtle hoch und niedersetzen\n",
    "penup()\n",
    "pendown()\n",
    "# oder\n",
    "up()\n",
    "down()"
   ]
  },
  {
   "cell_type": "code",
   "execution_count": null,
   "id": "2e2f20d0-80ee-417e-a589-2d0c1ec2301f",
   "metadata": {},
   "outputs": [],
   "source": [
    "# Strichstärke und Strichfarbe\n",
    "pensize(80)\n",
    "pencolor('khaki')\n",
    "\n",
    "# Die Strichfarbe mit RGB-Werten setzen\n",
    "colormode(255)\n",
    "pencolor(120,150,200)    # RGB \n",
    "pencolor('#1A6566')      # hex-RGB\n"
   ]
  },
  {
   "cell_type": "markdown",
   "id": "d0f57370-fad3-4264-8e68-9b92fc696942",
   "metadata": {},
   "source": [
    "Farbnamen: https://trinket.io/docs/colors <br>\n",
    "Farbpaletten mit hex-RGB Werten:  https://color.adobe.com/de/explore\n"
   ]
  },
  {
   "cell_type": "code",
   "execution_count": null,
   "id": "c3aaca6d-5567-46f2-b4a9-1ea4cbc6b8af",
   "metadata": {},
   "outputs": [],
   "source": [
    "# Die Standardwerte des Turtle Fensters: 700 x 650, Farbe: white, Title: 'Python Turtle Graphics'\n",
    "setup(700, 650)\n",
    "title('Python Turtle Graphics') \n",
    "bgcolor('white')"
   ]
  },
  {
   "cell_type": "code",
   "execution_count": null,
   "id": "6c59c94f-1246-459a-a105-d266ae32a469",
   "metadata": {},
   "outputs": [],
   "source": [
    "# Turtle-Fenster Größe und Position\n",
    "# startx,y: Abstand des Fensters zur linken oberen Ecke (falls Werte positiv) bzw. zur rechten unteren Ecke (falls Werte negativ) \n",
    "setup(width=0.3,height=0.5, startx=-100, starty=-100)  # Breite = 0.3 Bildschirmbreite, Höhe = 0.5 * Bildschirmhöhe\n"
   ]
  },
  {
   "cell_type": "code",
   "execution_count": null,
   "id": "064deec1-a467-4e3e-893a-f83085c05648",
   "metadata": {},
   "outputs": [],
   "source": [
    "# Informationen abfragen\n",
    "window_height()   # gibt die Höhe des Turtle-Fensters zurück\n",
    "window_width()    # gibt die Breite des Turtle-Fensters zurück\n",
    "pos()             #\n",
    "xcor()            # gibt die x-Koordinate der Turtle zurück\n",
    "ycor()            # gibt die y-Koordinate der Turtle zurück\n",
    "heading()         # gibt die aktuelle Richtung der Turtle zurück\n"
   ]
  }
 ],
 "metadata": {
  "kernelspec": {
   "display_name": "Python 3 (ipykernel)",
   "language": "python",
   "name": "python3"
  },
  "language_info": {
   "codemirror_mode": {
    "name": "ipython",
    "version": 3
   },
   "file_extension": ".py",
   "mimetype": "text/x-python",
   "name": "python",
   "nbconvert_exporter": "python",
   "pygments_lexer": "ipython3",
   "version": "3.11.2"
  }
 },
 "nbformat": 4,
 "nbformat_minor": 5
}
