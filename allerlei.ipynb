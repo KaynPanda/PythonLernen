{
 "cells": [
  {
   "cell_type": "markdown",
   "id": "559c17be-4ea0-482b-97b0-05c723481f2c",
   "metadata": {},
   "source": [
    "### Allerlei"
   ]
  },
  {
   "cell_type": "code",
   "execution_count": 3,
   "id": "0a9a24eb-e997-44df-ac94-7c0e98530fb6",
   "metadata": {},
   "outputs": [
    {
     "data": {
      "text/plain": [
       "[[1, 0, 0, 0, 0],\n",
       " [0, 1, 0, 0, 0],\n",
       " [0, 0, 1, 0, 0],\n",
       " [0, 0, 0, 1, 0],\n",
       " [0, 0, 0, 0, 1]]"
      ]
     },
     "execution_count": 3,
     "metadata": {},
     "output_type": "execute_result"
    }
   ],
   "source": [
    "# Mit einer Comprehension eine Identity-Matrix erstellen\n",
    "[[1 if x == y else 0 for y in range(5)] for x in range(5)]"
   ]
  },
  {
   "cell_type": "code",
   "execution_count": 15,
   "id": "9f80e360-e54c-424c-b5b0-8db7f0cf3e85",
   "metadata": {},
   "outputs": [],
   "source": [
    "def m(rows,cols):\n",
    "    return [[1 if x == y else 0 for y in range(cols)] for x in range(rows)]"
   ]
  },
  {
   "cell_type": "code",
   "execution_count": 33,
   "id": "f83a274e-4f5c-4932-9153-21fcaa361b99",
   "metadata": {},
   "outputs": [
    {
     "name": "stdout",
     "output_type": "stream",
     "text": [
      "[[1, 0, 0, 0, 0, 0, 0],\n",
      " [0, 1, 0, 0, 0, 0, 0],\n",
      " [0, 0, 1, 0, 0, 0, 0],\n",
      " [0, 0, 0, 1, 0, 0, 0],\n",
      " [0, 0, 0, 0, 1, 0, 0],\n",
      " [0, 0, 0, 0, 0, 1, 0],\n",
      " [0, 0, 0, 0, 0, 0, 1]]\n"
     ]
    }
   ],
   "source": [
    "\n",
    "m(7,7)"
   ]
  },
  {
   "cell_type": "code",
   "execution_count": 5,
   "id": "14453aa2-4635-47e3-b7b9-fc8042a214b9",
   "metadata": {},
   "outputs": [
    {
     "data": {
      "text/plain": [
       "7"
      ]
     },
     "execution_count": 5,
     "metadata": {},
     "output_type": "execute_result"
    }
   ],
   "source": [
    "# Beim Aufruf sind NUR named parameter erlaubt\n",
    "def func(*, a, b):\n",
    "    return a + b\n",
    "\n",
    "func(a=2, b=5)"
   ]
  },
  {
   "cell_type": "code",
   "execution_count": 11,
   "id": "3a527a77-cd70-416b-8ab9-cb514439787e",
   "metadata": {},
   "outputs": [
    {
     "data": {
      "text/plain": [
       "(8, (8, 4, 7, 5), {'d': 2, 'e': 7, 'f': 3})"
      ]
     },
     "execution_count": 11,
     "metadata": {},
     "output_type": "execute_result"
    }
   ],
   "source": [
    "# ** übernimmt beliebg viele named parameter\n",
    "# * übernimmt beliebig viele positional parameter\n",
    "def func(a, b, *args, **kwargs):\n",
    "    return a+b, args, kwargs\n",
    "\n",
    "func(3,5,8,4,7,5,d=2,e=7,f=3)"
   ]
  },
  {
   "cell_type": "markdown",
   "id": "d51d75a6-05c6-4755-b548-a27f74cd9045",
   "metadata": {},
   "source": [
    "Einige Funktionen\n",
    "\n",
    "round rundet immer zur nächsten ganzen Zahl hin. Bei Untentschieden rundet es zur nächsten geraden ganzen Zahl"
   ]
  },
  {
   "cell_type": "code",
   "execution_count": 17,
   "id": "88733f33-e187-4ad1-9c0f-724c1016a702",
   "metadata": {},
   "outputs": [
    {
     "data": {
      "text/plain": [
       "-2"
      ]
     },
     "execution_count": 17,
     "metadata": {},
     "output_type": "execute_result"
    }
   ],
   "source": [
    "round(-1.5)"
   ]
  },
  {
   "cell_type": "code",
   "execution_count": 18,
   "id": "c9bb5622-db60-43b3-8f2d-aa20fc10898a",
   "metadata": {},
   "outputs": [
    {
     "data": {
      "text/plain": [
       "-2"
      ]
     },
     "execution_count": 18,
     "metadata": {},
     "output_type": "execute_result"
    }
   ],
   "source": [
    "round(-2.5)"
   ]
  },
  {
   "cell_type": "code",
   "execution_count": 21,
   "id": "0dd139ce-fd22-49cd-abdf-9c8d4507d4b0",
   "metadata": {},
   "outputs": [
    {
     "name": "stdout",
     "output_type": "stream",
     "text": [
      "-5 0.0\n",
      "-4 10000.0\n",
      "-3 12000.0\n",
      "-2 12400.0\n",
      "-1 12430.0\n",
      "0 12432.0\n",
      "1 12432.3\n",
      "2 12432.32\n",
      "3 12432.325\n",
      "4 12432.3245\n"
     ]
    }
   ],
   "source": [
    "# der zweite Parameter ist der Exponent von 1/10\n",
    "for i in range(-5,5):\n",
    "    print(i,round(12432.3245,i))\n",
    " "
   ]
  },
  {
   "cell_type": "code",
   "execution_count": 28,
   "id": "b56767f2-58d2-4deb-8431-fb5786e3cf8c",
   "metadata": {},
   "outputs": [
    {
     "name": "stdout",
     "output_type": "stream",
     "text": [
      "0.3250000000000000111022302\n"
     ]
    },
    {
     "data": {
      "text/plain": [
       "0.3"
      ]
     },
     "execution_count": 28,
     "metadata": {},
     "output_type": "execute_result"
    }
   ],
   "source": [
    "#Aber Achtung bei floats\n",
    "x = 0.325\n",
    "print(f'{x:.25}')   # es ist näher an 0.3 als an 0.2\n",
    "round(x,1)"
   ]
  },
  {
   "cell_type": "code",
   "execution_count": 30,
   "id": "95a59615-3397-491d-8a68-a615495e8bac",
   "metadata": {},
   "outputs": [],
   "source": [
    "from pprint import pprint"
   ]
  },
  {
   "cell_type": "code",
   "execution_count": 32,
   "id": "b7c131c0-5ff2-46df-8d98-db1fa4585e4c",
   "metadata": {},
   "outputs": [
    {
     "name": "stdout",
     "output_type": "stream",
     "text": [
      "Help on function pprint in module pprint:\n",
      "\n",
      "pprint(object, stream=None, indent=1, width=80, depth=None, *, compact=False, sort_dicts=True, underscore_numbers=False)\n",
      "    Pretty-print a Python object to a stream [default is sys.stdout].\n",
      "\n"
     ]
    }
   ],
   "source": [
    "help(pprint)"
   ]
  },
  {
   "cell_type": "code",
   "execution_count": null,
   "id": "28c51909-f993-4a51-8bb8-c8b72e072f03",
   "metadata": {},
   "outputs": [],
   "source": []
  }
 ],
 "metadata": {
  "kernelspec": {
   "display_name": "Python 3 (ipykernel)",
   "language": "python",
   "name": "python3"
  },
  "language_info": {
   "codemirror_mode": {
    "name": "ipython",
    "version": 3
   },
   "file_extension": ".py",
   "mimetype": "text/x-python",
   "name": "python",
   "nbconvert_exporter": "python",
   "pygments_lexer": "ipython3",
   "version": "3.11.2"
  }
 },
 "nbformat": 4,
 "nbformat_minor": 5
}
