{
 "cells": [
  {
   "cell_type": "markdown",
   "id": "e369f799-0974-45ee-9f99-8fd9d4653d46",
   "metadata": {},
   "source": [
    "#### Breitensuche (breadth first search, bfs)"
   ]
  },
  {
   "cell_type": "code",
   "execution_count": 98,
   "id": "36cd323d-ac4a-428e-a06c-f121768cc455",
   "metadata": {},
   "outputs": [],
   "source": [
    "from collections import deque\n",
    "def bfs(startstate):\n",
    "    frontier =  deque([startstate])\n",
    "    prev = {startstate:None}\n",
    "    while frontier:\n",
    "        state = frontier.popleft()\n",
    "        # if state == goal:\n",
    "        #     return prev\n",
    "        for v in nextstates(state):\n",
    "            if v not in prev:\n",
    "                frontier.append(v)\n",
    "                prev[v] = state\n",
    "    return prev\n",
    "\n",
    "\n",
    "def reconstructPath(prev,state):\n",
    "    path = []\n",
    "    while state is not None:\n",
    "        path.append(state)\n",
    "        state = prev[state]\n",
    "    path.reverse()\n",
    "    return path"
   ]
  },
  {
   "cell_type": "code",
   "execution_count": 122,
   "id": "8602646a-674d-4076-890c-b09d90d1a147",
   "metadata": {},
   "outputs": [],
   "source": [
    "import random\n",
    "random.seed(1)\n",
    "von, bis = 1, 50\n",
    "verzweigung = 4\n",
    "V = range(von,bis+1)\n",
    "\n",
    "\n",
    "def nextstates(s):\n",
    "    random.seed(s)\n",
    "    return [random.randrange(von, bis) for _ in range(random.randrange(verzweigung))]\n",
    "\n",
    "def goaltest(state):\n",
    "    return state == goal\n",
    "\n",
    "prev = bfs(0)\n",
    " \n",
    "    "
   ]
  },
  {
   "cell_type": "code",
   "execution_count": 123,
   "id": "887701b3-ba45-4179-ac6b-7934ca7866b4",
   "metadata": {},
   "outputs": [],
   "source": [
    "paths = []\n",
    "for v in prev:\n",
    "    path = reconstructPath(prev,v)\n",
    "    paths.append(path)"
   ]
  },
  {
   "cell_type": "code",
   "execution_count": 124,
   "id": "6d131fb6-6ae7-41ad-b020-86336494be66",
   "metadata": {},
   "outputs": [
    {
     "name": "stdout",
     "output_type": "stream",
     "text": [
      "Wurzel = 0\n",
      "49 Kind von 0 auf Ebene 1\n",
      "27 Kind von 0 auf Ebene 1\n",
      "3 Kind von 0 auf Ebene 1\n",
      "45 Kind von 27 auf Ebene 2\n",
      "18 Kind von 27 auf Ebene 2\n",
      "19 Kind von 27 auf Ebene 2\n",
      "38 Kind von 3 auf Ebene 2\n",
      "32 Kind von 45 auf Ebene 3\n",
      "8 Kind von 18 auf Ebene 3\n",
      "28 Kind von 38 auf Ebene 3\n",
      "47 Kind von 38 auf Ebene 3\n",
      "24 Kind von 8 auf Ebene 4\n",
      "5 Kind von 47 auf Ebene 4\n",
      "12 Kind von 24 auf Ebene 5\n",
      "14 Kind von 24 auf Ebene 5\n",
      "48 Kind von 5 auf Ebene 5\n",
      "23 Kind von 5 auf Ebene 5\n",
      "43 Kind von 12 auf Ebene 6\n",
      "34 Kind von 12 auf Ebene 6\n",
      "9 Kind von 48 auf Ebene 6\n",
      "36 Kind von 48 auf Ebene 6\n",
      "6 Kind von 23 auf Ebene 6\n",
      "2 Kind von 23 auf Ebene 6\n",
      "40 Kind von 9 auf Ebene 7\n",
      "4 Kind von 36 auf Ebene 7\n",
      "20 Kind von 4 auf Ebene 8\n",
      "17 Kind von 20 auf Ebene 9\n"
     ]
    }
   ],
   "source": [
    "for p in paths:\n",
    "    if len(p)==1:\n",
    "        print(f'Wurzel = {p[0]}')\n",
    "    else:\n",
    "        print(f'{p[-1]} Kind von {p[-2]} auf Ebene {len(p)-1}' )"
   ]
  },
  {
   "cell_type": "code",
   "execution_count": 109,
   "id": "0b703df2-e245-485f-a691-f4d67aba7ecc",
   "metadata": {},
   "outputs": [
    {
     "data": {
      "text/plain": [
       "[]"
      ]
     },
     "execution_count": 109,
     "metadata": {},
     "output_type": "execute_result"
    }
   ],
   "source": [
    "nextstates(14)"
   ]
  },
  {
   "cell_type": "code",
   "execution_count": 29,
   "id": "c389a90e-0dd5-4a54-9b27-3d3f70defb78",
   "metadata": {},
   "outputs": [
    {
     "data": {
      "text/plain": [
       "[74, 6]"
      ]
     },
     "execution_count": 29,
     "metadata": {},
     "output_type": "execute_result"
    }
   ],
   "source": [
    "nextstates(98)"
   ]
  },
  {
   "cell_type": "code",
   "execution_count": 30,
   "id": "63e7a2c6-b0b8-4851-83eb-d2a267638a7f",
   "metadata": {},
   "outputs": [
    {
     "data": {
      "text/plain": [
       "[57]"
      ]
     },
     "execution_count": 30,
     "metadata": {},
     "output_type": "execute_result"
    }
   ],
   "source": [
    "nextstates(54)"
   ]
  },
  {
   "cell_type": "code",
   "execution_count": 31,
   "id": "dee9c365-a482-46f7-9540-3712ca81c3c1",
   "metadata": {},
   "outputs": [
    {
     "data": {
      "text/plain": [
       "[]"
      ]
     },
     "execution_count": 31,
     "metadata": {},
     "output_type": "execute_result"
    }
   ],
   "source": [
    "nextstates(57)"
   ]
  },
  {
   "cell_type": "code",
   "execution_count": 128,
   "id": "f840b708-9e89-4a0a-a05f-1467982d8c1d",
   "metadata": {},
   "outputs": [
    {
     "data": {
      "text/plain": [
       "99996"
      ]
     },
     "execution_count": 128,
     "metadata": {},
     "output_type": "execute_result"
    }
   ],
   "source": [
    "import random\n",
    "random.seed(1)\n",
    "von, bis = 1, 100000\n",
    "verzweigung = 20\n",
    "V = range(von,bis+1)\n",
    "\n",
    "\n",
    "def nextstates(s):\n",
    "    random.seed(s)\n",
    "    return [random.randrange(von, bis) for _ in range(random.randrange(verzweigung))]\n",
    "\n",
    "def goaltest(state):\n",
    "    return state == goal\n",
    "\n",
    "prev = bfs(0)\n",
    "len(prev)"
   ]
  },
  {
   "cell_type": "code",
   "execution_count": null,
   "id": "4904af8b-7db9-4516-a2a2-c860d395f3b0",
   "metadata": {},
   "outputs": [],
   "source": []
  }
 ],
 "metadata": {
  "kernelspec": {
   "display_name": "Python 3 (ipykernel)",
   "language": "python",
   "name": "python3"
  },
  "language_info": {
   "codemirror_mode": {
    "name": "ipython",
    "version": 3
   },
   "file_extension": ".py",
   "mimetype": "text/x-python",
   "name": "python",
   "nbconvert_exporter": "python",
   "pygments_lexer": "ipython3",
   "version": "3.11.2"
  }
 },
 "nbformat": 4,
 "nbformat_minor": 5
}
