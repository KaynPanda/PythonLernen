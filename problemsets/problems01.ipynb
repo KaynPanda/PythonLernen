{
 "cells": [
  {
   "cell_type": "markdown",
   "id": "1d348b5d-bbae-4303-a072-533f870fd1b6",
   "metadata": {},
   "source": [
    "### Problems01"
   ]
  },
  {
   "cell_type": "code",
   "execution_count": 16,
   "id": "a101b8e7-6233-4cf7-9859-62d41bb86861",
   "metadata": {},
   "outputs": [],
   "source": [
    "import doctest"
   ]
  },
  {
   "cell_type": "code",
   "execution_count": 32,
   "id": "9112c367-56be-4808-a4b4-d478d3544ada",
   "metadata": {
    "tags": []
   },
   "outputs": [],
   "source": [
    "def func1(x):\n",
    "    '''\n",
    "    x: int\n",
    "    returns: 'YES' wenn x > 2 und durch 2 teilbar, sonst 'NO'\n",
    "    \n",
    "    >>> func(2)\n",
    "    'NO'\n",
    "    \n",
    "    >>> func(4)\n",
    "    'YES'\n",
    "    \n",
    "    >>> func(3)\n",
    "    'NO'\n",
    "    '''\n",
    "    if x % 2 == 0 and x > 2:\n",
    "        return \"YES\"\n",
    "    else:\n",
    "        return \"NO\""
   ]
  },
  {
   "cell_type": "code",
   "execution_count": 33,
   "id": "898434b9-5ea8-41f9-8fe8-5b1af350798a",
   "metadata": {
    "tags": []
   },
   "outputs": [],
   "source": [
    "doctest.run_docstring_examples(func1,globals())"
   ]
  },
  {
   "cell_type": "markdown",
   "id": "19d41649-8a1d-4e9e-b701-a36aefb9f7bc",
   "metadata": {},
   "source": [
    "----"
   ]
  },
  {
   "cell_type": "code",
   "execution_count": 82,
   "id": "a04b760b-6211-4dc7-909b-faaa510ca42a",
   "metadata": {},
   "outputs": [],
   "source": [
    "def func2(s):\n",
    "    '''\n",
    "    s: String mit Buchstaben\n",
    "    returns: falls Länge von s > 10:\n",
    "                Anfangsbuchstabe von s + Anzahl Buchstaben zwischen dem ersten und letzten Buchstaben + letzter Buchstabe von s  \n",
    "             sonst s\n",
    "\n",
    "    >>> func2('Hallo')\n",
    "    'Hallo'\n",
    "    \n",
    "    >>> func2('localization')\n",
    "    'l10n'\n",
    "    \n",
    "    >>> func2('pneumonoultramicroscopicsilicovolcanoconiosis')\n",
    "    'p43s'\n",
    "    '''\n",
    "    if len(s) > 10:\n",
    "        return s[0]+str(len(s)-2)+s[-1]\n",
    "    return s"
   ]
  },
  {
   "cell_type": "code",
   "execution_count": 83,
   "id": "c938cd74-c074-4e49-a50d-c27e42b93780",
   "metadata": {},
   "outputs": [],
   "source": [
    "doctest.run_docstring_examples(func2,globals())"
   ]
  },
  {
   "cell_type": "markdown",
   "id": "6d6fd1f8-a14d-4584-aa9d-e511f3257422",
   "metadata": {},
   "source": [
    "----\n"
   ]
  },
  {
   "cell_type": "code",
   "execution_count": 84,
   "id": "619dde6d-4449-4762-b07d-ca838a4a374d",
   "metadata": {
    "tags": []
   },
   "outputs": [],
   "source": [
    "def func3(a, b):\n",
    "    '''\n",
    "    a, b: ints mit a <= b\n",
    "    returns: String mit ints von a bis b\n",
    "\n",
    "    >>> func3(3,8)\n",
    "    '3 4 5 6 7 8'\n",
    "    \n",
    "    >>> func3(-4,2)\n",
    "    '-4 -3 -2 -1 0 1 2'\n",
    "    \n",
    "    >>> func3(1,1)\n",
    "    '1'\n",
    "    '''\n",
    "    tmp = ''\n",
    "    while a <= b:\n",
    "        tmp+=str(a)+' '\n",
    "        a+=1\n",
    "    return(tmp.strip())"
   ]
  },
  {
   "cell_type": "code",
   "execution_count": 85,
   "id": "3fb3b3dc-60ce-491e-8d0e-6194f727df68",
   "metadata": {},
   "outputs": [],
   "source": [
    "doctest.run_docstring_examples(func3,globals())"
   ]
  },
  {
   "cell_type": "markdown",
   "id": "3b75307b-6d35-4670-bcb0-6619ba374cda",
   "metadata": {},
   "source": [
    "---"
   ]
  },
  {
   "cell_type": "code",
   "execution_count": 91,
   "id": "50a80918-22cc-4dac-9a3e-1df30f721fa4",
   "metadata": {
    "tags": []
   },
   "outputs": [
    {
     "data": {
      "text/plain": [
       "[12, 15, 18]"
      ]
     },
     "execution_count": 91,
     "metadata": {},
     "output_type": "execute_result"
    }
   ],
   "source": [
    "def func4(a, b, k):\n",
    "    '''\n",
    "    a, b, k: ints, a <= b\n",
    "    returns: Liste mit den Zahlen zwischen a und b, die durch k teilbar sind\n",
    "\n",
    "    >>> func4(10,20,3)\n",
    "    [12, 15, 18]\n",
    "    \n",
    "    >>> func4(10,11,3)\n",
    "    []\n",
    "    \n",
    "    >>> func4(1,70,7)\n",
    "    [7, 14, 21, 28, 35, 42, 49, 56, 63, 70]\n",
    "    \n",
    "    >>> func4(4,4,4)\n",
    "    [4]\n",
    "    \n",
    "    '''\n",
    "    return [x for x in range(a,b+1) if x % k == 0]"
   ]
  },
  {
   "cell_type": "code",
   "execution_count": 92,
   "id": "d4d07975-f711-48bc-9868-8700c37d09ca",
   "metadata": {},
   "outputs": [],
   "source": [
    "doctest.run_docstring_examples(func4,globals())"
   ]
  },
  {
   "cell_type": "markdown",
   "id": "b4ec4bf8-3751-4dd2-bfb6-5e0d528277f9",
   "metadata": {},
   "source": [
    "----\n",
    "**A004** (Schleifen , ord, chr)\n",
    "\n",
    "#### Input\n",
    "Die erste Zeile enthält zwei kleine Buchstaben c1, c2\n",
    "\n",
    "#### Output\n",
    "Eine Zeile: alle Buchstaben zwischen c1 und c2 (einschließlich) durch Leerzeichen getrennt.\n",
    "\n",
    "#### Beispiel\n",
    "\n",
    "```\n",
    "Input:\n",
    "c j\n",
    "\n",
    "Output:\n",
    "c d e f g h i j\n",
    "```"
   ]
  },
  {
   "cell_type": "code",
   "execution_count": 17,
   "id": "db4ca666-0bb0-4f09-b646-5a522ef3900d",
   "metadata": {
    "tags": []
   },
   "outputs": [
    {
     "name": "stdin",
     "output_type": "stream",
     "text": [
      " c j\n"
     ]
    },
    {
     "name": "stdout",
     "output_type": "stream",
     "text": [
      "c d e f g h i j\n"
     ]
    }
   ],
   "source": [
    "a, b = [ord(x) for x in input().split()]\n",
    "tmp = ''\n",
    "while a <= b:\n",
    "    tmp+=chr(a)+' '\n",
    "    a+=1\n",
    "print(tmp.strip())"
   ]
  },
  {
   "cell_type": "markdown",
   "id": "961c9425-cb1c-4086-ad3d-96dccdaece3e",
   "metadata": {
    "tags": []
   },
   "source": [
    "----\n",
    "**A005** (Schleifen , ord, chr)\n",
    "\n",
    "#### Input\n",
    "Die erste Zeile enthält zwei kleine Buchstaben c1, c2\n",
    "\n",
    "#### Output\n",
    "Eine Zeile: alle Buchstaben zwischen den großen Buchstaben C2 und C1 (einschließlich) durch Leerzeichen getrennt.\n",
    "\n",
    "#### Beispiel\n",
    "\n",
    "```\n",
    "Input:\n",
    "c j\n",
    "\n",
    "Output:\n",
    "J I H G F E D C\n",
    "```"
   ]
  },
  {
   "cell_type": "code",
   "execution_count": 22,
   "id": "c843393d-c5d6-4717-83b8-998fe45c7228",
   "metadata": {
    "tags": []
   },
   "outputs": [
    {
     "name": "stdin",
     "output_type": "stream",
     "text": [
      " c j\n"
     ]
    },
    {
     "name": "stdout",
     "output_type": "stream",
     "text": [
      "J I H G F E D C\n"
     ]
    }
   ],
   "source": [
    "diff = -ord('a')+ord('A')\n",
    "a, b = [ord(x)+diff for x in input().split()]\n",
    "tmp = ''\n",
    "while b >= a:\n",
    "    tmp+=chr(b)+' '\n",
    "    b-=1\n",
    "print(tmp.strip())"
   ]
  },
  {
   "cell_type": "markdown",
   "id": "d5b769ad-9099-4c63-819d-433e77c5dbd3",
   "metadata": {},
   "source": [
    "----\n",
    "**A006** (Schleifen , modulo)\n",
    "\n",
    "#### Input\n",
    "Die erste Zahl enthält eine positive Zahl k\n",
    "Die zweite Zeile enthält einen String aus Kleinbuchstaben s\n",
    "\n",
    "#### Output\n",
    "Eine Zeile: der String s, bei dem nach jeden k Zeichen ein Leerzeichen eingefügt wurde.\n",
    "\n",
    "#### Beispiel"
   ]
  },
  {
   "cell_type": "code",
   "execution_count": 26,
   "id": "dcdf0440-f7b8-45da-8383-c2fc05f9feac",
   "metadata": {
    "tags": []
   },
   "outputs": [
    {
     "name": "stdin",
     "output_type": "stream",
     "text": [
      " 5\n",
      " abc\n"
     ]
    },
    {
     "name": "stdout",
     "output_type": "stream",
     "text": [
      "abc\n"
     ]
    }
   ],
   "source": [
    "k = int(input())\n",
    "s = input()\n",
    "tmp = ''\n",
    "zaehl = 0\n",
    "for i,c in enumerate(s):\n",
    "    tmp+=c\n",
    "    zaehl+=1\n",
    "    if zaehl%3 == 0:\n",
    "        tmp+=' '\n",
    "print(tmp.strip())\n",
    "    "
   ]
  },
  {
   "cell_type": "markdown",
   "id": "9a05a3cf-0df8-458d-a2cc-44eb27ca7933",
   "metadata": {},
   "source": [
    "----\n",
    "**A008** (Schleifen, schalter)\n",
    "\n",
    "#### Input\n",
    "Die erste Zeile enthält ein Zahl k\n",
    "Die zweite Zeile enthält einen String mit durch Leerzeichen getrennte positive ganze Zahlen.\n",
    "\n",
    "#### Output\n",
    "Eine Zeile: Die Zahlenfolge der zweiten Zeile bei der die Zahl k hinter die erste Zahl eingefügt wurde, die kleiner ist als k.\n",
    "\n",
    "#### Beispiel"
   ]
  },
  {
   "cell_type": "code",
   "execution_count": 31,
   "id": "ac3031a0-eea1-446c-a4cc-9470aac2ce77",
   "metadata": {
    "tags": []
   },
   "outputs": [
    {
     "name": "stdin",
     "output_type": "stream",
     "text": [
      " 5 1\n",
      " 1\n",
      " 3\n"
     ]
    },
    {
     "name": "stdout",
     "output_type": "stream",
     "text": [
      "0\n"
     ]
    }
   ],
   "source": [
    "a, b = [int(x) for x in input().split()]\n",
    "n = int(input())\n",
    "ok = False\n",
    "tmp = 0\n",
    "for _ in range(n):\n",
    "    x = int(input())\n",
    "    if x == a: ok = True\n",
    "    elif x == b: \n",
    "        ok = False\n",
    "        break\n",
    "    if ok:\n",
    "        tmp+=x\n",
    "print(tmp)\n",
    "    \n",
    "    \n",
    "\n"
   ]
  },
  {
   "cell_type": "markdown",
   "id": "087f8ebf-9207-4d13-85da-ef8092a66071",
   "metadata": {
    "tags": []
   },
   "source": [
    "----\n",
    "**A009** (Schleifen , modulo)\n",
    "\n",
    "#### Input\n",
    "Die erste Zeile enthält ein Zahl k\n",
    "Die zweite Zeile enthält einen String mit durch Leerzeichen getrennte positive ganze Zahlen.\n",
    "\n",
    "#### Output\n",
    "Eine Zeile: Die Zahlenfolge der zweiten Zeile bei der die Zahl k hinter die erste Zahl eingefügt wurde, die kleiner ist als k.\n",
    "\n",
    "#### Beispiel"
   ]
  },
  {
   "cell_type": "code",
   "execution_count": null,
   "id": "78e24242-9ce3-4212-9678-888d2ea95874",
   "metadata": {},
   "outputs": [],
   "source": [
    "def fuegeEin(a, k):\n",
    "    '''\n",
    "    \n",
    "    \n",
    "    '''\n",
    "    "
   ]
  }
 ],
 "metadata": {
  "kernelspec": {
   "display_name": "Python 3 (ipykernel)",
   "language": "python",
   "name": "python3"
  },
  "language_info": {
   "codemirror_mode": {
    "name": "ipython",
    "version": 3
   },
   "file_extension": ".py",
   "mimetype": "text/x-python",
   "name": "python",
   "nbconvert_exporter": "python",
   "pygments_lexer": "ipython3",
   "version": "3.11.2"
  }
 },
 "nbformat": 4,
 "nbformat_minor": 5
}
