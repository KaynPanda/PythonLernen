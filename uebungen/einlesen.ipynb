{
 "cells": [
  {
   "cell_type": "markdown",
   "id": "350740a2-8ec4-44d7-a626-fcb2f456590d",
   "metadata": {},
   "source": [
    "### Einlesen von Daten aus einer Datei"
   ]
  },
  {
   "cell_type": "code",
   "execution_count": null,
   "id": "1f9c5f23-a02b-464b-9cda-f0bbb3cd7604",
   "metadata": {},
   "outputs": [],
   "source": [
    "f = open('input.txt')             # eine Datei zum Lesen öffnen\n",
    "f.close()                         # nach dem Einlesen wieder schließen \n",
    "s = f.readline().strip()   # eine Zeile ohne den Zeilenumbruch einlesen\n",
    "k = int(f.readline())      # eine Zahl einlesen\n",
    "x, y = [int(x) for x in f.readline.split()]    # unpacking, eine Zeile mit zwei Zahlen einlesen.\n",
    "data = [int(x) if x.isdigit() else x for x in f.readline().split()]   # die Zahlen der Zeile in ints umwandeln"
   ]
  },
  {
   "cell_type": "markdown",
   "id": "be6731f4-599d-4e93-979b-991d9a030b3d",
   "metadata": {},
   "source": [
    "`%%writefile` ist ein Jupyter-Command, das den Inhalt der Zelle in die angegebene Datei schreibt."
   ]
  },
  {
   "cell_type": "code",
   "execution_count": null,
   "id": "d5e65389-0ecc-4eb4-8459-d7bae382b81f",
   "metadata": {
    "tags": []
   },
   "outputs": [],
   "source": [
    "%%writefile input.txt  \n",
    "hello world"
   ]
  },
  {
   "cell_type": "code",
   "execution_count": null,
   "id": "8a449edf-71d7-400b-aade-3fd121b50ba2",
   "metadata": {
    "tags": []
   },
   "outputs": [],
   "source": [
    "f = open('input.txt')\n",
    "s = f.readline().strip()       \n",
    "print(s)"
   ]
  },
  {
   "cell_type": "markdown",
   "id": "5a98a7f3-2956-441f-ad31-c20a723e3150",
   "metadata": {},
   "source": [
    "----\n",
    "### A1"
   ]
  },
  {
   "cell_type": "code",
   "execution_count": null,
   "id": "74f3693e-9bde-475c-bc32-cb6ca3c0fadd",
   "metadata": {
    "tags": []
   },
   "outputs": [],
   "source": [
    "'''\n",
    "Erzeuge die Datei input.txt mit Inhalt:\n",
    "2\n",
    "\n",
    "Lies input.txt ein und speichere die Zahl in einer Variable k.\n",
    "Gib dann das doppelte des Werts aus:\n",
    "\n",
    ">>> print(2*k)\n",
    "4\n",
    "'''\n",
    "# your code\n",
    "print(2*k)"
   ]
  },
  {
   "cell_type": "code",
   "execution_count": null,
   "id": "f934bad1-7e8d-4282-97ad-89b449af2c18",
   "metadata": {},
   "outputs": [],
   "source": [
    "'''\n",
    "Erzeuge die Datei input.txt mit Inhalt:\n",
    "17 4\n",
    "\n",
    "Lies die beiden Zahlen in die Variablen a und b ein und gib ihre Summe aus.\n",
    "\n",
    ">>> print(a+b)\n",
    "21\n",
    "'''\n",
    "# your code\n",
    "print(a+b)"
   ]
  },
  {
   "cell_type": "code",
   "execution_count": null,
   "id": "e6bb602f-1d19-4f4f-b129-07e29f645963",
   "metadata": {},
   "outputs": [],
   "source": [
    "'''\n",
    "Erzeuge die Datei input.txt mit Inhalt:\n",
    "4\n",
    "Lena\n",
    "Henry\n",
    "Fabian\n",
    "Ida\n",
    "\n",
    "Die Zahl in der ersten Zeile gibt an, wieviel Zeilen noch folgen. Lies zunächst die erste Zahl ein\n",
    "und dann in einer for-Schleife die folgenden Zeilen. Speichere die Namen in einer Liste data.\n",
    "\n",
    ">>> print(data)\n",
    "['Lena', 'Henry', 'Fabian', 'Ida']\n",
    "'''\n",
    "# your code\n",
    "print(data)"
   ]
  },
  {
   "cell_type": "code",
   "execution_count": null,
   "id": "db0dc094-ecf7-41a4-9a1d-f452a1880f13",
   "metadata": {},
   "outputs": [],
   "source": [
    "'''\n",
    "Erzeuge die Datei input.txt mit Inhalt:\n",
    "4\n",
    "3 8\n",
    "12 0\n",
    "3 9\n",
    "2 1\n",
    "\n",
    "Die Zahl in der ersten Zeile gibt an, wieviel Zeilen noch folgen. Lies zunächst die erste Zahl ein\n",
    "und dann in einer for-Schleife die folgenden Zeilen. Speichere die Werte als int-Tuples in einer Liste data.\n",
    "\n",
    ">>> print(data)\n",
    "[(3, 8), (12, 0), (3, 9), (2, 1)]\n",
    "'''\n",
    "# your code\n",
    "print(data)"
   ]
  },
  {
   "cell_type": "code",
   "execution_count": null,
   "id": "1292ec93-c2b5-4bb7-baf3-9950cad7f54f",
   "metadata": {},
   "outputs": [],
   "source": [
    "'''\n",
    "Erzeuge die Datei input.txt mit Inhalt:\n",
    "3\n",
    "3 1 9 W\n",
    "2 1 20 N\n",
    "1 15 170 S\n",
    "\n",
    "Die Zahl in der ersten Zeile gibt an, wieviele Zeilen noch folgen.\n",
    "Die folgenden Zeilen sollen in eine Liste von Listen mit Namen data eingelesen werden. \n",
    "Zahlen sollen in ints umgewandelt werden.\n",
    "\n",
    ">>> print(data)\n",
    "[[3, 1, 9, 'W'], [2, 1, 20, 'N'], [1, 15, 170, 'S']]\n",
    "'''\n",
    "# your code\n",
    "print(data)"
   ]
  },
  {
   "cell_type": "code",
   "execution_count": null,
   "id": "b23da3e7-5ba6-4958-97ed-e8f13177c03e",
   "metadata": {
    "tags": []
   },
   "outputs": [],
   "source": [
    "%%writefile input.txt  \n",
    "4\n",
    "3 8\n",
    "12 0\n",
    "3 9\n",
    "2 1"
   ]
  },
  {
   "cell_type": "code",
   "execution_count": null,
   "id": "4427c998-56b2-4b28-8acb-f033bd03ebed",
   "metadata": {
    "tags": []
   },
   "outputs": [],
   "source": [
    "# your code\n",
    "\n",
    "print(data)"
   ]
  },
  {
   "cell_type": "raw",
   "id": "dbc9862b-ba9d-4de5-acca-6b6fdc7c2e7d",
   "metadata": {},
   "source": [
    "[(3, 8), (12, 0), (3, 9), (2, 1)]"
   ]
  }
 ],
 "metadata": {
  "kernelspec": {
   "display_name": "Python 3 (ipykernel)",
   "language": "python",
   "name": "python3"
  },
  "language_info": {
   "codemirror_mode": {
    "name": "ipython",
    "version": 3
   },
   "file_extension": ".py",
   "mimetype": "text/x-python",
   "name": "python",
   "nbconvert_exporter": "python",
   "pygments_lexer": "ipython3",
   "version": "3.11.2"
  }
 },
 "nbformat": 4,
 "nbformat_minor": 5
}
