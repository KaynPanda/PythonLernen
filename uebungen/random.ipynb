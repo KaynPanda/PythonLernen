{
 "cells": [
  {
   "cell_type": "markdown",
   "id": "31eebe4c-ce10-49df-a4a0-5bb9f68ba650",
   "metadata": {},
   "source": [
    "### Random\n",
    "\n",
    "Die Zufallszahlen sind keine echten Zufallszahlen, sie werden mit einem Algorithmus erzeugt, der sie *wie zufällig* aussehen lässt.\n",
    "Wenn wir mit *random.seed()* den Startwert des Algorithmus setzen, erhalten wir immer die gleiche Abfolge von Zufallszahlen."
   ]
  },
  {
   "cell_type": "code",
   "execution_count": null,
   "id": "8ffa1c86-7b30-4294-b9da-5ecd0230722a",
   "metadata": {
    "tags": []
   },
   "outputs": [],
   "source": [
    "import random\n",
    "random.seed(42)               # setzt den seed für wiederholbare Zufallsergebnisse\n",
    "x = random.random()           # float 0 <= x < 1\n",
    "x = 10*random.random()*10     # float 0 <= x < 10\n",
    "x = 2+8*random.random()       # float 2 <= x < 10\n",
    "\n",
    "x = random.randint(0,10)      # int 0 <= x <= 10\n",
    "x = random.randrange(0,20,2)  # gerade Zahl 0 <= x <= 20 \n",
    "\n",
    "a = [1,2,3,4,5]\n",
    "random.shuffle(a)             # mischt die Liste a inplace\n",
    "\n",
    "x = random.choice(a)          # wählt ein Element aus a\n",
    "b = random.sample(a,3)        # wählt aus a 3 Elemente \n",
    "\n",
    "a = [random.randint(-5,5) for _ in range(6)]  # eine Liste mit 6 ganzen Zahlen zwischen -5 und 5"
   ]
  },
  {
   "cell_type": "markdown",
   "id": "9e68bd96-ceae-4b95-bc5d-0148368abf41",
   "metadata": {
    "tags": []
   },
   "source": [
    "### Aufgaben\n",
    "\n"
   ]
  },
  {
   "cell_type": "markdown",
   "id": "6031d2b7-99ce-4da6-9e19-71a3d2bfa3b6",
   "metadata": {
    "tags": []
   },
   "source": [
    "----\n",
    "#### A1"
   ]
  },
  {
   "cell_type": "code",
   "execution_count": null,
   "id": "1ef0fa62-06ab-4abe-8907-b43ed65ed8e4",
   "metadata": {},
   "outputs": [],
   "source": [
    "'''\n",
    "Erzeuge eine Liste a mit 5 Zufallszahlen x mit 0 <= x < 1\n",
    " \n",
    ">>> print(a)\n",
    "[0.6394267984578837, 0.025010755222666936, 0.27502931836911926, 0.22321073814882275, 0.7364712141640124] \n",
    "'''\n",
    "import random\n",
    "random.seed(42)\n",
    "#your code\n",
    "print(a)"
   ]
  },
  {
   "cell_type": "code",
   "execution_count": null,
   "id": "4bfe6e85-d5e7-49b0-8216-ce88d9bafecf",
   "metadata": {
    "tags": []
   },
   "outputs": [],
   "source": [
    "'''\n",
    "Erzeuge eine Liste a mit 4 Zufallszahlen x mit -1 <= x < 1\n",
    " \n",
    ">>> print(a)\n",
    "[0.2788535969157675, -0.9499784895546661, -0.4499413632617615, -0.5535785237023545] \n",
    "'''\n",
    "\n",
    "import random\n",
    "random.seed(42)\n",
    "# your code\n",
    "print(a)"
   ]
  },
  {
   "cell_type": "code",
   "execution_count": null,
   "id": "8b852988-7ab5-4612-9851-b4db9a005149",
   "metadata": {
    "tags": []
   },
   "outputs": [],
   "source": [
    "'''\n",
    "Erzeuge eine Liste a mit 10 ganzen Zufallszahlen x mit 1 <= x <= 100\n",
    " \n",
    ">>> print(a)\n",
    "[82, 15, 4, 95, 36, 32, 29, 18, 95, 14] \n",
    "'''\n",
    "\n",
    "import random\n",
    "random.seed(42)\n",
    "# your code\n",
    "print(a)"
   ]
  },
  {
   "cell_type": "code",
   "execution_count": null,
   "id": "60e0b3ac-4a51-4c8a-a731-c1b805b5ca2c",
   "metadata": {},
   "outputs": [],
   "source": [
    "'''\n",
    "Erzeuge eine Liste a mit 10 ungeraden Zufallszahlen zwischen 100 und 200\n",
    " \n",
    ">>> print(a)\n",
    "[181, 115, 103, 195, 135, 131, 129, 117, 195, 113]\n",
    "'''\n",
    "random.seed(42)\n",
    "# your code\n",
    "print(a)"
   ]
  },
  {
   "cell_type": "code",
   "execution_count": null,
   "id": "49b116c1-f891-4897-9fdc-99172e919426",
   "metadata": {
    "tags": []
   },
   "outputs": [],
   "source": [
    "random.seed(42)\n",
    "a = None\n",
    "print(a)"
   ]
  },
  {
   "cell_type": "raw",
   "id": "25979742-1ce7-4eb9-a435-34fb942f4333",
   "metadata": {},
   "source": []
  },
  {
   "cell_type": "markdown",
   "id": "839080b8-9584-47db-bda8-619b55759ab7",
   "metadata": {
    "tags": []
   },
   "source": [
    "----\n",
    "#### A2\n",
    "Erzeuge eine Liste a mit den Zahlen von 10 bis 20 (einschließlich) und mische sie dann."
   ]
  },
  {
   "cell_type": "code",
   "execution_count": null,
   "id": "0bf138bd-01cf-407e-a20e-915124116b50",
   "metadata": {
    "tags": []
   },
   "outputs": [],
   "source": [
    "'''\n",
    "Erzeuge eine Liste a mit den Zahlen von 10 bis 20 (einschließlich) und mische sie dann.\n",
    " \n",
    ">>> print(a)\n",
    "[17, 13, 12, 18, 15, 16, 19, 14, 10, 11, 20]\n",
    "'''\n",
    "\n",
    "random.seed(42)\n",
    "# your code\n",
    "print(a)"
   ]
  },
  {
   "cell_type": "code",
   "execution_count": null,
   "id": "2f0abc0b-7e52-4965-bb47-3a7d8ea44b04",
   "metadata": {},
   "outputs": [],
   "source": [
    "'''\n",
    "Erzeuge eine Liste a mit den Zahlen von 1 bis 49 und wähle dann 6 aus (Lottoziehung).\n",
    " \n",
    ">>> print(a)\n",
    "[41, 8, 2, 18, 16, 15]\n",
    "'''\n",
    "random.seed(42)\n",
    "# your code\n",
    "print(a)"
   ]
  },
  {
   "cell_type": "code",
   "execution_count": null,
   "id": "4fe9e04f-5446-436b-9f11-cce665f226e0",
   "metadata": {
    "tags": []
   },
   "outputs": [],
   "source": [
    "random.seed(42)\n",
    "# your code\n",
    "print(a)"
   ]
  },
  {
   "cell_type": "raw",
   "id": "a90df685-b621-439a-a6e7-11f65417f393",
   "metadata": {},
   "source": [
    "[41, 8, 2, 18, 16, 15]"
   ]
  }
 ],
 "metadata": {
  "kernelspec": {
   "display_name": "Python 3 (ipykernel)",
   "language": "python",
   "name": "python3"
  },
  "language_info": {
   "codemirror_mode": {
    "name": "ipython",
    "version": 3
   },
   "file_extension": ".py",
   "mimetype": "text/x-python",
   "name": "python",
   "nbconvert_exporter": "python",
   "pygments_lexer": "ipython3",
   "version": "3.11.2"
  }
 },
 "nbformat": 4,
 "nbformat_minor": 5
}
