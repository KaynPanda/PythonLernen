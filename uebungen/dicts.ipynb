{
 "cells": [
  {
   "cell_type": "markdown",
   "id": "d387ce18-07df-4822-b9f4-b5afe7afd962",
   "metadata": {},
   "source": [
    "### Dictionaries"
   ]
  },
  {
   "cell_type": "code",
   "execution_count": null,
   "id": "080f7bb4-30b5-404b-b87e-3a94190438e4",
   "metadata": {},
   "outputs": [],
   "source": [
    "m = dict()    # oder  m = {}    leeres dict          \n",
    "m = {'a':12, 'b': 5, 'c': 7}   \n",
    "\n",
    "m1 = {'d' : 9}\n",
    "m.update(m1)                  # die inhalte von m1 werden zu m hinzugefügt.\n",
    "\n",
    "m['e'] = 17                   # ein weiterer Inhalt wird hinzugefügt / überschrieben\n",
    "del(m['c'])                   # einen Eintrag löschen\n",
    "  \n",
    "'a' in m                      # ist 'a' ein key in m?\n",
    "\n",
    "len(m)                        # Länge des dicts\n",
    "\n",
    "for k in m:                   # alle keys durchlaufen (oder: for k in m.keys())\n",
    "    print(k)      \n",
    "    \n",
    "for v in m.values():          # alle values durchlaufen\n",
    "    print(v) \n",
    "    \n",
    "for k, v in m.items():        # alle key,value-Paare durchlaufen\n",
    "    print(k,v)\n",
    "    \n",
    "m = {c : ord(c) for c in 'Hallo'}    # dict-Comprehension"
   ]
  },
  {
   "cell_type": "markdown",
   "id": "7f27e47b-8808-4667-8ac0-44c0f718616d",
   "metadata": {},
   "source": [
    "----\n",
    "#### A1\n"
   ]
  },
  {
   "cell_type": "code",
   "execution_count": null,
   "id": "04bbafa9-a4bb-4222-b07f-7a1329cda89c",
   "metadata": {
    "tags": []
   },
   "outputs": [],
   "source": [
    "'''\n",
    "Erstelle ein dict m, das Zahlen zu Farben zuordnet.\n",
    "\n",
    "Erwartete Ausgabe:\n",
    "\n",
    "0 Blau\n",
    "1 Rot\n",
    "2 Gelb\n",
    "\n",
    "'''\n",
    "# your code\n",
    "for k,v in m.items():\n",
    "    print(k,v)    "
   ]
  },
  {
   "cell_type": "code",
   "execution_count": null,
   "id": "49f3fb11-f9b9-42c1-a151-9b6e1135e709",
   "metadata": {},
   "outputs": [],
   "source": [
    "'''\n",
    "Füge dem dict m die fehlenden Einträge hinzu.\n",
    "\n",
    ">>> print(m)\n",
    "{1: 10, 2: 7, 3: 9, 6: 10}\n",
    "'''\n",
    "m = {1:10,2:7}\n",
    "# your code\n",
    "print(m)"
   ]
  },
  {
   "cell_type": "code",
   "execution_count": null,
   "id": "b8626f43-abdf-4eeb-b68b-6efd8f60acff",
   "metadata": {},
   "outputs": [],
   "source": [
    "'''\n",
    "Erstelle aus dict m mittels Comprehension das dict m2\n",
    "\n",
    ">>> print(m2)\n",
    "{'a': 'AA', 'b': 'BB', 'c': 'CC'}\n",
    "\n",
    "'''\n",
    "m = {'a': 'A', 'b' : 'B', 'c' : 'C'}\n",
    "# your code \n",
    "print(m2)"
   ]
  },
  {
   "cell_type": "code",
   "execution_count": null,
   "id": "967a6af4-1994-437c-9b36-2a0a668ae1b6",
   "metadata": {},
   "outputs": [],
   "source": [
    "'''\n",
    "Erstelle mit einer Comprehension ein dict mit den Zahlen von 0-9 als keys und jeweils einer leeren Liste als value.\n",
    "Füge dann in die vorletzte Liste die Zahl 42 ein.\n",
    "\n",
    ">>> print(m)\n",
    "{0: [], 1: [], 2: [], 3: [], 4: [], 5: [], 6: [], 7: [], 8: [42], 9: []}\n",
    "\n",
    "'''\n",
    "# your code\n",
    "print(m)"
   ]
  },
  {
   "cell_type": "code",
   "execution_count": null,
   "id": "ff0a4ad1-204a-44b7-b199-61c30716219e",
   "metadata": {
    "tags": []
   },
   "outputs": [],
   "source": [
    "# your code\n",
    "\n",
    "for k,v in m2.items():\n",
    "    print(k,v)  "
   ]
  },
  {
   "cell_type": "raw",
   "id": "52de8ec6-b6eb-4bd7-8dd0-80cb66870c30",
   "metadata": {},
   "source": [
    "10 Blau\n",
    "11 Rot\n",
    "12 Gelb"
   ]
  },
  {
   "cell_type": "markdown",
   "id": "add25e0a-0ff8-45a0-9764-db12eb579b19",
   "metadata": {
    "tags": []
   },
   "source": [
    "----\n",
    "#### A2\n",
    "\n"
   ]
  },
  {
   "cell_type": "code",
   "execution_count": null,
   "id": "54fbd212-1a4e-4681-8ff8-615224ec4642",
   "metadata": {
    "tags": []
   },
   "outputs": [],
   "source": [
    "'''\n",
    "Erstelle ein dict m, das jedem Buchstaben des Strings s die Häufigkeit seines Vorkommens zuordnet.\n",
    "\n",
    ">>> print(m)\n",
    "{'A': 1, 'r': 4, 'z': 2, 'n': 2, 'e': 6, 'i': 5, 'm': 1, 't': 6, 'l': 2, 'v': 1, 's': 5, 'o': 1,\n",
    "'g': 3, 'u': 1, 'w': 1, 'c': 2, 'h': 2, 'a': 1, 'f': 1, 'k': 1}\n",
    "\n",
    "'''\n",
    "s =  'Arzneimittelversorgungswirtschaftlichkeitsgesetz'\n",
    "\n",
    "# your code\n",
    "print(m)"
   ]
  }
 ],
 "metadata": {
  "kernelspec": {
   "display_name": "Python 3 (ipykernel)",
   "language": "python",
   "name": "python3"
  },
  "language_info": {
   "codemirror_mode": {
    "name": "ipython",
    "version": 3
   },
   "file_extension": ".py",
   "mimetype": "text/x-python",
   "name": "python",
   "nbconvert_exporter": "python",
   "pygments_lexer": "ipython3",
   "version": "3.11.2"
  }
 },
 "nbformat": 4,
 "nbformat_minor": 5
}
