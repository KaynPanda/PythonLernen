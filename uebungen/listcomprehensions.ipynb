{
 "cells": [
  {
   "cell_type": "markdown",
   "id": "2d6033df-ba4f-429a-98fd-d6282f8638f0",
   "metadata": {},
   "source": [
    "### List Comprehensions\n",
    "\n",
    "Mit einer List-Comprehension erzeugen wir aus einer gegeben Liste (oder string/range/tuple) auf kompakte Art eine neue Liste.\n",
    "Der Variablenname _ wird gerne verwendet, um anzudeuten, dass man diese Variable innerhalb der Schleife nicht verwendet.\n"
   ]
  },
  {
   "cell_type": "code",
   "execution_count": null,
   "id": "76747f9a-f30e-4300-b3ce-d0fbb0af966e",
   "metadata": {
    "tags": []
   },
   "outputs": [],
   "source": [
    "import random\n",
    "a = [1,2,3,4,5]\n",
    "b = [2*x for x in a]                       # alle Elemente verdoppeln\n",
    "b = [k*k for k in range(100)]              # Liste mit den ersten 100 Quadratzahlen\n",
    "b = [x for x in range(70,91) if x%3==0]    # alle Zahlen zwischen 70 und 90 die durch 3 teilbar sind\n",
    "b = [x for x in range(100) if (x%7==1 and x%5==2)]    # Beispiel mit einer and-Bedingung\n",
    "b = [random.randint(1,10) for _ in range(5)]          # 5 ganze Zufallszahlen zwischen 1 und 10\n",
    "\n",
    "k = ord('a')     # der ASCII-Wert des Zeichens 'a'\n",
    "c = chr(65)      # das Zeichen zum ASCII-Wert 65\n",
    "b = [ord(c) for c in 'Habicht']                     # eine Liste mit ASCII-Werten\n",
    "b = [chr(k) for k in range(ord('a'),ord('a')+10)]   # eine Liste mit den ersten 10 Kleinbuchstaben \n",
    " "
   ]
  },
  {
   "cell_type": "markdown",
   "id": "d0bb42c2-7099-482a-b0f0-84c79db98629",
   "metadata": {},
   "source": [
    "Man kann auch mehrere for-Schleifen verschachteln. Nicht immer ist das gut lesbar. Hier geht es noch."
   ]
  },
  {
   "cell_type": "code",
   "execution_count": null,
   "id": "1094e318-bcab-4bc7-84a4-64a3a8db2495",
   "metadata": {
    "tags": []
   },
   "outputs": [],
   "source": [
    "a1 = list('abc')\n",
    "a2 = list('123')\n",
    "brett = [c1+c2 for c1 in a1 for c2 in a2]\n",
    "print(brett)"
   ]
  },
  {
   "cell_type": "markdown",
   "id": "94ad52a5-ac14-44b9-a7d3-489737392fc1",
   "metadata": {},
   "source": [
    "### Aufgaben\n",
    "\n",
    "Alle Listen in diesen Aufgaben sollen mit List-Comprehensions erstellt werden."
   ]
  },
  {
   "cell_type": "markdown",
   "id": "732f00ed-5380-42ae-a8c3-ad0bedd6b51b",
   "metadata": {
    "tags": []
   },
   "source": [
    "----\n",
    "#### A1\n"
   ]
  },
  {
   "cell_type": "code",
   "execution_count": null,
   "id": "bb60e413-fe52-4e93-bf0a-badc7bad0d03",
   "metadata": {
    "tags": []
   },
   "outputs": [],
   "source": [
    "'''\n",
    "Erzeuge eine Liste a mit den Vielfachen von 7 bis 70\n",
    "\n",
    ">>> print(a)\n",
    "[7, 14, 21, 28, 35, 42, 49, 56, 63, 70]\n",
    "'''\n",
    "# your code\n",
    "print(a)"
   ]
  },
  {
   "cell_type": "code",
   "execution_count": null,
   "id": "e7d54673-950c-4dda-bd1e-329130105595",
   "metadata": {},
   "outputs": [],
   "source": [
    "'''\n",
    "Erzeuge mit einer List-Comprehension eine Liste mit 20 ganzen Zufallszahlen k mit 1 <= k <= 100.\n",
    "\n",
    ">>> print(a)\n",
    "[82, 15, 4, 95, 36, 32, 29, 18, 95, 14, 87, 95, 70, 12, 76, 55, 5, 4, 12, 28]\n",
    "'''\n",
    "import random\n",
    "random.seed(42)\n",
    "# your code\n",
    "print(a)"
   ]
  },
  {
   "cell_type": "code",
   "execution_count": null,
   "id": "dc21fda5-4d1c-4c72-8d30-04ab191b805c",
   "metadata": {},
   "outputs": [],
   "source": [
    "'''\n",
    "Erzeuge aus der gegebenen Liste a eine neue Liste b mit den Zahlen aus a, die durch 7 teilbar sind.\n",
    "\n",
    ">>> print(b)\n",
    "[14, 77, 70]\n",
    "'''\n",
    "a = [64, 14, 11, 86, 60, 10, 86, 87, 44, 73, 86, 77, 90, 15, 40, 48, 70, 44, 94, 39]\n",
    "# your code\n",
    "print(b)"
   ]
  },
  {
   "cell_type": "code",
   "execution_count": null,
   "id": "2e4e927f-be3f-4230-82d4-71f6b9971449",
   "metadata": {},
   "outputs": [],
   "source": [
    "'''\n",
    "Erzeuge aus der gegebenen Liste a eine neue Liste b mit den Zahlen aus a, die durch 3 oder 5 teilbar sind.\n",
    "\n",
    ">>> print(b)\n",
    "[87, 15, 45, 30, 51, 30, 21, 40, 12, 9]\n",
    "'''\n",
    "a = [89, 64, 59, 26, 87, 15, 45, 30, 79, 51, 30, 88, 22, 13, 21, 40, 32, 43, 12, 9]\n",
    "#your code\n",
    "print(b)"
   ]
  },
  {
   "cell_type": "code",
   "execution_count": null,
   "id": "7005a306-ef13-47f9-ada5-c2a2f1033478",
   "metadata": {
    "tags": []
   },
   "outputs": [],
   "source": [
    "a = [89, 64, 59, 26, 87, 15, 45, 30, 79, 51, 30, 88, 22, 13, 21, 40, 32, 43, 12, 9]\n",
    "b = None\n",
    "b"
   ]
  },
  {
   "cell_type": "raw",
   "id": "8101f002-d073-4442-a866-8f237b018f05",
   "metadata": {},
   "source": [
    "[87, 15, 45, 30, 51, 30, 21, 40, 12, 9]"
   ]
  },
  {
   "cell_type": "markdown",
   "id": "cdd1a0f3-b25d-4e68-ad83-db112861131e",
   "metadata": {
    "tags": []
   },
   "source": [
    "----\n",
    "#### A2\n"
   ]
  },
  {
   "cell_type": "code",
   "execution_count": null,
   "id": "fd21f78c-843d-48fb-8449-88a2ec06932d",
   "metadata": {
    "tags": []
   },
   "outputs": [],
   "source": [
    "'''\n",
    "Erzeuge eine Liste a mit den ASCII-Werte von 'e' bis 'm'.\n",
    "\n",
    ">>> print(a)\n",
    "[101, 102, 103, 104, 105, 106, 107, 108, 109]\n",
    "'''\n",
    "# your code\n",
    "print(a)"
   ]
  },
  {
   "cell_type": "code",
   "execution_count": null,
   "id": "c43d6c12-798d-4c93-8c1f-6e84c0958a1d",
   "metadata": {},
   "outputs": [],
   "source": [
    "'''\n",
    "Erzeuge eine Liste a mit allen Großbuchstaben A - Z\n",
    "\n",
    ">>> print(a)\n",
    "['A', 'B', 'C', 'D', 'E', 'F', 'G', 'H', 'I', 'J', 'K', 'L', 'M', 'N', 'O', 'P', 'Q', 'R', 'S', 'T', 'U', 'V', 'W', 'X', 'Y', 'Z']\n",
    "'''\n",
    "# your code\n",
    "print(a)"
   ]
  },
  {
   "cell_type": "markdown",
   "id": "ce4b109a-e3bf-4c3a-aebe-ef7c1a58842b",
   "metadata": {},
   "source": [
    "----\n",
    "#### A3\n"
   ]
  },
  {
   "cell_type": "code",
   "execution_count": null,
   "id": "5f175812-7d10-4670-8619-533a9c79a924",
   "metadata": {
    "tags": []
   },
   "outputs": [],
   "source": [
    "'''\n",
    "Erzeuge eine Liste brett mit den Koordinaten eines Schachbretts, also von a1 bis h8.\n",
    "\n",
    ">>> print(brett)\n",
    "['a1', 'a2', 'a3', 'a4', 'a5', 'a6', 'a7', 'a8', 'b1', 'b2', 'b3', 'b4', 'b5', 'b6', 'b7', 'b8', \n",
    "'c1', 'c2', 'c3', 'c4', 'c5', 'c6', 'c7', 'c8', 'd1', 'd2', 'd3', 'd4', 'd5', 'd6', 'd7', 'd8', \n",
    "'e1', 'e2', 'e3', 'e4', 'e5', 'e6', 'e7', 'e8', 'f1', 'f2', 'f3', 'f4', 'f5', 'f6', 'f7', 'f8', \n",
    "'g1', 'g2', 'g3', 'g4', 'g5', 'g6', 'g7', 'g8', 'h1', 'h2', 'h3', 'h4', 'h5', 'h6', 'h7', 'h8']\n",
    "'''\n",
    "# your code \n",
    "print(brett)"
   ]
  }
 ],
 "metadata": {
  "kernelspec": {
   "display_name": "Python 3 (ipykernel)",
   "language": "python",
   "name": "python3"
  },
  "language_info": {
   "codemirror_mode": {
    "name": "ipython",
    "version": 3
   },
   "file_extension": ".py",
   "mimetype": "text/x-python",
   "name": "python",
   "nbconvert_exporter": "python",
   "pygments_lexer": "ipython3",
   "version": "3.11.2"
  }
 },
 "nbformat": 4,
 "nbformat_minor": 5
}
