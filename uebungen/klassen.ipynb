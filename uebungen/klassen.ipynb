{
 "cells": [
  {
   "cell_type": "markdown",
   "id": "7f370d16-fc49-4db5-9040-0296a97a2cb2",
   "metadata": {},
   "source": [
    "### Klassen"
   ]
  },
  {
   "cell_type": "code",
   "execution_count": null,
   "id": "32dc38ba-f60e-41a6-a03d-003e977e1e17",
   "metadata": {},
   "outputs": [],
   "source": [
    "'''\n",
    "Die Klasse Ding hat die Attribute name und wert.\n",
    "\n",
    "Erwartete Ausgabe:\n",
    "\n",
    "Das Ding A hat den Wert 100.\n",
    "'''\n",
    "# your code\n",
    "\n",
    "d = Ding(\"A\", 100)\n",
    "print(d)"
   ]
  },
  {
   "cell_type": "code",
   "execution_count": null,
   "id": "1fc8c802-96cf-4a38-8832-7a0ed356cb98",
   "metadata": {},
   "outputs": [],
   "source": [
    "'''\n",
    "Die Klasse Zutat hat die Attribute menge und bezeichnung.\n",
    "\n",
    "Erwartete Ausgabe:\n",
    "\n",
    "Es werden 800g Mehl benötigt.\n",
    "'''\n",
    "# your code\n",
    " \n",
    "z = Zutat(800,'Mehl')\n",
    "print(z) "
   ]
  },
  {
   "cell_type": "code",
   "execution_count": null,
   "id": "b19560b8-0dea-4682-a6c0-cd858c141bdc",
   "metadata": {},
   "outputs": [],
   "source": [
    "'''\n",
    "Die Klasse Buch hat die Attribute autor, title und jahr. \n",
    "Die Methode gleicherAutorWie stellt fest, ob zwei Bücher den gleichen Autor haben.\n",
    "\n",
    "Erwartete Ausgabe:\n",
    "\n",
    "Thomas Mann\n",
    "Ein fliehendes Pferd\n",
    "True\n",
    "False\n",
    "'''\n",
    "\n",
    "# your code\n",
    "\n",
    "\n",
    "b1 = Buch(\"Thomas Mann\",\"Buddenbrooks\",1901)\n",
    "b2 = Buch(\"Thomas Mann\",\"Zauberberg\",1924)\n",
    "b3 = Buch(\"Martin Walser\",\"Ein fliehendes Pferd\",1977)\n",
    "\n",
    "print(b1.autor)\n",
    "print(b3.titel)\n",
    "print(b1.gleicherAutorWie(b2))\n",
    "print(b1.gleicherAutorWie(b3))  "
   ]
  },
  {
   "cell_type": "code",
   "execution_count": null,
   "id": "d7b0f725-71e8-41e7-8ab5-88b167bb5488",
   "metadata": {},
   "outputs": [],
   "source": [
    "'''\n",
    "Die Klasse Zahl hat ein Attribut: wert.\n",
    "Wir setzen voraus, dass die Klasse nur mit natürlichen Zahlen verwendet wird.\n",
    "Die Methode anzahlZiffern gibt die Anzahl der Ziffern zurück.\n",
    "Die Methode quersumme gibt die Quersumme zurück.\n",
    "\n",
    "Erwartete Ausgabe:\n",
    "\n",
    "2376\n",
    "4\n",
    "18\n",
    "'''\n",
    "\n",
    "# your code\n",
    "\n",
    "z = Zahl(2376)\n",
    "print(z.wert)\n",
    "print(z.anzahlZiffern())\n",
    "print(z.quersumme())            "
   ]
  },
  {
   "cell_type": "code",
   "execution_count": null,
   "id": "4f9763ea-eb02-4c7a-bd46-d0aa3199fb37",
   "metadata": {},
   "outputs": [],
   "source": []
  }
 ],
 "metadata": {
  "kernelspec": {
   "display_name": "Python 3 (ipykernel)",
   "language": "python",
   "name": "python3"
  },
  "language_info": {
   "codemirror_mode": {
    "name": "ipython",
    "version": 3
   },
   "file_extension": ".py",
   "mimetype": "text/x-python",
   "name": "python",
   "nbconvert_exporter": "python",
   "pygments_lexer": "ipython3",
   "version": "3.11.2"
  }
 },
 "nbformat": 4,
 "nbformat_minor": 5
}
