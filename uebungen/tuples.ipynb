{
 "cells": [
  {
   "cell_type": "markdown",
   "id": "e4781b05-752d-4687-bbe2-8bdf86d2789d",
   "metadata": {},
   "source": [
    "### Tuples\n",
    "\n",
    "Tuples ähneln Listen, aber sie sind nicht veränderbar. Wir können Elemente über den Index zwar lesen, aber nicht verändern.\n",
    "Tuples können keys von dictionaries sein. Das können Listen nicht. Wenn wir uns zu  Listen in einem dictionary etwas merken wollen, müssen wir sie erst in Tuples umwandeln."
   ]
  },
  {
   "cell_type": "code",
   "execution_count": null,
   "id": "4b59f9d9-d23a-4918-85c8-59f63b061fc4",
   "metadata": {
    "tags": []
   },
   "outputs": [],
   "source": [
    "t = ()                        # ein leeres Tuple \n",
    "t = (1,)                      # ein Tuple mit einem Element, das Komma unterscheidet es von einer normalen Klammerung\n",
    "t = (1,2,3)\n",
    "t = (1,False,'Hallo')         # die Elemente können von unterschiedlichem Typ sein\n",
    "len(t)                        # die Länge des Tuples\n",
    "\n",
    "x = t[0]                      # Indexing\n",
    "t[0] = 8                      # FEHLER: das geht nicht - tuples sind immutable\n",
    "     \n",
    "t1 = t[1:3]                   # Slicing wie bei Listen       \n",
    "\n",
    "t = (4,5)\n",
    "x, y = t                      # unpacking, sehr praktisch\n",
    "\n",
    "def foo(a, b):               \n",
    "    return a//b, a%b          # hier wird ein Tuple zurückgegeben, die äußere Klammer kann weggelassen werden\n",
    "x, y = foo(4,5)               # unpacking des Rückgabewerts \n",
    "\n",
    "a = [1,2,3]\n",
    "t = tuple(a)                  # eine Liste in ein Tuple umwandeln\n",
    "b = list(t)                   # ein Tuple in eine Liste umwandeln"
   ]
  },
  {
   "cell_type": "markdown",
   "id": "2efbc42b-f92c-4e79-9bc3-66652ac2206c",
   "metadata": {},
   "source": [
    "Wie Listen können wir Tuples mit for-Schleifen durchlaufen oder sie als Input für List-Comprehensions benutzen."
   ]
  },
  {
   "cell_type": "code",
   "execution_count": null,
   "id": "009a059a-4492-4031-bc2a-97f8e51433a9",
   "metadata": {
    "tags": []
   },
   "outputs": [],
   "source": [
    "for i in range(len(t)):       # mit dem Index die Elemente des Tuples durchlaufen\n",
    "    print(t[i])\n",
    "\n",
    "for x in t:                   # die Elemente des Tuples durchlaufen\n",
    "    print(x)\n",
    "    \n",
    "a = [2*x for x in t]          # eine List-Comprehension, bei denen die Elemente ein Tuple durchlaufen"
   ]
  },
  {
   "cell_type": "markdown",
   "id": "2244c25a-914c-4816-9268-afd6f7358a8f",
   "metadata": {},
   "source": [
    "### Aufgaben"
   ]
  },
  {
   "cell_type": "markdown",
   "id": "c3afa6b7-24ed-440c-bc34-f2955bf969d3",
   "metadata": {},
   "source": [
    "----\n",
    "#### A1"
   ]
  },
  {
   "cell_type": "code",
   "execution_count": null,
   "id": "41ca1d8f-0c4c-497c-9bf0-f5ed9ccf6a4e",
   "metadata": {},
   "outputs": [],
   "source": [
    "'''\n",
    "Erzeuge ein tuple t mit Länge 4.\n",
    "\n",
    ">>> print(type(t), len(t))\n",
    "<class 'tuple'> 4\n",
    "'''\n",
    "# your code\n",
    "print(type(t), len(t))"
   ]
  },
  {
   "cell_type": "code",
   "execution_count": null,
   "id": "a93b2d25-5643-4582-bf81-e186e463abb4",
   "metadata": {},
   "outputs": [],
   "source": [
    "'''\n",
    "Erzeuge ein Tuple t, mit dem die angegebenen Ausgaben möglich sind.\n",
    "\n",
    ">>> print(t[1],t[3],t[-1],t[-4])\n",
    "R 2 D 2\n",
    "'''\n",
    "# your code\n",
    "print(t[1],t[3],t[-1],t[-4])"
   ]
  },
  {
   "cell_type": "code",
   "execution_count": null,
   "id": "02dbbab8-4c0b-4f3c-b166-be2f95d169c9",
   "metadata": {},
   "outputs": [],
   "source": [
    "'''\n",
    "Weise den Elementen x1, x2, x3 mittels unpacking die Werte des Tuples v zu.\n",
    "\n",
    ">>> print(x1, x2, x3)\n",
    "4 3 12\n",
    "'''\n",
    "v = (4,3,12)\n",
    "# your code\n",
    "print(x1, x2, x3)"
   ]
  },
  {
   "cell_type": "markdown",
   "id": "bba4ad1d-680b-4042-acfb-a3534ad18c88",
   "metadata": {
    "tags": []
   },
   "source": [
    "----\n",
    "#### A2\n",
    "Erzeuge eine Liste mit zehn 2D-Koordinaten. Die Koordinaten sollen ganzzahlige Tuple sein und zufällig im Bereich zwischen -8 und 8 \n",
    "gewählt werden."
   ]
  },
  {
   "cell_type": "code",
   "execution_count": null,
   "id": "7b8260ae-f431-486c-9fd1-8353438207fb",
   "metadata": {
    "tags": []
   },
   "outputs": [],
   "source": [
    "'''\n",
    "Erzeuge eine Liste mit zehn 2D-Koordinaten. \n",
    "Die Koordinaten sollen ganzzahlige Tuple sein und zufällig im Bereich zwischen -8 und 8 gewählt werden.\n",
    "\n",
    ">>> print(a)\n",
    "[(-5, -8), (0, -1), (-1, -4), (-5, -6), (5, -7), (-8, -6), (-2, -1), (8, -8), (-2, 5), (-1, 6)]\n",
    "'''\n",
    "\n",
    "import random\n",
    "random.seed(42)\n",
    "# your code \n",
    "print(a)"
   ]
  },
  {
   "cell_type": "code",
   "execution_count": null,
   "id": "187809c2-e06c-4855-a3d8-a557e5761acf",
   "metadata": {
    "tags": []
   },
   "outputs": [],
   "source": [
    "'''\n",
    "Erzeuge ein neues Tuple t1 bei dem jedes Element des gegebenen Tuples t um 1 erhöht sein soll.\n",
    "\n",
    ">>> print(t1)\n",
    "(24, 96, 3, 59, 64, 32, 11, 34, 79, 79, 14, 97, 87, 44, 64, 12, 36, 85, 24, 28)\n",
    "'''\n",
    "t = (23, 95, 2, 58, 63, 31, 10, 33, 78, 78, 13, 96, 86, 43, 63, 11, 35, 84, 23, 27)\n",
    "# your code\n",
    "print(t1)"
   ]
  }
 ],
 "metadata": {
  "kernelspec": {
   "display_name": "Python 3 (ipykernel)",
   "language": "python",
   "name": "python3"
  },
  "language_info": {
   "codemirror_mode": {
    "name": "ipython",
    "version": 3
   },
   "file_extension": ".py",
   "mimetype": "text/x-python",
   "name": "python",
   "nbconvert_exporter": "python",
   "pygments_lexer": "ipython3",
   "version": "3.11.2"
  }
 },
 "nbformat": 4,
 "nbformat_minor": 5
}
