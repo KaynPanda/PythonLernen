{
 "cells": [
  {
   "cell_type": "markdown",
   "id": "c36ed6e4-db38-4bed-956f-da12773cdf01",
   "metadata": {},
   "source": [
    "### Sets\n",
    "\n"
   ]
  },
  {
   "cell_type": "code",
   "execution_count": null,
   "id": "674c5903-c7ee-4633-85ce-d3cd256cfc78",
   "metadata": {},
   "outputs": [],
   "source": [
    "s = set()        # ein leeres set\n",
    "s = {5,3,2,9}    # set mit 4 Zahlen\n",
    "len(s)           # die Länge des sets\n",
    "s.add(8)         # Element hinzufügen\n",
    "s.remove(5)      # Element löschen\n",
    "2 in s           # lookup: ist 2 in s?\n",
    "\n",
    "s = set([1,2,5,3,2,3])         # Liste in set umwandeln, jedes Element kommt nur einmal vor\n",
    "a = list(s)                    # set in Liste umwandeln\n",
    "s = {k for k in range(10)}     # set-Comprehension\n",
    "for k in s:                    # Elemente eines sets durchlaufen. Reihenfolge ist unbestimmt.\n",
    "    print(k)"
   ]
  },
  {
   "cell_type": "markdown",
   "id": "721bc1df-4c75-46dc-ae51-d92bcbed71b2",
   "metadata": {},
   "source": [
    "----\n",
    "#### A1\n"
   ]
  },
  {
   "cell_type": "code",
   "execution_count": null,
   "id": "b1ac40ae-7f16-49cf-8e58-b5bf47430e18",
   "metadata": {},
   "outputs": [],
   "source": [
    "'''\n",
    "Erstelle ein set s mit den Strings 'schwarz' und 'weiss'.\n",
    "\n",
    "Erwartete Ausgabe:\n",
    "\n",
    "weiss\n",
    "schwarz\n",
    "'''\n",
    "# your code\n",
    "for wort in s:\n",
    "    print(wort)"
   ]
  },
  {
   "cell_type": "code",
   "execution_count": null,
   "id": "9705b763-bcfd-4170-8775-dff8c84ae33d",
   "metadata": {},
   "outputs": [],
   "source": [
    "'''\n",
    "Füge mit Elemente zum set s hinzu, damit die angegebene Länge 4 erreicht wird.\n",
    "\n",
    ">>> print(len(s))\n",
    "4\n",
    "'''\n",
    "s = {10, 14}\n",
    "# your code\n",
    "print(len(s))"
   ]
  },
  {
   "cell_type": "code",
   "execution_count": null,
   "id": "c1f75ec7-f9b2-4289-a535-5ddff5cf2a22",
   "metadata": {},
   "outputs": [],
   "source": [
    "'''\n",
    "Entferne aus der Liste a die doppelten Elemente, indem du sie in ein set verwandelst, dann zurück in eine Liste.\n",
    "\n",
    ">>> print(a)\n",
    "[1, 2, 5, 6, 7, 9, 10]\n",
    "'''\n",
    "a = [6, 6, 9, 5, 10, 1, 7, 7, 5, 6, 2, 9]\n",
    "# your code\n",
    "print(a)\n"
   ]
  },
  {
   "cell_type": "code",
   "execution_count": null,
   "id": "a79ab952-d5f0-4434-af05-bb337336d2a1",
   "metadata": {},
   "outputs": [],
   "source": [
    "'''\n",
    "Erstelle mit einer Comprehension ein set s mit den Zahlen von 1 bis 9.\n",
    "\n",
    ">>> print(s)\n",
    "{1, 2, 3, 4, 5, 6, 7, 8, 9}\n",
    "''' \n",
    "# your code\n",
    "print(s)"
   ]
  },
  {
   "cell_type": "code",
   "execution_count": 17,
   "id": "11b6e2bc-278d-4324-88e3-6c4e43c03cdd",
   "metadata": {},
   "outputs": [],
   "source": [
    "'''\n",
    "Gehe mit einer Schleife durch die Liste a und gib für jedes Element aus, ob es im set s vorkommt.\n",
    "\n",
    "Erwartete Ausgabe:\n",
    "\n",
    "4 ist im set enthalten\n",
    "8 ist im set nicht enthalten\n",
    "1 ist im set nicht enthalten\n",
    "4 ist im set enthalten\n",
    "2 ist im set nicht enthalten\n",
    "9 ist im set nicht enthalten\n",
    "5 ist im set enthalten\n",
    "''' \n",
    "\n",
    "a = [4, 8, 1, 4, 2, 9, 5]\n",
    "s = {3,4,5}\n",
    "# your code"
   ]
  },
  {
   "cell_type": "code",
   "execution_count": 21,
   "id": "927d558b-a29f-4922-8c56-7143c9748630",
   "metadata": {},
   "outputs": [],
   "source": [
    "'''\n",
    "Gehe mit einer Schleife durch die Elemente der Liste a und entferne jedes Element aus der Menge s, falls es dort vorhanden ist. \n",
    "\n",
    ">>> print(s)\n",
    "{3}\n",
    "''' \n",
    "\n",
    "a = [4, 8, 1, 4, 2, 9, 5]\n",
    "s = {3,4,5}\n",
    "# your code"
   ]
  },
  {
   "cell_type": "code",
   "execution_count": null,
   "id": "7d17b100-2fd4-4415-81c1-8dd426ef97b8",
   "metadata": {},
   "outputs": [],
   "source": [
    "s = {k for k in range(1,10)}\n",
    "\n",
    "for k in s:\n",
    "    print(k,end=' ')"
   ]
  },
  {
   "cell_type": "code",
   "execution_count": null,
   "id": "40c681dd-ccdd-4936-a43b-21aa57576af0",
   "metadata": {},
   "outputs": [],
   "source": [
    "a = [4, 8, 1, 4, 2, 9, 5]\n",
    "s = {3,4,5}\n",
    "\n",
    "for k in a:\n",
    "    if k in s:\n",
    "        print(f'{k} ist im set enthalten')\n",
    "    else:\n",
    "        print(f'{k} ist im set nicht enthalten')"
   ]
  }
 ],
 "metadata": {
  "kernelspec": {
   "display_name": "Python 3 (ipykernel)",
   "language": "python",
   "name": "python3"
  },
  "language_info": {
   "codemirror_mode": {
    "name": "ipython",
    "version": 3
   },
   "file_extension": ".py",
   "mimetype": "text/x-python",
   "name": "python",
   "nbconvert_exporter": "python",
   "pygments_lexer": "ipython3",
   "version": "3.11.2"
  }
 },
 "nbformat": 4,
 "nbformat_minor": 5
}
