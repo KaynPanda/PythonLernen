{
 "cells": [
  {
   "cell_type": "markdown",
   "id": "350740a2-8ec4-44d7-a626-fcb2f456590d",
   "metadata": {},
   "source": [
    "### Einlesen von Daten aus einer Datei\n",
    "\n",
    "`writefile` ist ein *magic-command* in Jupyter."
   ]
  },
  {
   "cell_type": "code",
   "execution_count": 111,
   "id": "4f98ae47-6712-43fd-93b0-181a492e6f01",
   "metadata": {},
   "outputs": [
    {
     "name": "stdout",
     "output_type": "stream",
     "text": [
      "Overwriting input.txt\n"
     ]
    }
   ],
   "source": [
    "%%writefile input.txt  \n",
    "Hallo"
   ]
  },
  {
   "cell_type": "code",
   "execution_count": 107,
   "id": "d6b00097-17ef-4b40-9514-a1c8611b1e87",
   "metadata": {},
   "outputs": [],
   "source": [
    "f = open('input.txt')           # eine Datei zum Lesen öffnen\n",
    "# daten einlesen\n",
    "f.close()                       # Datei schließen\n",
    "# etwas mit den daten machen"
   ]
  },
  {
   "cell_type": "code",
   "execution_count": null,
   "id": "7920bfd4-849d-4b1b-a457-9b6377f23177",
   "metadata": {},
   "outputs": [],
   "source": [
    "!pwd                            # print working directory"
   ]
  },
  {
   "cell_type": "code",
   "execution_count": 112,
   "id": "8519b185-18c8-41d1-b3a4-d7c1a13a1b65",
   "metadata": {},
   "outputs": [
    {
     "data": {
      "text/plain": [
       "'Hallo\\n'"
      ]
     },
     "execution_count": 112,
     "metadata": {},
     "output_type": "execute_result"
    }
   ],
   "source": [
    "f = open('input.txt')       \n",
    "zeile = f.readline()            # eine Zeile als String lesen \n",
    "f.close() \n",
    "zeile "
   ]
  },
  {
   "cell_type": "code",
   "execution_count": 113,
   "id": "e008443e-321f-40b6-b28b-5deac3eb0112",
   "metadata": {},
   "outputs": [
    {
     "data": {
      "text/plain": [
       "'Hallo'"
      ]
     },
     "execution_count": 113,
     "metadata": {},
     "output_type": "execute_result"
    }
   ],
   "source": [
    "f = open('input.txt')       \n",
    "zeile = f.readline().strip()    # ohne Zeilenvorschub\n",
    "f.close()\n",
    "zeile "
   ]
  },
  {
   "cell_type": "code",
   "execution_count": 114,
   "id": "71ebd15d-7df6-425f-8c75-93a4cadd1355",
   "metadata": {},
   "outputs": [
    {
     "name": "stdout",
     "output_type": "stream",
     "text": [
      "Overwriting input.txt\n"
     ]
    }
   ],
   "source": [
    "%%writefile input.txt  \n",
    "Hallo\n",
    "Welt"
   ]
  },
  {
   "cell_type": "code",
   "execution_count": 115,
   "id": "3ad41cc8-e26a-4718-9a73-63289cbd772d",
   "metadata": {},
   "outputs": [
    {
     "name": "stdout",
     "output_type": "stream",
     "text": [
      "Hallo Welt\n"
     ]
    }
   ],
   "source": [
    "f = open('input.txt')       \n",
    "zeile1 = f.readline().strip()\n",
    "zeile2 = f.readline().strip()\n",
    "f.close() \n",
    "print(zeile1 + ' ' + zeile2)"
   ]
  },
  {
   "cell_type": "code",
   "execution_count": 116,
   "id": "09f7f189-906b-4bd5-b066-e9c7d2156241",
   "metadata": {},
   "outputs": [
    {
     "name": "stdout",
     "output_type": "stream",
     "text": [
      "Overwriting input.txt\n"
     ]
    }
   ],
   "source": [
    "%%writefile input.txt\n",
    "5\n",
    "8"
   ]
  },
  {
   "cell_type": "code",
   "execution_count": 117,
   "id": "3133ae21-04e6-4b0e-b643-8ace2a18f6d3",
   "metadata": {},
   "outputs": [
    {
     "name": "stdout",
     "output_type": "stream",
     "text": [
      "58\n"
     ]
    }
   ],
   "source": [
    "f = open('input.txt')       \n",
    "a = f.readline().strip()\n",
    "b = f.readline().strip()\n",
    "f.close() \n",
    "print(a + b)"
   ]
  },
  {
   "cell_type": "code",
   "execution_count": 118,
   "id": "a93292ad-ccfb-4f0b-a2e9-8cff7de00e7a",
   "metadata": {},
   "outputs": [
    {
     "name": "stdout",
     "output_type": "stream",
     "text": [
      "13\n"
     ]
    }
   ],
   "source": [
    "f = open('input.txt')       \n",
    "a = int(f.readline())           # bei der Umwandlung zu int fällt der Zeilenvorschub automatisch weg\n",
    "b = int(f.readline())\n",
    "f.close() \n",
    "print(a + b)"
   ]
  },
  {
   "cell_type": "code",
   "execution_count": 119,
   "id": "ec628636-e9b9-4dc4-ac6d-0956758c5eea",
   "metadata": {},
   "outputs": [
    {
     "name": "stdout",
     "output_type": "stream",
     "text": [
      "Overwriting input.txt\n"
     ]
    }
   ],
   "source": [
    "%%writefile input.txt\n",
    "12 7 8 20"
   ]
  },
  {
   "cell_type": "code",
   "execution_count": 120,
   "id": "65b25e21-b813-4ff0-bc6f-0b57ade48f10",
   "metadata": {},
   "outputs": [
    {
     "name": "stdout",
     "output_type": "stream",
     "text": [
      "['12', '7', '8', '20']\n"
     ]
    }
   ],
   "source": [
    "f = open('input.txt')       \n",
    "a = f.readline().split()        # auch bei split() fällt der Zeilenvorschub weg\n",
    "f.close() \n",
    "print(a)"
   ]
  },
  {
   "cell_type": "code",
   "execution_count": 121,
   "id": "799c3793-62bc-4447-b958-f3b5bbd889a2",
   "metadata": {},
   "outputs": [
    {
     "name": "stdout",
     "output_type": "stream",
     "text": [
      "[12, 7, 8, 20]\n"
     ]
    }
   ],
   "source": [
    "f = open('input.txt')       \n",
    "a = [int(x) for x in f.readline().split()]         # list-comprehension\n",
    "f.close() \n",
    "print(a)"
   ]
  },
  {
   "cell_type": "code",
   "execution_count": 123,
   "id": "3845f566-6fe9-4f22-8c6e-b32ab73cbb5e",
   "metadata": {},
   "outputs": [
    {
     "name": "stdout",
     "output_type": "stream",
     "text": [
      "Overwriting input.txt\n"
     ]
    }
   ],
   "source": [
    "%%writefile input.txt\n",
    "12 7 8 W"
   ]
  },
  {
   "cell_type": "code",
   "execution_count": 124,
   "id": "b5570731-bd55-4b08-88b8-02cc45767bcc",
   "metadata": {},
   "outputs": [
    {
     "name": "stdout",
     "output_type": "stream",
     "text": [
      "[12, 7, 8, 'W']\n"
     ]
    }
   ],
   "source": [
    "f = open('input.txt')   \n",
    "a = []\n",
    "for x in f.readline().split():\n",
    "    if x.isdigit():\n",
    "        a.append(int(x))\n",
    "    else:\n",
    "        a.append(x)\n",
    "f.close() \n",
    "print(a)"
   ]
  },
  {
   "cell_type": "code",
   "execution_count": 125,
   "id": "dc45e929-0550-4f73-b352-adca2492007e",
   "metadata": {},
   "outputs": [
    {
     "name": "stdout",
     "output_type": "stream",
     "text": [
      "[12, 7, 8, 'W']\n"
     ]
    }
   ],
   "source": [
    "f = open('input.txt')   \n",
    "a = []\n",
    "for x in f.readline().split():\n",
    "    y = int(x) if x.isdigit() else x      # bedingte Zuweisung, ternary operator\n",
    "    a.append(y)\n",
    "f.close() \n",
    "print(a)"
   ]
  },
  {
   "cell_type": "code",
   "execution_count": 126,
   "id": "4a786893-c9d7-4fbd-9e2c-a4ca1e14e242",
   "metadata": {},
   "outputs": [
    {
     "name": "stdout",
     "output_type": "stream",
     "text": [
      "[12, 7, 8, 'W']\n"
     ]
    }
   ],
   "source": [
    "f = open('input.txt')       \n",
    "a = [int(x) if x.isdigit() else x for x in f.readline().split()]     \n",
    "f.close() \n",
    "print(a)\n"
   ]
  },
  {
   "cell_type": "code",
   "execution_count": 128,
   "id": "77d989bd-d4a9-45ff-81cb-5422448e1755",
   "metadata": {},
   "outputs": [
    {
     "name": "stdout",
     "output_type": "stream",
     "text": [
      "Overwriting input.txt\n"
     ]
    }
   ],
   "source": [
    "%%writefile input.txt\n",
    "4\n",
    "Lena\n",
    "Soeren\n",
    "Thorben\n",
    "Maike"
   ]
  },
  {
   "cell_type": "code",
   "execution_count": 130,
   "id": "da84bdc2-3a03-426d-a99c-37aada523f16",
   "metadata": {},
   "outputs": [
    {
     "name": "stdout",
     "output_type": "stream",
     "text": [
      "['Lena', 'Soeren', 'Thorben', 'Maike']\n"
     ]
    }
   ],
   "source": [
    "f = open('input.txt')      \n",
    "anzahl = int(f.readline())\n",
    "a = [f.readline().strip() for _ in range(anzahl)]\n",
    "f.close() \n",
    "print(a)"
   ]
  },
  {
   "cell_type": "code",
   "execution_count": 131,
   "id": "c080d136-df19-4fef-a274-aba76a6a3c37",
   "metadata": {},
   "outputs": [
    {
     "name": "stdout",
     "output_type": "stream",
     "text": [
      "Overwriting input.txt\n"
     ]
    }
   ],
   "source": [
    "%%writefile input.txt\n",
    "3\n",
    "4 9\n",
    "2 6\n",
    "-1 2"
   ]
  },
  {
   "cell_type": "code",
   "execution_count": 132,
   "id": "c54b094e-5f6f-4a9c-97b6-81acf18cd2da",
   "metadata": {},
   "outputs": [
    {
     "name": "stdout",
     "output_type": "stream",
     "text": [
      "[(4, 9), (2, 6), (-1, 2)]\n"
     ]
    }
   ],
   "source": [
    "f = open('input.txt')      \n",
    "anzahl = int(f.readline())\n",
    "data = []\n",
    "for k in range(anzahl):\n",
    "    x, y = [int(u) for u in f.readline().split()]\n",
    "    data.append((x,y))\n",
    "f.close() \n",
    "print(data)"
   ]
  },
  {
   "cell_type": "code",
   "execution_count": 137,
   "id": "aa525721-43ad-44a5-bb6a-b201810e23d3",
   "metadata": {},
   "outputs": [
    {
     "name": "stdout",
     "output_type": "stream",
     "text": [
      "Overwriting input.txt\n"
     ]
    }
   ],
   "source": [
    "%%writefile input.txt\n",
    "3 6\n",
    "A#####\n",
    "# #  #\n",
    "######"
   ]
  },
  {
   "cell_type": "code",
   "execution_count": 138,
   "id": "ca9b2eec-fc40-45ea-909c-78331f4c7d1d",
   "metadata": {},
   "outputs": [
    {
     "name": "stdout",
     "output_type": "stream",
     "text": [
      "[['A', '#', '#', '#', '#', '#'], ['#', ' ', '#', ' ', ' ', '#'], ['#', '#', '#', '#', '#', '#']]\n"
     ]
    }
   ],
   "source": [
    "f = open('input.txt')      \n",
    "hoehe, breite  = [int(x) for x in f.readline().split()]\n",
    "grid = []\n",
    "for x in range(hoehe):\n",
    "    grid.append(list(f.readline().strip()))\n",
    "f.close() \n",
    "print(grid)"
   ]
  },
  {
   "cell_type": "code",
   "execution_count": 139,
   "id": "035eb6ae-e85e-41b3-b18b-cc10e19166d9",
   "metadata": {},
   "outputs": [
    {
     "data": {
      "text/plain": [
       "'A'"
      ]
     },
     "execution_count": 139,
     "metadata": {},
     "output_type": "execute_result"
    }
   ],
   "source": [
    "grid[0][0]"
   ]
  },
  {
   "cell_type": "code",
   "execution_count": null,
   "id": "579a2e8c-734e-4c0b-b608-0cc696274a36",
   "metadata": {},
   "outputs": [],
   "source": []
  }
 ],
 "metadata": {
  "kernelspec": {
   "display_name": "Python 3 (ipykernel)",
   "language": "python",
   "name": "python3"
  },
  "language_info": {
   "codemirror_mode": {
    "name": "ipython",
    "version": 3
   },
   "file_extension": ".py",
   "mimetype": "text/x-python",
   "name": "python",
   "nbconvert_exporter": "python",
   "pygments_lexer": "ipython3",
   "version": "3.11.2"
  }
 },
 "nbformat": 4,
 "nbformat_minor": 5
}
