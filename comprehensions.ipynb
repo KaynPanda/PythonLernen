{
 "cells": [
  {
   "cell_type": "markdown",
   "metadata": {},
   "source": [
    "# Comprehensions\n",
    "\n",
    "Comprehensions sind spezielle Anweisungen, mit denen eine\n",
    "Liste, ein Dictionary oder ein Set erzeugt werden können. \n",
    "\n",
    "#### List-Comprehensions"
   ]
  },
  {
   "cell_type": "markdown",
   "metadata": {},
   "source": [
    "Ohne Comprehension:"
   ]
  },
  {
   "cell_type": "code",
   "execution_count": 65,
   "metadata": {},
   "outputs": [
    {
     "data": {
      "text/plain": [
       "[99, 42, 39, 36, 30, 93, 69, 48, 87]"
      ]
     },
     "execution_count": 65,
     "metadata": {},
     "output_type": "execute_result"
    }
   ],
   "source": [
    "a = [89, 76, 99, 74, 42, 86, 32, 56, 67, 39, 10, 36, 30, 93, 69, 48, 87]\n",
    "b = []                # b soll alle Zahlen aus a enthalten, die durch 3 teilbar sind\n",
    "for x in a:\n",
    "    if x % 3 == 0:\n",
    "        b.append(x)\n",
    "b"
   ]
  },
  {
   "cell_type": "markdown",
   "metadata": {},
   "source": [
    "Mit Comprehension"
   ]
  },
  {
   "cell_type": "code",
   "execution_count": 67,
   "metadata": {},
   "outputs": [
    {
     "data": {
      "text/plain": [
       "[99, 42, 39, 36, 30, 93, 69, 48, 87]"
      ]
     },
     "execution_count": 67,
     "metadata": {},
     "output_type": "execute_result"
    }
   ],
   "source": [
    "a = [89, 76, 99, 74, 42, 86, 32, 56, 67, 39, 10, 36, 30, 93, 69, 48, 87]\n",
    "b = [x for x in a if x % 3 == 0] \n",
    "b"
   ]
  },
  {
   "cell_type": "markdown",
   "metadata": {},
   "source": [
    "Weitere Beispiele"
   ]
  },
  {
   "cell_type": "code",
   "execution_count": 68,
   "metadata": {},
   "outputs": [
    {
     "data": {
      "text/plain": [
       "[198, 84, 78, 72, 60, 186, 138, 96, 174]"
      ]
     },
     "execution_count": 68,
     "metadata": {},
     "output_type": "execute_result"
    }
   ],
   "source": [
    "a = [89, 76, 99, 74, 42, 86, 32, 56, 67, 39, 10, 36, 30, 93, 69, 48, 87]\n",
    "b = [2*x for x in a if x % 3 == 0]     # das Doppelte aller Zahlen aus a, die durch 3 teilbar sind\n",
    "b"
   ]
  },
  {
   "cell_type": "code",
   "execution_count": 69,
   "metadata": {},
   "outputs": [
    {
     "data": {
      "text/plain": [
       "[1, 4, 9, 16, 25, 36, 49, 64, 81]"
      ]
     },
     "execution_count": 69,
     "metadata": {},
     "output_type": "execute_result"
    }
   ],
   "source": [
    "# Liste mit Quadratzahlen\n",
    "a = [x*x for x in range(1,10)]\n",
    "a"
   ]
  },
  {
   "cell_type": "code",
   "execution_count": 70,
   "metadata": {},
   "outputs": [
    {
     "name": "stdout",
     "output_type": "stream",
     "text": [
      "[15, 75, 76, 93, 88, 3, 21, 94, 26, 81, 9, 11, 80, 77, 56, 15, 22, 87, 34, 44]\n"
     ]
    }
   ],
   "source": [
    "# eine Liste mit 20 Zufallszahlen zwischen 1 und 100 erzeugen\n",
    "import random  \n",
    "a = [random.randint(1,100) for i in range(20)] \n",
    "print(a)"
   ]
  },
  {
   "cell_type": "code",
   "execution_count": 71,
   "metadata": {},
   "outputs": [
    {
     "data": {
      "text/plain": [
       "[-7, 10, 7]"
      ]
     },
     "execution_count": 71,
     "metadata": {},
     "output_type": "execute_result"
    }
   ],
   "source": [
    "# Addition zweier Vektoren\n",
    "v1 = [1, 7, -3]\n",
    "v2 = [-8, 3, 10]\n",
    "v = [v1[i] + v2[i] for i in range(3)]\n",
    "v"
   ]
  },
  {
   "cell_type": "code",
   "execution_count": 72,
   "metadata": {},
   "outputs": [
    {
     "data": {
      "text/plain": [
       "['a1', 'a2', 'a3', 'b1', 'b2', 'b3', 'c1', 'c2', 'c3']"
      ]
     },
     "execution_count": 72,
     "metadata": {},
     "output_type": "execute_result"
    }
   ],
   "source": [
    "# eine Comprehension kann mehrere for-Bereiche haben\n",
    "a = list('abc')\n",
    "b = list('123')\n",
    "c = [x+y for x in a for y in b ]\n",
    "c"
   ]
  },
  {
   "cell_type": "code",
   "execution_count": 73,
   "metadata": {},
   "outputs": [
    {
     "data": {
      "text/plain": [
       "[2, 10, 5, 8, 29]"
      ]
     },
     "execution_count": 73,
     "metadata": {},
     "output_type": "execute_result"
    }
   ],
   "source": [
    "# eine Liste mit Zahlen aus einem String erstellen\n",
    "s = '2 10 5 8 29'\n",
    "a = [int(x) for x in s.split()]\n",
    "a"
   ]
  },
  {
   "cell_type": "markdown",
   "metadata": {},
   "source": [
    "#### Dict-Comprehensions"
   ]
  },
  {
   "cell_type": "code",
   "execution_count": 74,
   "metadata": {},
   "outputs": [
    {
     "data": {
      "text/plain": [
       "{'Lena': 4, 'Maike': 5, 'Thorben': 7, 'Soeren': 6}"
      ]
     },
     "execution_count": 74,
     "metadata": {},
     "output_type": "execute_result"
    }
   ],
   "source": [
    "a = [\"Lena\", \"Maike\", \"Thorben\", \"Soeren\"]\n",
    "m = {s:len(s) for s in a}\n",
    "m"
   ]
  },
  {
   "cell_type": "code",
   "execution_count": 75,
   "metadata": {},
   "outputs": [
    {
     "data": {
      "text/plain": [
       "{'a': 2, 'b': 4, 'c': 6}"
      ]
     },
     "execution_count": 75,
     "metadata": {},
     "output_type": "execute_result"
    }
   ],
   "source": [
    "# zwei Listen miteinander verknüpfen\n",
    "a = ['a', 'b', 'c']\n",
    "b = [2, 4, 6]\n",
    "m = {a[i] : b[i] for i in range(len(a))}\n",
    "m"
   ]
  },
  {
   "cell_type": "code",
   "execution_count": 76,
   "metadata": {},
   "outputs": [
    {
     "data": {
      "text/plain": [
       "{'a': 2, 'b': 4, 'c': 6, 'd': 8, 'e': 10}"
      ]
     },
     "execution_count": 76,
     "metadata": {},
     "output_type": "execute_result"
    }
   ],
   "source": [
    "# verdopple für jeden key den Wert\n",
    "m = {'a': 1, 'b': 2, 'c': 3, 'd': 4, 'e': 5}\n",
    "m1 = {k : 2*m[k] for k in m}\n",
    "m1"
   ]
  },
  {
   "cell_type": "code",
   "execution_count": 77,
   "metadata": {},
   "outputs": [
    {
     "data": {
      "text/plain": [
       "{1: 'a', 2: 'b', 3: 'c', 4: 'd', 5: 'e'}"
      ]
     },
     "execution_count": 77,
     "metadata": {},
     "output_type": "execute_result"
    }
   ],
   "source": [
    "# ein dictionary umdrehen \n",
    "m = {'a': 1, 'b': 2, 'c': 3, 'd': 4, 'e': 5}\n",
    "m1 = {v : k for k,v in m.items()}\n",
    "m1"
   ]
  },
  {
   "cell_type": "markdown",
   "metadata": {},
   "source": [
    "#### Set-Comprehensions"
   ]
  },
  {
   "cell_type": "code",
   "execution_count": 78,
   "metadata": {},
   "outputs": [
    {
     "data": {
      "text/plain": [
       "{72, 97, 108, 111}"
      ]
     },
     "execution_count": 78,
     "metadata": {},
     "output_type": "execute_result"
    }
   ],
   "source": [
    "import random \n",
    "u = {ord(c) for c in 'Hallo'}\n",
    "u"
   ]
  },
  {
   "cell_type": "code",
   "execution_count": null,
   "metadata": {},
   "outputs": [],
   "source": []
  }
 ],
 "metadata": {
  "kernelspec": {
   "display_name": "Python 3 (ipykernel)",
   "language": "python",
   "name": "python3"
  },
  "language_info": {
   "codemirror_mode": {
    "name": "ipython",
    "version": 3
   },
   "file_extension": ".py",
   "mimetype": "text/x-python",
   "name": "python",
   "nbconvert_exporter": "python",
   "pygments_lexer": "ipython3",
   "version": "3.11.2"
  }
 },
 "nbformat": 4,
 "nbformat_minor": 4
}
